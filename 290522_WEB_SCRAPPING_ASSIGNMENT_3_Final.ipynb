{
 "cells": [
  {
   "cell_type": "code",
   "execution_count": null,
   "id": "79a8ae1b",
   "metadata": {},
   "outputs": [],
   "source": [
    "! pip install selenium"
   ]
  },
  {
   "cell_type": "code",
   "execution_count": 2,
   "id": "6c63ecc7",
   "metadata": {},
   "outputs": [],
   "source": [
    "import selenium\n",
    "import pandas as pd\n",
    "from selenium import webdriver\n",
    "import warnings\n",
    "warnings.filterwarnings(\"ignore\")\n",
    "import time\n",
    "from selenium.common.exceptions import StaleElementReferenceException, NoSuchElementException\n",
    "import re"
   ]
  },
  {
   "cell_type": "markdown",
   "id": "9942e028",
   "metadata": {},
   "source": [
    "# 1. Write a python program which searches all the product under a particular product from www.amazon.in. \n",
    "The product to be searched will be taken as input from user. For e.g. If user input is ‘guitar’. Then search \n",
    "for guitars.\n",
    "2.In the above question, now scrape the following details of each product listed in first 3 pages of your \n",
    "search results and save it in a data frame and csv. In case if any product has less than 3 pages in search \n",
    "results then scrape all the products available under that product name. Details to be scraped are: \"Brand \n",
    "Name\", \"Name of the Product\", \"Price\", \"Return/Exchange\", \"Expected Delivery\", \"Availability\" and \n",
    "“Product URL”. In case, if any of the details are missing for any of the product then replace it by “-“."
   ]
  },
  {
   "cell_type": "code",
   "execution_count": 4,
   "id": "6d688112",
   "metadata": {},
   "outputs": [],
   "source": [
    "driver = webdriver.Chrome(r\"C:\\Users\\Toshiba\\chromedriver.exe\")"
   ]
  },
  {
   "cell_type": "code",
   "execution_count": 5,
   "id": "a66168f7",
   "metadata": {},
   "outputs": [],
   "source": [
    "driver = webdriver.Chrome(\"chromedriver.exe\")\n",
    "time.sleep(2)"
   ]
  },
  {
   "cell_type": "code",
   "execution_count": 6,
   "id": "5ca64a39",
   "metadata": {},
   "outputs": [],
   "source": [
    "driver.get('https://www.amazon.in/')"
   ]
  },
  {
   "cell_type": "code",
   "execution_count": 7,
   "id": "cfa31d5a",
   "metadata": {},
   "outputs": [
    {
     "name": "stdout",
     "output_type": "stream",
     "text": [
      "please enter product here--->HEADPHONES\n"
     ]
    }
   ],
   "source": [
    "inputU = input('please enter product here--->')"
   ]
  },
  {
   "cell_type": "code",
   "execution_count": 8,
   "id": "58bc5ee8",
   "metadata": {},
   "outputs": [],
   "source": [
    "search_bar = driver.find_element_by_xpath('//*[@id=\"twotabsearchtextbox\"]')    # Finding the search bar using it's xpath\n",
    "search_bar.send_keys(inputU)       # Inputing keyword to search \n",
    "search_button = driver.find_element_by_xpath('//*[@id=\"nav-search-submit-button\"]')    # Finding the xpath of search button\n",
    "search_button.click()        # Clicking the search button"
   ]
  },
  {
   "cell_type": "code",
   "execution_count": 9,
   "id": "35025382",
   "metadata": {},
   "outputs": [],
   "source": [
    "productName=[]"
   ]
  },
  {
   "cell_type": "code",
   "execution_count": 10,
   "id": "9b442d1c",
   "metadata": {},
   "outputs": [
    {
     "name": "stdout",
     "output_type": "stream",
     "text": [
      "24 ['Boat Rockerz 550 Upto 20 Hours Playback, 50Mm Drivers, Soft Padded Ear Cushions and Physical Noise Isolation Bluetooth Wireless Over Ear Headphones with Mic (Army Green)', 'Tribit XFree Go Headphones with Mic, Wireless Bluetooth Headphone Over Ear, HiFi Sound,Deep Bass,Lightweight,Type-C Lightening Fast Charge, Voice Control,Black', 'Boat Rockerz 450 Bluetooth Wireless On Ear Headphones with Mic, Upto 15 Hours Playback, 40Mm Drivers, Padded Ear Cushions and Dual Modes (Luscious Black)', 'Boat Bassheads 100 Wired in Ear Earphones with Mic (Mint Green)', 'Boat Rockerz 450 Bluetooth Wireless On Ear Headphones with Mic and Upto 15 Hours Playback, 40Mm Drivers, Padded Ear Cushions and Dual Modes (Aqua Blue)', 'Poly by Plantronics - Voyager 4320 UC Wireless Headset (Plantronics) - Headphones with Boom Mic - Connect to PC/Mac via USB-C Bluetooth Adapter, Cell Phone via Bluetooth, Black (218478-02)', 'boAt Rockerz 510 Over Ear Bluetooth Headphones with Upto 20 Hours Playback, 50MM Drivers, Padded Ear Cushions and Dual Modes(Raging Red)', 'JBL C100SI In-Ear Headphones with Mic (Red)', 'Boat Rockerz 550 Bluetooth Wireless Over Ear Headphones with Upto 20 Hours Playback, 50Mm Drivers, Soft Padded Ear Cushions and Physical Noise Isolation with Mic (Black Symphony)', 'boAt Bassheads 900 Wired On Ear Headphones with Mic (Carbon Black)', 'pTron Pride Lite HBE (High Bass Earphones) in-Ear Wired Headphones with in-line Mic, 10mm Powerful Driver for Stereo Audio, Noise Cancelling Headset with 1.2m Tangle-Free Cable & 3.5mm Aux - (Blue)', 'Boat Rockerz 450 Bluetooth Wireless On Ear Headphones with Mic, Upto 15 Hours Playback, 40Mm Drivers, Padded Ear Cushions and Dual Modes (Luscious Black)', 'Boult Audio Probass Curve Bluetooth Wireless in Ear Earphones with Mic with 12H Battery Life & Extra Bass, Ipx5 Water Resistant (Black)', 'Sony MDR-ZX110A Wired On Ear Headphone without Mic (White)', 'boAt Bassheads 242 in Ear Wired Earphones with Mic(Orange)', 'Boat Rockerz 550 Bluetooth Wireless Over Ear Headphones with Mic and with Upto 20 Hours Playback, 50Mm Drivers, Soft Padded Ear Cushions and Physical Noise Isolation (Black)', 'Boat Rockerz 245V2 Integrated Controls and Lightweight Design Bluetooth Wireless in Ear Earphones with Mic and Upto 8 Hours Playback, 12Mm Drivers, Ipx5, Magnetic Eartips (Active Black)', 'JBL T460BT by Harman, Wireless On Ear Headphones with Mic, Pure Bass, Portable, Lightweight & Flat Foldable, Voice Assistant Support for Mobiles (Black)', 'Boat Rockerz 245V2 Bluetooth Wireless in Ear Earphones with Upto 8 Hours Playback, 12Mm Drivers, Ipx5, Magnetic Eartips, Integrated Controls and Lightweight Design with Mic (Teal Green)', 'JBL C100SI Wired In Ear Headphones with Mic, JBL Pure Bass Sound, One Button Multi-function Remote, Angled Buds for Comfort fit (Black)', 'Sony WH-CH510, On-Ear Headphones, up-to 35Hrs Playtime, Headphone with Mic, Lightweight, Type-C, Play/Pause Control, 30mm Driver, BT Version 5.0 & Voice Assistant Support for Mobiles - Blue', 'Boult Audio ProBass Thunder Over-Ear Wireless Bluetooth Headphones with Mic, Headset with Long Battery Life', 'Boult Audio Zcharge Bluetooth Wireless in Ear Earphones with Mic, 40H Playtime and Super Fast Charging, Environmental Noise Cancellation for Pro+ Calling and Ipx5 Water Resistant (Black)', 'UNIGEN Quietbeats Active Noise Cancelling Bluetooth Headphones with Dual Mic for Phone Calls | Lightweight Design | Powerful Bass | 20Hours Playtime | Aux Input | All Day Wear Comfort (Black)']\n"
     ]
    }
   ],
   "source": [
    "#scraping the Product_Name \n",
    "PName=driver.find_elements_by_xpath(\"//span[@class='a-size-medium a-color-base a-text-normal']\")\n",
    "for i in PName:\n",
    "    if i.text is None :\n",
    "        productName.append(\"--\") \n",
    "    else:\n",
    "        productName.append(i.text)\n",
    "print(len(productName),productName)"
   ]
  },
  {
   "cell_type": "code",
   "execution_count": null,
   "id": "702689a3",
   "metadata": {},
   "outputs": [],
   "source": [
    "start_page = 0\n",
    "end_page = 3\n",
    "urls = []\n",
    "for page in range(start_page,end_page+1):\n",
    "    try:\n",
    "        page_urls = driver.find_elements_by_xpath('//a[@class=\"a-link-normal s-no-outline\"]')\n",
    "        \n",
    "        # appending all the urls on current page to urls list\n",
    "        for url in page_urls:\n",
    "            url = url.get_attribute('href')     # Scraping the url from webelement\n",
    "            if url[0:4]=='http':                # Checking if the scrapped data is a valid url or not\n",
    "                urls.append(url)                # Appending the url to urls list\n",
    "        print(\"Product urls of page {} has been scraped.\".format(page+1))\n",
    "        \n",
    "        # Moving to next page\n",
    "        nxt_button = driver.find_element_by_xpath('//li[@class=\"a-last\"]/a')      # Locating the next_button which is active\n",
    "        if nxt_button.text == 'Next→':                                            # Checking if the button located is next button\n",
    "            nxt_button.click()                                                    # Clicking the next button\n",
    "            time.sleep(5)                                                         # time delay of 5 seconds\n",
    "        # If the current active button is not next button, the we will check if the next button is inactive or not    \n",
    "        elif driver.find_element_by_xpath('//li[@class=\"a-disabled a-last\"]/a').text == 'Next→':    \n",
    "            print(\"No new pages exist. Breaking the loop\")  # Printing message and breakinf loop if we have reached the last page\n",
    "            break\n",
    "            \n",
    "    except StaleElementReferenceException as e:             # Handling StaleElement Exception   \n",
    "        print(\"Stale Exception\")\n",
    "        next_page = nxt_button.get_attribute('href')        # Extracting the url of next page\n",
    "        driver.get(next_page)                               # ReLoading the next page"
   ]
  },
  {
   "cell_type": "code",
   "execution_count": 12,
   "id": "5c2875e7",
   "metadata": {},
   "outputs": [],
   "source": [
    "prod_dict = {}\n",
    "prod_dict['Brand']=[]\n",
    "prod_dict['Name']=[]\n",
    "prod_dict['Rating']=[]\n",
    "prod_dict['No. of ratings']=[]\n",
    "prod_dict['Price']=[]\n",
    "prod_dict['Return/Exchange']=[]\n",
    "prod_dict['Expected Delivery']=[] \n",
    "prod_dict['Availability']=[]\n",
    "prod_dict['Other Details']=[]\n",
    "prod_dict['URL']=[]"
   ]
  },
  {
   "cell_type": "code",
   "execution_count": 13,
   "id": "d91f0768",
   "metadata": {},
   "outputs": [
    {
     "name": "stdout",
     "output_type": "stream",
     "text": [
      "Scraping URL =  https://www.amazon.in/gp/slredirect/picassoRedirect.html/ref=pa_sp_atf_aps_sr_pg1_1?ie=UTF8&adId=A0721383JGVQMYTFRYGN&url=%2FboAt-Rockerz-550-Headphone-Aesthetics%2Fdp%2FB08R7L77T7%2Fref%3Dsr_1_1_sspa%3Fkeywords%3DHEADPHONES%26qid%3D1653325549%26sr%3D8-1-spons%26psc%3D1&qualifier=1653325549&id=1743891496471419&widgetName=sp_atf\n",
      "Scraping URL =  https://www.amazon.in/gp/slredirect/picassoRedirect.html/ref=pa_sp_atf_aps_sr_pg1_1?ie=UTF8&adId=A00714251G31W6CBT4LYQ&url=%2FTribit-Bluetooth-Headphones-Lightening-Cancelling%2Fdp%2FB083K349ZR%2Fref%3Dsr_1_2_sspa%3Fkeywords%3DHEADPHONES%26qid%3D1653325549%26smid%3DA10RCQSUCNMNSF%26sr%3D8-2-spons%26psc%3D1&qualifier=1653325549&id=1743891496471419&widgetName=sp_atf\n",
      "Scraping URL =  https://www.amazon.in/Rockerz-450-Wireless-Bluetooth-Headphone/dp/B07PR1CL3S/ref=sr_1_3?keywords=HEADPHONES&qid=1653325549&sr=8-3\n",
      "Scraping URL =  https://www.amazon.in/Bassheads-100-Wired-Earphones-Green/dp/B08MD255XB/ref=sr_1_4?keywords=HEADPHONES&qid=1653325549&sr=8-4\n"
     ]
    }
   ],
   "source": [
    "for url in urls[:4]:\n",
    "    driver.get(url)                                                        # Loading the webpage by url\n",
    "    print(\"Scraping URL = \", url)\n",
    "    #time.sleep(2)\n",
    "    \n",
    "    try:\n",
    "        brand = driver.find_element_by_xpath('//a[@id=\"bylineInfo\"]')      # Extracting Brand from xpath\n",
    "        prod_dict['Brand'].append(brand.text)\n",
    "    except NoSuchElementException:\n",
    "        prod_dict['Brand'].append('-')\n",
    "    \n",
    "    try:\n",
    "        name = driver.find_element_by_xpath('//h1[@id=\"title\"]/span')      # Extracting Name from xpath\n",
    "        prod_dict['Name'].append(name.text)\n",
    "    except NoSuchElementException:\n",
    "        prod_dict['Name'].append('-')\n",
    "    \n",
    "    try:\n",
    "        rating = driver.find_element_by_xpath('//span[@id=\"acrPopover\"]')  # Extracting Ratings from xpath\n",
    "        prod_dict['Rating'].append(rating.get_attribute(\"title\"))\n",
    "    except NoSuchElementException:\n",
    "        prod_dict['Rating'].append('-')\n",
    "    \n",
    "    try:\n",
    "        n_rating = driver.find_element_by_xpath('//a[@id=\"acrCustomerReviewLink\"]/span')     # Extracting no. of Ratings from xpath\n",
    "        prod_dict['No. of ratings'].append(n_rating.text)\n",
    "    except NoSuchElementException:\n",
    "        prod_dict['No. of ratings'].append('-')\n",
    "    \n",
    "    try:\n",
    "        price = driver.find_element_by_xpath('//span[@id=\"priceblock_ourprice\"]')            # Extracting Price from xpath\n",
    "        prod_dict['Price'].append(price.text)\n",
    "    except NoSuchElementException:\n",
    "        prod_dict['Price'].append('-')\n",
    "    try:                                                                                     # Extracting Return/Exchange policy from xpath\n",
    "        ret = driver.find_element_by_xpath('//div[@data-name=\"RETURNS_POLICY\"]/span/div[2]/a')\n",
    "        prod_dict['Return/Exchange'].append(ret.text)\n",
    "    except NoSuchElementException:\n",
    "        prod_dict['Return/Exchange'].append('-')\n",
    "    try:\n",
    "        delivry = driver.find_element_by_xpath('//div[@id=\"ddmDeliveryMessage\"]/b')         # Extracting Expected Delivery from xpath\n",
    "        prod_dict['Expected Delivery'].append(delivry.text)\n",
    "    except NoSuchElementException:\n",
    "        prod_dict['Expected Delivery'].append('-')\n",
    "    \n",
    "    try:\n",
    "        avl = driver.find_element_by_xpath('//div[@id=\"availability\"]/span')                # Extracting Availability from xpath\n",
    "        prod_dict['Availability'].append(avl.text)\n",
    "    except NoSuchElementException:\n",
    "        prod_dict['Availability'].append('-')\n",
    "    \n",
    "    try:                                                                                    # Extracting Other Details from xpath\n",
    "        dtls = driver.find_element_by_xpath('//ul[@class=\"a-unordered-list a-vertical a-spacing-mini\"]')\n",
    "        prod_dict['Other Details'].append('  ||  '.join(dtls.text.split('\\n')))\n",
    "    except NoSuchElementException:\n",
    "        prod_dict['Other Details'].append('-')\n",
    "    \n",
    "    prod_dict['URL'].append(url)                                                            # Saving url\n",
    "    time.sleep(2)"
   ]
  },
  {
   "cell_type": "code",
   "execution_count": 14,
   "id": "343fe303",
   "metadata": {},
   "outputs": [
    {
     "data": {
      "text/html": [
       "<div>\n",
       "<style scoped>\n",
       "    .dataframe tbody tr th:only-of-type {\n",
       "        vertical-align: middle;\n",
       "    }\n",
       "\n",
       "    .dataframe tbody tr th {\n",
       "        vertical-align: top;\n",
       "    }\n",
       "\n",
       "    .dataframe thead th {\n",
       "        text-align: right;\n",
       "    }\n",
       "</style>\n",
       "<table border=\"1\" class=\"dataframe\">\n",
       "  <thead>\n",
       "    <tr style=\"text-align: right;\">\n",
       "      <th></th>\n",
       "      <th>Brand</th>\n",
       "      <th>Name</th>\n",
       "      <th>Rating</th>\n",
       "      <th>No. of ratings</th>\n",
       "      <th>Price</th>\n",
       "      <th>Return/Exchange</th>\n",
       "      <th>Expected Delivery</th>\n",
       "      <th>Availability</th>\n",
       "      <th>Other Details</th>\n",
       "      <th>URL</th>\n",
       "    </tr>\n",
       "  </thead>\n",
       "  <tbody>\n",
       "    <tr>\n",
       "      <th>0</th>\n",
       "      <td>Brand: boAt</td>\n",
       "      <td>Boat Rockerz 550 Upto 20 Hours Playback, 50Mm ...</td>\n",
       "      <td>4.1 out of 5 stars</td>\n",
       "      <td>43,487 ratings</td>\n",
       "      <td>-</td>\n",
       "      <td>7 Days Replacement</td>\n",
       "      <td>-</td>\n",
       "      <td>In stock.</td>\n",
       "      <td>Tap into instant wireless connectivity with th...</td>\n",
       "      <td>https://www.amazon.in/gp/slredirect/picassoRed...</td>\n",
       "    </tr>\n",
       "    <tr>\n",
       "      <th>1</th>\n",
       "      <td>Visit the Tribit Store</td>\n",
       "      <td>Tribit XFree Go Headphones with Mic, Wireless ...</td>\n",
       "      <td>4.2 out of 5 stars</td>\n",
       "      <td>5,318 ratings</td>\n",
       "      <td>-</td>\n",
       "      <td>7 Days Replacement</td>\n",
       "      <td>Thursday, May 26</td>\n",
       "      <td></td>\n",
       "      <td>[Bluetooth 5.2 Wirelss Headphones] Our upgrade...</td>\n",
       "      <td>https://www.amazon.in/gp/slredirect/picassoRed...</td>\n",
       "    </tr>\n",
       "    <tr>\n",
       "      <th>2</th>\n",
       "      <td>Brand: boAt</td>\n",
       "      <td>Boat Rockerz 450 Bluetooth Wireless On Ear Hea...</td>\n",
       "      <td>4.1 out of 5 stars</td>\n",
       "      <td>80,386 ratings</td>\n",
       "      <td>-</td>\n",
       "      <td>7 Days Replacement</td>\n",
       "      <td>-</td>\n",
       "      <td>In stock.</td>\n",
       "      <td>Playback- It provides a massive battery backup...</td>\n",
       "      <td>https://www.amazon.in/Rockerz-450-Wireless-Blu...</td>\n",
       "    </tr>\n",
       "    <tr>\n",
       "      <th>3</th>\n",
       "      <td>Brand: boAt</td>\n",
       "      <td>Boat Bassheads 100 Wired in Ear Earphones with...</td>\n",
       "      <td>4.1 out of 5 stars</td>\n",
       "      <td>323,273 ratings</td>\n",
       "      <td>-</td>\n",
       "      <td>7 Days Replacement</td>\n",
       "      <td>-</td>\n",
       "      <td>Usually dispatched in 4 days.</td>\n",
       "      <td>The perfect way to add some style and stand ou...</td>\n",
       "      <td>https://www.amazon.in/Bassheads-100-Wired-Earp...</td>\n",
       "    </tr>\n",
       "  </tbody>\n",
       "</table>\n",
       "</div>"
      ],
      "text/plain": [
       "                    Brand                                               Name  \\\n",
       "0             Brand: boAt  Boat Rockerz 550 Upto 20 Hours Playback, 50Mm ...   \n",
       "1  Visit the Tribit Store  Tribit XFree Go Headphones with Mic, Wireless ...   \n",
       "2             Brand: boAt  Boat Rockerz 450 Bluetooth Wireless On Ear Hea...   \n",
       "3             Brand: boAt  Boat Bassheads 100 Wired in Ear Earphones with...   \n",
       "\n",
       "               Rating   No. of ratings Price     Return/Exchange  \\\n",
       "0  4.1 out of 5 stars   43,487 ratings     -  7 Days Replacement   \n",
       "1  4.2 out of 5 stars    5,318 ratings     -  7 Days Replacement   \n",
       "2  4.1 out of 5 stars   80,386 ratings     -  7 Days Replacement   \n",
       "3  4.1 out of 5 stars  323,273 ratings     -  7 Days Replacement   \n",
       "\n",
       "  Expected Delivery                   Availability  \\\n",
       "0                 -                      In stock.   \n",
       "1  Thursday, May 26                                  \n",
       "2                 -                      In stock.   \n",
       "3                 -  Usually dispatched in 4 days.   \n",
       "\n",
       "                                       Other Details  \\\n",
       "0  Tap into instant wireless connectivity with th...   \n",
       "1  [Bluetooth 5.2 Wirelss Headphones] Our upgrade...   \n",
       "2  Playback- It provides a massive battery backup...   \n",
       "3  The perfect way to add some style and stand ou...   \n",
       "\n",
       "                                                 URL  \n",
       "0  https://www.amazon.in/gp/slredirect/picassoRed...  \n",
       "1  https://www.amazon.in/gp/slredirect/picassoRed...  \n",
       "2  https://www.amazon.in/Rockerz-450-Wireless-Blu...  \n",
       "3  https://www.amazon.in/Bassheads-100-Wired-Earp...  "
      ]
     },
     "execution_count": 14,
     "metadata": {},
     "output_type": "execute_result"
    }
   ],
   "source": [
    "prod_df = pd.DataFrame.from_dict(prod_dict)\n",
    "prod_df"
   ]
  },
  {
   "cell_type": "markdown",
   "id": "789c8129",
   "metadata": {},
   "source": [
    "# 3. Write a python program to access the search bar and search button on images.google.com and scrape 10 images each for keywords ‘fruits’, ‘cars’ and ‘Machine Learning’, ‘Guitar’, ‘Cakes’."
   ]
  },
  {
   "cell_type": "code",
   "execution_count": 23,
   "id": "a3ebaa4a",
   "metadata": {},
   "outputs": [],
   "source": [
    "driver = webdriver.Chrome(r\"C:\\Users\\Toshiba\\chromedriver.exe\")\n",
    "driver = webdriver.Chrome(\"chromedriver.exe\")\n",
    "time.sleep(2)"
   ]
  },
  {
   "cell_type": "code",
   "execution_count": 24,
   "id": "956569e4",
   "metadata": {},
   "outputs": [],
   "source": [
    "driver.get('https://images.google.com/')"
   ]
  },
  {
   "cell_type": "code",
   "execution_count": 25,
   "id": "f7a625c9",
   "metadata": {},
   "outputs": [],
   "source": [
    "search_bar = driver.find_element_by_xpath('//*[@id=\"sbtc\"]/div/div[2]/input')    # Finding the search bar using it's xpath\n",
    "search_bar.send_keys(\"fruits\")       # Inputing \"banana\" keyword to search rock images"
   ]
  },
  {
   "cell_type": "code",
   "execution_count": 26,
   "id": "3b493c7e",
   "metadata": {},
   "outputs": [
    {
     "name": "stdout",
     "output_type": "stream",
     "text": [
      "start scrolling to generate more images on the page...\n"
     ]
    }
   ],
   "source": [
    "print(\"start scrolling to generate more images on the page...\")\n",
    "# 500 time we scroll down by 10000 in order to generate more images on the website\n",
    "for _ in range(500):\n",
    "    driver.execute_script(\"window.scrollBy(0,10000)\")"
   ]
  },
  {
   "cell_type": "code",
   "execution_count": 27,
   "id": "91a822dd",
   "metadata": {},
   "outputs": [],
   "source": [
    " images = driver.find_elements_by_xpath('//img[@class=\"rg_i Q4LuWd\"]')"
   ]
  },
  {
   "cell_type": "code",
   "execution_count": 28,
   "id": "b3bab846",
   "metadata": {},
   "outputs": [
    {
     "data": {
      "text/plain": [
       "152"
      ]
     },
     "execution_count": 28,
     "metadata": {},
     "output_type": "execute_result"
    }
   ],
   "source": [
    "img_urls = []\n",
    "img_data = []\n",
    "for image in images:\n",
    "    source= image.get_attribute('src')\n",
    "    if source is not None:\n",
    "        if(source[0:4] == 'http'):\n",
    "            img_urls.append(source)\n",
    "len(img_urls)"
   ]
  },
  {
   "cell_type": "code",
   "execution_count": 32,
   "id": "afef6ade",
   "metadata": {},
   "outputs": [
    {
     "name": "stdout",
     "output_type": "stream",
     "text": [
      "Downloading 0 of 100 images\n",
      "Downloading 1 of 100 images\n",
      "Downloading 2 of 100 images\n",
      "Downloading 3 of 100 images\n",
      "Downloading 4 of 100 images\n",
      "Downloading 5 of 100 images\n",
      "Downloading 6 of 100 images\n",
      "Downloading 7 of 100 images\n",
      "Downloading 8 of 100 images\n",
      "Downloading 9 of 100 images\n",
      "Downloading 10 of 100 images\n",
      "Downloading 11 of 100 images\n",
      "Downloading 12 of 100 images\n",
      "Downloading 13 of 100 images\n",
      "Downloading 14 of 100 images\n",
      "Downloading 15 of 100 images\n",
      "Downloading 16 of 100 images\n",
      "Downloading 17 of 100 images\n",
      "Downloading 18 of 100 images\n",
      "Downloading 19 of 100 images\n",
      "Downloading 20 of 100 images\n",
      "Downloading 21 of 100 images\n",
      "Downloading 22 of 100 images\n",
      "Downloading 23 of 100 images\n",
      "Downloading 24 of 100 images\n",
      "Downloading 25 of 100 images\n",
      "Downloading 26 of 100 images\n",
      "Downloading 27 of 100 images\n",
      "Downloading 28 of 100 images\n",
      "Downloading 29 of 100 images\n",
      "Downloading 30 of 100 images\n",
      "Downloading 31 of 100 images\n",
      "Downloading 32 of 100 images\n",
      "Downloading 33 of 100 images\n",
      "Downloading 34 of 100 images\n",
      "Downloading 35 of 100 images\n",
      "Downloading 36 of 100 images\n",
      "Downloading 37 of 100 images\n",
      "Downloading 38 of 100 images\n",
      "Downloading 39 of 100 images\n",
      "Downloading 40 of 100 images\n",
      "Downloading 41 of 100 images\n",
      "Downloading 42 of 100 images\n",
      "Downloading 43 of 100 images\n",
      "Downloading 44 of 100 images\n",
      "Downloading 45 of 100 images\n",
      "Downloading 46 of 100 images\n",
      "Downloading 47 of 100 images\n",
      "Downloading 48 of 100 images\n",
      "Downloading 49 of 100 images\n",
      "Downloading 50 of 100 images\n",
      "Downloading 51 of 100 images\n",
      "Downloading 52 of 100 images\n",
      "Downloading 53 of 100 images\n",
      "Downloading 54 of 100 images\n",
      "Downloading 55 of 100 images\n",
      "Downloading 56 of 100 images\n",
      "Downloading 57 of 100 images\n",
      "Downloading 58 of 100 images\n",
      "Downloading 59 of 100 images\n",
      "Downloading 60 of 100 images\n",
      "Downloading 61 of 100 images\n",
      "Downloading 62 of 100 images\n",
      "Downloading 63 of 100 images\n",
      "Downloading 64 of 100 images\n",
      "Downloading 65 of 100 images\n",
      "Downloading 66 of 100 images\n",
      "Downloading 67 of 100 images\n",
      "Downloading 68 of 100 images\n",
      "Downloading 69 of 100 images\n",
      "Downloading 70 of 100 images\n",
      "Downloading 71 of 100 images\n",
      "Downloading 72 of 100 images\n",
      "Downloading 73 of 100 images\n",
      "Downloading 74 of 100 images\n",
      "Downloading 75 of 100 images\n",
      "Downloading 76 of 100 images\n",
      "Downloading 77 of 100 images\n",
      "Downloading 78 of 100 images\n",
      "Downloading 79 of 100 images\n",
      "Downloading 80 of 100 images\n",
      "Downloading 81 of 100 images\n",
      "Downloading 82 of 100 images\n",
      "Downloading 83 of 100 images\n",
      "Downloading 84 of 100 images\n",
      "Downloading 85 of 100 images\n",
      "Downloading 86 of 100 images\n",
      "Downloading 87 of 100 images\n",
      "Downloading 88 of 100 images\n",
      "Downloading 89 of 100 images\n",
      "Downloading 90 of 100 images\n",
      "Downloading 91 of 100 images\n",
      "Downloading 92 of 100 images\n",
      "Downloading 93 of 100 images\n",
      "Downloading 94 of 100 images\n",
      "Downloading 95 of 100 images\n",
      "Downloading 96 of 100 images\n",
      "Downloading 97 of 100 images\n",
      "Downloading 98 of 100 images\n",
      "Downloading 99 of 100 images\n"
     ]
    }
   ],
   "source": [
    "\n",
    "for i in range(len(img_urls)):\n",
    "    if i >= 100:\n",
    "        break\n",
    "    print(\"Downloading {0} of {1} images\" .format(i, 100))\n",
    "    response= requests.get(img_urls[i])\n",
    "    file = open(\"D:/Dishant/banana\"+str(i)+\".jpg\", \"wb\")\n",
    "    file.write(response.content)"
   ]
  },
  {
   "cell_type": "markdown",
   "id": "1f9be8fa",
   "metadata": {},
   "source": [
    "# 4. Write a python program to search for a smartphone(e.g.: Oneplus Nord, pixel 4A, etc.) on www.flipkart.com and scrape following details for all the search results displayed on 1st page. Details to be scraped: “Brand Name”, “Smartphone name”, “Colour”, “RAM”, “Storage(ROM)”, “Primary Camera”, “Secondary Camera”, “Display Size”, “Battery Capacity”, “Price”, “Product URL”. Incase if any of the details is missing then replace it by “- “. Save your results in a dataframe and CSV."
   ]
  },
  {
   "cell_type": "code",
   "execution_count": null,
   "id": "d84d5b9c",
   "metadata": {},
   "outputs": [],
   "source": [
    "driver = webdriver.Chrome(r\"C:\\Users\\Toshiba\\chromedriver.exe\")\n",
    "driver = webdriver.Chrome(\"chromedriver.exe\")\n",
    "time.sleep(2)\n",
    "url4=\"https://www.flipkart.com/search?q=smartphone&otracker=search&otracker1=search&marketplace=FLIPKART&as-show=on&as=off\"\n",
    "driver.get(url4)"
   ]
  },
  {
   "cell_type": "code",
   "execution_count": 34,
   "id": "c28fea8e",
   "metadata": {},
   "outputs": [],
   "source": [
    "Brand_Name=[]\n",
    "Colour=[]\n",
    "Storage_RAM_ROM=[]\n",
    "P_F_Camera=[]\n",
    "Display_size_Resolution=[]\n",
    "ProcessorAndCores=[]\n",
    "Battery=[]\n",
    "Price=[]\n",
    "Product_URL=[]"
   ]
  },
  {
   "cell_type": "code",
   "execution_count": 35,
   "id": "e440df38",
   "metadata": {},
   "outputs": [
    {
     "name": "stdout",
     "output_type": "stream",
     "text": [
      "24 ['POCO C31 (Royal Blue, 64 GB)', 'realme C11 2021 (Cool Blue, 32 GB)', 'realme C11 2021 (Cool Grey, 32 GB)', 'realme C31 (Dark Green, 32 GB)', 'realme C11 2021 (Cool Grey, 64 GB)', 'MOTOROLA G60 (Moonless, 128 GB)', 'realme C11 2021 (Cool Blue, 64 GB)', 'realme C35 (Glowing Black, 64 GB)', 'realme C31 (Light Silver, 32 GB)', 'vivo T1 5G (Rainbow Fantasy, 128 GB)', 'vivo T1 5G (Rainbow Fantasy, 128 GB)', 'vivo T1 5G (Starlight Black, 128 GB)', 'vivo T1 5G (Starlight Black, 128 GB)', 'realme C31 (Dark Green, 64 GB)', 'realme C35 (Glowing Green, 64 GB)', 'REDMI Note 10T 5G (Mint Green, 64 GB)', 'realme C35 (Glowing Black, 128 GB)', 'POCO C31 (Royal Blue, 32 GB)', 'MOTOROLA G60 (Soft Silver, 128 GB)', 'realme C31 (Light Silver, 64 GB)', 'realme Narzo 50A (Oxygen Blue, 64 GB)', 'realme Narzo 50A (Oxygen Green, 64 GB)', 'REDMI Note 10T 5G (Metallic Blue, 64 GB)', 'REDMI 10 (Pacific Blue, 64 GB)']\n"
     ]
    }
   ],
   "source": [
    "#scraping the Brand_Name \n",
    "BName=driver.find_elements_by_xpath(\"//div[@class='_4rR01T']\")\n",
    "for i in BName:\n",
    "    if i.text is None :\n",
    "        Brand_Name.append(\"--\") \n",
    "    else:\n",
    "        Brand_Name.append(i.text)\n",
    "print(len(Brand_Name),Brand_Name)"
   ]
  },
  {
   "cell_type": "code",
   "execution_count": 36,
   "id": "e911a3ad",
   "metadata": {},
   "outputs": [
    {
     "name": "stdout",
     "output_type": "stream",
     "text": [
      "24 ['4 GB RAM | 64 GB ROM | Expandable Upto 512 GB', '2 GB RAM | 32 GB ROM | Expandable Upto 256 GB', '2 GB RAM | 32 GB ROM | Expandable Upto 256 GB', '3 GB RAM | 32 GB ROM | Expandable Upto 1 TB', '4 GB RAM | 64 GB ROM | Expandable Upto 256 GB', '6 GB RAM | 128 GB ROM', '4 GB RAM | 64 GB ROM | Expandable Upto 256 GB', '4 GB RAM | 64 GB ROM | Expandable Upto 1 TB', '3 GB RAM | 32 GB ROM | Expandable Upto 1 TB', '4 GB RAM | 128 GB ROM | Expandable Upto 1 TB', '6 GB RAM | 128 GB ROM | Expandable Upto 1 TB', '4 GB RAM | 128 GB ROM | Expandable Upto 1 TB', '6 GB RAM | 128 GB ROM | Expandable Upto 1 TB', '4 GB RAM | 64 GB ROM | Expandable Upto 1 TB', '4 GB RAM | 64 GB ROM | Expandable Upto 1 TB', '4 GB RAM | 64 GB ROM', '4 GB RAM | 128 GB ROM | Expandable Upto 1 TB', '3 GB RAM | 32 GB ROM | Expandable Upto 512 GB', '6 GB RAM | 128 GB ROM', '4 GB RAM | 64 GB ROM | Expandable Upto 1 TB', '4 GB RAM | 64 GB ROM | Expandable Upto 256 GB', '4 GB RAM | 64 GB ROM | Expandable Upto 256 GB', '4 GB RAM | 64 GB ROM', '4 GB RAM | 64 GB ROM | Expandable Upto 1 TB']\n"
     ]
    }
   ],
   "source": [
    "#scraping the Storage_RAM_ROM \n",
    "ram=driver.find_elements_by_xpath(\"//ul[@class='_1xgFaf']//li[1]\")\n",
    "for i in ram:\n",
    "    if i.text is None :\n",
    "        Storage_RAM_ROM.append(\"--\") \n",
    "    else:\n",
    "        Storage_RAM_ROM.append(i.text)\n",
    "print(len(Storage_RAM_ROM),Storage_RAM_ROM)"
   ]
  },
  {
   "cell_type": "code",
   "execution_count": 37,
   "id": "66fc50b9",
   "metadata": {},
   "outputs": [
    {
     "name": "stdout",
     "output_type": "stream",
     "text": [
      "24 ['13MP + 2MP + 2MP | 5MP Front Camera', '8MP Rear Camera | 5MP Front Camera', '8MP Rear Camera | 5MP Front Camera', '13MP + 2MP + 0.3MP | 5MP Front Camera', '8MP Rear Camera | 5MP Front Camera', '108MP + 8MP + 2MP | 32MP Front Camera', '8MP Rear Camera | 5MP Front Camera', '50MP + 2MP + 0.3MP | 8MP Front Camera', '13MP + 2MP + 0.3MP | 5MP Front Camera', '50MP + 2MP + 2MP | 16MP Front Camera', '50MP + 2MP + 2MP | 16MP Front Camera', '50MP + 2MP + 2MP | 16MP Front Camera', '50MP + 2MP + 2MP | 16MP Front Camera', '13MP + 2MP + 0.3MP | 5MP Front Camera', '50MP + 2MP + 0.3MP | 8MP Front Camera', '48MP Primary Camera + 2MP Macro Lens + 2MP Depth Sensor | 8MP Front Camera', '50MP + 2MP + 0.3MP | 8MP Front Camera', '13MP + 2MP + 2MP | 5MP Front Camera', '108MP + 8MP + 2MP | 32MP Front Camera', '13MP + 2MP + 0.3MP | 5MP Front Camera', '50MP + 2MP + 2MP | 8MP Front Camera', '50MP + 2MP + 2MP | 8MP Front Camera', '48MP Primary Camera + 2MP Macro Lens + 2MP Depth Sensor | 8MP Front Camera', '50MP + 2MP | 5MP Front Camera']\n"
     ]
    }
   ],
   "source": [
    "#scraping the P_F_Camera \n",
    "PC=driver.find_elements_by_xpath(\"//ul[@class='_1xgFaf']//li[3]\")\n",
    "for i in PC:\n",
    "    if i.text is None :\n",
    "        P_F_Camera.append(\"--\") \n",
    "    else:\n",
    "        P_F_Camera.append(i.text)\n",
    "print(len(P_F_Camera),P_F_Camera)"
   ]
  },
  {
   "cell_type": "code",
   "execution_count": 38,
   "id": "43d51cb6",
   "metadata": {},
   "outputs": [
    {
     "name": "stdout",
     "output_type": "stream",
     "text": [
      "24 ['16.59 cm (6.53 inch) HD+ Display', '16.51 cm (6.5 inch) HD+ Display', '16.51 cm (6.5 inch) HD+ Display', '16.56 cm (6.52 inch) HD Display', '16.51 cm (6.5 inch) HD+ Display', '17.22 cm (6.78 inch) Full HD+ Display', '16.51 cm (6.5 inch) HD+ Display', '16.76 cm (6.6 inch) Full HD+ Display', '16.56 cm (6.52 inch) HD Display', '16.71 cm (6.58 inch) Full HD+ Display', '16.71 cm (6.58 inch) Full HD+ Display', '16.71 cm (6.58 inch) Full HD+ Display', '16.71 cm (6.58 inch) Full HD+ Display', '16.56 cm (6.52 inch) HD Display', '16.76 cm (6.6 inch) Full HD+ Display', '16.66 cm (6.56 inch) Full HD+ Display', '16.76 cm (6.6 inch) Full HD+ Display', '16.59 cm (6.53 inch) HD+ Display', '17.22 cm (6.78 inch) Full HD+ Display', '16.56 cm (6.52 inch) HD Display', '16.51 cm (6.5 inch) HD+ Display', '16.51 cm (6.5 inch) HD+ Display', '16.66 cm (6.56 inch) Full HD+ Display', '17.02 cm (6.7 inch) HD+ Display']\n"
     ]
    }
   ],
   "source": [
    "#scraping the Display_size_Resolution \n",
    "DS=driver.find_elements_by_xpath(\"//ul[@class='_1xgFaf']//li[2]\")\n",
    "for i in DS:\n",
    "    if i.text is None :\n",
    "        Display_size_Resolution.append(\"--\") \n",
    "    else:\n",
    "        Display_size_Resolution.append(i.text)\n",
    "print(len(Display_size_Resolution),Display_size_Resolution)"
   ]
  },
  {
   "cell_type": "code",
   "execution_count": 39,
   "id": "87560987",
   "metadata": {},
   "outputs": [
    {
     "name": "stdout",
     "output_type": "stream",
     "text": [
      "24 ['MediaTek Helio G35 Processor', 'Octa-core Processor', 'Octa-core Processor', 'Unisoc T612 Processor', 'Octa-core Processor', 'Qualcomm Snapdragon 732G Processor', 'Octa-core Processor', 'Unisoc Tiger T616 Processor', 'Unisoc T612 Processor', 'Qualcomm Snapdragon 695 Processor', 'Qualcomm Snapdragon 695 Processor', 'Qualcomm Snapdragon 695 Processor', 'Qualcomm Snapdragon 695 Processor', 'Unisoc T612 Processor', 'Unisoc Tiger T616 Processor', 'Mediatek Dimensity 700 Processor', 'Unisoc Tiger T616 Processor', 'MediaTek Helio G35 Processor', 'Qualcomm Snapdragon 732G Processor', 'Unisoc T612 Processor', 'MediaTek Helio G85 Processor', 'MediaTek Helio G85 Processor', 'Mediatek Dimensity 700 Processor', 'Qualcomm Snapdragon 680 Processor']\n"
     ]
    }
   ],
   "source": [
    "#scraping the ProcessorAndCores \n",
    "P=driver.find_elements_by_xpath(\"//ul[@class='_1xgFaf']//li[5]\")\n",
    "for i in P:\n",
    "    if i.text is None :\n",
    "        ProcessorAndCores.append(\"--\") \n",
    "    else:\n",
    "        ProcessorAndCores.append(i.text)\n",
    "print(len(ProcessorAndCores),ProcessorAndCores)"
   ]
  },
  {
   "cell_type": "code",
   "execution_count": 40,
   "id": "9568b0c5",
   "metadata": {},
   "outputs": [
    {
     "name": "stdout",
     "output_type": "stream",
     "text": [
      "24 ['5000 mAh Lithium-ion Polymer Battery', '5000 mAh Battery', '5000 mAh Battery', '5000 mAh Battery', '5000 mAh Battery', '6000 mAh Battery', '5000 mAh Battery', '5000 mAh Lithium Polymer Battery', '5000 mAh Battery', '5000 mAh Lithium Battery', '5000 mAh Lithium Battery', '5000 mAh Lithium Battery', '5000 mAh Lithium Battery', '5000 mAh Battery', '5000 mAh Lithium Polymer Battery', '5000 mAh Lithium Polymer Battery', '5000 mAh Lithium Polymer Battery', '5000 mAh Lithium-ion Polymer Battery', '6000 mAh Battery', '5000 mAh Battery', '6000 mAh Battery', '6000 mAh Battery', '5000 mAh Lithium Polymer Battery', '6000 mAh Lithium Polymer Battery']\n"
     ]
    }
   ],
   "source": [
    "\n",
    "#scraping the Battery \n",
    "B=driver.find_elements_by_xpath(\"//ul[@class='_1xgFaf']//li[4]\")\n",
    "for i in B:\n",
    "    if i.text is None :\n",
    "        Battery.append(\"--\") \n",
    "    else:\n",
    "        Battery.append(i.text)\n",
    "print(len(Battery),Battery)"
   ]
  },
  {
   "cell_type": "code",
   "execution_count": 41,
   "id": "f140ee2e",
   "metadata": {},
   "outputs": [
    {
     "name": "stdout",
     "output_type": "stream",
     "text": [
      "24 ['₹9,499', '₹7,499', '₹7,499', '₹9,299', '₹8,999', '₹15,999', '₹8,999', '₹11,999', '₹9,299', '₹15,990', '₹16,990', '₹15,990', '₹16,990', '₹9,999', '₹11,999', '₹11,999', '₹12,999', '₹8,499', '₹15,999', '₹9,999', '₹11,649', '₹11,649', '₹11,999', '₹10,499']\n"
     ]
    }
   ],
   "source": [
    "#scraping the Price \n",
    "price=driver.find_elements_by_xpath(\"//div[@class='_30jeq3 _1_WHN1']\")\n",
    "for i in price:\n",
    "    if i.text is None :\n",
    "        Price.append(\"--\") \n",
    "    else:\n",
    "        Price.append(i.text)\n",
    "print(len(Price),Price)"
   ]
  },
  {
   "cell_type": "code",
   "execution_count": 42,
   "id": "eba15347",
   "metadata": {},
   "outputs": [
    {
     "data": {
      "text/html": [
       "<div>\n",
       "<style scoped>\n",
       "    .dataframe tbody tr th:only-of-type {\n",
       "        vertical-align: middle;\n",
       "    }\n",
       "\n",
       "    .dataframe tbody tr th {\n",
       "        vertical-align: top;\n",
       "    }\n",
       "\n",
       "    .dataframe thead th {\n",
       "        text-align: right;\n",
       "    }\n",
       "</style>\n",
       "<table border=\"1\" class=\"dataframe\">\n",
       "  <thead>\n",
       "    <tr style=\"text-align: right;\">\n",
       "      <th></th>\n",
       "      <th>Brand_Name</th>\n",
       "      <th>Storage_RAM_ROM</th>\n",
       "      <th>Amount P_F_Camera</th>\n",
       "      <th>Display_size_Resolution</th>\n",
       "      <th>ProcessorAndCores</th>\n",
       "      <th>Battery</th>\n",
       "      <th>Price</th>\n",
       "    </tr>\n",
       "  </thead>\n",
       "  <tbody>\n",
       "    <tr>\n",
       "      <th>0</th>\n",
       "      <td>POCO C31 (Royal Blue, 64 GB)</td>\n",
       "      <td>4 GB RAM | 64 GB ROM | Expandable Upto 512 GB</td>\n",
       "      <td>13MP + 2MP + 2MP | 5MP Front Camera</td>\n",
       "      <td>16.59 cm (6.53 inch) HD+ Display</td>\n",
       "      <td>MediaTek Helio G35 Processor</td>\n",
       "      <td>5000 mAh Lithium-ion Polymer Battery</td>\n",
       "      <td>₹9,499</td>\n",
       "    </tr>\n",
       "    <tr>\n",
       "      <th>1</th>\n",
       "      <td>realme C11 2021 (Cool Blue, 32 GB)</td>\n",
       "      <td>2 GB RAM | 32 GB ROM | Expandable Upto 256 GB</td>\n",
       "      <td>8MP Rear Camera | 5MP Front Camera</td>\n",
       "      <td>16.51 cm (6.5 inch) HD+ Display</td>\n",
       "      <td>Octa-core Processor</td>\n",
       "      <td>5000 mAh Battery</td>\n",
       "      <td>₹7,499</td>\n",
       "    </tr>\n",
       "    <tr>\n",
       "      <th>2</th>\n",
       "      <td>realme C11 2021 (Cool Grey, 32 GB)</td>\n",
       "      <td>2 GB RAM | 32 GB ROM | Expandable Upto 256 GB</td>\n",
       "      <td>8MP Rear Camera | 5MP Front Camera</td>\n",
       "      <td>16.51 cm (6.5 inch) HD+ Display</td>\n",
       "      <td>Octa-core Processor</td>\n",
       "      <td>5000 mAh Battery</td>\n",
       "      <td>₹7,499</td>\n",
       "    </tr>\n",
       "    <tr>\n",
       "      <th>3</th>\n",
       "      <td>realme C31 (Dark Green, 32 GB)</td>\n",
       "      <td>3 GB RAM | 32 GB ROM | Expandable Upto 1 TB</td>\n",
       "      <td>13MP + 2MP + 0.3MP | 5MP Front Camera</td>\n",
       "      <td>16.56 cm (6.52 inch) HD Display</td>\n",
       "      <td>Unisoc T612 Processor</td>\n",
       "      <td>5000 mAh Battery</td>\n",
       "      <td>₹9,299</td>\n",
       "    </tr>\n",
       "    <tr>\n",
       "      <th>4</th>\n",
       "      <td>realme C11 2021 (Cool Grey, 64 GB)</td>\n",
       "      <td>4 GB RAM | 64 GB ROM | Expandable Upto 256 GB</td>\n",
       "      <td>8MP Rear Camera | 5MP Front Camera</td>\n",
       "      <td>16.51 cm (6.5 inch) HD+ Display</td>\n",
       "      <td>Octa-core Processor</td>\n",
       "      <td>5000 mAh Battery</td>\n",
       "      <td>₹8,999</td>\n",
       "    </tr>\n",
       "    <tr>\n",
       "      <th>5</th>\n",
       "      <td>MOTOROLA G60 (Moonless, 128 GB)</td>\n",
       "      <td>6 GB RAM | 128 GB ROM</td>\n",
       "      <td>108MP + 8MP + 2MP | 32MP Front Camera</td>\n",
       "      <td>17.22 cm (6.78 inch) Full HD+ Display</td>\n",
       "      <td>Qualcomm Snapdragon 732G Processor</td>\n",
       "      <td>6000 mAh Battery</td>\n",
       "      <td>₹15,999</td>\n",
       "    </tr>\n",
       "    <tr>\n",
       "      <th>6</th>\n",
       "      <td>realme C11 2021 (Cool Blue, 64 GB)</td>\n",
       "      <td>4 GB RAM | 64 GB ROM | Expandable Upto 256 GB</td>\n",
       "      <td>8MP Rear Camera | 5MP Front Camera</td>\n",
       "      <td>16.51 cm (6.5 inch) HD+ Display</td>\n",
       "      <td>Octa-core Processor</td>\n",
       "      <td>5000 mAh Battery</td>\n",
       "      <td>₹8,999</td>\n",
       "    </tr>\n",
       "    <tr>\n",
       "      <th>7</th>\n",
       "      <td>realme C35 (Glowing Black, 64 GB)</td>\n",
       "      <td>4 GB RAM | 64 GB ROM | Expandable Upto 1 TB</td>\n",
       "      <td>50MP + 2MP + 0.3MP | 8MP Front Camera</td>\n",
       "      <td>16.76 cm (6.6 inch) Full HD+ Display</td>\n",
       "      <td>Unisoc Tiger T616 Processor</td>\n",
       "      <td>5000 mAh Lithium Polymer Battery</td>\n",
       "      <td>₹11,999</td>\n",
       "    </tr>\n",
       "    <tr>\n",
       "      <th>8</th>\n",
       "      <td>realme C31 (Light Silver, 32 GB)</td>\n",
       "      <td>3 GB RAM | 32 GB ROM | Expandable Upto 1 TB</td>\n",
       "      <td>13MP + 2MP + 0.3MP | 5MP Front Camera</td>\n",
       "      <td>16.56 cm (6.52 inch) HD Display</td>\n",
       "      <td>Unisoc T612 Processor</td>\n",
       "      <td>5000 mAh Battery</td>\n",
       "      <td>₹9,299</td>\n",
       "    </tr>\n",
       "    <tr>\n",
       "      <th>9</th>\n",
       "      <td>vivo T1 5G (Rainbow Fantasy, 128 GB)</td>\n",
       "      <td>4 GB RAM | 128 GB ROM | Expandable Upto 1 TB</td>\n",
       "      <td>50MP + 2MP + 2MP | 16MP Front Camera</td>\n",
       "      <td>16.71 cm (6.58 inch) Full HD+ Display</td>\n",
       "      <td>Qualcomm Snapdragon 695 Processor</td>\n",
       "      <td>5000 mAh Lithium Battery</td>\n",
       "      <td>₹15,990</td>\n",
       "    </tr>\n",
       "    <tr>\n",
       "      <th>10</th>\n",
       "      <td>vivo T1 5G (Rainbow Fantasy, 128 GB)</td>\n",
       "      <td>6 GB RAM | 128 GB ROM | Expandable Upto 1 TB</td>\n",
       "      <td>50MP + 2MP + 2MP | 16MP Front Camera</td>\n",
       "      <td>16.71 cm (6.58 inch) Full HD+ Display</td>\n",
       "      <td>Qualcomm Snapdragon 695 Processor</td>\n",
       "      <td>5000 mAh Lithium Battery</td>\n",
       "      <td>₹16,990</td>\n",
       "    </tr>\n",
       "    <tr>\n",
       "      <th>11</th>\n",
       "      <td>vivo T1 5G (Starlight Black, 128 GB)</td>\n",
       "      <td>4 GB RAM | 128 GB ROM | Expandable Upto 1 TB</td>\n",
       "      <td>50MP + 2MP + 2MP | 16MP Front Camera</td>\n",
       "      <td>16.71 cm (6.58 inch) Full HD+ Display</td>\n",
       "      <td>Qualcomm Snapdragon 695 Processor</td>\n",
       "      <td>5000 mAh Lithium Battery</td>\n",
       "      <td>₹15,990</td>\n",
       "    </tr>\n",
       "    <tr>\n",
       "      <th>12</th>\n",
       "      <td>vivo T1 5G (Starlight Black, 128 GB)</td>\n",
       "      <td>6 GB RAM | 128 GB ROM | Expandable Upto 1 TB</td>\n",
       "      <td>50MP + 2MP + 2MP | 16MP Front Camera</td>\n",
       "      <td>16.71 cm (6.58 inch) Full HD+ Display</td>\n",
       "      <td>Qualcomm Snapdragon 695 Processor</td>\n",
       "      <td>5000 mAh Lithium Battery</td>\n",
       "      <td>₹16,990</td>\n",
       "    </tr>\n",
       "    <tr>\n",
       "      <th>13</th>\n",
       "      <td>realme C31 (Dark Green, 64 GB)</td>\n",
       "      <td>4 GB RAM | 64 GB ROM | Expandable Upto 1 TB</td>\n",
       "      <td>13MP + 2MP + 0.3MP | 5MP Front Camera</td>\n",
       "      <td>16.56 cm (6.52 inch) HD Display</td>\n",
       "      <td>Unisoc T612 Processor</td>\n",
       "      <td>5000 mAh Battery</td>\n",
       "      <td>₹9,999</td>\n",
       "    </tr>\n",
       "    <tr>\n",
       "      <th>14</th>\n",
       "      <td>realme C35 (Glowing Green, 64 GB)</td>\n",
       "      <td>4 GB RAM | 64 GB ROM | Expandable Upto 1 TB</td>\n",
       "      <td>50MP + 2MP + 0.3MP | 8MP Front Camera</td>\n",
       "      <td>16.76 cm (6.6 inch) Full HD+ Display</td>\n",
       "      <td>Unisoc Tiger T616 Processor</td>\n",
       "      <td>5000 mAh Lithium Polymer Battery</td>\n",
       "      <td>₹11,999</td>\n",
       "    </tr>\n",
       "    <tr>\n",
       "      <th>15</th>\n",
       "      <td>REDMI Note 10T 5G (Mint Green, 64 GB)</td>\n",
       "      <td>4 GB RAM | 64 GB ROM</td>\n",
       "      <td>48MP Primary Camera + 2MP Macro Lens + 2MP Dep...</td>\n",
       "      <td>16.66 cm (6.56 inch) Full HD+ Display</td>\n",
       "      <td>Mediatek Dimensity 700 Processor</td>\n",
       "      <td>5000 mAh Lithium Polymer Battery</td>\n",
       "      <td>₹11,999</td>\n",
       "    </tr>\n",
       "    <tr>\n",
       "      <th>16</th>\n",
       "      <td>realme C35 (Glowing Black, 128 GB)</td>\n",
       "      <td>4 GB RAM | 128 GB ROM | Expandable Upto 1 TB</td>\n",
       "      <td>50MP + 2MP + 0.3MP | 8MP Front Camera</td>\n",
       "      <td>16.76 cm (6.6 inch) Full HD+ Display</td>\n",
       "      <td>Unisoc Tiger T616 Processor</td>\n",
       "      <td>5000 mAh Lithium Polymer Battery</td>\n",
       "      <td>₹12,999</td>\n",
       "    </tr>\n",
       "    <tr>\n",
       "      <th>17</th>\n",
       "      <td>POCO C31 (Royal Blue, 32 GB)</td>\n",
       "      <td>3 GB RAM | 32 GB ROM | Expandable Upto 512 GB</td>\n",
       "      <td>13MP + 2MP + 2MP | 5MP Front Camera</td>\n",
       "      <td>16.59 cm (6.53 inch) HD+ Display</td>\n",
       "      <td>MediaTek Helio G35 Processor</td>\n",
       "      <td>5000 mAh Lithium-ion Polymer Battery</td>\n",
       "      <td>₹8,499</td>\n",
       "    </tr>\n",
       "    <tr>\n",
       "      <th>18</th>\n",
       "      <td>MOTOROLA G60 (Soft Silver, 128 GB)</td>\n",
       "      <td>6 GB RAM | 128 GB ROM</td>\n",
       "      <td>108MP + 8MP + 2MP | 32MP Front Camera</td>\n",
       "      <td>17.22 cm (6.78 inch) Full HD+ Display</td>\n",
       "      <td>Qualcomm Snapdragon 732G Processor</td>\n",
       "      <td>6000 mAh Battery</td>\n",
       "      <td>₹15,999</td>\n",
       "    </tr>\n",
       "    <tr>\n",
       "      <th>19</th>\n",
       "      <td>realme C31 (Light Silver, 64 GB)</td>\n",
       "      <td>4 GB RAM | 64 GB ROM | Expandable Upto 1 TB</td>\n",
       "      <td>13MP + 2MP + 0.3MP | 5MP Front Camera</td>\n",
       "      <td>16.56 cm (6.52 inch) HD Display</td>\n",
       "      <td>Unisoc T612 Processor</td>\n",
       "      <td>5000 mAh Battery</td>\n",
       "      <td>₹9,999</td>\n",
       "    </tr>\n",
       "    <tr>\n",
       "      <th>20</th>\n",
       "      <td>realme Narzo 50A (Oxygen Blue, 64 GB)</td>\n",
       "      <td>4 GB RAM | 64 GB ROM | Expandable Upto 256 GB</td>\n",
       "      <td>50MP + 2MP + 2MP | 8MP Front Camera</td>\n",
       "      <td>16.51 cm (6.5 inch) HD+ Display</td>\n",
       "      <td>MediaTek Helio G85 Processor</td>\n",
       "      <td>6000 mAh Battery</td>\n",
       "      <td>₹11,649</td>\n",
       "    </tr>\n",
       "    <tr>\n",
       "      <th>21</th>\n",
       "      <td>realme Narzo 50A (Oxygen Green, 64 GB)</td>\n",
       "      <td>4 GB RAM | 64 GB ROM | Expandable Upto 256 GB</td>\n",
       "      <td>50MP + 2MP + 2MP | 8MP Front Camera</td>\n",
       "      <td>16.51 cm (6.5 inch) HD+ Display</td>\n",
       "      <td>MediaTek Helio G85 Processor</td>\n",
       "      <td>6000 mAh Battery</td>\n",
       "      <td>₹11,649</td>\n",
       "    </tr>\n",
       "    <tr>\n",
       "      <th>22</th>\n",
       "      <td>REDMI Note 10T 5G (Metallic Blue, 64 GB)</td>\n",
       "      <td>4 GB RAM | 64 GB ROM</td>\n",
       "      <td>48MP Primary Camera + 2MP Macro Lens + 2MP Dep...</td>\n",
       "      <td>16.66 cm (6.56 inch) Full HD+ Display</td>\n",
       "      <td>Mediatek Dimensity 700 Processor</td>\n",
       "      <td>5000 mAh Lithium Polymer Battery</td>\n",
       "      <td>₹11,999</td>\n",
       "    </tr>\n",
       "    <tr>\n",
       "      <th>23</th>\n",
       "      <td>REDMI 10 (Pacific Blue, 64 GB)</td>\n",
       "      <td>4 GB RAM | 64 GB ROM | Expandable Upto 1 TB</td>\n",
       "      <td>50MP + 2MP | 5MP Front Camera</td>\n",
       "      <td>17.02 cm (6.7 inch) HD+ Display</td>\n",
       "      <td>Qualcomm Snapdragon 680 Processor</td>\n",
       "      <td>6000 mAh Lithium Polymer Battery</td>\n",
       "      <td>₹10,499</td>\n",
       "    </tr>\n",
       "  </tbody>\n",
       "</table>\n",
       "</div>"
      ],
      "text/plain": [
       "                                  Brand_Name  \\\n",
       "0               POCO C31 (Royal Blue, 64 GB)   \n",
       "1         realme C11 2021 (Cool Blue, 32 GB)   \n",
       "2         realme C11 2021 (Cool Grey, 32 GB)   \n",
       "3             realme C31 (Dark Green, 32 GB)   \n",
       "4         realme C11 2021 (Cool Grey, 64 GB)   \n",
       "5            MOTOROLA G60 (Moonless, 128 GB)   \n",
       "6         realme C11 2021 (Cool Blue, 64 GB)   \n",
       "7          realme C35 (Glowing Black, 64 GB)   \n",
       "8           realme C31 (Light Silver, 32 GB)   \n",
       "9       vivo T1 5G (Rainbow Fantasy, 128 GB)   \n",
       "10      vivo T1 5G (Rainbow Fantasy, 128 GB)   \n",
       "11      vivo T1 5G (Starlight Black, 128 GB)   \n",
       "12      vivo T1 5G (Starlight Black, 128 GB)   \n",
       "13            realme C31 (Dark Green, 64 GB)   \n",
       "14         realme C35 (Glowing Green, 64 GB)   \n",
       "15     REDMI Note 10T 5G (Mint Green, 64 GB)   \n",
       "16        realme C35 (Glowing Black, 128 GB)   \n",
       "17              POCO C31 (Royal Blue, 32 GB)   \n",
       "18        MOTOROLA G60 (Soft Silver, 128 GB)   \n",
       "19          realme C31 (Light Silver, 64 GB)   \n",
       "20     realme Narzo 50A (Oxygen Blue, 64 GB)   \n",
       "21    realme Narzo 50A (Oxygen Green, 64 GB)   \n",
       "22  REDMI Note 10T 5G (Metallic Blue, 64 GB)   \n",
       "23            REDMI 10 (Pacific Blue, 64 GB)   \n",
       "\n",
       "                                  Storage_RAM_ROM  \\\n",
       "0   4 GB RAM | 64 GB ROM | Expandable Upto 512 GB   \n",
       "1   2 GB RAM | 32 GB ROM | Expandable Upto 256 GB   \n",
       "2   2 GB RAM | 32 GB ROM | Expandable Upto 256 GB   \n",
       "3     3 GB RAM | 32 GB ROM | Expandable Upto 1 TB   \n",
       "4   4 GB RAM | 64 GB ROM | Expandable Upto 256 GB   \n",
       "5                           6 GB RAM | 128 GB ROM   \n",
       "6   4 GB RAM | 64 GB ROM | Expandable Upto 256 GB   \n",
       "7     4 GB RAM | 64 GB ROM | Expandable Upto 1 TB   \n",
       "8     3 GB RAM | 32 GB ROM | Expandable Upto 1 TB   \n",
       "9    4 GB RAM | 128 GB ROM | Expandable Upto 1 TB   \n",
       "10   6 GB RAM | 128 GB ROM | Expandable Upto 1 TB   \n",
       "11   4 GB RAM | 128 GB ROM | Expandable Upto 1 TB   \n",
       "12   6 GB RAM | 128 GB ROM | Expandable Upto 1 TB   \n",
       "13    4 GB RAM | 64 GB ROM | Expandable Upto 1 TB   \n",
       "14    4 GB RAM | 64 GB ROM | Expandable Upto 1 TB   \n",
       "15                           4 GB RAM | 64 GB ROM   \n",
       "16   4 GB RAM | 128 GB ROM | Expandable Upto 1 TB   \n",
       "17  3 GB RAM | 32 GB ROM | Expandable Upto 512 GB   \n",
       "18                          6 GB RAM | 128 GB ROM   \n",
       "19    4 GB RAM | 64 GB ROM | Expandable Upto 1 TB   \n",
       "20  4 GB RAM | 64 GB ROM | Expandable Upto 256 GB   \n",
       "21  4 GB RAM | 64 GB ROM | Expandable Upto 256 GB   \n",
       "22                           4 GB RAM | 64 GB ROM   \n",
       "23    4 GB RAM | 64 GB ROM | Expandable Upto 1 TB   \n",
       "\n",
       "                                    Amount P_F_Camera  \\\n",
       "0                 13MP + 2MP + 2MP | 5MP Front Camera   \n",
       "1                  8MP Rear Camera | 5MP Front Camera   \n",
       "2                  8MP Rear Camera | 5MP Front Camera   \n",
       "3               13MP + 2MP + 0.3MP | 5MP Front Camera   \n",
       "4                  8MP Rear Camera | 5MP Front Camera   \n",
       "5               108MP + 8MP + 2MP | 32MP Front Camera   \n",
       "6                  8MP Rear Camera | 5MP Front Camera   \n",
       "7               50MP + 2MP + 0.3MP | 8MP Front Camera   \n",
       "8               13MP + 2MP + 0.3MP | 5MP Front Camera   \n",
       "9                50MP + 2MP + 2MP | 16MP Front Camera   \n",
       "10               50MP + 2MP + 2MP | 16MP Front Camera   \n",
       "11               50MP + 2MP + 2MP | 16MP Front Camera   \n",
       "12               50MP + 2MP + 2MP | 16MP Front Camera   \n",
       "13              13MP + 2MP + 0.3MP | 5MP Front Camera   \n",
       "14              50MP + 2MP + 0.3MP | 8MP Front Camera   \n",
       "15  48MP Primary Camera + 2MP Macro Lens + 2MP Dep...   \n",
       "16              50MP + 2MP + 0.3MP | 8MP Front Camera   \n",
       "17                13MP + 2MP + 2MP | 5MP Front Camera   \n",
       "18              108MP + 8MP + 2MP | 32MP Front Camera   \n",
       "19              13MP + 2MP + 0.3MP | 5MP Front Camera   \n",
       "20                50MP + 2MP + 2MP | 8MP Front Camera   \n",
       "21                50MP + 2MP + 2MP | 8MP Front Camera   \n",
       "22  48MP Primary Camera + 2MP Macro Lens + 2MP Dep...   \n",
       "23                      50MP + 2MP | 5MP Front Camera   \n",
       "\n",
       "                  Display_size_Resolution                   ProcessorAndCores  \\\n",
       "0        16.59 cm (6.53 inch) HD+ Display        MediaTek Helio G35 Processor   \n",
       "1         16.51 cm (6.5 inch) HD+ Display                 Octa-core Processor   \n",
       "2         16.51 cm (6.5 inch) HD+ Display                 Octa-core Processor   \n",
       "3         16.56 cm (6.52 inch) HD Display               Unisoc T612 Processor   \n",
       "4         16.51 cm (6.5 inch) HD+ Display                 Octa-core Processor   \n",
       "5   17.22 cm (6.78 inch) Full HD+ Display  Qualcomm Snapdragon 732G Processor   \n",
       "6         16.51 cm (6.5 inch) HD+ Display                 Octa-core Processor   \n",
       "7    16.76 cm (6.6 inch) Full HD+ Display         Unisoc Tiger T616 Processor   \n",
       "8         16.56 cm (6.52 inch) HD Display               Unisoc T612 Processor   \n",
       "9   16.71 cm (6.58 inch) Full HD+ Display   Qualcomm Snapdragon 695 Processor   \n",
       "10  16.71 cm (6.58 inch) Full HD+ Display   Qualcomm Snapdragon 695 Processor   \n",
       "11  16.71 cm (6.58 inch) Full HD+ Display   Qualcomm Snapdragon 695 Processor   \n",
       "12  16.71 cm (6.58 inch) Full HD+ Display   Qualcomm Snapdragon 695 Processor   \n",
       "13        16.56 cm (6.52 inch) HD Display               Unisoc T612 Processor   \n",
       "14   16.76 cm (6.6 inch) Full HD+ Display         Unisoc Tiger T616 Processor   \n",
       "15  16.66 cm (6.56 inch) Full HD+ Display    Mediatek Dimensity 700 Processor   \n",
       "16   16.76 cm (6.6 inch) Full HD+ Display         Unisoc Tiger T616 Processor   \n",
       "17       16.59 cm (6.53 inch) HD+ Display        MediaTek Helio G35 Processor   \n",
       "18  17.22 cm (6.78 inch) Full HD+ Display  Qualcomm Snapdragon 732G Processor   \n",
       "19        16.56 cm (6.52 inch) HD Display               Unisoc T612 Processor   \n",
       "20        16.51 cm (6.5 inch) HD+ Display        MediaTek Helio G85 Processor   \n",
       "21        16.51 cm (6.5 inch) HD+ Display        MediaTek Helio G85 Processor   \n",
       "22  16.66 cm (6.56 inch) Full HD+ Display    Mediatek Dimensity 700 Processor   \n",
       "23        17.02 cm (6.7 inch) HD+ Display   Qualcomm Snapdragon 680 Processor   \n",
       "\n",
       "                                 Battery    Price  \n",
       "0   5000 mAh Lithium-ion Polymer Battery   ₹9,499  \n",
       "1                       5000 mAh Battery   ₹7,499  \n",
       "2                       5000 mAh Battery   ₹7,499  \n",
       "3                       5000 mAh Battery   ₹9,299  \n",
       "4                       5000 mAh Battery   ₹8,999  \n",
       "5                       6000 mAh Battery  ₹15,999  \n",
       "6                       5000 mAh Battery   ₹8,999  \n",
       "7       5000 mAh Lithium Polymer Battery  ₹11,999  \n",
       "8                       5000 mAh Battery   ₹9,299  \n",
       "9               5000 mAh Lithium Battery  ₹15,990  \n",
       "10              5000 mAh Lithium Battery  ₹16,990  \n",
       "11              5000 mAh Lithium Battery  ₹15,990  \n",
       "12              5000 mAh Lithium Battery  ₹16,990  \n",
       "13                      5000 mAh Battery   ₹9,999  \n",
       "14      5000 mAh Lithium Polymer Battery  ₹11,999  \n",
       "15      5000 mAh Lithium Polymer Battery  ₹11,999  \n",
       "16      5000 mAh Lithium Polymer Battery  ₹12,999  \n",
       "17  5000 mAh Lithium-ion Polymer Battery   ₹8,499  \n",
       "18                      6000 mAh Battery  ₹15,999  \n",
       "19                      5000 mAh Battery   ₹9,999  \n",
       "20                      6000 mAh Battery  ₹11,649  \n",
       "21                      6000 mAh Battery  ₹11,649  \n",
       "22      5000 mAh Lithium Polymer Battery  ₹11,999  \n",
       "23      6000 mAh Lithium Polymer Battery  ₹10,499  "
      ]
     },
     "execution_count": 42,
     "metadata": {},
     "output_type": "execute_result"
    }
   ],
   "source": [
    "FlipKart=pd.DataFrame([])\n",
    "FlipKart['Brand_Name']=Brand_Name\n",
    "FlipKart['Storage_RAM_ROM']=Storage_RAM_ROM\n",
    "FlipKart['Amount P_F_Camera']=P_F_Camera\n",
    "FlipKart['Display_size_Resolution']=Display_size_Resolution\n",
    "FlipKart['ProcessorAndCores']=ProcessorAndCores\n",
    "FlipKart['Battery']=Battery\n",
    "FlipKart['Price']=Price\n",
    "\n",
    "FlipKart"
   ]
  },
  {
   "cell_type": "markdown",
   "id": "74f5aa64",
   "metadata": {},
   "source": [
    "# 5. Write a program to scrap geospatial coordinates (latitude, longitude) of a city searched on google maps.\n"
   ]
  },
  {
   "cell_type": "code",
   "execution_count": 43,
   "id": "951ff46f",
   "metadata": {},
   "outputs": [],
   "source": [
    "driver = webdriver.Chrome(r\"C:\\Users\\Toshiba\\chromedriver.exe\")\n",
    "driver = webdriver.Chrome(\"chromedriver.exe\")\n",
    "time.sleep(2)"
   ]
  },
  {
   "cell_type": "code",
   "execution_count": 44,
   "id": "439b7868",
   "metadata": {},
   "outputs": [],
   "source": [
    "# opening google maps\n",
    "driver.get(\"https://www.google.co.in/maps\")\n",
    "time.sleep(3)\n"
   ]
  },
  {
   "cell_type": "code",
   "execution_count": 45,
   "id": "ea1a79e6",
   "metadata": {},
   "outputs": [
    {
     "name": "stdout",
     "output_type": "stream",
     "text": [
      "Enter City Name : Nagpur\n"
     ]
    }
   ],
   "source": [
    "city = input('Enter City Name : ')                                         # Enter city to be searched\""
   ]
  },
  {
   "cell_type": "code",
   "execution_count": 46,
   "id": "354e9dab",
   "metadata": {},
   "outputs": [],
   "source": [
    "search = driver.find_element_by_id(\"searchboxinput\")                       # locating search bar\n",
    "search.clear()                                                             # clearing search bar\n",
    "time.sleep(2)\n",
    "search.send_keys(city)                                                     # entering values in search bar\n",
    "button = driver.find_element_by_id(\"searchbox-searchbutton\")               # locating search button\n",
    "button.click()                                                             # clicking search button\n",
    "time.sleep(3)"
   ]
  },
  {
   "cell_type": "code",
   "execution_count": 47,
   "id": "40ef0422",
   "metadata": {},
   "outputs": [
    {
     "name": "stdout",
     "output_type": "stream",
     "text": [
      "URL Extracted:  https://www.google.co.in/maps/place/Nagpur,+Maharashtra/@21.1613484,78.9324201,11z/data=!4m5!3m4!1s0x3bd4c0a5a31faf13:0x19b37d06d0bb3e2b!8m2!3d21.1458004!4d79.0881546\n",
      "Latitude = 21.1613484, Longitude = 78.9324201\n"
     ]
    }
   ],
   "source": [
    "try:\n",
    "    url_string = driver.current_url\n",
    "    print(\"URL Extracted: \", url_string)\n",
    "    lat_lng = re.findall(r'@(.*)data',url_string)\n",
    "    if len(lat_lng):\n",
    "        lat_lng_list = lat_lng[0].split(\",\")\n",
    "        if len(lat_lng_list)>=2:\n",
    "            lat = lat_lng_list[0]\n",
    "            lng = lat_lng_list[1]\n",
    "        print(\"Latitude = {}, Longitude = {}\".format(lat, lng))\n",
    "\n",
    "except Exception as e:\n",
    "        print(\"Error: \", str(e))"
   ]
  },
  {
   "cell_type": "markdown",
   "id": "63e3e130",
   "metadata": {},
   "source": [
    "# 6. Write a program to scrap details of all the funding deals for second quarter (i.e Jan 21 – March 21) from trak.in"
   ]
  },
  {
   "cell_type": "code",
   "execution_count": 48,
   "id": "f47ed07a",
   "metadata": {},
   "outputs": [],
   "source": [
    "driver = webdriver.Chrome(r\"C:\\Users\\Toshiba\\chromedriver.exe\")\n",
    "driver = webdriver.Chrome(\"chromedriver.exe\")\n",
    "time.sleep(2)"
   ]
  },
  {
   "cell_type": "code",
   "execution_count": 49,
   "id": "82d2fcdd",
   "metadata": {},
   "outputs": [],
   "source": [
    "\n",
    "url1=\"https://trak.in/india-startup-funding-investment-2015/\""
   ]
  },
  {
   "cell_type": "code",
   "execution_count": 50,
   "id": "0cd56ed9",
   "metadata": {},
   "outputs": [],
   "source": [
    "\n",
    "driver.get(url1)"
   ]
  },
  {
   "cell_type": "code",
   "execution_count": 51,
   "id": "c5e59482",
   "metadata": {},
   "outputs": [],
   "source": [
    "Dates=[]\n",
    "Company=[]\n",
    "Industry=[]\n",
    "Investor_Name=[]\n",
    "Investment_Type=[]\n",
    "Amount=[]"
   ]
  },
  {
   "cell_type": "code",
   "execution_count": 52,
   "id": "b5e37678",
   "metadata": {},
   "outputs": [
    {
     "name": "stdout",
     "output_type": "stream",
     "text": [
      "392 ['BYJU’S', 'Meesho', 'Swiggy', 'Groww', 'Beldara', 'DealShare', 'Uniphore', 'Dunzo', 'BYJU’S', 'SkilloVilla', 'CityMall', 'DotPe', 'Doubtnut', 'Zomato', 'Fingerlix', 'Zolve', 'KreditBee', 'Pepperfry', 'Grofers', 'Nothing', 'SplashLearn', 'Digit Insurance', 'Bombay Shaving Company', 'DeHaat', 'Darwinbox', 'mfine', 'Udayy', 'True Elements', 'Saveo', 'Bira 91', 'Pine Labs', 'Zenoti', 'Tax Buddy India', 'Delhivery', 'PagarBook', 'Codingal', 'CRED', 'Bira 91', 'Chumbak', 'Cityflo', 'Shipsy', 'Unacademy', 'Cashfree', 'Credgenics', 'Country Delight', 'Nykaa', 'Betterplace', 'FlexiLoans', 'GetVantage', 'FreshToHome', 'Origo', 'Origo', 'Treebo Hotels', 'Hubilo', 'CredAble', 'Byju’s', 'mCaffeine', 'Qshala', 'Winzo', 'Hippo Video', 'Melorra', '1mg', 'mfine', 'Apna', 'Railofy', 'Practo', 'Medlife', 'HungerBox', 'Dunzo', 'Terra.do', 'Classplus', 'Niyo', 'ZestMoney', 'FreshToHome', 'Eduvanz', 'Flipkart', 'Vedantu', 'Crio', 'goDutch', 'Mystifly', 'JetSynthesys', 'gigIndia', 'PumPumPum', 'FLYX', 'Open Appliances Pvt. Ltd.', 'Drishti Technologies', 'Stellaps', 'Peppermint', 'Jai Kisan', 'Biomoneta', 'Sai Estate Management and Skills Institute', 'LetsTransport', 'WayCool Foods', 'Myelin Foundry', 'Hapramp', 'leap.club', 'Tring', 'Khatabook', 'Vakilsearch', 'Lendingkart', 'No Worry No Tension Healthcare (NWNT)', 'Classplus', 'Nykaa', 'Magicpin', 'LetsTransport', 'Vedantu', 'Swiggy', 'Zupee', 'DeHaat', 'BigBasket', 'Fingerlix', 'Nykaa', 'Recko', 'Soxytoes', 'Chqbook.com', 'Paperboat', 'CollegeKhabri', 'FamPay', 'MultiLiving', 'Ola Electric', 'Mera Kisan', '1mg', 'RACEnergy', 'Adonmo', 'DoubtNut', 'MultiplyMyLeads', 'Embibe', 'FirstCry', 'Pepperfry', 'MaxWholesale', 'Dot', 'BYJU’S', 'Shuttl', 'Mamaearth', 'https://www.wealthbucket.in/', 'Fashor', 'Pando', 'Zomato', 'Ecozen', 'CarDekho', 'Dhruva Space', 'Rivigo', 'Healthians', 'Licious', 'InCred', 'Trell', 'Rein Games', 'Lenskart.com', 'Freshworks', 'Misters', 'Sunstone Eduversity Pvt. Ltd', 'Burger Singh', 'Healthians', 'Ninjacart', 'Aye Finance', 'SuperGaming', 'Clumio', 'eBikeGo', 'Dunzo', 'Udaan', 'The Man Company', 'FPL Technologies', 'Cashflo', 'Digital F5', '3rdFlix', '75F', 'Myelin Foundry', 'Atomberg Technology', 'GOQii', 'Vyapar App', '', 'CarDekho', 'Progcap', 'MyPetrolPump', 'Alteria Capital', 'Pine Labs', 'Meesho', 'Cars24', 'Uniphore', 'Zendrive', 'Lo! Foods', 'RenewBuy', 'Atlan', 'WizCounsel', 'Ola Cabs', 'Uniphore', 'Daalchini Technologies', \"BYJU'S\", 'Moglix', 'Ezyhaul', 'Indus OS', 'NoBroker', 'Bira91', 'FabHotels', 'Avail Finance', 'BharatPe', 'Recykal', 'Agara Labs', 'Sistema.bio', 'Chakr Innovation', 'Pratilipi', 'Ola Electric', 'Saahas Zero Waste', 'StyleDotMe', 'BlackBuck', 'Zenoti', 'Ather Energy', 'FreshVnF', 'GlowRoad', 'Bira91', 'Kuvera', 'Medlife', 'Kabadiwala', 'Tripoto', 'Azah', 'Setu', 'Toppr', 'Craftsvilla', 'Unacademy', 'CleverTap', 'FleetX', 'Zilingo', 'NanoClean Global', 'OyoRooms', 'CarDekho', 'Vyome Therapeutics Inc.', 'Samunnati Financial Intermediation & Services Pvt. Ltd', 'Manch', 'UrbanClap Technologies Pvt. Ltd', 'Guiddoo', 'Career Anna', 'Nagpur Wholesale', 'ShopKirana', 'BuildSupply', 'GoDesi', 'Veritas Finance Ltd.', 'Meesho', 'Mobile Premier League', 'A&R Bon Vivants', 'Blackbuck', 'MilkBAsket', 'DriveU', 'CleanseCar', 'Automation Anywhere', 'Northmist', 'Origo Commodities India Pvt. Ltd', 'Grover Zampa', 'Droom', 'Innov8', 'Blackbuck', 'LetsTransport', 'Netmeds', 'Udaan', 'Daily hunt', '3HCare', 'HappyGoEasy', 'Nykaa', 'Mad Street Den', 'Dream11', 'MamaEarth', 'AutoGrid', 'dishq', 'HealthFin', 'Samosa Labs', 'ZiffyHomes', 'My OmNamo', 'ShopX', 'MakeMyTrip', 'Hansel io', 'Metro Bikes', 'Phone Pe', 'Leena AI', 'Biryani By Kilo', 'Anchanto', 'Loan Tap', 'PolicyBazaar', 'zippserv', 'Groww', 'Avenue Growth', 'iNICU', 'Kinara Capital', 'Northmist', 'Origo Commodities India Pvt. Ltd', 'Grover Zampa', 'Droom', 'Innov8', 'Blackbuck', 'LetsTransport', 'Netmeds', 'Udaan', 'Daily hunt', '3HCare', 'HappyGoEasy', 'Nykaa', 'Mad Street Den', 'Dream11', 'MamaEarth', 'AutoGrid', 'dishq', 'HealthFin', 'Samosa Labs', 'ZiffyHomes', 'My OmNamo', 'ShopX', 'MakeMyTrip', 'Hansel io', 'Metro Bikes', 'Phone Pe', 'Leena AI', 'Biryani By Kilo', 'Anchanto', 'Loan Tap', 'PolicyBazaar', 'zippserv', 'Groww', 'Avenue Growth', 'iNICU', 'Kinara Capital', 'Northmist', 'Origo Commodities India Pvt. Ltd', 'Grover Zampa', 'Droom', 'Innov8', 'Blackbuck', 'LetsTransport', 'Netmeds', 'Udaan', 'Daily hunt', '3HCare', 'HappyGoEasy', 'Nykaa', 'Mad Street Den', 'Dream11', 'MamaEarth', 'AutoGrid', 'dishq', 'HealthFin', 'Samosa Labs', 'ZiffyHomes', 'My OmNamo', 'ShopX', 'MakeMyTrip', 'Hansel io', 'Metro Bikes', 'Phone Pe', 'Leena AI', 'Biryani By Kilo', 'Anchanto', 'Loan Tap', 'PolicyBazaar', 'zippserv', 'Groww', 'Avenue Growth', 'iNICU', 'Kinara Capital', 'Northmist', 'Origo Commodities India Pvt. Ltd', 'Grover Zampa', 'Droom', 'Innov8', 'Blackbuck', 'LetsTransport', 'Netmeds', 'Udaan', 'Daily hunt', '3HCare', 'HappyGoEasy', 'Nykaa', 'Mad Street Den', 'Dream11', 'MamaEarth', 'AutoGrid', 'dishq', 'HealthFin', 'Samosa Labs', 'ZiffyHomes', 'My OmNamo', 'ShopX', 'MakeMyTrip', 'Hansel io', 'Metro Bikes', 'Phone Pe', 'Leena AI', 'Biryani By Kilo', 'Anchanto', 'Loan Tap', 'PolicyBazaar', 'zippserv', 'Groww', 'Avenue Growth', 'iNICU', 'Kinara Capital']\n"
     ]
    }
   ],
   "source": [
    "#scraping the company_name \n",
    "companies=driver.find_elements_by_xpath(\"//td[@class='column-3']\")\n",
    "for i in companies:\n",
    "    if i.text is None :\n",
    "        Company.append(\"--\") \n",
    "    else:\n",
    "        Company.append(i.text)\n",
    "print(len(Company),Company)"
   ]
  },
  {
   "cell_type": "code",
   "execution_count": 53,
   "id": "5f3177e9",
   "metadata": {},
   "outputs": [
    {
     "name": "stdout",
     "output_type": "stream",
     "text": [
      "392 ['Edu-tech', 'E-commerce', 'Online Food Delivery', 'FinTech', 'E-commerce', 'E-commerce', 'Technology', 'E-commerce', 'Edu-tech', 'Edu-tech', 'E-commerce', 'FinTech', 'Edu Tech', 'Hospitality', 'Hospitality', 'FinTech', 'Finance', 'E-commerce', 'E-Commerce', 'Technology', 'EdTech', 'Financial Services', 'Consumer Goods Company', 'AgriTech Startup', 'SaaS', 'Health Tech Startup', 'EdTech', 'Food Startup', 'B2B E-commerce', 'Food and Beverage', 'Financial Services', 'Technology Provider', 'FinTech', 'Supply chain', 'SaaS', 'EduTech', 'Financial Services', 'Food and Beverage', 'Lifestyle', 'Transportation', 'SaaS', 'Edutech', 'FinTech', 'Fintech', 'Dairy Tech', 'E-commerce', 'Digital Solutions', 'FinTech', 'FinTech', 'E-commerce', 'AgriTech', 'Advertising', 'Hospitality', 'Information Technology', 'FinTech', 'EduTech', 'Personal Care', 'EduTech', 'Online Gaming', 'Video Customer Experience(CX) Platform', 'E-commerce', 'E-commerce', 'HealthTech', 'Human Resources', 'Transportation', 'HealthTech', 'E-commerce', 'FoodTech', 'Hyper-local Logistics', 'EduTech', 'EduTech', 'FinTech', 'FinTech', 'E-commerce', 'FinTech', 'E-commerce', 'EduTech', 'EduTech', 'FinTech', 'Airfare Marketplace', 'Gaming and Entertainment', 'Marketplace', 'Automotive Rental', 'OTT Player', 'Information Technology', 'Technology', 'AgriTech', 'Industrial Robotics', 'Rural FinTech', 'BioTech', 'EdTech', 'Logistics Solution Provider', 'AgriTech', 'Deep Tech AI', 'Block Chain, Cryptocurrency', 'Professional Network for Women', 'Advertising', 'Utility Solutions Provider', 'LegalTech', 'FinTech', 'Healthcare', 'EduTech', 'E-commerce', 'E-commerce', 'Logistics Solution Provider', 'EduTech', 'Online Food Delivery', 'Gaming', 'AgriTech', 'E-commerce', 'Food Delivery', 'E-commerce', 'Digital Reconcilation and Financial Services', 'E-commerce', 'Finance', 'E-commerce', 'EduTech', 'Finance', 'Real Estate', 'Transport', 'Food Production', 'E-commerce', 'Transportation', 'Advertising', 'Education', 'Real Estate', 'EduTech', 'E-commerce', 'E-commerce', 'E-commerce', 'Information Technology and Services', 'E-Tech', 'Transportation', 'E-commerce', 'FinTech', 'Fashion and Apparel', 'Logistics', 'Hospitality', 'Technology', 'E-Commerce', 'Aerospace', 'Technology', 'B2B-focused foodtech startup', 'E-Commerce', 'Finance', 'Video', 'Gaming', 'E-Commerce', 'Software', 'Health and wellness', 'Education', 'Food and Beverage', 'Health and Wellness', 'B2B Marketing', 'FinTech', 'Video Games', 'SaaS', 'Last Mile Transportation', 'Customer Service', 'B2B', 'Consumer Goods', 'FinTech', 'FinTech', 'Advertising, Marketing', 'SaaS', 'IoT', 'Information Technology', 'Consumer Technology', 'Health and Wellness', 'Accounting', '', 'E-Commerce', 'Finance', 'Retail', 'Finance', 'Information Technology', 'E-Commerce', 'E-Commerce', 'Customer Service Platform', 'Automotive', 'Consumer Goods', 'Finance', 'Information Technology', 'Compliance', 'Transport', 'Artificial Intelligence', 'Food and Beverage', 'EdTech', 'E-Commerce', 'Tech', 'Tech', 'E-Commerce', 'Food and Beverage', 'E-Commerce', 'Finance', 'Finance', 'Waste Management Service', 'Deep-Tech', 'Agriculture', 'Energy', 'Digital Media', 'Transport', 'Waste Management Service', 'E-commerce', 'Transport', 'Saas', 'Automobile', 'Agtech', 'E-commerce', 'Food and Beverage', 'Finance', 'E-commerce', 'E-commerce', 'Social Media', 'Health and Wellness', 'Fintech', 'Edtech', 'E-commerce', 'Edtech', 'SaaS', 'AI', 'Ecommerce', 'Nanotechnology', 'Hospitality', 'Automobile', 'Health and Wellness', 'Finance', 'Social Media', 'Services Platform', 'Travel Tech', 'Online Education', 'Online Marketplace', 'B2B', 'SaaS, Ecommerce', 'Food and Beverage', 'NBFC', 'Ecommerce', 'Gaming', 'Food', 'Food Tech', 'Food', 'Transport', 'Services', 'Automation', 'Fashion', 'Logistics', 'Food', 'Automobile', 'Real Estate', 'Logistics Tech', 'Logistics Tech', 'Consumer Internet', 'B2B Platform', 'Consumer Internet', 'Healthcare', 'Consumer Internet', 'Consumer Internet', 'Technology', 'Consumer Internet', 'Healthcare', 'Technology', 'Food-Tech', 'Finance', 'Consumer Internet', 'Consumer Internet', 'Consumer Internet', 'Consumer Internet', 'Consumer Internet', 'Consumer Internet', 'Consumer Internet', 'Consumer Internet', 'Technology', 'Consumer Internet', 'IT', 'Consumer Internet', 'Consumer Internet', 'Consumer Internet', 'Consumer Internet', 'Consumer Internet', 'Healthcare', 'Finance', 'Fashion', 'Logistics', 'Food', 'Automobile', 'Real Estate', 'Logistics Tech', 'Logistics Tech', 'Consumer Internet', 'B2B Platform', 'Consumer Internet', 'Healthcare', 'Consumer Internet', 'Consumer Internet', 'Technology', 'Consumer Internet', 'Healthcare', 'Technology', 'Food-Tech', 'Finance', 'Consumer Internet', 'Consumer Internet', 'Consumer Internet', 'Consumer Internet', 'Consumer Internet', 'Consumer Internet', 'Consumer Internet', 'Consumer Internet', 'Technology', 'Consumer Internet', 'IT', 'Consumer Internet', 'Consumer Internet', 'Consumer Internet', 'Consumer Internet', 'Consumer Internet', 'Healthcare', 'Finance', 'Fashion', 'Logistics', 'Food', 'Automobile', 'Real Estate', 'Logistics Tech', 'Logistics Tech', 'Consumer Internet', 'B2B Platform', 'Consumer Internet', 'Healthcare', 'Consumer Internet', 'Consumer Internet', 'Technology', 'Consumer Internet', 'Healthcare', 'Technology', 'Food-Tech', 'Finance', 'Consumer Internet', 'Consumer Internet', 'Consumer Internet', 'Consumer Internet', 'Consumer Internet', 'Consumer Internet', 'Consumer Internet', 'Consumer Internet', 'Technology', 'Consumer Internet', 'IT', 'Consumer Internet', 'Consumer Internet', 'Consumer Internet', 'Consumer Internet', 'Consumer Internet', 'Healthcare', 'Finance', 'Fashion', 'Logistics', 'Food', 'Automobile', 'Real Estate', 'Logistics Tech', 'Logistics Tech', 'Consumer Internet', 'B2B Platform', 'Consumer Internet', 'Healthcare', 'Consumer Internet', 'Consumer Internet', 'Technology', 'Consumer Internet', 'Healthcare', 'Technology', 'Food-Tech', 'Finance', 'Consumer Internet', 'Consumer Internet', 'Consumer Internet', 'Consumer Internet', 'Consumer Internet', 'Consumer Internet', 'Consumer Internet', 'Consumer Internet', 'Technology', 'Consumer Internet', 'IT', 'Consumer Internet', 'Consumer Internet', 'Consumer Internet', 'Consumer Internet', 'Consumer Internet', 'Healthcare', 'Finance']\n"
     ]
    }
   ],
   "source": [
    "\n",
    "#scraping the Industry \n",
    "Ind=driver.find_elements_by_xpath(\"//td[@class='column-4']\")\n",
    "for i in Ind:\n",
    "    if i.text is None :\n",
    "        Industry.append(\"--\") \n",
    "    else:\n",
    "        Industry.append(i.text)\n",
    "print(len(Industry),Industry)"
   ]
  },
  {
   "cell_type": "code",
   "execution_count": 54,
   "id": "45710632",
   "metadata": {},
   "outputs": [
    {
     "name": "stdout",
     "output_type": "stream",
     "text": [
      "392 ['01/04/2021', '05/04/2021', '14/04/2021', '07/04/2021', '14/04/2021', '04/03/2021', '31/03/2021', '30/03/2021', '30/03/2021', '23/03/2021', '25/03/2021', '26/03/2021', '11/02/2021', '22/02/2021', '19/02/2021', '17/02/2021', '15/02/2021', '12/02/2021', '12/02/2021', '09/02/2021', '09/02/2021', '15/01/2021', '28/01/2021', '19/01/2021', '19/01/2021', '18/01/2021', '18/01/2021', '11/01/2021', '13/01/2021', '15/12/2020', '21/12/2020', '15/12/2020', '22/12/2020', '15/12/2020', '18/12/2020', '30/11/2020', '30/11/2020', '29/11/2020', '27/11/2020', '25/11/2020', '25/11/2020', '25/11/2020', '24/11/2020', '30/11/2020', '23/11/2020', '28/10/2020', '28/10/2020', '28/10/2020', '27/10/2020', '27/10/2020', '27/10/2020', '27/10/2020', '15/10/2020', '26/10/2020', '28/10/2020', '08/09/2020', '12/09/2020', '09/09/2020', '02/09/2020', '09/09/2020', '07/09/2020', '07/09/2020', '31/08/2020', '31/08/2020', '03/09/2020', '15/08/2020', '13/08/2020', '13/08/2020', '04/08/2020', '11/08/2020', '12/08/2020', '14/08/2020', '10/08/2020', '07/08/2020', '13/08/2020', '15/07/2020', '16/07/2020', '16/07/2020', '14/07/2020', '13/07/2020', '09/07/2020', '10/07/2020', '15/07/2020', '14/07/2020', '13/07/2020', '18/06/2020', '17/06/2020', '17/06/2020', '16/06/2020', '16/06/2020', '15/06/2020', '15/06/2020', '10/06/2020', '11/06/2020', '10/06/2020', '21/05/2020', '20/05/2020', '20/05/2020', '19/05/2020', '19/05/2020', '21/05/2020', '05/05/2020', '11/05/2020', '13/05/2020', '18/05/2020', '09/04/2020', '06/04/2020', '08/04/2020', '07/04/2020', '15/04/2020', '08/04/2020', '31/03/2020', '02/04/2020', '04/03/2020', '02/03/2020', '06/03/2020', '13/03/2020', '12/03/2020', '12/03/2020', '12/03/2020', '12/03/2020', '03/02/2020', '03/02/2020', '31/01/2020', '31/01/2020', '30/01/2020', '03/02/2020', '10/02/2020', '10/02/2020', '18/02/2020', '06/02/2020', '09/01/2020', '13/01/2020', '09/01/2020', '02/01/2020', '02/01/2020', '13/01/2020', '10/01/2020', '12/12/2019', '06/12/2019', '3/12/2019', '13/12/2019', '17/12/2019', '16/12/2019', '16/12/2019', '14/12/2019', '11/12/2019', '20/12/2019', '13/11/2019', '14/11/2019', '13/11/2019', '17/11/2019', '18/11/2019', '15/11/2019', '20/11/2019', '12/11/2019', '20/11/2019', '11/11/2019', '04/10/2019', '02/10/2019', '21/10/2019', '05/09/2019', '04/09/2019', '04/09/2019', '04/09/2019', '04/09/2019', '04/09/2019', '04/09/2019', '04/09/2019', '03/09/2019', '', '01/08/2019', '01/08/2019', '01/08/2019', '01/08/2019', '01/08/2019', '12/08/2019', '13/08/2019', '13/08/2019', '23/08/2019', '23/08/2019', '02/07/2019', '02/07/2019', '01/07/2019', '03/07/2019', '01/07/2019', '04/07/2019', '10/07/2019', '11/07/2019', '10/07/2019', '10/07/2019', '05/06/2019', '04/06/2019', '03/06/2019', '03/06/2019', '04/06/2019', '04/06/2019', '03/06/2019', '06/06/2019', '06/06/2019', '06/06/2019', '06/05/2019', '06/05/2019', '05/05/2019', '01/05/2019', '02/05/2019', '28/05/2019', '28/05/2019', '30/05/2019', '31/05/2019', '16/04/2019', '12/04/2019', '10/04/2019', '13/04/2019', '12/04/2019', '11/04/2019', '10/04/2019', '10/04/2019', '10/04/2019', '11/04/2019', '1/02/2019', '8/02/2019', '13/02/2019', '14/02/2018', '03/01/2019', '04/01/2019', '04/01/2019', '04/12/2018', '01/12/2018', '02/12/2018', '02/12/2018', '04/12/2018', '06/12/2018', '06/12/2018', '01/11/2018', '03/11/2018', '06/11/2018', '08/11/2018', '8/11/2018', '12/11/2018', '12/11/2018', '13/11/2018', '14/11/2018', '19/11/2018', '01/10/2018', '02/10/2018', '04/10/2018', '05/10/2018', '11/10/2018', '12/10/2018', '12/10/2018', '01/09/2018', '03/09/2018', '03/09/2018', '04/09/2018', '04/09/2018', '05/09/2018', '05/09/2018', '06/09/2018', '10/09/2018', '11/09/2018', '01/08/2018', '01/08/2018', '02/08/2018', '03/08/2018', '07/08/2018', '07/08/2018', '07/08/2018', '08/08/2018', '08/08/2018', '08/08/2018', '01/07/2018', '02/07/2018', '04/07/2018', '05/072018', '06/07/2018', '09/07/2018', '09/07/2018', '10/07/2018', '10/07/2018', '10/07/2018', '01/10/2018', '02/10/2018', '04/10/2018', '05/10/2018', '11/10/2018', '12/10/2018', '12/10/2018', '01/09/2018', '03/09/2018', '03/09/2018', '04/09/2018', '04/09/2018', '05/09/2018', '05/09/2018', '06/09/2018', '10/09/2018', '11/09/2018', '01/08/2018', '01/08/2018', '02/08/2018', '03/08/2018', '07/08/2018', '07/08/2018', '07/08/2018', '08/08/2018', '08/08/2018', '08/08/2018', '01/07/2018', '02/07/2018', '04/07/2018', '05/072018', '06/07/2018', '09/07/2018', '09/07/2018', '10/07/2018', '10/07/2018', '10/07/2018', '01/10/2018', '02/10/2018', '04/10/2018', '05/10/2018', '11/10/2018', '12/10/2018', '12/10/2018', '01/09/2018', '03/09/2018', '03/09/2018', '04/09/2018', '04/09/2018', '05/09/2018', '05/09/2018', '06/09/2018', '10/09/2018', '11/09/2018', '01/08/2018', '01/08/2018', '02/08/2018', '03/08/2018', '07/08/2018', '07/08/2018', '07/08/2018', '08/08/2018', '08/08/2018', '08/08/2018', '01/07/2018', '02/07/2018', '04/07/2018', '05/072018', '06/07/2018', '09/07/2018', '09/07/2018', '10/07/2018', '10/07/2018', '10/07/2018', '01/10/2018', '02/10/2018', '04/10/2018', '05/10/2018', '11/10/2018', '12/10/2018', '12/10/2018', '01/09/2018', '03/09/2018', '03/09/2018', '04/09/2018', '04/09/2018', '05/09/2018', '05/09/2018', '06/09/2018', '10/09/2018', '11/09/2018', '01/08/2018', '01/08/2018', '02/08/2018', '03/08/2018', '07/08/2018', '07/08/2018', '07/08/2018', '08/08/2018', '08/08/2018', '08/08/2018', '01/07/2018', '02/07/2018', '04/07/2018', '05/072018', '06/07/2018', '09/07/2018', '09/07/2018', '10/07/2018', '10/07/2018', '10/07/2018']\n"
     ]
    }
   ],
   "source": [
    "#scraping the Dates \n",
    "dt=driver.find_elements_by_xpath(\"//td[@class='column-2']\")\n",
    "for i in dt:\n",
    "    if i.text is None :\n",
    "        Dates.append(\"--\") \n",
    "    else:\n",
    "        Dates.append(i.text)\n",
    "print(len(Dates),Dates)"
   ]
  },
  {
   "cell_type": "code",
   "execution_count": 55,
   "id": "d2f4ea99",
   "metadata": {},
   "outputs": [
    {
     "name": "stdout",
     "output_type": "stream",
     "text": [
      "392 ['Innoven Capital', 'SoftBank Vision Fund 2', 'Amansa Holdings, Carmignac, Falcon Edge Capital, Goldman Sachs, Think Investments', 'MC Global Edtech, B Capital, Baron, others', 'Hindustan Media Ventures', 'Innoven Capital', 'Sorenson Capital Partners', 'Krishtal Advisors Pte Ltd', 'MC Global Edtech, B Capital, Baron, others', 'Titan Capital, others', 'Accel Partners', 'PayU', 'SIG Global, Sequoia Capital, WaterBridge Ventures and ON Mauritius', 'Tiger Global, Kora', 'Rhodium Trust, Accel Partners and Swiggy', 'Accel Partners and Lightspeed Venture Partners', 'Azim Premji’s PremjiInvest and South Korea’s Mirae Asset Venture', 'InnoVen Capital', 'SoftBank Vision Fund (SVF)', 'GV', 'Owl Ventures', 'A91 Partners, Faering Capital, TVS Capital Funds', 'Reckitt Benckiser', 'Prosus Ventures', 'Salesforce Ventures', 'Heritas Capital Management', 'Sequoia Capital', 'SIDBI Venture Capital', 'Matrix Partners India, RTP Global, others', 'Nishant Mittal, Pankaj Chaddah and Shikha Sunil Chandak', 'Lone Pine Capital', 'Advent International', 'Zenith Global', 'Steadview Capital', 'Sequoia Capital', 'Rebright Partners, Java Capital, and GSF Accelerator', 'DST Global', 'Sofina, Sequoia Capital, Sixth Sense Ventures, Neoplux', 'Gaja Capital Fund (GCFII-A)', 'Lightbox Ventures', 'Sequoia Capital India’s Surge, Info Edge', 'Tiger Global Management, Dragoneer Investment Group', 'Matrix Partners India, SAIF Partners, Ward Ferry Management and Bertelsmann India', 'Venture Capital firm, Accel Partners and DMI Finance', 'Elevation Capital', 'Alia Bhatt', 'Jungle Ventures', 'Falguni and Sanjay Nayar Family Office', 'Chiratae Ventures, Dream Incubators', 'Corporation of Dubai (ICD), Ascent Capital, DFC, the Allana Group', 'Northern Arc Capital', 'Sequoia Capital India', 'Matrix Partners India, SAIF Partners, Ward Ferry Management and Bertelsmann India', 'Lightspeed Venture Partners', 'Oaks Asset Management and V’Ocean Investment', 'Silver Lake, Tiger Global, General Atlantic and Owl Ventures', 'Amicus Capital Private Equity I LLP, Amicus Capital Partners India Fund I and RP-SG Venture Fund 1', 'Rainmatter Capital', 'Kalaari Capital Partners, IndigoEdge Management Consultancy', 'Alpha Wave Incubation, Exfinity Venture Partners and existing backers.', 'Shadow Holdings, Lightbox.', 'Gaja Capital, Tata Capital, Partners Group', 'Caretech Pte Inc', 'Lightspeed India and Sequoia Capital India', 'Chiratae Ventures', 'A1A Company', 'Prasid Uno Family Trust and SC Credit Fund', 'One97, Sabre Partners Trust, Pratithi Investment Trust, and Srihari Kumar', 'Existing Backers', 'Stanford Angels and Entrepreneurs (India), BEENEXT Emerging Asia, Rainmatter Capital', 'Falcon Edge', 'Niyo Solutions Inc.', 'Primrose Hills Ventures', 'Ascent Capital', 'Sequoia India, Unitus', 'Walmart Inc', 'Coatue Management', '021 Capital', 'Matrix India,Y Combinator, Global Founders Capital, Soma Capital, and VentureSouq.', 'Recruit Co. Ltd.', 'Adar Poonawalla and Kris Gopalakrishnan.', 'Incubate Fund India and Beyond Next Ventures', 'Early Adapters Syndicate', 'Raj Mishra, founder of AIT Global Inc', 'Unicorn India Ventures', 'Sozo Ventures', 'Stride Ventures', 'Venture Catalysts and Naveen Kshatriya', 'Arkam Ventures and NABVENTURES Fund I', 'Beyond Next Ventures, ArthaVida Ventures and Dr. Aniruddha Malpani', 'Suniel Shetty', 'Stride Ventures', 'Indusland Bank', 'Kris Gopalakrishnan’s family office — Pratithi.', 'Anand Mahindra', 'Whiteboard Capital (Sandeep Tandon’s VC fund), FirstCheque, Artha India Ventures, Sweta Rau (Founder, White Ventures), Amrish Rau (CEO Pinelabs, Founder Citrus Pay), Deepak Abbot (Former SVP, Paytm), and Harpreet Singh Grover (Co-founder, Co-Cubes) and others.', 'Tencent, Ark Impact, KoKalyan Krishnamurthy of Flipkart, Sujeet Kumar of Udaan, Gaurav Munjal of Unacademy, Keshav Sanghi of VentureWorks India, Roman Saini of Unacademy, Hemesh Singh of Unacademy, and Sumit Jain of Opentalk amongst others.', 'B Capital Group, Sequoia India, Partners of DST Global, Tencent, GGV, RTP Global, Hummingbird Ventures, Falcon Edge Capital, Rocketship.vc, Unilever Ventures, Kevin Weil, Alexander Will, Kunal Shah, Kunal Bahl, and Rohit Bansal', 'Udaan co-founder, Sujeet Kumar', 'Fullerton Financial Holdings Pte Ltd (FFH) and Bertelsmann India Investments, Sistema Asia Fund and India Quotient.', 'Amit Burman, Chairman of Dabur India,', \"RTP Global, lume Ventures, Sequoia Capital India's Surge, Spiral Ventures, and Strive.\", 'Steadview Capital', 'Lightspeed Venture Partners, along with the participation of Moonstone Investments, WaterBridge Venture, The Bunting Family Private Fund, and Srivatsan Rajan', 'InnoVen Capital', 'Legend Capital', 'Tencent, Ark Impact, Korea Investment Partners, Samsung Ventures, and Mirae Asset Capital Markets', 'Matrix Partners India, Falcon Edge Capital, WestCap Group, Orios Venture Partners and Smile Group', 'Sequoia Capital India, FMO, Omnivore and AgFunder.', 'Alibaba Group', 'Accel, Zephyr Peacock, Swiggy, and RB Investments', 'Steadview Capital', 'Vertex Ventures Southeast Asia and India and Prime Venture Partners', 'Angel Networks', 'Aavishkaar Capital', 'Advent Management, A91 Emerging Fund, and Trifecta Venture.', 'Vdiec Global', 'Y Combinator, Venture Highway, Sequoia India, and GFC (Global Founders Capital).', 'Lodha Ventures', 'Pawan Munjal Family Trust', 'Ajinkya Rahane', 'Bill & Melinda Gates Foundation', 'GrowX Ventures', 'BAce Capital', 'Tencent Holdings', 'Frontline Strategy Funds and SucSEED Venture Partners.', 'Reliance Industries Limited (RIL)', 'Softbank Vision Fund', 'Pidilite Industries', 'IAN Fund and Al Falaj Investment Co', 'PayU and Fosun RZ Capital', 'Tiger Global Management', 'Susquehanna Growth Equity', 'Sequoia Capital India', 'Vinod Khatumal', 'Sprout Venture Partners', 'Chiratae Ventures', 'Ant Financial', 'Sathguru Catalyzer Advisors', 'Ping An Global Voyager Fund', 'Mumbai Angels, Ravikanth Reddy', 'SAIF Partners, Spring Canter Investment Ltd.', 'Paytm, NPTK, Sabre Partners and Neoplux', 'Vertex Growth Fund', '', 'Ruizheng Investment', 'Manipal Education and Medical Group (MEMG)', 'SoftBank Vision Fund', 'Sequoia, CapitalG, Accel', 'Sauce.vc, Rainforest Ventures', 'Prime Venture Partners, LetsVenture, PS1 Venture and GlobalLogic co-founder Rajul Garg', 'RB Investments', 'DG Daiwa Ventures, DG Incubation', 'Trifecta Capital Advisors', 'FinTech', 'Dream Incubator', 'Altimeter Capital, Sutter Hill Ventures', 'Startup Buddy', 'Lightbox', 'Altimeter Capital, DST Global', 'Ayushmann Khurana', 'Matrix Partners India, Sequoia India', 'SAIF Partners', 'TIW Private Equity', 'Exfinity Venture Partners', 'Breakthrough Energy Ventures', 'Endiya Partners', 'A91 Partners', 'Bennett Coleman and Company Ltd (BCCL)', 'India Quotient, Axilor Ventures', '', 'SC GG India Mobility Holdings LLC', 'Sequoia India', '', 'Azim Premji, Binny Bansal', 'Pine Labs Pte Ltd', 'Naspers', 'MS Dhoni', 'March Capital Partners', 'XL Innovate', 'Rashmi Daga (founder, FreshMenu), Raveen Sastry (co-founder, Myntra) and Mitesh Shah (finance chief, BookMyShow)', 'Lok Capital, IIFL Wealth', 'WaterBridge Ventures', 'Kapil Dev', 'DIG Investment Ab, Deshe Holdings, Samih Toukan and Hussam Khoury', 'March Capital Partners', 'Artha Venture', 'Qatar Investment Authority', 'Composite Capital Management, Sequoia Capital India, Tiger Global Management', 'Undisclosed', 'Ventureast', 'General Atlantic', 'Anicut Capital', 'Goldman Sachs, Accel Partners and Qualcomm', 'Matrix Partners', 'Insight Partners', 'Triton Investment Advisors, Pidilite Industries director Ajay Parekh', 'Blume Ventures and RTP Global', 'Shell Foundation, DILA CAPITAL, Engie RDE Fund, EcoEnterprise Fund, EDFIMC (ElectriFI), Endeavor Catalyst Fund, CoCapital, Triodos, Alpha Mundi, and Lendahand', 'IAN Fund', 'Qiming Venture Partners', 'Tata Sons', 'C4D Partners', 'Indian Angel Network and other angel investors, Innov8 founder Ritesh Malik, Josh Talks founders Supriya Paul and Shobha Banga, and former Hero Corporate president Rohit Chanana', 'Goldman Sachs Investment Partners and Silicon Valley-based Accel, Wellington, Sequoia Capital, B Capital, LightStreet, Sands Capital and International Finance Corporation,', 'Tiger Global Management', 'Sachin Bansal', 'Equanimity Ventures', 'Korea Investment Partners, Vertex Ventures', 'Sixth Sense Ventures', 'Eight Roads', 'Prasid Uno Family Trust', 'Unilever, Beehive Capital Advisor, ABCOM Investments, Parekh Marine Transport,', 'Orchid India, Hornbill Orchid India Fund, Chiratae Ventures (formerly IDG Ventures), 3one4 Capital, Lasmer NV', 'Unnamed angel investors', 'Lightspeed India Partners', 'Milestone', 'Supera Pte Ltd', 'Kalyan Krishnamurthy', 'Sequoia India, Tiger Global Management, Accel Partners', 'India Quotient and LetsVenture’s Angel Fund', 'Sequoia Capital and Temasek Holdings, EDBI, Burda Principal Investments, and Sofina', 'LetsVenture, PitchRight Venture, 91SpringBoard, AL Nour International Holdings and Mark V Investments', 'DiDi Chuxing', 'Sequoia India, Hillhouse Capital, Alphabet’s growth investment arm Capital G and Axis Bank', 'Iron Pillar, Perceptive Advisors, Romulus Capital and Kalaari Capital', 'MASSIF, a Dutch government fund', 'Stellaris Venture Partners', 'Steadview Capital and Vy Capital.', 'Individual Investors', 'Individual Investors', 'Omphalos Ventures India LLP', 'Info Edge, AET Fund, Akatsuki and Incubate Fund from Japan and Better Capital AngelList syndicate.', 'Venture Highway, GREE Ventures, Space Matrix, Individual Investors', 'Lead Angels Network', 'Norwest Venture Partners, CDC Group, the UK’s Development Finance Institution and P Surendra Pai', 'Shunwei Capital, DST Partners and RPS Ventures', 'Undisclosed', 'RB Investments, Singapore', 'Tiger Global', 'Mayfield Fund', 'Stevens Creek Ventures', 'Venture Catalysts', 'SoftBank Vision Fund', 'Prashant Jaiswal', 'Cooperative Oikocredit, Caspian and Hivos-Triodos Fund', 'Ravi Viswanathan', 'ZigExN', 'Credence Family Office', 'Sequoia Capital India', 'Fosun International', 'Sistema Asia Fund, Sistema JSFC and Tanncam Investment', 'DST Global and Lightspeed Venture Partners’ global fund.', 'Falcon Edge', 'N/A', 'Korea Investment Partners (KIP), Samsung and China-based CITIC Capital and others', 'Lighthouse', 'KDDI ', 'Tencent, Kalaari Capital and Private equity firm Multiples Alternate Asset Management', 'Stellaris Ventures & Others', 'CLP Holdings Group, Innogy, Ørstead, and Tenaska', 'Farm To Fork, Arts Alliance, The Syndicate Fund, Sven Hensen, Zeroth and Artesian Venture Partners', 'Axilor, Sprout Venture Partners and others', 'Xiaomi and Sequoia Capital India', 'Y Combinator', 'N/A', 'Fung Strategic Holdings', 'MakeMyTrip Limited', 'Vertex Ventures', 'Sequoia Capital India Advisors, Accel Partners and G Raghunandan', 'Flipkart', 'Y Combinator', 'Ajay Relan and Vinay Mittal', 'MDI Ventures & Telkom Indonesia', 'Shunwei Capital, Tuscan Ventures, Ashish Goenka, VC firms India Quotient and Kae Capital', 'Info Edge (India) Ltd and Temasek', 'Info Edge (India) Ltd', 'Insignia Ventures Partners, Lightbridge Partners & Kairos', 'Avtar Monga, chief operating office at IDFC Bank, Aditya Malik & Others', 'Venture Catalysts', 'ResponsAbility', 'Prashant Jaiswal', 'Cooperative Oikocredit, Caspian and Hivos-Triodos Fund', 'Ravi Viswanathan', 'ZigExN', 'Credence Family Office', 'Sequoia Capital India', 'Fosun International', 'Sistema Asia Fund, Sistema JSFC and Tanncam Investment', 'DST Global and Lightspeed Venture Partners’ global fund.', 'Falcon Edge', 'N/A', 'Korea Investment Partners (KIP), Samsung and China-based CITIC Capital and others', 'Lighthouse', 'KDDI ', 'Tencent, Kalaari Capital and Private equity firm Multiples Alternate Asset Management', 'Stellaris Ventures & Others', 'CLP Holdings Group, Innogy, Ørstead, and Tenaska', 'Farm To Fork, Arts Alliance, The Syndicate Fund, Sven Hensen, Zeroth and Artesian Venture Partners', 'Axilor, Sprout Venture Partners and others', 'Xiaomi and Sequoia Capital India', 'Y Combinator', 'N/A', 'Fung Strategic Holdings', 'MakeMyTrip Limited', 'Vertex Ventures', 'Sequoia Capital India Advisors, Accel Partners and G Raghunandan', 'Flipkart', 'Y Combinator', 'Ajay Relan and Vinay Mittal', 'MDI Ventures & Telkom Indonesia', 'Shunwei Capital, Tuscan Ventures, Ashish Goenka, VC firms India Quotient and Kae Capital', 'Info Edge (India) Ltd and Temasek', 'Info Edge (India) Ltd', 'Insignia Ventures Partners, Lightbridge Partners & Kairos', 'Avtar Monga, chief operating office at IDFC Bank, Aditya Malik & Others', 'Venture Catalysts', 'ResponsAbility', 'Prashant Jaiswal', 'Cooperative Oikocredit, Caspian and Hivos-Triodos Fund', 'Ravi Viswanathan', 'ZigExN', 'Credence Family Office', 'Sequoia Capital India', 'Fosun International', 'Sistema Asia Fund, Sistema JSFC and Tanncam Investment', 'DST Global and Lightspeed Venture Partners’ global fund.', 'Falcon Edge', 'N/A', 'Korea Investment Partners (KIP), Samsung and China-based CITIC Capital and others', 'Lighthouse', 'KDDI ', 'Tencent, Kalaari Capital and Private equity firm Multiples Alternate Asset Management', 'Stellaris Ventures & Others', 'CLP Holdings Group, Innogy, Ørstead, and Tenaska', 'Farm To Fork, Arts Alliance, The Syndicate Fund, Sven Hensen, Zeroth and Artesian Venture Partners', 'Axilor, Sprout Venture Partners and others', 'Xiaomi and Sequoia Capital India', 'Y Combinator', 'N/A', 'Fung Strategic Holdings', 'MakeMyTrip Limited', 'Vertex Ventures', 'Sequoia Capital India Advisors, Accel Partners and G Raghunandan', 'Flipkart', 'Y Combinator', 'Ajay Relan and Vinay Mittal', 'MDI Ventures & Telkom Indonesia', 'Shunwei Capital, Tuscan Ventures, Ashish Goenka, VC firms India Quotient and Kae Capital', 'Info Edge (India) Ltd and Temasek', 'Info Edge (India) Ltd', 'Insignia Ventures Partners, Lightbridge Partners & Kairos', 'Avtar Monga, chief operating office at IDFC Bank, Aditya Malik & Others', 'Venture Catalysts', 'ResponsAbility', 'Prashant Jaiswal', 'Cooperative Oikocredit, Caspian and Hivos-Triodos Fund', 'Ravi Viswanathan', 'ZigExN', 'Credence Family Office', 'Sequoia Capital India', 'Fosun International', 'Sistema Asia Fund, Sistema JSFC and Tanncam Investment', 'DST Global and Lightspeed Venture Partners’ global fund.', 'Falcon Edge', 'N/A', 'Korea Investment Partners (KIP), Samsung and China-based CITIC Capital and others', 'Lighthouse', 'KDDI ', 'Tencent, Kalaari Capital and Private equity firm Multiples Alternate Asset Management', 'Stellaris Ventures & Others', 'CLP Holdings Group, Innogy, Ørstead, and Tenaska', 'Farm To Fork, Arts Alliance, The Syndicate Fund, Sven Hensen, Zeroth and Artesian Venture Partners', 'Axilor, Sprout Venture Partners and others', 'Xiaomi and Sequoia Capital India', 'Y Combinator', 'N/A', 'Fung Strategic Holdings', 'MakeMyTrip Limited', 'Vertex Ventures', 'Sequoia Capital India Advisors, Accel Partners and G Raghunandan', 'Flipkart', 'Y Combinator', 'Ajay Relan and Vinay Mittal', 'MDI Ventures & Telkom Indonesia', 'Shunwei Capital, Tuscan Ventures, Ashish Goenka, VC firms India Quotient and Kae Capital', 'Info Edge (India) Ltd and Temasek', 'Info Edge (India) Ltd', 'Insignia Ventures Partners, Lightbridge Partners & Kairos', 'Avtar Monga, chief operating office at IDFC Bank, Aditya Malik & Others', 'Venture Catalysts', 'ResponsAbility']\n"
     ]
    }
   ],
   "source": [
    "#scraping the Investor_Name \n",
    "IN=driver.find_elements_by_xpath(\"//td[@class='column-7']\")\n",
    "for i in IN:\n",
    "    if i.text is None :\n",
    "        Investor_Name.append(\"--\") \n",
    "    else:\n",
    "        Investor_Name.append(i.text)\n",
    "print(len(Investor_Name),Investor_Name)"
   ]
  },
  {
   "cell_type": "code",
   "execution_count": 56,
   "id": "f4e16535",
   "metadata": {},
   "outputs": [
    {
     "name": "stdout",
     "output_type": "stream",
     "text": [
      "392 ['Series F', 'Series E', 'Series J', 'Series D', 'Venture', 'Debt Financing', 'Series D', 'Series E', 'Series F', 'Seed', 'Series A', 'Series A', 'Series B', 'Venture', 'Series C', 'Seed', 'Series C', 'Debt Financing', 'Unspecified', 'Series A', 'Series C', 'Venture', 'Venture', 'Series C', 'Seed', 'Venture Round', 'Seed Funding', 'Series', 'Seed', 'Funding', 'Secondary Market', 'Series D', 'Seed', 'Secondary Market', 'Series A', 'Seed', 'Series C', 'Bridge Funding', 'Pre-series E', 'Series A', 'Series A', 'Venture', 'Series B', 'Pre-Series A', 'Series C', 'Personal Investment', 'Series B', 'Equity and Debt', 'Seed', 'Series C', 'Debt', 'Series A', '', 'Seed', 'Follow-On', 'Private Equity', 'Series B', 'Angel', 'Series B', 'Series A', 'Debt Financing', 'In Progress', 'Series B', 'Series A', 'Seed', 'Series F', '', 'Series D1', 'In Progress', 'Seed', 'In Progress', '', '', 'Venture', 'Series A', 'M&A', 'Series D', 'pre-Series A', 'Seed', 'pre-Series B', 'Venture-Series Unknown', 'pre-Series A', 'Seed', 'pre-Seed', 'Venture-Series Unknown', 'Series B', 'Debt Financing', 'Seed', 'Pre-Series A', 'Seed', 'Angel', 'Venture - Series Unknown', 'Series C', 'Seed', 'Seed', 'Pre Seed', 'Angel', 'Series B', 'Series A', 'Series D', 'Pre Series A', 'Series A', 'Series F', 'Series C', 'Venture - Series Unknown', 'Series C1', 'Series 1', 'Series A', 'Series A', 'Debt Financing', 'Series C', 'Series F', 'Series A', 'Angel', 'Series A', 'Debt Financing', 'Angel', 'Seed', 'Series A', 'Series B', 'Private Equity', 'Venture Series', 'Seed', 'Pre-Series A', 'Series A', 'Venture Series', 'Venture Series', 'Series E', 'Series F', 'Series A', 'Seed', 'Private Equity Round', 'Series C', 'Series B', 'Pre-series A', 'Seed Round', 'Series A', 'Private Equity Round', 'Series A', 'Series D', 'Seed', 'Series F', 'Series C', 'Series E', 'Debt Funding', 'Seed Round', 'Seed Round', 'Series G', 'Series H', 'Series B', 'Seed', 'Venture', 'Series B', 'Debt Funding', 'Debt Funding', 'Seed Funding', 'Series C', 'Seed', 'Series D', 'Series D', 'Corporate Round', 'Maiden Round', 'Series A', 'Private Equity Round', 'pre-series A', 'Series A', 'Seed', 'Series A', 'Series C', 'Series A', '', 'Series C', 'Series A', 'Seed Funding Round', 'Single Venture', 'Corporate Round', 'Series D', 'Series D', 'Series C', 'Series B', 'Seed Round', 'Series B', 'Pre-Series A', 'Angel', 'Series J', 'Series C', 'Seed Round', 'Private Equity Round', 'Series D', 'Series B', 'Series B', 'Series C', 'Debt Funding', '', 'Series A', 'Series B', 'pre-Series A', 'pre-Series A', '', 'Series A', 'Series B', 'Series A', 'Venture - Series Unknown', 'Bridge Round', 'Series D', 'Series C', 'Series C', 'Seed Round', 'Series B', 'Series B', 'Series A', 'Private Equity', 'Private Equity', 'Series B', 'Seed Funding', 'Seed Funding', 'Debt and Preference capital', 'Inhouse Funding', 'Seed/ Angel Funding', 'Series B', 'Pre Series A', 'Series D', 'Series A', 'Equity', 'Series C', 'Series D', 'Debt-Funding', 'Seed Funding', 'Series D', 'Pre-Series A', 'Pre-Series A', 'Seed Funding', 'Seed Funding', 'Series A', 'Seed/ Angel Funding', 'Series D', 'Series C', 'Series A', 'Equity', 'Series A', 'Series B', 'Mezzanine', 'Seed/ Angel Funding', 'Series B', 'Seed/ Angel Funding', 'Seed/ Angel Funding', 'Private Equity', 'Series E', 'Pre-Series A', 'Private Funding', 'Series C', 'Private Equity', 'Private Equity', 'Private Equity', 'Seed / Angel Funding', 'Private Equity', 'Private Equity', 'Private Equity', 'Private Equity', 'Private Equity', 'Private Equity', 'Seed/ Angel Funding', 'Seed/ Angel Funding', 'Private Equity', 'Private Equity', 'Seed/ Angel Funding', 'Private Equity', 'Private Equity', 'Seed/ Angel Funding', 'Private Equity', 'Private Equity', 'Seed/ Angel Funding', 'Seed/ Angel Funding', 'Private Equity', 'Private Equity', 'Private Equity', 'Seed/ Angel Funding', 'Seed/ Angel Funding', 'Seed/ Angel Funding', 'Seed/ Angel Funding', 'Private Equity', 'Seed/ Angel Funding', 'Seed/ Angel Funding', 'Private Equity', 'Series E', 'Pre-Series A', 'Private Funding', 'Series C', 'Private Equity', 'Private Equity', 'Private Equity', 'Seed / Angel Funding', 'Private Equity', 'Private Equity', 'Private Equity', 'Private Equity', 'Private Equity', 'Private Equity', 'Seed/ Angel Funding', 'Seed/ Angel Funding', 'Private Equity', 'Private Equity', 'Seed/ Angel Funding', 'Private Equity', 'Private Equity', 'Seed/ Angel Funding', 'Private Equity', 'Private Equity', 'Seed/ Angel Funding', 'Seed/ Angel Funding', 'Private Equity', 'Private Equity', 'Private Equity', 'Seed/ Angel Funding', 'Seed/ Angel Funding', 'Seed/ Angel Funding', 'Seed/ Angel Funding', 'Private Equity', 'Seed/ Angel Funding', 'Seed/ Angel Funding', 'Private Equity', 'Series E', 'Pre-Series A', 'Private Funding', 'Series C', 'Private Equity', 'Private Equity', 'Private Equity', 'Seed / Angel Funding', 'Private Equity', 'Private Equity', 'Private Equity', 'Private Equity', 'Private Equity', 'Private Equity', 'Seed/ Angel Funding', 'Seed/ Angel Funding', 'Private Equity', 'Private Equity', 'Seed/ Angel Funding', 'Private Equity', 'Private Equity', 'Seed/ Angel Funding', 'Private Equity', 'Private Equity', 'Seed/ Angel Funding', 'Seed/ Angel Funding', 'Private Equity', 'Private Equity', 'Private Equity', 'Seed/ Angel Funding', 'Seed/ Angel Funding', 'Seed/ Angel Funding', 'Seed/ Angel Funding', 'Private Equity', 'Seed/ Angel Funding', 'Seed/ Angel Funding', 'Private Equity', 'Series E', 'Pre-Series A', 'Private Funding', 'Series C', 'Private Equity', 'Private Equity', 'Private Equity', 'Seed / Angel Funding', 'Private Equity', 'Private Equity', 'Private Equity', 'Private Equity', 'Private Equity', 'Private Equity', 'Seed/ Angel Funding', 'Seed/ Angel Funding', 'Private Equity', 'Private Equity', 'Seed/ Angel Funding', 'Private Equity', 'Private Equity', 'Seed/ Angel Funding', 'Private Equity', 'Private Equity', 'Seed/ Angel Funding', 'Seed/ Angel Funding', 'Private Equity', 'Private Equity', 'Private Equity', 'Seed/ Angel Funding', 'Seed/ Angel Funding', 'Seed/ Angel Funding', 'Seed/ Angel Funding', 'Private Equity']\n"
     ]
    }
   ],
   "source": [
    "#scraping the Investment_Type \n",
    "IT=driver.find_elements_by_xpath(\"//td[@class='column-8']\")\n",
    "for i in IT:\n",
    "    if i.text is None :\n",
    "        Investment_Type.append(\"--\") \n",
    "    else:\n",
    "        Investment_Type.append(i.text)\n",
    "print(len(Investment_Type),Investment_Type)"
   ]
  },
  {
   "cell_type": "code",
   "execution_count": 57,
   "id": "df267e0a",
   "metadata": {},
   "outputs": [
    {
     "name": "stdout",
     "output_type": "stream",
     "text": [
      "392 ['460,000,000', '300,000,000', '343,000,000', '83,000,000', '7,400,000', '250,000,000', '140,000,000', '8,000,000', '460,000,000', '300,000,000', '11,000,000', '27,500,000', '2,500,000', '250,000,000', '2,747,045.20', '1,50,00,000', '75,000,000', '4,773,958', '55,000,000', '15,000,000', '18,000,000', '1,80,00,000', '6,172,258.50', '30,000,000', '15,000,000', '16,000,000', '15,000,000', '100,000,000', '4,000,000', '1,273,634.07', 'Undisclosed', '160,000,000', '1,000,000', '25,000,000', '15,000,000', '560,000', '80,000,000', '3,000,000', '1,001,047.92', '7,700,000', '6,003,806', '75,000,000-100,000,000', '35,300,000', '3,500,000', '25,000,000', 'NA', '10,000,000', '20,160,000', '5,000,000', '121,000,000', '4,700,000', '15,000,000', '6,000,000', '4,500,000', '4,500,000', '500,000,000', '3,000,000', '370,000', '15,500,000', '4,500,000', 'upto 8,900,000', '100,000,000', '5,400,000', '8,000,000', '950,000', '32,000,000', '23,000,000', '1,560,000', '30,000,000', '1,400,000', 'upto 15,000,000', '6,000,000', '10,670,000', '16,200,000', '5,000,000', '1,200,000,000', '100,000,000', '934,160', '1,700,000', '3,300,000', '400,000', '974,200', '292,800', '200,000', '500,000', '25,000,000', 'NA', 'NA', '3,934,941', 'NA', 'NA', '1,311,647', '5,500,000', '1,000,000', '1,000,000', '340,000', 'NA', '60,000,000', 'NA', '42,000,000', 'NA', '9,000,000', '8,800,000', '4,000,000', '1,700,000', '12,560,000', '43,000,000', '8,000,000', '12,000,000', '50,000,000', '1,800,000', '13,000,000', '6,000,000', 'NA', '5,000,000', '4,000,000', 'NA', '4,700,000', '6,000,000', '1,000,000', 'NA', '10,000,000', 'NA', '3,000,000', '15,000,000', 'NA', '12,625,020', '296,000,000', '37,000,000', '3,000,000', '8,000,000', '200,000,000', '8,048,394', '18,358,860', '3,000,000', '1,800,000', '9,000,000', '150,000,000', '6,000,000', '70,000,000', '50,000,000', '20,000,000', '12,000,000', '30,000,000', '5,900,000', '2,000,000', '50,000,000', '231,000,000', '15,000,0000', '486,000', '1,500,000', 'undisclosed', '12,000,000', '26,000,000', '17,411,265', '1,300,000', '135,000,000', '300,000', '4,50,00,000', '58,50,00,000', 'unknown', '4,500,000', '3,300,000', '6,000,000', '5,000,000', '18,000,000', '10,00,000', '10,000,000', '450,000,000', '5,000,000', '', '20,000,000', '5,000,000', '1,600,000', '140,000,000', '38,080,000', '125,000,000', '11,000,000', '51,000,000', '37,000,000', '500,000', '19,000,000', '2,500,000', '145,000', '1,000,000', '38,080,000', '500,000', '150,000,000', '60,000,000', '16,000,000', '5,750,000', '5,10,00,000', '1,00,00,000', '48,89,975.54', '90,00,000', '7,50,00,000', '26,000,000', '25,00,000', '27,39,034.68', '26,000,000', '1,51,09,500.00', 'undisclosed', '868,600', 'undisclosed', '150,000,000', '50,000,000', '5,10,00,000', '14,00,00,000', '1,15,00,000', '56,00,000', '45,000,000', '17,000,000', '430,665', '3,591,375', '200,000', '3,500,000', '6,320,820', '2,443,495', '307,000', '26,000,000', 'Undisclosed', '226,000,000', '600,000', '100,000,000', '110,000,000', '22,000,000', '5,000,000', '700,000', '50,000,000', '800,000', '572,000', '143,000', '2,000,000', '3,500,000', '1,38,995', '27,799,000', '50,000,000', '5,00,000', '1,000,000', '1,000,000', '1,300,000', '1,000,000', '500,000', '300,000,000', 'N/A', '11,000,000', '8,200,000', '30,00,000', '4,000,000', '14,680,000', '12,000,000', '35,000,000', '225,000,000', '63,90,000', '1,000,000', 'N/A', '15,72,00,000', 'N/A', '100,000,000', '4,000,000', '32,000,000', '400,000', 'N/A', '7,000,000', '120,000', '1,000,000', '35,000,000', '10,000,000', '40,00,000', '12,200,000', '66,000,000', 'N/A', '1,000,000', '4,000,000', '62,50,000', '2,7700,000', '440,000', '1,100,000', '437,000', 'N/A', '5,000,000', 'N/A', '11,000,000', '8,200,000', '30,00,000', '4,000,000', '14,680,000', '12,000,000', '35,000,000', '225,000,000', '63,90,000', '1,000,000', 'N/A', '15,72,00,000', 'N/A', '100,000,000', '4,000,000', '32,000,000', '400,000', 'N/A', '7,000,000', '120,000', '1,000,000', '35,000,000', '10,000,000', '40,00,000', '12,200,000', '66,000,000', 'N/A', '1,000,000', '4,000,000', '62,50,000', '2,7700,000', '440,000', '1,100,000', '437,000', 'N/A', '5,000,000', 'N/A', '11,000,000', '8,200,000', '30,00,000', '4,000,000', '14,680,000', '12,000,000', '35,000,000', '225,000,000', '63,90,000', '1,000,000', 'N/A', '15,72,00,000', 'N/A', '100,000,000', '4,000,000', '32,000,000', '400,000', 'N/A', '7,000,000', '120,000', '1,000,000', '35,000,000', '10,000,000', '40,00,000', '12,200,000', '66,000,000', 'N/A', '1,000,000', '4,000,000', '62,50,000', '2,7700,000', '440,000', '1,100,000', '437,000', 'N/A', '5,000,000', 'N/A', '11,000,000', '8,200,000', '30,00,000', '4,000,000', '14,680,000', '12,000,000', '35,000,000', '225,000,000', '63,90,000', '1,000,000', 'N/A', '15,72,00,000', 'N/A', '100,000,000', '4,000,000', '32,000,000', '400,000', 'N/A', '7,000,000', '120,000', '1,000,000', '35,000,000', '10,000,000', '40,00,000', '12,200,000', '66,000,000', 'N/A', '1,000,000', '4,000,000', '62,50,000', '2,7700,000', '440,000', '1,100,000', '437,000', 'N/A', '5,000,000']\n"
     ]
    }
   ],
   "source": [
    "#scraping the Amount \n",
    "Price=driver.find_elements_by_xpath(\"//td[@class='column-9']\")\n",
    "for i in Price:\n",
    "    if i.text is None :\n",
    "        Amount.append(\"--\") \n",
    "    else:\n",
    "        Amount.append(i.text)\n",
    "print(len(Amount),Amount)"
   ]
  },
  {
   "cell_type": "code",
   "execution_count": 58,
   "id": "6abe3b58",
   "metadata": {},
   "outputs": [
    {
     "data": {
      "text/html": [
       "<div>\n",
       "<style scoped>\n",
       "    .dataframe tbody tr th:only-of-type {\n",
       "        vertical-align: middle;\n",
       "    }\n",
       "\n",
       "    .dataframe tbody tr th {\n",
       "        vertical-align: top;\n",
       "    }\n",
       "\n",
       "    .dataframe thead th {\n",
       "        text-align: right;\n",
       "    }\n",
       "</style>\n",
       "<table border=\"1\" class=\"dataframe\">\n",
       "  <thead>\n",
       "    <tr style=\"text-align: right;\">\n",
       "      <th></th>\n",
       "      <th>Company</th>\n",
       "      <th>Industry</th>\n",
       "      <th>Investor_Name</th>\n",
       "      <th>Amount Invested</th>\n",
       "      <th>Specification</th>\n",
       "      <th>Dates</th>\n",
       "    </tr>\n",
       "  </thead>\n",
       "  <tbody>\n",
       "    <tr>\n",
       "      <th>0</th>\n",
       "      <td>BYJU’S</td>\n",
       "      <td>Edu-tech</td>\n",
       "      <td>Innoven Capital</td>\n",
       "      <td>460,000,000</td>\n",
       "      <td>Series F</td>\n",
       "      <td>01/04/2021</td>\n",
       "    </tr>\n",
       "    <tr>\n",
       "      <th>1</th>\n",
       "      <td>Meesho</td>\n",
       "      <td>E-commerce</td>\n",
       "      <td>SoftBank Vision Fund 2</td>\n",
       "      <td>300,000,000</td>\n",
       "      <td>Series E</td>\n",
       "      <td>05/04/2021</td>\n",
       "    </tr>\n",
       "    <tr>\n",
       "      <th>2</th>\n",
       "      <td>Swiggy</td>\n",
       "      <td>Online Food Delivery</td>\n",
       "      <td>Amansa Holdings, Carmignac, Falcon Edge Capita...</td>\n",
       "      <td>343,000,000</td>\n",
       "      <td>Series J</td>\n",
       "      <td>14/04/2021</td>\n",
       "    </tr>\n",
       "    <tr>\n",
       "      <th>3</th>\n",
       "      <td>Groww</td>\n",
       "      <td>FinTech</td>\n",
       "      <td>MC Global Edtech, B Capital, Baron, others</td>\n",
       "      <td>83,000,000</td>\n",
       "      <td>Series D</td>\n",
       "      <td>07/04/2021</td>\n",
       "    </tr>\n",
       "    <tr>\n",
       "      <th>4</th>\n",
       "      <td>Beldara</td>\n",
       "      <td>E-commerce</td>\n",
       "      <td>Hindustan Media Ventures</td>\n",
       "      <td>7,400,000</td>\n",
       "      <td>Venture</td>\n",
       "      <td>14/04/2021</td>\n",
       "    </tr>\n",
       "    <tr>\n",
       "      <th>...</th>\n",
       "      <td>...</td>\n",
       "      <td>...</td>\n",
       "      <td>...</td>\n",
       "      <td>...</td>\n",
       "      <td>...</td>\n",
       "      <td>...</td>\n",
       "    </tr>\n",
       "    <tr>\n",
       "      <th>387</th>\n",
       "      <td>zippserv</td>\n",
       "      <td>Consumer Internet</td>\n",
       "      <td>Info Edge (India) Ltd</td>\n",
       "      <td>440,000</td>\n",
       "      <td>Seed/ Angel Funding</td>\n",
       "      <td>09/07/2018</td>\n",
       "    </tr>\n",
       "    <tr>\n",
       "      <th>388</th>\n",
       "      <td>Groww</td>\n",
       "      <td>Consumer Internet</td>\n",
       "      <td>Insignia Ventures Partners, Lightbridge Partne...</td>\n",
       "      <td>1,100,000</td>\n",
       "      <td>Seed/ Angel Funding</td>\n",
       "      <td>09/07/2018</td>\n",
       "    </tr>\n",
       "    <tr>\n",
       "      <th>389</th>\n",
       "      <td>Avenue Growth</td>\n",
       "      <td>Consumer Internet</td>\n",
       "      <td>Avtar Monga, chief operating office at IDFC Ba...</td>\n",
       "      <td>437,000</td>\n",
       "      <td>Seed/ Angel Funding</td>\n",
       "      <td>10/07/2018</td>\n",
       "    </tr>\n",
       "    <tr>\n",
       "      <th>390</th>\n",
       "      <td>iNICU</td>\n",
       "      <td>Healthcare</td>\n",
       "      <td>Venture Catalysts</td>\n",
       "      <td>N/A</td>\n",
       "      <td>Seed/ Angel Funding</td>\n",
       "      <td>10/07/2018</td>\n",
       "    </tr>\n",
       "    <tr>\n",
       "      <th>391</th>\n",
       "      <td>Kinara Capital</td>\n",
       "      <td>Finance</td>\n",
       "      <td>ResponsAbility</td>\n",
       "      <td>5,000,000</td>\n",
       "      <td>Private Equity</td>\n",
       "      <td>10/07/2018</td>\n",
       "    </tr>\n",
       "  </tbody>\n",
       "</table>\n",
       "<p>392 rows × 6 columns</p>\n",
       "</div>"
      ],
      "text/plain": [
       "            Company              Industry  \\\n",
       "0            BYJU’S              Edu-tech   \n",
       "1            Meesho            E-commerce   \n",
       "2            Swiggy  Online Food Delivery   \n",
       "3             Groww               FinTech   \n",
       "4           Beldara            E-commerce   \n",
       "..              ...                   ...   \n",
       "387        zippserv     Consumer Internet   \n",
       "388           Groww     Consumer Internet   \n",
       "389   Avenue Growth     Consumer Internet   \n",
       "390           iNICU            Healthcare   \n",
       "391  Kinara Capital               Finance   \n",
       "\n",
       "                                         Investor_Name Amount Invested  \\\n",
       "0                                      Innoven Capital     460,000,000   \n",
       "1                               SoftBank Vision Fund 2     300,000,000   \n",
       "2    Amansa Holdings, Carmignac, Falcon Edge Capita...     343,000,000   \n",
       "3           MC Global Edtech, B Capital, Baron, others      83,000,000   \n",
       "4                             Hindustan Media Ventures       7,400,000   \n",
       "..                                                 ...             ...   \n",
       "387                              Info Edge (India) Ltd         440,000   \n",
       "388  Insignia Ventures Partners, Lightbridge Partne...       1,100,000   \n",
       "389  Avtar Monga, chief operating office at IDFC Ba...         437,000   \n",
       "390                                  Venture Catalysts             N/A   \n",
       "391                                     ResponsAbility       5,000,000   \n",
       "\n",
       "           Specification       Dates  \n",
       "0               Series F  01/04/2021  \n",
       "1               Series E  05/04/2021  \n",
       "2               Series J  14/04/2021  \n",
       "3               Series D  07/04/2021  \n",
       "4                Venture  14/04/2021  \n",
       "..                   ...         ...  \n",
       "387  Seed/ Angel Funding  09/07/2018  \n",
       "388  Seed/ Angel Funding  09/07/2018  \n",
       "389  Seed/ Angel Funding  10/07/2018  \n",
       "390  Seed/ Angel Funding  10/07/2018  \n",
       "391       Private Equity  10/07/2018  \n",
       "\n",
       "[392 rows x 6 columns]"
      ]
     },
     "execution_count": 58,
     "metadata": {},
     "output_type": "execute_result"
    }
   ],
   "source": [
    "Funding=pd.DataFrame([])\n",
    "Funding['Company']=Company\n",
    "Funding['Industry']=Industry\n",
    "Funding['Investor_Name']=Investor_Name\n",
    "Funding['Amount Invested']=Amount\n",
    "Funding['Specification']=Investment_Type\n",
    "Funding['Dates']=Dates\n",
    "Funding"
   ]
  },
  {
   "cell_type": "markdown",
   "id": "94abd12a",
   "metadata": {},
   "source": [
    "# 7. Write a program to scrap all the available details of best gaming laptops from digit.in."
   ]
  },
  {
   "cell_type": "code",
   "execution_count": 59,
   "id": "43b3fd01",
   "metadata": {},
   "outputs": [],
   "source": [
    "driver = webdriver.Chrome(r\"C:\\Users\\Toshiba\\chromedriver.exe\")\n",
    "driver = webdriver.Chrome(\"chromedriver.exe\")\n",
    "time.sleep(2)"
   ]
  },
  {
   "cell_type": "code",
   "execution_count": 60,
   "id": "a9f9918e",
   "metadata": {},
   "outputs": [],
   "source": [
    "\n",
    "url=\"https://www.digit.in/top-products/best-gaming-laptops-40.html\""
   ]
  },
  {
   "cell_type": "code",
   "execution_count": 61,
   "id": "87c2b46b",
   "metadata": {},
   "outputs": [],
   "source": [
    "\n",
    "driver.get(url)"
   ]
  },
  {
   "cell_type": "code",
   "execution_count": 62,
   "id": "d5d9e5c5",
   "metadata": {},
   "outputs": [],
   "source": [
    "Brands=[]\n",
    "Products_Description=[]\n",
    "Specification=[]\n",
    "Price=[]"
   ]
  },
  {
   "cell_type": "code",
   "execution_count": 63,
   "id": "9929a44d",
   "metadata": {},
   "outputs": [
    {
     "data": {
      "text/plain": [
       "10"
      ]
     },
     "execution_count": 63,
     "metadata": {},
     "output_type": "execute_result"
    }
   ],
   "source": [
    "br=driver.find_elements_by_xpath(\"//div[@class='TopNumbeHeading active sticky-footer']\")\n",
    "len(br)"
   ]
  },
  {
   "cell_type": "code",
   "execution_count": 64,
   "id": "6d050712",
   "metadata": {},
   "outputs": [
    {
     "data": {
      "text/plain": [
       "['1.MSI RAIDER GE76',\n",
       " '2.ASUS ROG STRIX SCAR 15',\n",
       " '3.ACER NITRO 5',\n",
       " '4.MSI STEALTH 15M',\n",
       " '5.ASUS ROG STRIX SCAR 15',\n",
       " '6.ASUS ROG STRIX SCAR 15',\n",
       " '7.ASUS ZEPHYRUS G14',\n",
       " '8.HP OMEN 16',\n",
       " '9.ASUS ROG ZEPHYRUS DUO 15',\n",
       " '10.ACER ASPIRE 7 GAMING LAPTOP']"
      ]
     },
     "execution_count": 64,
     "metadata": {},
     "output_type": "execute_result"
    }
   ],
   "source": [
    "for i in br:\n",
    "   \n",
    "    Brands.append(str(i.text).replace(\"\\n\",\"\"))\n",
    "Brands"
   ]
  },
  {
   "cell_type": "code",
   "execution_count": 65,
   "id": "66414724",
   "metadata": {},
   "outputs": [
    {
     "data": {
      "text/plain": [
       "10"
      ]
     },
     "execution_count": 65,
     "metadata": {},
     "output_type": "execute_result"
    }
   ],
   "source": [
    "sp=driver.find_elements_by_xpath(\"//div[@class='Specs-Wrap']\")\n",
    "len(sp)"
   ]
  },
  {
   "cell_type": "code",
   "execution_count": 66,
   "id": "ae8fed91",
   "metadata": {},
   "outputs": [
    {
     "data": {
      "text/plain": [
       "['OSWINDOWS 11 HOMEDISPLAY17\" (3840 X 2160)PROCESSOR12TH GEN INTEL CORE I9-12900HK | 5 GHZMEMORY2 TB SSD/16 GBGB DDR5',\n",
       " 'OSWINDOWS 11 HOMEDISPLAY15.6\" (2560 X 1440)PROCESSOR12TH GEN INTEL CORE I9-12900H | 2.5 GHZMEMORY2 TB SSD/32 GBGB DDR5',\n",
       " 'OSWINDOWS 10DISPLAY15.6\" (1920 X 1080)PROCESSORAMD RYZEN 9 OCTA CORE | 2.4 GHZMEMORY1 TB HDD/16 GBGB DDR4',\n",
       " 'OSWINDOWS 10DISPLAY15.6\" (1920 X 1080)PROCESSORINTEL CORE I7 11TH GEN - 11375H | NAMEMORY1 TB SSD/16 GBGB DDR4',\n",
       " 'OSWINDOWS 10DISPLAY15.6\" (2560 X 1440)PROCESSORAMD RYZEN 9 OCTA CORE - 5900HX | 3.3 GHZMEMORY2 TB SSD/32 GBGB DDR4',\n",
       " 'OSWINDOWS 10 HOMEDISPLAY15.6\" (1920 X 1080)PROCESSORAMD RYZEN™ 9 5900HX | 3.3 GHZMEMORY1 TB SSD/16 GBGB DDR4',\n",
       " 'OSWINDOWS 10 HOMEDISPLAY14\" (1920 X 1080)PROCESSORAMD 3RD GEN RYZEN 9 | 3.3 GHZMEMORY1 TB SSD/16 GBGB DDR4',\n",
       " 'OSWINDOWS 11 HOMEDISPLAY16.1\" (1920 X 1080)PROCESSOR12TH GEN INTEL CORE I7-12700H | 4.7 GHZMEMORY1 TB SSD/16 GBGB DDR4',\n",
       " 'OSWINDOWS 10DISPLAY15.6\" (3840 X 1100)PROCESSORINTEL CORE I7 10TH GEN 10875H | NAMEMORY512 GB SSD/4 GBGB DDR4',\n",
       " 'OSWINDOWS 10 HOMEDISPLAY15.6\" (1920 X 1080)PROCESSORAMD RYZEN™ 5-5500U HEXA-CORE | NAMEMORY512 GB SSD/8 GBGB DDR4']"
      ]
     },
     "execution_count": 66,
     "metadata": {},
     "output_type": "execute_result"
    }
   ],
   "source": [
    "for i in sp:\n",
    "   \n",
    "    Specification.append(str(i.text).replace(\"\\n\",\"\"))\n",
    "Specification"
   ]
  },
  {
   "cell_type": "code",
   "execution_count": 67,
   "id": "78102184",
   "metadata": {},
   "outputs": [
    {
     "data": {
      "text/plain": [
       "10"
      ]
     },
     "execution_count": 67,
     "metadata": {},
     "output_type": "execute_result"
    }
   ],
   "source": [
    "des=driver.find_elements_by_xpath(\"//div[@class='Section-center']\")\n",
    "len(des)"
   ]
  },
  {
   "cell_type": "code",
   "execution_count": 68,
   "id": "ecda8d53",
   "metadata": {},
   "outputs": [
    {
     "data": {
      "text/plain": [
       "['Possibly the most high-end gaming laptop anyone can buy is the MSI Raider GTE76 2022 edition. Last year’s model was impressive that it won the Digit Zero 1 award for the best gaming laptop bar none. The current year model is no different either. It comes with an Intel 12th Gen Core i9-12900HK chip, which is a 14-core, 20-thread CPU. It is probably the most powerful processor in a laptop at the time of writing this article. It is paired with an equally capable Nvidia GeForce RTX 3080 Ti with 16GB GDDR6 VRAM featuring 175W TGP. The laptop also features 32GB DDR5 memory running in Quad-channel mode. To top it all off, the MSI Raider GE76 also comes equipped with a 2TB NVMe PCIe Gen 4 SSD to load all your files and games in an instant. If you have the budget, then the MSI Raider GE76 stands top of the list of the best gaming laptops and it’ll do so probably for a while now.SPECIFICATIONOS : Windows 11 HomeDisplay : 17\" (3840 x 2160)Processor : 12th Gen Intel Core i9-12900HK | 5 GHzMemory : 2 TB SSD/16 GBGB DDR5Weight : 2.9Dimension : 397 x 284 x 26Graphics Processor : NVIDIA GeForce RTX 3080TiAVAILABLE ₹ 429,940BUY NOWBUY ON EMI ₹ 71,656/MONTHGET EMI*0% Interest*0 Down Payment*No Processing Fee',\n",
       " 'The second high-end gaming laptop on the list is the ASUS ROG Strix Scar 15 featuring an Intel 12th Gen Core i9-12900H CPU and an Nvidia RTX 3080 Ti GPU. The Intel chip is a little slower than the Core i9-12900HK mostly in multicore performance, but in most applications, the user will hardly notice a major difference. Both, the Intel Core i9-12900HK and the i9-12900H can hit the 5.00GHz boost clock, which is also a good thing. The top gaming laptop features an Nvidia RTX 3080 Ti GPU with 16GB GDDR6 VRAM and 150W TGP. The ASUS ROG Strix Scar 15 also features 32GB DDR5 memory running in quad-channel mode. For easy and fast access to all your files, the ASUS ROG Strix Scar 15 comes equipped with a PCI Gen 4 SSD as well. Overall, it is one of the top gaming laptops in India that money can buy.SPECIFICATIONOS : Windows 11 HomeDisplay : 15.6\" (2560 x 1440)Processor : 12th Gen Intel Core i9-12900H | 2.5 GHzMemory : 2 TB SSD/32 GBGB DDR5Weight : 2.3Dimension : 259 x 354 x 27Graphics Processor : NVIDIA GeForce RTX 3070 TiAVAILABLE ₹ 285,390BUY NOWBUY ON EMI ₹ 47,565/MONTHGET EMI*0% Interest*0 Down Payment*No Processing Fee',\n",
       " 'Possibly the best value-for-money gaming laptop on the market, the Acer Nitro 5 checks all the right boxes. It features an ultra-fast Ryzen 9 Octa-Core processor paired with an RTX 3070 GPU. The high-end gaming laptop comes with 16GB RAM, 256GB SSD, 1TB SSD and a 15.6-inch FHD display.SPECIFICATIONOS : Windows 10Display : 15.6\" (1920 x 1080)Processor : AMD Ryzen 9 Octa Core | 2.4 GHzMemory : 1 TB HDD/16 GBGB DDR4Weight : 2.4Dimension : 363.4 x 255 x 23.9Graphics Processor : NVIDIA GeForce RTX 3070AVAILABLE ₹ 129,990BUY NOWBUY ON EMI ₹ 21,665/MONTHGET EMI*0% Interest*0 Down Payment*No Processing Fee',\n",
       " 'If you’re looking for a powerful gaming laptop that is also portable then MSI Stealth 15M is the one for you. It strikes a great balance between form factor and performance thanks to the 11th Gen Core i7 processor, RTX 3060 GPU, 16GB RAM, and 1TB SSD. On top of that, the high-end gaming laptop looks very sleek.SPECIFICATIONOS : Windows 10Display : 15.6\" (1920 x 1080)Processor : Intel Core i7 11th Gen - 11375H | NAMemory : 1 TB SSD/16 GBGB DDR4Weight : 1.7Dimension : 358.3 x 248 x 16.15Graphics Processor : NVIDIA GeForce RTX 3060AVAILABLE ₹ 134,990BUY NOWBUY ON EMI ₹ 22,498/MONTHGET EMI*0% Interest*0 Down Payment*No Processing Fee',\n",
       " 'If you want possibly the best performance possible on a gaming laptop that’s not Alienware then ASUS ROG Strix Scar 15 should fir the bill. It’s on the list of the best gaming laptops thanks to a superfast Ryzen 9 5900HX processor, an Nvidia RTX 3080 GPU, 32GB RAM, and 2TB SSD. The laptop is a super-charged machine capable of delivering high performance in all modern tasks.SPECIFICATIONOS : Windows 10Display : 15.6\" (2560 x 1440)Processor : AMD Ryzen 9 Octa Core - 5900HX | 3.3 GHzMemory : 2 TB SSD/32 GBGB DDR4Weight : 2.30Dimension : 354 x 259 x 22.6Graphics Processor : NVIDIA GeForce RTX 3080AVAILABLE ₹ 268,990BUY NOWOUT OF STOCK ₹ 193,990BUY NOWBUY ON EMI ₹ 32,331/MONTHGET EMI*0% Interest*0 Down Payment*No Processing Fee',\n",
       " 'When the ASUS ROG Strix Scar 15 ended up on our test bench, we immediately knew it was overkill. But you know what? It\\'s a good kind of overkill. ASUS\\' annual upgrade to the Scar lineup saw some significant changes this year and we like most of them. The Asus ROG Strix Scar 15 comes with up to AMD Ryzen 9 5900HX and Nvidia GeForce RTX 3080. The laptop also features per-key RGB on its opto-mechanical keyboard. The new Scar laptops also have a slightly new design, making them look a little different from the older ones. It\\'s also worth pointing out that the laptop comes with a 15.6-inch 1440p display with a refresh rate of 165Hz.Pros1440p, 165Hz display is great for gaming.Impressive performance beyond just gaming.On-board speakers are loud and good.ConsTends to run hot, but doesn\\'t throttle.No game leveraged 16GB VRAM on the Nvidia GeForce RTX 3080.SPECIFICATIONOS : Windows 10 HomeDisplay : 15.6\" (1920 x 1080)Processor : AMD Ryzen™ 9 5900HX | 3.3 GHzMemory : 1 TB SSD/16 GBGB DDR4Weight : 2.30Dimension : 35.4 x 25.9 x 2.26Graphics Processor : NVIDIA® GeForce RTX™ 3070AVAILABLE ₹ 215,990BUY NOWBUY ON EMI ₹ 35,998/MONTHGET EMI*0% Interest*0 Down Payment*No Processing Fee',\n",
       " 'The Asus Zephyrus G14 is a first-of-its-kind gaming laptop, featuring a high-power 8-core CPU in a 14-inch chassis. Powered by the AMD Ryzen 4000 series processors going all the way up to Ryzen 9 4900HS and an Nvidia GeForce RTX 2060, the AMD Zephyrus G14 is a perfect laptop for those kinds of people who like to game and create, but put a priority on doing so using a light-weight machine.ProsImpressive performance for the form-factor.Anime Matrix display is a very well implemented gimmick.Truly one-of-a-kind machine at the moment.ConsHeat makes the keyboard unusable.Uses a mid-range SSD.No Pg Up or Pg Dn keysSPECIFICATIONOS : Windows 10 HomeDisplay : 14\" (1920 x 1080)Processor : AMD 3rd Gen Ryzen 9 | 3.3 GHzMemory : 1 TB SSD/16 GBGB DDR4Weight : 1.65Dimension : 32.5 x 22.1 x 1.8Graphics Processor : NVIDIA GeForce RTX 2060AVAILABLE ₹ 164,990BUY NOWOUT OF STOCK ₹ 144,990BUY NOWBUY ON EMI ₹ 24,165/MONTHGET EMI*0% Interest*0 Down Payment*No Processing Fee',\n",
       " 'It is difficult to find a laptop that offers a good mixture of high specifications, good thermal performance, and a decent price tag. HP Omen 16 is probably one of the laptops that offer all these things in a great overall package. The gaming laptop is powered by an Intel Core i7-12700H an 14-core 20-thread processor capable of delivering up to 4.70GHz of maximum clock speed with Intel Turbo boost technology. The powerful CPU is paired with an Nvidia RTX 3060 GPU with 6GB GDDR6 VRAM, to deliver high performance while gaming. To further take advantage of these two chips, the HP Omen 16 gaming laptop also comes with a 16.1-inch 1080p display with support for up to 144Hz maximum refresh rate so the user can play all the modern gaming titles at a high refresh rate. For memory and storage, the HP Omen 16 comes with 16GB DDR5 memory running in quad-channel mode and 1TB PCIe NVMe M.2 SSD, making the laptop easily capable of handling games and other resource-heavy applications.SPECIFICATIONOS : Windows 11 HomeDisplay : 16.1\" (1920 x 1080)Processor : 12th Gen Intel Core i7-12700H | 4.7 GHzMemory : 1 TB SSD/16 GBGB DDR4Weight : 2.32Dimension : 36.92 x 24.8 x 2.3Graphics Processor : NVIDIA GeForce RTX 3060AVAILABLE ₹ 139,990BUY NOWAVAILABLE ₹ 145,999BUY NOWBUY ON EMI ₹ 23,331/MONTHGET EMI*0% Interest*0 Down Payment*No Processing Fee',\n",
       " 'The machine is powered by an Intel Core i7-10875H processor, offering 8 cores and 16 threads. So, you can leave behind all your concerns around the CPU bottlenecking the overall performance during gaming. With an Nvidia GeForce RTX 2070 Max-Q, this laptop can manage pretty much anything game you throw at it and then some more. The star of the show however is the awesome 300Hz refresh rate capable, 1080p IPS panel on this gaming laptop. Yes, you read that correctly, 300Hz, which means you can get silky smooth, brag-worthy 300FPS on e-sports centric games on this machine.SPECIFICATIONOS : Windows 10Display : 15.6\" (3840 x 1100)Processor : Intel Core i7 10th Gen 10875H | NAMemory : 512 GB SSD/4 GBGB DDR4Weight : 2.4Dimension : 268.30 x 360.00 x 20.90Graphics Processor : NVIDIA GeForce RTX 2070 Max-QAVAILABLE ₹ 185,000BUY NOWBUY ON EMI ₹ 30,833/MONTHGET EMI*0% Interest*0 Down Payment*No Processing Fee',\n",
       " 'The Acer Aspire 7 gaming laptop is a very capable laptop that has made it to a lot of our recommendation lists. It costs less than Rs 60,000 but it packs a decent set of internals that should be enough to handle your gaming needs. The laptop even managed to run a lot of modern AAA titles without any issues even though it only has a GTX 1650 GPU. The Ryzen 5 5500U processor inside this laptop runs the show flawlessly. It also has a really good battery life, something that often goes missing when it comes to gaming laptops. You can check out our review of the laptop right here.ProsUnderstated designGreat performance with AMD Ryzen 5 5500UExcellent battery lifeGood port selectionConsHighly uncalibrated displayThe speakers could have been betterSPECIFICATIONOS : Windows 10 HomeDisplay : 15.6\" (1920 x 1080)Processor : AMD Ryzen™ 5-5500U hexa-core | NAMemory : 512 GB SSD/8 GBGB DDR4Weight : 2.15Dimension : 2.29 x 36.3 x 25.4Graphics Processor : NVIDIA® GeForce® GTX 1650OUT OF STOCK ₹ 53,490BUY NOWBUY ON EMI ₹ 8,915/MONTHGET EMI*0% Interest*0 Down Payment*No Processing Fee']"
      ]
     },
     "execution_count": 68,
     "metadata": {},
     "output_type": "execute_result"
    }
   ],
   "source": [
    "for i in des:\n",
    "   \n",
    "    Products_Description.append(str(i.text).replace(\"\\n\",\"\"))\n",
    "Products_Description"
   ]
  },
  {
   "cell_type": "code",
   "execution_count": 69,
   "id": "30e93afa",
   "metadata": {},
   "outputs": [
    {
     "data": {
      "text/plain": [
       "10"
      ]
     },
     "execution_count": 69,
     "metadata": {},
     "output_type": "execute_result"
    }
   ],
   "source": [
    "pri=driver.find_elements_by_xpath(\"//td[@class='smprice']\")\n",
    "len(pri)"
   ]
  },
  {
   "cell_type": "code",
   "execution_count": 70,
   "id": "971d1498",
   "metadata": {},
   "outputs": [
    {
     "data": {
      "text/plain": [
       "['₹ 429,940',\n",
       " '₹ 285,390',\n",
       " '₹ 129,990',\n",
       " '₹ 134,990',\n",
       " '₹ 193,990',\n",
       " '₹ 215,990',\n",
       " '₹ 144,990',\n",
       " '₹ 139,990',\n",
       " '₹ 185,000',\n",
       " '₹ 53,490']"
      ]
     },
     "execution_count": 70,
     "metadata": {},
     "output_type": "execute_result"
    }
   ],
   "source": [
    "for i in pri:\n",
    "   \n",
    "    Price.append(str(i.text).replace(\"\\n\",\"\"))\n",
    "Price"
   ]
  },
  {
   "cell_type": "code",
   "execution_count": 71,
   "id": "3be13342",
   "metadata": {},
   "outputs": [
    {
     "data": {
      "text/html": [
       "<div>\n",
       "<style scoped>\n",
       "    .dataframe tbody tr th:only-of-type {\n",
       "        vertical-align: middle;\n",
       "    }\n",
       "\n",
       "    .dataframe tbody tr th {\n",
       "        vertical-align: top;\n",
       "    }\n",
       "\n",
       "    .dataframe thead th {\n",
       "        text-align: right;\n",
       "    }\n",
       "</style>\n",
       "<table border=\"1\" class=\"dataframe\">\n",
       "  <thead>\n",
       "    <tr style=\"text-align: right;\">\n",
       "      <th></th>\n",
       "      <th>Brands</th>\n",
       "      <th>Price</th>\n",
       "      <th>Specification</th>\n",
       "      <th>Description</th>\n",
       "    </tr>\n",
       "  </thead>\n",
       "  <tbody>\n",
       "    <tr>\n",
       "      <th>0</th>\n",
       "      <td>1.MSI RAIDER GE76</td>\n",
       "      <td>₹ 429,940</td>\n",
       "      <td>OSWINDOWS 11 HOMEDISPLAY17\" (3840 X 2160)PROCE...</td>\n",
       "      <td>Possibly the most high-end gaming laptop anyon...</td>\n",
       "    </tr>\n",
       "    <tr>\n",
       "      <th>1</th>\n",
       "      <td>2.ASUS ROG STRIX SCAR 15</td>\n",
       "      <td>₹ 285,390</td>\n",
       "      <td>OSWINDOWS 11 HOMEDISPLAY15.6\" (2560 X 1440)PRO...</td>\n",
       "      <td>The second high-end gaming laptop on the list ...</td>\n",
       "    </tr>\n",
       "    <tr>\n",
       "      <th>2</th>\n",
       "      <td>3.ACER NITRO 5</td>\n",
       "      <td>₹ 129,990</td>\n",
       "      <td>OSWINDOWS 10DISPLAY15.6\" (1920 X 1080)PROCESSO...</td>\n",
       "      <td>Possibly the best value-for-money gaming lapto...</td>\n",
       "    </tr>\n",
       "    <tr>\n",
       "      <th>3</th>\n",
       "      <td>4.MSI STEALTH 15M</td>\n",
       "      <td>₹ 134,990</td>\n",
       "      <td>OSWINDOWS 10DISPLAY15.6\" (1920 X 1080)PROCESSO...</td>\n",
       "      <td>If you’re looking for a powerful gaming laptop...</td>\n",
       "    </tr>\n",
       "    <tr>\n",
       "      <th>4</th>\n",
       "      <td>5.ASUS ROG STRIX SCAR 15</td>\n",
       "      <td>₹ 193,990</td>\n",
       "      <td>OSWINDOWS 10DISPLAY15.6\" (2560 X 1440)PROCESSO...</td>\n",
       "      <td>If you want possibly the best performance poss...</td>\n",
       "    </tr>\n",
       "    <tr>\n",
       "      <th>5</th>\n",
       "      <td>6.ASUS ROG STRIX SCAR 15</td>\n",
       "      <td>₹ 215,990</td>\n",
       "      <td>OSWINDOWS 10 HOMEDISPLAY15.6\" (1920 X 1080)PRO...</td>\n",
       "      <td>When the ASUS ROG Strix Scar 15 ended up on ou...</td>\n",
       "    </tr>\n",
       "    <tr>\n",
       "      <th>6</th>\n",
       "      <td>7.ASUS ZEPHYRUS G14</td>\n",
       "      <td>₹ 144,990</td>\n",
       "      <td>OSWINDOWS 10 HOMEDISPLAY14\" (1920 X 1080)PROCE...</td>\n",
       "      <td>The Asus Zephyrus G14 is a first-of-its-kind g...</td>\n",
       "    </tr>\n",
       "    <tr>\n",
       "      <th>7</th>\n",
       "      <td>8.HP OMEN 16</td>\n",
       "      <td>₹ 139,990</td>\n",
       "      <td>OSWINDOWS 11 HOMEDISPLAY16.1\" (1920 X 1080)PRO...</td>\n",
       "      <td>It is difficult to find a laptop that offers a...</td>\n",
       "    </tr>\n",
       "    <tr>\n",
       "      <th>8</th>\n",
       "      <td>9.ASUS ROG ZEPHYRUS DUO 15</td>\n",
       "      <td>₹ 185,000</td>\n",
       "      <td>OSWINDOWS 10DISPLAY15.6\" (3840 X 1100)PROCESSO...</td>\n",
       "      <td>The machine is powered by an Intel Core i7-108...</td>\n",
       "    </tr>\n",
       "    <tr>\n",
       "      <th>9</th>\n",
       "      <td>10.ACER ASPIRE 7 GAMING LAPTOP</td>\n",
       "      <td>₹ 53,490</td>\n",
       "      <td>OSWINDOWS 10 HOMEDISPLAY15.6\" (1920 X 1080)PRO...</td>\n",
       "      <td>The Acer Aspire 7 gaming laptop is a very capa...</td>\n",
       "    </tr>\n",
       "  </tbody>\n",
       "</table>\n",
       "</div>"
      ],
      "text/plain": [
       "                           Brands      Price  \\\n",
       "0               1.MSI RAIDER GE76  ₹ 429,940   \n",
       "1        2.ASUS ROG STRIX SCAR 15  ₹ 285,390   \n",
       "2                  3.ACER NITRO 5  ₹ 129,990   \n",
       "3               4.MSI STEALTH 15M  ₹ 134,990   \n",
       "4        5.ASUS ROG STRIX SCAR 15  ₹ 193,990   \n",
       "5        6.ASUS ROG STRIX SCAR 15  ₹ 215,990   \n",
       "6             7.ASUS ZEPHYRUS G14  ₹ 144,990   \n",
       "7                    8.HP OMEN 16  ₹ 139,990   \n",
       "8      9.ASUS ROG ZEPHYRUS DUO 15  ₹ 185,000   \n",
       "9  10.ACER ASPIRE 7 GAMING LAPTOP   ₹ 53,490   \n",
       "\n",
       "                                       Specification  \\\n",
       "0  OSWINDOWS 11 HOMEDISPLAY17\" (3840 X 2160)PROCE...   \n",
       "1  OSWINDOWS 11 HOMEDISPLAY15.6\" (2560 X 1440)PRO...   \n",
       "2  OSWINDOWS 10DISPLAY15.6\" (1920 X 1080)PROCESSO...   \n",
       "3  OSWINDOWS 10DISPLAY15.6\" (1920 X 1080)PROCESSO...   \n",
       "4  OSWINDOWS 10DISPLAY15.6\" (2560 X 1440)PROCESSO...   \n",
       "5  OSWINDOWS 10 HOMEDISPLAY15.6\" (1920 X 1080)PRO...   \n",
       "6  OSWINDOWS 10 HOMEDISPLAY14\" (1920 X 1080)PROCE...   \n",
       "7  OSWINDOWS 11 HOMEDISPLAY16.1\" (1920 X 1080)PRO...   \n",
       "8  OSWINDOWS 10DISPLAY15.6\" (3840 X 1100)PROCESSO...   \n",
       "9  OSWINDOWS 10 HOMEDISPLAY15.6\" (1920 X 1080)PRO...   \n",
       "\n",
       "                                         Description  \n",
       "0  Possibly the most high-end gaming laptop anyon...  \n",
       "1  The second high-end gaming laptop on the list ...  \n",
       "2  Possibly the best value-for-money gaming lapto...  \n",
       "3  If you’re looking for a powerful gaming laptop...  \n",
       "4  If you want possibly the best performance poss...  \n",
       "5  When the ASUS ROG Strix Scar 15 ended up on ou...  \n",
       "6  The Asus Zephyrus G14 is a first-of-its-kind g...  \n",
       "7  It is difficult to find a laptop that offers a...  \n",
       "8  The machine is powered by an Intel Core i7-108...  \n",
       "9  The Acer Aspire 7 gaming laptop is a very capa...  "
      ]
     },
     "execution_count": 71,
     "metadata": {},
     "output_type": "execute_result"
    }
   ],
   "source": [
    "\n",
    "digit_lap=pd.DataFrame([])\n",
    "digit_lap['Brands']=Brands[0:10]\n",
    "digit_lap['Price']=Price[0:10]\n",
    "digit_lap['Specification']=Specification[0:10]\n",
    "digit_lap['Description']=Products_Description[0:10]\n",
    "digit_lap"
   ]
  },
  {
   "cell_type": "code",
   "execution_count": null,
   "id": "924e2d35",
   "metadata": {},
   "outputs": [],
   "source": []
  }
 ],
 "metadata": {
  "kernelspec": {
   "display_name": "Python 3 (ipykernel)",
   "language": "python",
   "name": "python3"
  },
  "language_info": {
   "codemirror_mode": {
    "name": "ipython",
    "version": 3
   },
   "file_extension": ".py",
   "mimetype": "text/x-python",
   "name": "python",
   "nbconvert_exporter": "python",
   "pygments_lexer": "ipython3",
   "version": "3.9.7"
  }
 },
 "nbformat": 4,
 "nbformat_minor": 5
}

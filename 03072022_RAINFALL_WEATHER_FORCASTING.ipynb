{
 "cells": [
  {
   "cell_type": "markdown",
   "id": "239fb1dd",
   "metadata": {},
   "source": [
    "# Rainfall Prediction - Weather Forecasting"
   ]
  },
  {
   "cell_type": "markdown",
   "id": "a4da231c",
   "metadata": {},
   "source": [
    "Rain Prediction –Weather forecasting\n",
    "\n",
    "Weather forecasting is the application of science and technology to predict the conditions of the atmosphere for a given location and time. Weather forecasts are made by collecting quantitative data about the current state of the atmosphere at a given place and using meteorology to project how the atmosphere will change."
   ]
  },
  {
   "cell_type": "markdown",
   "id": "9b2d288b",
   "metadata": {},
   "source": [
    "Rain Dataset is to predict whether or not it will rain tomorrow. The Dataset contains about 10 years of daily weather observations of different locations in Australia. Here, predict two things:"
   ]
  },
  {
   "cell_type": "markdown",
   "id": "a7265e8a",
   "metadata": {},
   "source": [
    "1. Problem Statement: \n",
    "a) Design a predictive model with the use of machine learning algorithms to forecast whether or not it will rain tomorrow.\n",
    "\n",
    "b)  Design a predictive model with the use of machine learning algorithms to predict how much rainfall could be there.\n",
    "\n",
    "\n",
    "Dataset Description:\n",
    "\n",
    "Number of columns: 23\n",
    "\n",
    "\n",
    "Date  - The date of observation\n",
    "\n",
    "Location  -The common name of the location of the weather station\n",
    "\n",
    "MinTemp  -The minimum temperature in degrees celsius\n",
    "\n",
    "MaxTemp -The maximum temperature in degrees celsius\n",
    "\n",
    "Rainfall  -The amount of rainfall recorded for the day in mm\n",
    "\n",
    "Evaporation  -The so-called Class A pan evaporation (mm) in the 24 hours to 9am\n",
    "\n",
    "Sunshine  -The number of hours of bright sunshine in the day.\n",
    "\n",
    "WindGustDi r- The direction of the strongest wind gust in the 24 hours to midnight\n",
    "\n",
    "WindGustSpeed -The speed (km/h) of the strongest wind gust in the 24 hours to midnight\n",
    "\n",
    "WindDir9am -Direction of the wind at 9am\n",
    "\n",
    "WindDir3pm -Direction of the wind at 3pm\n",
    "\n",
    "WindSpeed9am -Wind speed (km/hr) averaged over 10 minutes prior to 9am\n",
    "\n",
    "WindSpeed3pm -Wind speed (km/hr) averaged over 10 minutes prior to 3pm\n",
    "\n",
    "Humidity9am -Humidity (percent) at 9am\n",
    "\n",
    "Humidity3pm -Humidity (percent) at 3pm\n",
    "\n",
    "Pressure9am -Atmospheric pressure (hpa) reduced to mean sea level at 9am\n",
    "\n",
    "Pressure3pm -Atmospheric pressure (hpa) reduced to mean sea level at 3pm\n",
    "\n",
    "Cloud9am - Fraction of sky obscured by cloud at 9am. \n",
    "\n",
    "Cloud3pm -Fraction of sky obscured by cloud \n",
    "\n",
    "Temp9am-Temperature (degrees C) at 9am\n",
    "\n",
    "Temp3pm -Temperature (degrees C) at 3pm\n",
    "\n",
    "RainToday -Boolean: 1 if precipitation (mm) in the 24 hours to 9am exceeds 1mm, otherwise 0\n",
    "\n",
    "RainTomorrow -The amount of next day rain in mm. Used to create response variable . A kind of measure of the \"risk\".\n",
    "\n"
   ]
  },
  {
   "cell_type": "markdown",
   "id": "c54e8c6f",
   "metadata": {},
   "source": [
    "# Importing some required library"
   ]
  },
  {
   "cell_type": "code",
   "execution_count": 1,
   "id": "ad771956",
   "metadata": {},
   "outputs": [],
   "source": [
    "## import all necessary library\n",
    "import pandas as pd\n",
    "import numpy as np\n",
    "import seaborn as sns\n",
    "import matplotlib.pyplot as plt\n",
    "import warnings\n",
    "warnings.filterwarnings('ignore')"
   ]
  },
  {
   "cell_type": "markdown",
   "id": "4a7e20f8",
   "metadata": {},
   "source": [
    "# Loading the dataset"
   ]
  },
  {
   "cell_type": "code",
   "execution_count": 2,
   "id": "c8f5f822",
   "metadata": {},
   "outputs": [],
   "source": [
    "df=pd.read_csv('weatherAUS.csv')"
   ]
  },
  {
   "cell_type": "code",
   "execution_count": 3,
   "id": "85c370a1",
   "metadata": {},
   "outputs": [
    {
     "data": {
      "text/html": [
       "<div>\n",
       "<style scoped>\n",
       "    .dataframe tbody tr th:only-of-type {\n",
       "        vertical-align: middle;\n",
       "    }\n",
       "\n",
       "    .dataframe tbody tr th {\n",
       "        vertical-align: top;\n",
       "    }\n",
       "\n",
       "    .dataframe thead th {\n",
       "        text-align: right;\n",
       "    }\n",
       "</style>\n",
       "<table border=\"1\" class=\"dataframe\">\n",
       "  <thead>\n",
       "    <tr style=\"text-align: right;\">\n",
       "      <th></th>\n",
       "      <th>Date</th>\n",
       "      <th>Location</th>\n",
       "      <th>MinTemp</th>\n",
       "      <th>MaxTemp</th>\n",
       "      <th>Rainfall</th>\n",
       "      <th>Evaporation</th>\n",
       "      <th>Sunshine</th>\n",
       "      <th>WindGustDir</th>\n",
       "      <th>WindGustSpeed</th>\n",
       "      <th>WindDir9am</th>\n",
       "      <th>...</th>\n",
       "      <th>Humidity9am</th>\n",
       "      <th>Humidity3pm</th>\n",
       "      <th>Pressure9am</th>\n",
       "      <th>Pressure3pm</th>\n",
       "      <th>Cloud9am</th>\n",
       "      <th>Cloud3pm</th>\n",
       "      <th>Temp9am</th>\n",
       "      <th>Temp3pm</th>\n",
       "      <th>RainToday</th>\n",
       "      <th>RainTomorrow</th>\n",
       "    </tr>\n",
       "  </thead>\n",
       "  <tbody>\n",
       "    <tr>\n",
       "      <th>0</th>\n",
       "      <td>2008-12-01</td>\n",
       "      <td>Albury</td>\n",
       "      <td>13.4</td>\n",
       "      <td>22.9</td>\n",
       "      <td>0.6</td>\n",
       "      <td>NaN</td>\n",
       "      <td>NaN</td>\n",
       "      <td>W</td>\n",
       "      <td>44.0</td>\n",
       "      <td>W</td>\n",
       "      <td>...</td>\n",
       "      <td>71.0</td>\n",
       "      <td>22.0</td>\n",
       "      <td>1007.7</td>\n",
       "      <td>1007.1</td>\n",
       "      <td>8.0</td>\n",
       "      <td>NaN</td>\n",
       "      <td>16.9</td>\n",
       "      <td>21.8</td>\n",
       "      <td>No</td>\n",
       "      <td>No</td>\n",
       "    </tr>\n",
       "    <tr>\n",
       "      <th>1</th>\n",
       "      <td>2008-12-02</td>\n",
       "      <td>Albury</td>\n",
       "      <td>7.4</td>\n",
       "      <td>25.1</td>\n",
       "      <td>0.0</td>\n",
       "      <td>NaN</td>\n",
       "      <td>NaN</td>\n",
       "      <td>WNW</td>\n",
       "      <td>44.0</td>\n",
       "      <td>NNW</td>\n",
       "      <td>...</td>\n",
       "      <td>44.0</td>\n",
       "      <td>25.0</td>\n",
       "      <td>1010.6</td>\n",
       "      <td>1007.8</td>\n",
       "      <td>NaN</td>\n",
       "      <td>NaN</td>\n",
       "      <td>17.2</td>\n",
       "      <td>24.3</td>\n",
       "      <td>No</td>\n",
       "      <td>No</td>\n",
       "    </tr>\n",
       "    <tr>\n",
       "      <th>2</th>\n",
       "      <td>2008-12-03</td>\n",
       "      <td>Albury</td>\n",
       "      <td>12.9</td>\n",
       "      <td>25.7</td>\n",
       "      <td>0.0</td>\n",
       "      <td>NaN</td>\n",
       "      <td>NaN</td>\n",
       "      <td>WSW</td>\n",
       "      <td>46.0</td>\n",
       "      <td>W</td>\n",
       "      <td>...</td>\n",
       "      <td>38.0</td>\n",
       "      <td>30.0</td>\n",
       "      <td>1007.6</td>\n",
       "      <td>1008.7</td>\n",
       "      <td>NaN</td>\n",
       "      <td>2.0</td>\n",
       "      <td>21.0</td>\n",
       "      <td>23.2</td>\n",
       "      <td>No</td>\n",
       "      <td>No</td>\n",
       "    </tr>\n",
       "    <tr>\n",
       "      <th>3</th>\n",
       "      <td>2008-12-04</td>\n",
       "      <td>Albury</td>\n",
       "      <td>9.2</td>\n",
       "      <td>28.0</td>\n",
       "      <td>0.0</td>\n",
       "      <td>NaN</td>\n",
       "      <td>NaN</td>\n",
       "      <td>NE</td>\n",
       "      <td>24.0</td>\n",
       "      <td>SE</td>\n",
       "      <td>...</td>\n",
       "      <td>45.0</td>\n",
       "      <td>16.0</td>\n",
       "      <td>1017.6</td>\n",
       "      <td>1012.8</td>\n",
       "      <td>NaN</td>\n",
       "      <td>NaN</td>\n",
       "      <td>18.1</td>\n",
       "      <td>26.5</td>\n",
       "      <td>No</td>\n",
       "      <td>No</td>\n",
       "    </tr>\n",
       "    <tr>\n",
       "      <th>4</th>\n",
       "      <td>2008-12-05</td>\n",
       "      <td>Albury</td>\n",
       "      <td>17.5</td>\n",
       "      <td>32.3</td>\n",
       "      <td>1.0</td>\n",
       "      <td>NaN</td>\n",
       "      <td>NaN</td>\n",
       "      <td>W</td>\n",
       "      <td>41.0</td>\n",
       "      <td>ENE</td>\n",
       "      <td>...</td>\n",
       "      <td>82.0</td>\n",
       "      <td>33.0</td>\n",
       "      <td>1010.8</td>\n",
       "      <td>1006.0</td>\n",
       "      <td>7.0</td>\n",
       "      <td>8.0</td>\n",
       "      <td>17.8</td>\n",
       "      <td>29.7</td>\n",
       "      <td>No</td>\n",
       "      <td>No</td>\n",
       "    </tr>\n",
       "    <tr>\n",
       "      <th>...</th>\n",
       "      <td>...</td>\n",
       "      <td>...</td>\n",
       "      <td>...</td>\n",
       "      <td>...</td>\n",
       "      <td>...</td>\n",
       "      <td>...</td>\n",
       "      <td>...</td>\n",
       "      <td>...</td>\n",
       "      <td>...</td>\n",
       "      <td>...</td>\n",
       "      <td>...</td>\n",
       "      <td>...</td>\n",
       "      <td>...</td>\n",
       "      <td>...</td>\n",
       "      <td>...</td>\n",
       "      <td>...</td>\n",
       "      <td>...</td>\n",
       "      <td>...</td>\n",
       "      <td>...</td>\n",
       "      <td>...</td>\n",
       "      <td>...</td>\n",
       "    </tr>\n",
       "    <tr>\n",
       "      <th>8420</th>\n",
       "      <td>2017-06-21</td>\n",
       "      <td>Uluru</td>\n",
       "      <td>2.8</td>\n",
       "      <td>23.4</td>\n",
       "      <td>0.0</td>\n",
       "      <td>NaN</td>\n",
       "      <td>NaN</td>\n",
       "      <td>E</td>\n",
       "      <td>31.0</td>\n",
       "      <td>SE</td>\n",
       "      <td>...</td>\n",
       "      <td>51.0</td>\n",
       "      <td>24.0</td>\n",
       "      <td>1024.6</td>\n",
       "      <td>1020.3</td>\n",
       "      <td>NaN</td>\n",
       "      <td>NaN</td>\n",
       "      <td>10.1</td>\n",
       "      <td>22.4</td>\n",
       "      <td>No</td>\n",
       "      <td>No</td>\n",
       "    </tr>\n",
       "    <tr>\n",
       "      <th>8421</th>\n",
       "      <td>2017-06-22</td>\n",
       "      <td>Uluru</td>\n",
       "      <td>3.6</td>\n",
       "      <td>25.3</td>\n",
       "      <td>0.0</td>\n",
       "      <td>NaN</td>\n",
       "      <td>NaN</td>\n",
       "      <td>NNW</td>\n",
       "      <td>22.0</td>\n",
       "      <td>SE</td>\n",
       "      <td>...</td>\n",
       "      <td>56.0</td>\n",
       "      <td>21.0</td>\n",
       "      <td>1023.5</td>\n",
       "      <td>1019.1</td>\n",
       "      <td>NaN</td>\n",
       "      <td>NaN</td>\n",
       "      <td>10.9</td>\n",
       "      <td>24.5</td>\n",
       "      <td>No</td>\n",
       "      <td>No</td>\n",
       "    </tr>\n",
       "    <tr>\n",
       "      <th>8422</th>\n",
       "      <td>2017-06-23</td>\n",
       "      <td>Uluru</td>\n",
       "      <td>5.4</td>\n",
       "      <td>26.9</td>\n",
       "      <td>0.0</td>\n",
       "      <td>NaN</td>\n",
       "      <td>NaN</td>\n",
       "      <td>N</td>\n",
       "      <td>37.0</td>\n",
       "      <td>SE</td>\n",
       "      <td>...</td>\n",
       "      <td>53.0</td>\n",
       "      <td>24.0</td>\n",
       "      <td>1021.0</td>\n",
       "      <td>1016.8</td>\n",
       "      <td>NaN</td>\n",
       "      <td>NaN</td>\n",
       "      <td>12.5</td>\n",
       "      <td>26.1</td>\n",
       "      <td>No</td>\n",
       "      <td>No</td>\n",
       "    </tr>\n",
       "    <tr>\n",
       "      <th>8423</th>\n",
       "      <td>2017-06-24</td>\n",
       "      <td>Uluru</td>\n",
       "      <td>7.8</td>\n",
       "      <td>27.0</td>\n",
       "      <td>0.0</td>\n",
       "      <td>NaN</td>\n",
       "      <td>NaN</td>\n",
       "      <td>SE</td>\n",
       "      <td>28.0</td>\n",
       "      <td>SSE</td>\n",
       "      <td>...</td>\n",
       "      <td>51.0</td>\n",
       "      <td>24.0</td>\n",
       "      <td>1019.4</td>\n",
       "      <td>1016.5</td>\n",
       "      <td>3.0</td>\n",
       "      <td>2.0</td>\n",
       "      <td>15.1</td>\n",
       "      <td>26.0</td>\n",
       "      <td>No</td>\n",
       "      <td>No</td>\n",
       "    </tr>\n",
       "    <tr>\n",
       "      <th>8424</th>\n",
       "      <td>2017-06-25</td>\n",
       "      <td>Uluru</td>\n",
       "      <td>14.9</td>\n",
       "      <td>NaN</td>\n",
       "      <td>0.0</td>\n",
       "      <td>NaN</td>\n",
       "      <td>NaN</td>\n",
       "      <td>NaN</td>\n",
       "      <td>NaN</td>\n",
       "      <td>ESE</td>\n",
       "      <td>...</td>\n",
       "      <td>62.0</td>\n",
       "      <td>36.0</td>\n",
       "      <td>1020.2</td>\n",
       "      <td>1017.9</td>\n",
       "      <td>8.0</td>\n",
       "      <td>8.0</td>\n",
       "      <td>15.0</td>\n",
       "      <td>20.9</td>\n",
       "      <td>No</td>\n",
       "      <td>NaN</td>\n",
       "    </tr>\n",
       "  </tbody>\n",
       "</table>\n",
       "<p>8425 rows × 23 columns</p>\n",
       "</div>"
      ],
      "text/plain": [
       "            Date Location  MinTemp  MaxTemp  Rainfall  Evaporation  Sunshine  \\\n",
       "0     2008-12-01   Albury     13.4     22.9       0.6          NaN       NaN   \n",
       "1     2008-12-02   Albury      7.4     25.1       0.0          NaN       NaN   \n",
       "2     2008-12-03   Albury     12.9     25.7       0.0          NaN       NaN   \n",
       "3     2008-12-04   Albury      9.2     28.0       0.0          NaN       NaN   \n",
       "4     2008-12-05   Albury     17.5     32.3       1.0          NaN       NaN   \n",
       "...          ...      ...      ...      ...       ...          ...       ...   \n",
       "8420  2017-06-21    Uluru      2.8     23.4       0.0          NaN       NaN   \n",
       "8421  2017-06-22    Uluru      3.6     25.3       0.0          NaN       NaN   \n",
       "8422  2017-06-23    Uluru      5.4     26.9       0.0          NaN       NaN   \n",
       "8423  2017-06-24    Uluru      7.8     27.0       0.0          NaN       NaN   \n",
       "8424  2017-06-25    Uluru     14.9      NaN       0.0          NaN       NaN   \n",
       "\n",
       "     WindGustDir  WindGustSpeed WindDir9am  ... Humidity9am  Humidity3pm  \\\n",
       "0              W           44.0          W  ...        71.0         22.0   \n",
       "1            WNW           44.0        NNW  ...        44.0         25.0   \n",
       "2            WSW           46.0          W  ...        38.0         30.0   \n",
       "3             NE           24.0         SE  ...        45.0         16.0   \n",
       "4              W           41.0        ENE  ...        82.0         33.0   \n",
       "...          ...            ...        ...  ...         ...          ...   \n",
       "8420           E           31.0         SE  ...        51.0         24.0   \n",
       "8421         NNW           22.0         SE  ...        56.0         21.0   \n",
       "8422           N           37.0         SE  ...        53.0         24.0   \n",
       "8423          SE           28.0        SSE  ...        51.0         24.0   \n",
       "8424         NaN            NaN        ESE  ...        62.0         36.0   \n",
       "\n",
       "      Pressure9am  Pressure3pm  Cloud9am  Cloud3pm  Temp9am  Temp3pm  \\\n",
       "0          1007.7       1007.1       8.0       NaN     16.9     21.8   \n",
       "1          1010.6       1007.8       NaN       NaN     17.2     24.3   \n",
       "2          1007.6       1008.7       NaN       2.0     21.0     23.2   \n",
       "3          1017.6       1012.8       NaN       NaN     18.1     26.5   \n",
       "4          1010.8       1006.0       7.0       8.0     17.8     29.7   \n",
       "...           ...          ...       ...       ...      ...      ...   \n",
       "8420       1024.6       1020.3       NaN       NaN     10.1     22.4   \n",
       "8421       1023.5       1019.1       NaN       NaN     10.9     24.5   \n",
       "8422       1021.0       1016.8       NaN       NaN     12.5     26.1   \n",
       "8423       1019.4       1016.5       3.0       2.0     15.1     26.0   \n",
       "8424       1020.2       1017.9       8.0       8.0     15.0     20.9   \n",
       "\n",
       "      RainToday  RainTomorrow  \n",
       "0            No            No  \n",
       "1            No            No  \n",
       "2            No            No  \n",
       "3            No            No  \n",
       "4            No            No  \n",
       "...         ...           ...  \n",
       "8420         No            No  \n",
       "8421         No            No  \n",
       "8422         No            No  \n",
       "8423         No            No  \n",
       "8424         No           NaN  \n",
       "\n",
       "[8425 rows x 23 columns]"
      ]
     },
     "execution_count": 3,
     "metadata": {},
     "output_type": "execute_result"
    }
   ],
   "source": [
    "df"
   ]
  },
  {
   "cell_type": "code",
   "execution_count": 4,
   "id": "dac7f7cd",
   "metadata": {},
   "outputs": [
    {
     "data": {
      "text/plain": [
       "(8425, 23)"
      ]
     },
     "execution_count": 4,
     "metadata": {},
     "output_type": "execute_result"
    }
   ],
   "source": [
    "df.shape   ## to check how many rows and columns in a data set"
   ]
  },
  {
   "cell_type": "markdown",
   "id": "0d46028e",
   "metadata": {},
   "source": [
    "Observation : In this data set there are 8425 rows and 23 columns."
   ]
  },
  {
   "cell_type": "code",
   "execution_count": 5,
   "id": "e20332f3",
   "metadata": {},
   "outputs": [
    {
     "data": {
      "text/plain": [
       "Date              object\n",
       "Location          object\n",
       "MinTemp          float64\n",
       "MaxTemp          float64\n",
       "Rainfall         float64\n",
       "Evaporation      float64\n",
       "Sunshine         float64\n",
       "WindGustDir       object\n",
       "WindGustSpeed    float64\n",
       "WindDir9am        object\n",
       "WindDir3pm        object\n",
       "WindSpeed9am     float64\n",
       "WindSpeed3pm     float64\n",
       "Humidity9am      float64\n",
       "Humidity3pm      float64\n",
       "Pressure9am      float64\n",
       "Pressure3pm      float64\n",
       "Cloud9am         float64\n",
       "Cloud3pm         float64\n",
       "Temp9am          float64\n",
       "Temp3pm          float64\n",
       "RainToday         object\n",
       "RainTomorrow      object\n",
       "dtype: object"
      ]
     },
     "execution_count": 5,
     "metadata": {},
     "output_type": "execute_result"
    }
   ],
   "source": [
    "df.dtypes"
   ]
  },
  {
   "cell_type": "code",
   "execution_count": 6,
   "id": "ce68ed83",
   "metadata": {},
   "outputs": [],
   "source": [
    "# In this data set there are some categorical featurs and some are continuous features."
   ]
  },
  {
   "cell_type": "code",
   "execution_count": 7,
   "id": "65609a5c",
   "metadata": {},
   "outputs": [
    {
     "data": {
      "text/plain": [
       "Index(['Date', 'Location', 'MinTemp', 'MaxTemp', 'Rainfall', 'Evaporation',\n",
       "       'Sunshine', 'WindGustDir', 'WindGustSpeed', 'WindDir9am', 'WindDir3pm',\n",
       "       'WindSpeed9am', 'WindSpeed3pm', 'Humidity9am', 'Humidity3pm',\n",
       "       'Pressure9am', 'Pressure3pm', 'Cloud9am', 'Cloud3pm', 'Temp9am',\n",
       "       'Temp3pm', 'RainToday', 'RainTomorrow'],\n",
       "      dtype='object')"
      ]
     },
     "execution_count": 7,
     "metadata": {},
     "output_type": "execute_result"
    }
   ],
   "source": [
    "df.columns"
   ]
  },
  {
   "cell_type": "code",
   "execution_count": 8,
   "id": "99d3bc5f",
   "metadata": {},
   "outputs": [
    {
     "name": "stdout",
     "output_type": "stream",
     "text": [
      "<class 'pandas.core.frame.DataFrame'>\n",
      "RangeIndex: 8425 entries, 0 to 8424\n",
      "Data columns (total 23 columns):\n",
      " #   Column         Non-Null Count  Dtype  \n",
      "---  ------         --------------  -----  \n",
      " 0   Date           8425 non-null   object \n",
      " 1   Location       8425 non-null   object \n",
      " 2   MinTemp        8350 non-null   float64\n",
      " 3   MaxTemp        8365 non-null   float64\n",
      " 4   Rainfall       8185 non-null   float64\n",
      " 5   Evaporation    4913 non-null   float64\n",
      " 6   Sunshine       4431 non-null   float64\n",
      " 7   WindGustDir    7434 non-null   object \n",
      " 8   WindGustSpeed  7434 non-null   float64\n",
      " 9   WindDir9am     7596 non-null   object \n",
      " 10  WindDir3pm     8117 non-null   object \n",
      " 11  WindSpeed9am   8349 non-null   float64\n",
      " 12  WindSpeed3pm   8318 non-null   float64\n",
      " 13  Humidity9am    8366 non-null   float64\n",
      " 14  Humidity3pm    8323 non-null   float64\n",
      " 15  Pressure9am    7116 non-null   float64\n",
      " 16  Pressure3pm    7113 non-null   float64\n",
      " 17  Cloud9am       6004 non-null   float64\n",
      " 18  Cloud3pm       5970 non-null   float64\n",
      " 19  Temp9am        8369 non-null   float64\n",
      " 20  Temp3pm        8329 non-null   float64\n",
      " 21  RainToday      8185 non-null   object \n",
      " 22  RainTomorrow   8186 non-null   object \n",
      "dtypes: float64(16), object(7)\n",
      "memory usage: 1.5+ MB\n"
     ]
    }
   ],
   "source": [
    "df.info()"
   ]
  },
  {
   "cell_type": "markdown",
   "id": "68f59b07",
   "metadata": {},
   "source": [
    "# Checking null values "
   ]
  },
  {
   "cell_type": "code",
   "execution_count": 9,
   "id": "8f3283b5",
   "metadata": {},
   "outputs": [
    {
     "data": {
      "text/html": [
       "<div>\n",
       "<style scoped>\n",
       "    .dataframe tbody tr th:only-of-type {\n",
       "        vertical-align: middle;\n",
       "    }\n",
       "\n",
       "    .dataframe tbody tr th {\n",
       "        vertical-align: top;\n",
       "    }\n",
       "\n",
       "    .dataframe thead th {\n",
       "        text-align: right;\n",
       "    }\n",
       "</style>\n",
       "<table border=\"1\" class=\"dataframe\">\n",
       "  <thead>\n",
       "    <tr style=\"text-align: right;\">\n",
       "      <th></th>\n",
       "      <th>Date</th>\n",
       "      <th>Location</th>\n",
       "      <th>MinTemp</th>\n",
       "      <th>MaxTemp</th>\n",
       "      <th>Rainfall</th>\n",
       "      <th>Evaporation</th>\n",
       "      <th>Sunshine</th>\n",
       "      <th>WindGustDir</th>\n",
       "      <th>WindGustSpeed</th>\n",
       "      <th>WindDir9am</th>\n",
       "      <th>...</th>\n",
       "      <th>Humidity9am</th>\n",
       "      <th>Humidity3pm</th>\n",
       "      <th>Pressure9am</th>\n",
       "      <th>Pressure3pm</th>\n",
       "      <th>Cloud9am</th>\n",
       "      <th>Cloud3pm</th>\n",
       "      <th>Temp9am</th>\n",
       "      <th>Temp3pm</th>\n",
       "      <th>RainToday</th>\n",
       "      <th>RainTomorrow</th>\n",
       "    </tr>\n",
       "  </thead>\n",
       "  <tbody>\n",
       "    <tr>\n",
       "      <th>0</th>\n",
       "      <td>False</td>\n",
       "      <td>False</td>\n",
       "      <td>False</td>\n",
       "      <td>False</td>\n",
       "      <td>False</td>\n",
       "      <td>True</td>\n",
       "      <td>True</td>\n",
       "      <td>False</td>\n",
       "      <td>False</td>\n",
       "      <td>False</td>\n",
       "      <td>...</td>\n",
       "      <td>False</td>\n",
       "      <td>False</td>\n",
       "      <td>False</td>\n",
       "      <td>False</td>\n",
       "      <td>False</td>\n",
       "      <td>True</td>\n",
       "      <td>False</td>\n",
       "      <td>False</td>\n",
       "      <td>False</td>\n",
       "      <td>False</td>\n",
       "    </tr>\n",
       "    <tr>\n",
       "      <th>1</th>\n",
       "      <td>False</td>\n",
       "      <td>False</td>\n",
       "      <td>False</td>\n",
       "      <td>False</td>\n",
       "      <td>False</td>\n",
       "      <td>True</td>\n",
       "      <td>True</td>\n",
       "      <td>False</td>\n",
       "      <td>False</td>\n",
       "      <td>False</td>\n",
       "      <td>...</td>\n",
       "      <td>False</td>\n",
       "      <td>False</td>\n",
       "      <td>False</td>\n",
       "      <td>False</td>\n",
       "      <td>True</td>\n",
       "      <td>True</td>\n",
       "      <td>False</td>\n",
       "      <td>False</td>\n",
       "      <td>False</td>\n",
       "      <td>False</td>\n",
       "    </tr>\n",
       "    <tr>\n",
       "      <th>2</th>\n",
       "      <td>False</td>\n",
       "      <td>False</td>\n",
       "      <td>False</td>\n",
       "      <td>False</td>\n",
       "      <td>False</td>\n",
       "      <td>True</td>\n",
       "      <td>True</td>\n",
       "      <td>False</td>\n",
       "      <td>False</td>\n",
       "      <td>False</td>\n",
       "      <td>...</td>\n",
       "      <td>False</td>\n",
       "      <td>False</td>\n",
       "      <td>False</td>\n",
       "      <td>False</td>\n",
       "      <td>True</td>\n",
       "      <td>False</td>\n",
       "      <td>False</td>\n",
       "      <td>False</td>\n",
       "      <td>False</td>\n",
       "      <td>False</td>\n",
       "    </tr>\n",
       "    <tr>\n",
       "      <th>3</th>\n",
       "      <td>False</td>\n",
       "      <td>False</td>\n",
       "      <td>False</td>\n",
       "      <td>False</td>\n",
       "      <td>False</td>\n",
       "      <td>True</td>\n",
       "      <td>True</td>\n",
       "      <td>False</td>\n",
       "      <td>False</td>\n",
       "      <td>False</td>\n",
       "      <td>...</td>\n",
       "      <td>False</td>\n",
       "      <td>False</td>\n",
       "      <td>False</td>\n",
       "      <td>False</td>\n",
       "      <td>True</td>\n",
       "      <td>True</td>\n",
       "      <td>False</td>\n",
       "      <td>False</td>\n",
       "      <td>False</td>\n",
       "      <td>False</td>\n",
       "    </tr>\n",
       "    <tr>\n",
       "      <th>4</th>\n",
       "      <td>False</td>\n",
       "      <td>False</td>\n",
       "      <td>False</td>\n",
       "      <td>False</td>\n",
       "      <td>False</td>\n",
       "      <td>True</td>\n",
       "      <td>True</td>\n",
       "      <td>False</td>\n",
       "      <td>False</td>\n",
       "      <td>False</td>\n",
       "      <td>...</td>\n",
       "      <td>False</td>\n",
       "      <td>False</td>\n",
       "      <td>False</td>\n",
       "      <td>False</td>\n",
       "      <td>False</td>\n",
       "      <td>False</td>\n",
       "      <td>False</td>\n",
       "      <td>False</td>\n",
       "      <td>False</td>\n",
       "      <td>False</td>\n",
       "    </tr>\n",
       "    <tr>\n",
       "      <th>...</th>\n",
       "      <td>...</td>\n",
       "      <td>...</td>\n",
       "      <td>...</td>\n",
       "      <td>...</td>\n",
       "      <td>...</td>\n",
       "      <td>...</td>\n",
       "      <td>...</td>\n",
       "      <td>...</td>\n",
       "      <td>...</td>\n",
       "      <td>...</td>\n",
       "      <td>...</td>\n",
       "      <td>...</td>\n",
       "      <td>...</td>\n",
       "      <td>...</td>\n",
       "      <td>...</td>\n",
       "      <td>...</td>\n",
       "      <td>...</td>\n",
       "      <td>...</td>\n",
       "      <td>...</td>\n",
       "      <td>...</td>\n",
       "      <td>...</td>\n",
       "    </tr>\n",
       "    <tr>\n",
       "      <th>8420</th>\n",
       "      <td>False</td>\n",
       "      <td>False</td>\n",
       "      <td>False</td>\n",
       "      <td>False</td>\n",
       "      <td>False</td>\n",
       "      <td>True</td>\n",
       "      <td>True</td>\n",
       "      <td>False</td>\n",
       "      <td>False</td>\n",
       "      <td>False</td>\n",
       "      <td>...</td>\n",
       "      <td>False</td>\n",
       "      <td>False</td>\n",
       "      <td>False</td>\n",
       "      <td>False</td>\n",
       "      <td>True</td>\n",
       "      <td>True</td>\n",
       "      <td>False</td>\n",
       "      <td>False</td>\n",
       "      <td>False</td>\n",
       "      <td>False</td>\n",
       "    </tr>\n",
       "    <tr>\n",
       "      <th>8421</th>\n",
       "      <td>False</td>\n",
       "      <td>False</td>\n",
       "      <td>False</td>\n",
       "      <td>False</td>\n",
       "      <td>False</td>\n",
       "      <td>True</td>\n",
       "      <td>True</td>\n",
       "      <td>False</td>\n",
       "      <td>False</td>\n",
       "      <td>False</td>\n",
       "      <td>...</td>\n",
       "      <td>False</td>\n",
       "      <td>False</td>\n",
       "      <td>False</td>\n",
       "      <td>False</td>\n",
       "      <td>True</td>\n",
       "      <td>True</td>\n",
       "      <td>False</td>\n",
       "      <td>False</td>\n",
       "      <td>False</td>\n",
       "      <td>False</td>\n",
       "    </tr>\n",
       "    <tr>\n",
       "      <th>8422</th>\n",
       "      <td>False</td>\n",
       "      <td>False</td>\n",
       "      <td>False</td>\n",
       "      <td>False</td>\n",
       "      <td>False</td>\n",
       "      <td>True</td>\n",
       "      <td>True</td>\n",
       "      <td>False</td>\n",
       "      <td>False</td>\n",
       "      <td>False</td>\n",
       "      <td>...</td>\n",
       "      <td>False</td>\n",
       "      <td>False</td>\n",
       "      <td>False</td>\n",
       "      <td>False</td>\n",
       "      <td>True</td>\n",
       "      <td>True</td>\n",
       "      <td>False</td>\n",
       "      <td>False</td>\n",
       "      <td>False</td>\n",
       "      <td>False</td>\n",
       "    </tr>\n",
       "    <tr>\n",
       "      <th>8423</th>\n",
       "      <td>False</td>\n",
       "      <td>False</td>\n",
       "      <td>False</td>\n",
       "      <td>False</td>\n",
       "      <td>False</td>\n",
       "      <td>True</td>\n",
       "      <td>True</td>\n",
       "      <td>False</td>\n",
       "      <td>False</td>\n",
       "      <td>False</td>\n",
       "      <td>...</td>\n",
       "      <td>False</td>\n",
       "      <td>False</td>\n",
       "      <td>False</td>\n",
       "      <td>False</td>\n",
       "      <td>False</td>\n",
       "      <td>False</td>\n",
       "      <td>False</td>\n",
       "      <td>False</td>\n",
       "      <td>False</td>\n",
       "      <td>False</td>\n",
       "    </tr>\n",
       "    <tr>\n",
       "      <th>8424</th>\n",
       "      <td>False</td>\n",
       "      <td>False</td>\n",
       "      <td>False</td>\n",
       "      <td>True</td>\n",
       "      <td>False</td>\n",
       "      <td>True</td>\n",
       "      <td>True</td>\n",
       "      <td>True</td>\n",
       "      <td>True</td>\n",
       "      <td>False</td>\n",
       "      <td>...</td>\n",
       "      <td>False</td>\n",
       "      <td>False</td>\n",
       "      <td>False</td>\n",
       "      <td>False</td>\n",
       "      <td>False</td>\n",
       "      <td>False</td>\n",
       "      <td>False</td>\n",
       "      <td>False</td>\n",
       "      <td>False</td>\n",
       "      <td>True</td>\n",
       "    </tr>\n",
       "  </tbody>\n",
       "</table>\n",
       "<p>8425 rows × 23 columns</p>\n",
       "</div>"
      ],
      "text/plain": [
       "       Date  Location  MinTemp  MaxTemp  Rainfall  Evaporation  Sunshine  \\\n",
       "0     False     False    False    False     False         True      True   \n",
       "1     False     False    False    False     False         True      True   \n",
       "2     False     False    False    False     False         True      True   \n",
       "3     False     False    False    False     False         True      True   \n",
       "4     False     False    False    False     False         True      True   \n",
       "...     ...       ...      ...      ...       ...          ...       ...   \n",
       "8420  False     False    False    False     False         True      True   \n",
       "8421  False     False    False    False     False         True      True   \n",
       "8422  False     False    False    False     False         True      True   \n",
       "8423  False     False    False    False     False         True      True   \n",
       "8424  False     False    False     True     False         True      True   \n",
       "\n",
       "      WindGustDir  WindGustSpeed  WindDir9am  ...  Humidity9am  Humidity3pm  \\\n",
       "0           False          False       False  ...        False        False   \n",
       "1           False          False       False  ...        False        False   \n",
       "2           False          False       False  ...        False        False   \n",
       "3           False          False       False  ...        False        False   \n",
       "4           False          False       False  ...        False        False   \n",
       "...           ...            ...         ...  ...          ...          ...   \n",
       "8420        False          False       False  ...        False        False   \n",
       "8421        False          False       False  ...        False        False   \n",
       "8422        False          False       False  ...        False        False   \n",
       "8423        False          False       False  ...        False        False   \n",
       "8424         True           True       False  ...        False        False   \n",
       "\n",
       "      Pressure9am  Pressure3pm  Cloud9am  Cloud3pm  Temp9am  Temp3pm  \\\n",
       "0           False        False     False      True    False    False   \n",
       "1           False        False      True      True    False    False   \n",
       "2           False        False      True     False    False    False   \n",
       "3           False        False      True      True    False    False   \n",
       "4           False        False     False     False    False    False   \n",
       "...           ...          ...       ...       ...      ...      ...   \n",
       "8420        False        False      True      True    False    False   \n",
       "8421        False        False      True      True    False    False   \n",
       "8422        False        False      True      True    False    False   \n",
       "8423        False        False     False     False    False    False   \n",
       "8424        False        False     False     False    False    False   \n",
       "\n",
       "      RainToday  RainTomorrow  \n",
       "0         False         False  \n",
       "1         False         False  \n",
       "2         False         False  \n",
       "3         False         False  \n",
       "4         False         False  \n",
       "...         ...           ...  \n",
       "8420      False         False  \n",
       "8421      False         False  \n",
       "8422      False         False  \n",
       "8423      False         False  \n",
       "8424      False          True  \n",
       "\n",
       "[8425 rows x 23 columns]"
      ]
     },
     "execution_count": 9,
     "metadata": {},
     "output_type": "execute_result"
    }
   ],
   "source": [
    "df.isnull()"
   ]
  },
  {
   "cell_type": "code",
   "execution_count": 10,
   "id": "159a8ac7",
   "metadata": {},
   "outputs": [
    {
     "data": {
      "text/plain": [
       "Date                0\n",
       "Location            0\n",
       "MinTemp            75\n",
       "MaxTemp            60\n",
       "Rainfall          240\n",
       "Evaporation      3512\n",
       "Sunshine         3994\n",
       "WindGustDir       991\n",
       "WindGustSpeed     991\n",
       "WindDir9am        829\n",
       "WindDir3pm        308\n",
       "WindSpeed9am       76\n",
       "WindSpeed3pm      107\n",
       "Humidity9am        59\n",
       "Humidity3pm       102\n",
       "Pressure9am      1309\n",
       "Pressure3pm      1312\n",
       "Cloud9am         2421\n",
       "Cloud3pm         2455\n",
       "Temp9am            56\n",
       "Temp3pm            96\n",
       "RainToday         240\n",
       "RainTomorrow      239\n",
       "dtype: int64"
      ]
     },
     "execution_count": 10,
     "metadata": {},
     "output_type": "execute_result"
    }
   ],
   "source": [
    "df.isnull().sum()"
   ]
  },
  {
   "cell_type": "code",
   "execution_count": 11,
   "id": "cd3c688c",
   "metadata": {},
   "outputs": [
    {
     "data": {
      "text/plain": [
       "<AxesSubplot:>"
      ]
     },
     "execution_count": 11,
     "metadata": {},
     "output_type": "execute_result"
    },
    {
     "data": {
      "image/png": "[encoded data removed]",
      "text/plain": [
       "<Figure size 432x288 with 2 Axes>"
      ]
     },
     "metadata": {
      "needs_background": "light"
     },
     "output_type": "display_data"
    }
   ],
   "source": [
    "sns.heatmap(df.isnull())"
   ]
  },
  {
   "cell_type": "markdown",
   "id": "4cfcc6e5",
   "metadata": {},
   "source": [
    "Observation: from above heatmap, it can be seen that there are some null values in this dataset and it can be dropped out from this dataset."
   ]
  },
  {
   "cell_type": "code",
   "execution_count": 12,
   "id": "e7be36b7",
   "metadata": {},
   "outputs": [
    {
     "data": {
      "text/html": [
       "<div>\n",
       "<style scoped>\n",
       "    .dataframe tbody tr th:only-of-type {\n",
       "        vertical-align: middle;\n",
       "    }\n",
       "\n",
       "    .dataframe tbody tr th {\n",
       "        vertical-align: top;\n",
       "    }\n",
       "\n",
       "    .dataframe thead th {\n",
       "        text-align: right;\n",
       "    }\n",
       "</style>\n",
       "<table border=\"1\" class=\"dataframe\">\n",
       "  <thead>\n",
       "    <tr style=\"text-align: right;\">\n",
       "      <th></th>\n",
       "      <th>MinTemp</th>\n",
       "      <th>MaxTemp</th>\n",
       "      <th>Rainfall</th>\n",
       "      <th>WindGustDir</th>\n",
       "      <th>WindGustSpeed</th>\n",
       "      <th>WindDir9am</th>\n",
       "      <th>WindDir3pm</th>\n",
       "      <th>WindSpeed9am</th>\n",
       "      <th>WindSpeed3pm</th>\n",
       "      <th>Humidity9am</th>\n",
       "      <th>Humidity3pm</th>\n",
       "      <th>Pressure9am</th>\n",
       "      <th>Pressure3pm</th>\n",
       "      <th>Temp9am</th>\n",
       "      <th>Temp3pm</th>\n",
       "      <th>RainToday</th>\n",
       "      <th>RainTomorrow</th>\n",
       "    </tr>\n",
       "  </thead>\n",
       "  <tbody>\n",
       "    <tr>\n",
       "      <th>0</th>\n",
       "      <td>13.4</td>\n",
       "      <td>22.9</td>\n",
       "      <td>0.6</td>\n",
       "      <td>W</td>\n",
       "      <td>44.0</td>\n",
       "      <td>W</td>\n",
       "      <td>WNW</td>\n",
       "      <td>20.0</td>\n",
       "      <td>24.0</td>\n",
       "      <td>71.0</td>\n",
       "      <td>22.0</td>\n",
       "      <td>1007.7</td>\n",
       "      <td>1007.1</td>\n",
       "      <td>16.9</td>\n",
       "      <td>21.8</td>\n",
       "      <td>No</td>\n",
       "      <td>No</td>\n",
       "    </tr>\n",
       "    <tr>\n",
       "      <th>1</th>\n",
       "      <td>7.4</td>\n",
       "      <td>25.1</td>\n",
       "      <td>0.0</td>\n",
       "      <td>WNW</td>\n",
       "      <td>44.0</td>\n",
       "      <td>NNW</td>\n",
       "      <td>WSW</td>\n",
       "      <td>4.0</td>\n",
       "      <td>22.0</td>\n",
       "      <td>44.0</td>\n",
       "      <td>25.0</td>\n",
       "      <td>1010.6</td>\n",
       "      <td>1007.8</td>\n",
       "      <td>17.2</td>\n",
       "      <td>24.3</td>\n",
       "      <td>No</td>\n",
       "      <td>No</td>\n",
       "    </tr>\n",
       "    <tr>\n",
       "      <th>2</th>\n",
       "      <td>12.9</td>\n",
       "      <td>25.7</td>\n",
       "      <td>0.0</td>\n",
       "      <td>WSW</td>\n",
       "      <td>46.0</td>\n",
       "      <td>W</td>\n",
       "      <td>WSW</td>\n",
       "      <td>19.0</td>\n",
       "      <td>26.0</td>\n",
       "      <td>38.0</td>\n",
       "      <td>30.0</td>\n",
       "      <td>1007.6</td>\n",
       "      <td>1008.7</td>\n",
       "      <td>21.0</td>\n",
       "      <td>23.2</td>\n",
       "      <td>No</td>\n",
       "      <td>No</td>\n",
       "    </tr>\n",
       "    <tr>\n",
       "      <th>3</th>\n",
       "      <td>9.2</td>\n",
       "      <td>28.0</td>\n",
       "      <td>0.0</td>\n",
       "      <td>NE</td>\n",
       "      <td>24.0</td>\n",
       "      <td>SE</td>\n",
       "      <td>E</td>\n",
       "      <td>11.0</td>\n",
       "      <td>9.0</td>\n",
       "      <td>45.0</td>\n",
       "      <td>16.0</td>\n",
       "      <td>1017.6</td>\n",
       "      <td>1012.8</td>\n",
       "      <td>18.1</td>\n",
       "      <td>26.5</td>\n",
       "      <td>No</td>\n",
       "      <td>No</td>\n",
       "    </tr>\n",
       "    <tr>\n",
       "      <th>4</th>\n",
       "      <td>17.5</td>\n",
       "      <td>32.3</td>\n",
       "      <td>1.0</td>\n",
       "      <td>W</td>\n",
       "      <td>41.0</td>\n",
       "      <td>ENE</td>\n",
       "      <td>NW</td>\n",
       "      <td>7.0</td>\n",
       "      <td>20.0</td>\n",
       "      <td>82.0</td>\n",
       "      <td>33.0</td>\n",
       "      <td>1010.8</td>\n",
       "      <td>1006.0</td>\n",
       "      <td>17.8</td>\n",
       "      <td>29.7</td>\n",
       "      <td>No</td>\n",
       "      <td>No</td>\n",
       "    </tr>\n",
       "  </tbody>\n",
       "</table>\n",
       "</div>"
      ],
      "text/plain": [
       "   MinTemp  MaxTemp  Rainfall WindGustDir  WindGustSpeed WindDir9am  \\\n",
       "0     13.4     22.9       0.6           W           44.0          W   \n",
       "1      7.4     25.1       0.0         WNW           44.0        NNW   \n",
       "2     12.9     25.7       0.0         WSW           46.0          W   \n",
       "3      9.2     28.0       0.0          NE           24.0         SE   \n",
       "4     17.5     32.3       1.0           W           41.0        ENE   \n",
       "\n",
       "  WindDir3pm  WindSpeed9am  WindSpeed3pm  Humidity9am  Humidity3pm  \\\n",
       "0        WNW          20.0          24.0         71.0         22.0   \n",
       "1        WSW           4.0          22.0         44.0         25.0   \n",
       "2        WSW          19.0          26.0         38.0         30.0   \n",
       "3          E          11.0           9.0         45.0         16.0   \n",
       "4         NW           7.0          20.0         82.0         33.0   \n",
       "\n",
       "   Pressure9am  Pressure3pm  Temp9am  Temp3pm RainToday RainTomorrow  \n",
       "0       1007.7       1007.1     16.9     21.8        No           No  \n",
       "1       1010.6       1007.8     17.2     24.3        No           No  \n",
       "2       1007.6       1008.7     21.0     23.2        No           No  \n",
       "3       1017.6       1012.8     18.1     26.5        No           No  \n",
       "4       1010.8       1006.0     17.8     29.7        No           No  "
      ]
     },
     "execution_count": 12,
     "metadata": {},
     "output_type": "execute_result"
    }
   ],
   "source": [
    "## Dropped some unnessary columns for this data set.\n",
    "df = df.drop([\"Evaporation\",\"Sunshine\",\"Cloud9am\",\"Cloud3pm\",\"Location\", \"Date\"], axis =1)\n",
    "df.head()"
   ]
  },
  {
   "cell_type": "code",
   "execution_count": 27,
   "id": "e7c52fc0",
   "metadata": {},
   "outputs": [
    {
     "data": {
      "text/plain": [
       "(6332, 17)"
      ]
     },
     "execution_count": 27,
     "metadata": {},
     "output_type": "execute_result"
    }
   ],
   "source": [
    "## Removing null values\n",
    "df = df.dropna(axis = 0)\n",
    "df.shape"
   ]
  },
  {
   "cell_type": "code",
   "execution_count": 14,
   "id": "ad95f397",
   "metadata": {},
   "outputs": [
    {
     "data": {
      "text/plain": [
       "<AxesSubplot:>"
      ]
     },
     "execution_count": 14,
     "metadata": {},
     "output_type": "execute_result"
    },
    {
     "data": {
      "image/png": "[encoded data removed]",
      "text/plain": [
       "<Figure size 432x288 with 2 Axes>"
      ]
     },
     "metadata": {
      "needs_background": "light"
     },
     "output_type": "display_data"
    }
   ],
   "source": [
    "sns.heatmap(df.isnull())"
   ]
  },
  {
   "cell_type": "code",
   "execution_count": null,
   "id": "27a0f329",
   "metadata": {},
   "outputs": [],
   "source": [
    "# Observation : No null values now"
   ]
  },
  {
   "cell_type": "markdown",
   "id": "6cdc9625",
   "metadata": {},
   "source": [
    "# Stastical summary"
   ]
  },
  {
   "cell_type": "code",
   "execution_count": 15,
   "id": "cf3c8a76",
   "metadata": {},
   "outputs": [
    {
     "data": {
      "text/html": [
       "<div>\n",
       "<style scoped>\n",
       "    .dataframe tbody tr th:only-of-type {\n",
       "        vertical-align: middle;\n",
       "    }\n",
       "\n",
       "    .dataframe tbody tr th {\n",
       "        vertical-align: top;\n",
       "    }\n",
       "\n",
       "    .dataframe thead th {\n",
       "        text-align: right;\n",
       "    }\n",
       "</style>\n",
       "<table border=\"1\" class=\"dataframe\">\n",
       "  <thead>\n",
       "    <tr style=\"text-align: right;\">\n",
       "      <th></th>\n",
       "      <th>MinTemp</th>\n",
       "      <th>MaxTemp</th>\n",
       "      <th>Rainfall</th>\n",
       "      <th>WindGustSpeed</th>\n",
       "      <th>WindSpeed9am</th>\n",
       "      <th>WindSpeed3pm</th>\n",
       "      <th>Humidity9am</th>\n",
       "      <th>Humidity3pm</th>\n",
       "      <th>Pressure9am</th>\n",
       "      <th>Pressure3pm</th>\n",
       "      <th>Temp9am</th>\n",
       "      <th>Temp3pm</th>\n",
       "    </tr>\n",
       "  </thead>\n",
       "  <tbody>\n",
       "    <tr>\n",
       "      <th>count</th>\n",
       "      <td>6332.000000</td>\n",
       "      <td>6332.000000</td>\n",
       "      <td>6332.000000</td>\n",
       "      <td>6332.000000</td>\n",
       "      <td>6332.000000</td>\n",
       "      <td>6332.000000</td>\n",
       "      <td>6332.000000</td>\n",
       "      <td>6332.000000</td>\n",
       "      <td>6332.000000</td>\n",
       "      <td>6332.000000</td>\n",
       "      <td>6332.000000</td>\n",
       "      <td>6332.000000</td>\n",
       "    </tr>\n",
       "    <tr>\n",
       "      <th>mean</th>\n",
       "      <td>13.536592</td>\n",
       "      <td>24.057770</td>\n",
       "      <td>2.784397</td>\n",
       "      <td>41.287903</td>\n",
       "      <td>15.897979</td>\n",
       "      <td>20.000316</td>\n",
       "      <td>66.111655</td>\n",
       "      <td>50.965414</td>\n",
       "      <td>1017.541693</td>\n",
       "      <td>1015.146920</td>\n",
       "      <td>18.174179</td>\n",
       "      <td>22.605212</td>\n",
       "    </tr>\n",
       "    <tr>\n",
       "      <th>std</th>\n",
       "      <td>5.305000</td>\n",
       "      <td>6.221539</td>\n",
       "      <td>9.539455</td>\n",
       "      <td>14.291072</td>\n",
       "      <td>9.464313</td>\n",
       "      <td>8.934660</td>\n",
       "      <td>16.727300</td>\n",
       "      <td>18.616937</td>\n",
       "      <td>6.783294</td>\n",
       "      <td>6.710036</td>\n",
       "      <td>5.575869</td>\n",
       "      <td>6.052499</td>\n",
       "    </tr>\n",
       "    <tr>\n",
       "      <th>min</th>\n",
       "      <td>-1.300000</td>\n",
       "      <td>8.200000</td>\n",
       "      <td>0.000000</td>\n",
       "      <td>11.000000</td>\n",
       "      <td>2.000000</td>\n",
       "      <td>2.000000</td>\n",
       "      <td>10.000000</td>\n",
       "      <td>6.000000</td>\n",
       "      <td>989.800000</td>\n",
       "      <td>982.900000</td>\n",
       "      <td>1.900000</td>\n",
       "      <td>7.300000</td>\n",
       "    </tr>\n",
       "    <tr>\n",
       "      <th>25%</th>\n",
       "      <td>9.600000</td>\n",
       "      <td>19.500000</td>\n",
       "      <td>0.000000</td>\n",
       "      <td>31.000000</td>\n",
       "      <td>9.000000</td>\n",
       "      <td>13.000000</td>\n",
       "      <td>55.000000</td>\n",
       "      <td>38.000000</td>\n",
       "      <td>1013.000000</td>\n",
       "      <td>1010.400000</td>\n",
       "      <td>14.100000</td>\n",
       "      <td>18.300000</td>\n",
       "    </tr>\n",
       "    <tr>\n",
       "      <th>50%</th>\n",
       "      <td>13.600000</td>\n",
       "      <td>23.500000</td>\n",
       "      <td>0.000000</td>\n",
       "      <td>39.000000</td>\n",
       "      <td>13.000000</td>\n",
       "      <td>19.000000</td>\n",
       "      <td>66.000000</td>\n",
       "      <td>51.000000</td>\n",
       "      <td>1017.500000</td>\n",
       "      <td>1015.300000</td>\n",
       "      <td>18.100000</td>\n",
       "      <td>22.100000</td>\n",
       "    </tr>\n",
       "    <tr>\n",
       "      <th>75%</th>\n",
       "      <td>17.600000</td>\n",
       "      <td>28.200000</td>\n",
       "      <td>1.000000</td>\n",
       "      <td>50.000000</td>\n",
       "      <td>20.000000</td>\n",
       "      <td>26.000000</td>\n",
       "      <td>78.000000</td>\n",
       "      <td>63.000000</td>\n",
       "      <td>1022.100000</td>\n",
       "      <td>1019.700000</td>\n",
       "      <td>22.300000</td>\n",
       "      <td>26.600000</td>\n",
       "    </tr>\n",
       "    <tr>\n",
       "      <th>max</th>\n",
       "      <td>28.500000</td>\n",
       "      <td>45.500000</td>\n",
       "      <td>225.000000</td>\n",
       "      <td>107.000000</td>\n",
       "      <td>61.000000</td>\n",
       "      <td>61.000000</td>\n",
       "      <td>100.000000</td>\n",
       "      <td>99.000000</td>\n",
       "      <td>1039.000000</td>\n",
       "      <td>1036.000000</td>\n",
       "      <td>39.400000</td>\n",
       "      <td>43.900000</td>\n",
       "    </tr>\n",
       "  </tbody>\n",
       "</table>\n",
       "</div>"
      ],
      "text/plain": [
       "           MinTemp      MaxTemp     Rainfall  WindGustSpeed  WindSpeed9am  \\\n",
       "count  6332.000000  6332.000000  6332.000000    6332.000000   6332.000000   \n",
       "mean     13.536592    24.057770     2.784397      41.287903     15.897979   \n",
       "std       5.305000     6.221539     9.539455      14.291072      9.464313   \n",
       "min      -1.300000     8.200000     0.000000      11.000000      2.000000   \n",
       "25%       9.600000    19.500000     0.000000      31.000000      9.000000   \n",
       "50%      13.600000    23.500000     0.000000      39.000000     13.000000   \n",
       "75%      17.600000    28.200000     1.000000      50.000000     20.000000   \n",
       "max      28.500000    45.500000   225.000000     107.000000     61.000000   \n",
       "\n",
       "       WindSpeed3pm  Humidity9am  Humidity3pm  Pressure9am  Pressure3pm  \\\n",
       "count   6332.000000  6332.000000  6332.000000  6332.000000  6332.000000   \n",
       "mean      20.000316    66.111655    50.965414  1017.541693  1015.146920   \n",
       "std        8.934660    16.727300    18.616937     6.783294     6.710036   \n",
       "min        2.000000    10.000000     6.000000   989.800000   982.900000   \n",
       "25%       13.000000    55.000000    38.000000  1013.000000  1010.400000   \n",
       "50%       19.000000    66.000000    51.000000  1017.500000  1015.300000   \n",
       "75%       26.000000    78.000000    63.000000  1022.100000  1019.700000   \n",
       "max       61.000000   100.000000    99.000000  1039.000000  1036.000000   \n",
       "\n",
       "           Temp9am      Temp3pm  \n",
       "count  6332.000000  6332.000000  \n",
       "mean     18.174179    22.605212  \n",
       "std       5.575869     6.052499  \n",
       "min       1.900000     7.300000  \n",
       "25%      14.100000    18.300000  \n",
       "50%      18.100000    22.100000  \n",
       "75%      22.300000    26.600000  \n",
       "max      39.400000    43.900000  "
      ]
     },
     "execution_count": 15,
     "metadata": {},
     "output_type": "execute_result"
    }
   ],
   "source": [
    "df.describe()"
   ]
  },
  {
   "cell_type": "markdown",
   "id": "693147d3",
   "metadata": {},
   "source": [
    "Observation : There is large gap can be seen in Rainfall attributes between 75% and max value so outliers are present."
   ]
  },
  {
   "cell_type": "markdown",
   "id": "999f604e",
   "metadata": {},
   "source": [
    "# Correlation"
   ]
  },
  {
   "cell_type": "code",
   "execution_count": 16,
   "id": "d5305019",
   "metadata": {},
   "outputs": [],
   "source": [
    "dfcor=df.corr() "
   ]
  },
  {
   "cell_type": "code",
   "execution_count": 17,
   "id": "c36d7bcd",
   "metadata": {},
   "outputs": [
    {
     "data": {
      "text/html": [
       "<div>\n",
       "<style scoped>\n",
       "    .dataframe tbody tr th:only-of-type {\n",
       "        vertical-align: middle;\n",
       "    }\n",
       "\n",
       "    .dataframe tbody tr th {\n",
       "        vertical-align: top;\n",
       "    }\n",
       "\n",
       "    .dataframe thead th {\n",
       "        text-align: right;\n",
       "    }\n",
       "</style>\n",
       "<table border=\"1\" class=\"dataframe\">\n",
       "  <thead>\n",
       "    <tr style=\"text-align: right;\">\n",
       "      <th></th>\n",
       "      <th>MinTemp</th>\n",
       "      <th>MaxTemp</th>\n",
       "      <th>Rainfall</th>\n",
       "      <th>WindGustSpeed</th>\n",
       "      <th>WindSpeed9am</th>\n",
       "      <th>WindSpeed3pm</th>\n",
       "      <th>Humidity9am</th>\n",
       "      <th>Humidity3pm</th>\n",
       "      <th>Pressure9am</th>\n",
       "      <th>Pressure3pm</th>\n",
       "      <th>Temp9am</th>\n",
       "      <th>Temp3pm</th>\n",
       "    </tr>\n",
       "  </thead>\n",
       "  <tbody>\n",
       "    <tr>\n",
       "      <th>MinTemp</th>\n",
       "      <td>1.000000</td>\n",
       "      <td>0.720152</td>\n",
       "      <td>0.081437</td>\n",
       "      <td>0.183754</td>\n",
       "      <td>0.079493</td>\n",
       "      <td>0.143644</td>\n",
       "      <td>-0.103033</td>\n",
       "      <td>0.069361</td>\n",
       "      <td>-0.446465</td>\n",
       "      <td>-0.441899</td>\n",
       "      <td>0.878485</td>\n",
       "      <td>0.689874</td>\n",
       "    </tr>\n",
       "    <tr>\n",
       "      <th>MaxTemp</th>\n",
       "      <td>0.720152</td>\n",
       "      <td>1.000000</td>\n",
       "      <td>-0.109937</td>\n",
       "      <td>0.096041</td>\n",
       "      <td>-0.017879</td>\n",
       "      <td>0.042536</td>\n",
       "      <td>-0.406543</td>\n",
       "      <td>-0.436363</td>\n",
       "      <td>-0.328625</td>\n",
       "      <td>-0.415039</td>\n",
       "      <td>0.878400</td>\n",
       "      <td>0.978900</td>\n",
       "    </tr>\n",
       "    <tr>\n",
       "      <th>Rainfall</th>\n",
       "      <td>0.081437</td>\n",
       "      <td>-0.109937</td>\n",
       "      <td>1.000000</td>\n",
       "      <td>0.098853</td>\n",
       "      <td>0.056768</td>\n",
       "      <td>0.037545</td>\n",
       "      <td>0.279142</td>\n",
       "      <td>0.264113</td>\n",
       "      <td>-0.096913</td>\n",
       "      <td>-0.050601</td>\n",
       "      <td>-0.029746</td>\n",
       "      <td>-0.111771</td>\n",
       "    </tr>\n",
       "    <tr>\n",
       "      <th>WindGustSpeed</th>\n",
       "      <td>0.183754</td>\n",
       "      <td>0.096041</td>\n",
       "      <td>0.098853</td>\n",
       "      <td>1.000000</td>\n",
       "      <td>0.647507</td>\n",
       "      <td>0.699354</td>\n",
       "      <td>-0.243550</td>\n",
       "      <td>-0.093582</td>\n",
       "      <td>-0.408816</td>\n",
       "      <td>-0.373182</td>\n",
       "      <td>0.138739</td>\n",
       "      <td>0.057405</td>\n",
       "    </tr>\n",
       "    <tr>\n",
       "      <th>WindSpeed9am</th>\n",
       "      <td>0.079493</td>\n",
       "      <td>-0.017879</td>\n",
       "      <td>0.056768</td>\n",
       "      <td>0.647507</td>\n",
       "      <td>1.000000</td>\n",
       "      <td>0.529402</td>\n",
       "      <td>-0.296569</td>\n",
       "      <td>-0.115620</td>\n",
       "      <td>-0.158656</td>\n",
       "      <td>-0.119514</td>\n",
       "      <td>0.032900</td>\n",
       "      <td>-0.029441</td>\n",
       "    </tr>\n",
       "    <tr>\n",
       "      <th>WindSpeed3pm</th>\n",
       "      <td>0.143644</td>\n",
       "      <td>0.042536</td>\n",
       "      <td>0.037545</td>\n",
       "      <td>0.699354</td>\n",
       "      <td>0.529402</td>\n",
       "      <td>1.000000</td>\n",
       "      <td>-0.165514</td>\n",
       "      <td>-0.042526</td>\n",
       "      <td>-0.271336</td>\n",
       "      <td>-0.221286</td>\n",
       "      <td>0.126931</td>\n",
       "      <td>0.019275</td>\n",
       "    </tr>\n",
       "    <tr>\n",
       "      <th>Humidity9am</th>\n",
       "      <td>-0.103033</td>\n",
       "      <td>-0.406543</td>\n",
       "      <td>0.279142</td>\n",
       "      <td>-0.243550</td>\n",
       "      <td>-0.296569</td>\n",
       "      <td>-0.165514</td>\n",
       "      <td>1.000000</td>\n",
       "      <td>0.667232</td>\n",
       "      <td>0.135746</td>\n",
       "      <td>0.173703</td>\n",
       "      <td>-0.358604</td>\n",
       "      <td>-0.397122</td>\n",
       "    </tr>\n",
       "    <tr>\n",
       "      <th>Humidity3pm</th>\n",
       "      <td>0.069361</td>\n",
       "      <td>-0.436363</td>\n",
       "      <td>0.264113</td>\n",
       "      <td>-0.093582</td>\n",
       "      <td>-0.115620</td>\n",
       "      <td>-0.042526</td>\n",
       "      <td>0.667232</td>\n",
       "      <td>1.000000</td>\n",
       "      <td>-0.005535</td>\n",
       "      <td>0.071644</td>\n",
       "      <td>-0.147896</td>\n",
       "      <td>-0.503451</td>\n",
       "    </tr>\n",
       "    <tr>\n",
       "      <th>Pressure9am</th>\n",
       "      <td>-0.446465</td>\n",
       "      <td>-0.328625</td>\n",
       "      <td>-0.096913</td>\n",
       "      <td>-0.408816</td>\n",
       "      <td>-0.158656</td>\n",
       "      <td>-0.271336</td>\n",
       "      <td>0.135746</td>\n",
       "      <td>-0.005535</td>\n",
       "      <td>1.000000</td>\n",
       "      <td>0.961521</td>\n",
       "      <td>-0.421640</td>\n",
       "      <td>-0.283570</td>\n",
       "    </tr>\n",
       "    <tr>\n",
       "      <th>Pressure3pm</th>\n",
       "      <td>-0.441899</td>\n",
       "      <td>-0.415039</td>\n",
       "      <td>-0.050601</td>\n",
       "      <td>-0.373182</td>\n",
       "      <td>-0.119514</td>\n",
       "      <td>-0.221286</td>\n",
       "      <td>0.173703</td>\n",
       "      <td>0.071644</td>\n",
       "      <td>0.961521</td>\n",
       "      <td>1.000000</td>\n",
       "      <td>-0.456393</td>\n",
       "      <td>-0.379834</td>\n",
       "    </tr>\n",
       "    <tr>\n",
       "      <th>Temp9am</th>\n",
       "      <td>0.878485</td>\n",
       "      <td>0.878400</td>\n",
       "      <td>-0.029746</td>\n",
       "      <td>0.138739</td>\n",
       "      <td>0.032900</td>\n",
       "      <td>0.126931</td>\n",
       "      <td>-0.358604</td>\n",
       "      <td>-0.147896</td>\n",
       "      <td>-0.421640</td>\n",
       "      <td>-0.456393</td>\n",
       "      <td>1.000000</td>\n",
       "      <td>0.847022</td>\n",
       "    </tr>\n",
       "    <tr>\n",
       "      <th>Temp3pm</th>\n",
       "      <td>0.689874</td>\n",
       "      <td>0.978900</td>\n",
       "      <td>-0.111771</td>\n",
       "      <td>0.057405</td>\n",
       "      <td>-0.029441</td>\n",
       "      <td>0.019275</td>\n",
       "      <td>-0.397122</td>\n",
       "      <td>-0.503451</td>\n",
       "      <td>-0.283570</td>\n",
       "      <td>-0.379834</td>\n",
       "      <td>0.847022</td>\n",
       "      <td>1.000000</td>\n",
       "    </tr>\n",
       "  </tbody>\n",
       "</table>\n",
       "</div>"
      ],
      "text/plain": [
       "                MinTemp   MaxTemp  Rainfall  WindGustSpeed  WindSpeed9am  \\\n",
       "MinTemp        1.000000  0.720152  0.081437       0.183754      0.079493   \n",
       "MaxTemp        0.720152  1.000000 -0.109937       0.096041     -0.017879   \n",
       "Rainfall       0.081437 -0.109937  1.000000       0.098853      0.056768   \n",
       "WindGustSpeed  0.183754  0.096041  0.098853       1.000000      0.647507   \n",
       "WindSpeed9am   0.079493 -0.017879  0.056768       0.647507      1.000000   \n",
       "WindSpeed3pm   0.143644  0.042536  0.037545       0.699354      0.529402   \n",
       "Humidity9am   -0.103033 -0.406543  0.279142      -0.243550     -0.296569   \n",
       "Humidity3pm    0.069361 -0.436363  0.264113      -0.093582     -0.115620   \n",
       "Pressure9am   -0.446465 -0.328625 -0.096913      -0.408816     -0.158656   \n",
       "Pressure3pm   -0.441899 -0.415039 -0.050601      -0.373182     -0.119514   \n",
       "Temp9am        0.878485  0.878400 -0.029746       0.138739      0.032900   \n",
       "Temp3pm        0.689874  0.978900 -0.111771       0.057405     -0.029441   \n",
       "\n",
       "               WindSpeed3pm  Humidity9am  Humidity3pm  Pressure9am  \\\n",
       "MinTemp            0.143644    -0.103033     0.069361    -0.446465   \n",
       "MaxTemp            0.042536    -0.406543    -0.436363    -0.328625   \n",
       "Rainfall           0.037545     0.279142     0.264113    -0.096913   \n",
       "WindGustSpeed      0.699354    -0.243550    -0.093582    -0.408816   \n",
       "WindSpeed9am       0.529402    -0.296569    -0.115620    -0.158656   \n",
       "WindSpeed3pm       1.000000    -0.165514    -0.042526    -0.271336   \n",
       "Humidity9am       -0.165514     1.000000     0.667232     0.135746   \n",
       "Humidity3pm       -0.042526     0.667232     1.000000    -0.005535   \n",
       "Pressure9am       -0.271336     0.135746    -0.005535     1.000000   \n",
       "Pressure3pm       -0.221286     0.173703     0.071644     0.961521   \n",
       "Temp9am            0.126931    -0.358604    -0.147896    -0.421640   \n",
       "Temp3pm            0.019275    -0.397122    -0.503451    -0.283570   \n",
       "\n",
       "               Pressure3pm   Temp9am   Temp3pm  \n",
       "MinTemp          -0.441899  0.878485  0.689874  \n",
       "MaxTemp          -0.415039  0.878400  0.978900  \n",
       "Rainfall         -0.050601 -0.029746 -0.111771  \n",
       "WindGustSpeed    -0.373182  0.138739  0.057405  \n",
       "WindSpeed9am     -0.119514  0.032900 -0.029441  \n",
       "WindSpeed3pm     -0.221286  0.126931  0.019275  \n",
       "Humidity9am       0.173703 -0.358604 -0.397122  \n",
       "Humidity3pm       0.071644 -0.147896 -0.503451  \n",
       "Pressure9am       0.961521 -0.421640 -0.283570  \n",
       "Pressure3pm       1.000000 -0.456393 -0.379834  \n",
       "Temp9am          -0.456393  1.000000  0.847022  \n",
       "Temp3pm          -0.379834  0.847022  1.000000  "
      ]
     },
     "execution_count": 17,
     "metadata": {},
     "output_type": "execute_result"
    }
   ],
   "source": [
    "dfcor"
   ]
  },
  {
   "cell_type": "code",
   "execution_count": 18,
   "id": "ca263bfa",
   "metadata": {},
   "outputs": [
    {
     "data": {
      "text/plain": [
       "<AxesSubplot:>"
      ]
     },
     "execution_count": 18,
     "metadata": {},
     "output_type": "execute_result"
    },
    {
     "data": {
      "image/png": "[encoded data removed]",
      "text/plain": [
       "<Figure size 1440x1440 with 2 Axes>"
      ]
     },
     "metadata": {
      "needs_background": "light"
     },
     "output_type": "display_data"
    }
   ],
   "source": [
    "plt.figure(figsize=(20,20))           \n",
    "sns.heatmap(dfcor,cmap='Blues',annot=True)  \n"
   ]
  },
  {
   "cell_type": "markdown",
   "id": "38942f22",
   "metadata": {},
   "source": [
    "# EDA"
   ]
  },
  {
   "cell_type": "markdown",
   "id": "a44ace21",
   "metadata": {},
   "source": [
    "# Checking for distribution of data"
   ]
  },
  {
   "cell_type": "code",
   "execution_count": 19,
   "id": "f748e906",
   "metadata": {},
   "outputs": [
    {
     "data": {
      "image/png": "[encoded data removed]",
      "text/plain": [
       "<Figure size 432x288 with 1 Axes>"
      ]
     },
     "metadata": {
      "needs_background": "light"
     },
     "output_type": "display_data"
    },
    {
     "data": {
      "image/png": "[encoded data removed]",
      "text/plain": [
       "<Figure size 432x288 with 1 Axes>"
      ]
     },
     "metadata": {
      "needs_background": "light"
     },
     "output_type": "display_data"
    },
    {
     "data": {
      "image/png": "[encoded data removed]",
      "text/plain": [
       "<Figure size 432x288 with 1 Axes>"
      ]
     },
     "metadata": {
      "needs_background": "light"
     },
     "output_type": "display_data"
    },
    {
     "data": {
      "image/png": "[encoded data removed]",
      "text/plain": [
       "<Figure size 432x288 with 1 Axes>"
      ]
     },
     "metadata": {
      "needs_background": "light"
     },
     "output_type": "display_data"
    },
    {
     "data": {
      "image/png": "[encoded data removed]",
      "text/plain": [
       "<Figure size 432x288 with 1 Axes>"
      ]
     },
     "metadata": {
      "needs_background": "light"
     },
     "output_type": "display_data"
    },
    {
     "data": {
      "image/png": "[encoded data removed]",
      "text/plain": [
       "<Figure size 432x288 with 1 Axes>"
      ]
     },
     "metadata": {
      "needs_background": "light"
     },
     "output_type": "display_data"
    },
    {
     "data": {
      "image/png": "[encoded data removed]",
      "text/plain": [
       "<Figure size 432x288 with 1 Axes>"
      ]
     },
     "metadata": {
      "needs_background": "light"
     },
     "output_type": "display_data"
    },
    {
     "data": {
      "image/png": "[encoded data removed]",
      "text/plain": [
       "<Figure size 432x288 with 1 Axes>"
      ]
     },
     "metadata": {
      "needs_background": "light"
     },
     "output_type": "display_data"
    },
    {
     "data": {
      "image/png": "[encoded data removed]",
      "text/plain": [
       "<Figure size 432x288 with 1 Axes>"
      ]
     },
     "metadata": {
      "needs_background": "light"
     },
     "output_type": "display_data"
    },
    {
     "data": {
      "image/png": "[encoded data removed]",
      "text/plain": [
       "<Figure size 432x288 with 1 Axes>"
      ]
     },
     "metadata": {
      "needs_background": "light"
     },
     "output_type": "display_data"
    },
    {
     "data": {
      "image/png": "[encoded data removed]",
      "text/plain": [
       "<Figure size 432x288 with 1 Axes>"
      ]
     },
     "metadata": {
      "needs_background": "light"
     },
     "output_type": "display_data"
    },
    {
     "data": {
      "image/png": "[encoded data removed]",
      "text/plain": [
       "<Figure size 432x288 with 1 Axes>"
      ]
     },
     "metadata": {
      "needs_background": "light"
     },
     "output_type": "display_data"
    }
   ],
   "source": [
    "for i in df.describe().columns:\n",
    "    sns.distplot(df[i])\n",
    "    plt.show()"
   ]
  },
  {
   "cell_type": "code",
   "execution_count": 29,
   "id": "27b83888",
   "metadata": {},
   "outputs": [
    {
     "data": {
      "image/png": "[encoded data removed]",
      "text/plain": [
       "<Figure size 2160x2016 with 12 Axes>"
      ]
     },
     "metadata": {
      "needs_background": "light"
     },
     "output_type": "display_data"
    }
   ],
   "source": [
    "df.hist(figsize=(30,28));"
   ]
  },
  {
   "cell_type": "code",
   "execution_count": 30,
   "id": "8b6fe1a3",
   "metadata": {},
   "outputs": [
    {
     "data": {
      "text/plain": [
       "MinTemp         -0.027584\n",
       "MaxTemp          0.355414\n",
       "Rainfall         9.245988\n",
       "WindGustSpeed    0.760239\n",
       "WindSpeed9am     1.047535\n",
       "WindSpeed3pm     0.505636\n",
       "Humidity9am     -0.209426\n",
       "Humidity3pm      0.089337\n",
       "Pressure9am     -0.014362\n",
       "Pressure3pm      0.004238\n",
       "Temp9am          0.033470\n",
       "Temp3pm          0.369079\n",
       "dtype: float64"
      ]
     },
     "execution_count": 30,
     "metadata": {},
     "output_type": "execute_result"
    }
   ],
   "source": [
    "df.skew()"
   ]
  },
  {
   "cell_type": "code",
   "execution_count": null,
   "id": "9695d22a",
   "metadata": {},
   "outputs": [],
   "source": [
    "Observation : Skewness is present in Rainfall attributes."
   ]
  },
  {
   "cell_type": "code",
   "execution_count": 32,
   "id": "dbbe46fa",
   "metadata": {},
   "outputs": [
    {
     "data": {
      "text/plain": [
       "<AxesSubplot:xlabel='Rainfall', ylabel='Density'>"
      ]
     },
     "execution_count": 32,
     "metadata": {},
     "output_type": "execute_result"
    },
    {
     "data": {
      "image/png": "[encoded data removed]",
      "text/plain": [
       "<Figure size 432x288 with 1 Axes>"
      ]
     },
     "metadata": {
      "needs_background": "light"
     },
     "output_type": "display_data"
    }
   ],
   "source": [
    "sns.distplot(df['Rainfall'])"
   ]
  },
  {
   "cell_type": "code",
   "execution_count": 33,
   "id": "a10b19d8",
   "metadata": {},
   "outputs": [
    {
     "data": {
      "text/plain": [
       "<AxesSubplot:xlabel='Rainfall', ylabel='Density'>"
      ]
     },
     "execution_count": 33,
     "metadata": {},
     "output_type": "execute_result"
    },
    {
     "data": {
      "image/png": "[encoded data removed]",
      "text/plain": [
       "<Figure size 432x288 with 1 Axes>"
      ]
     },
     "metadata": {
      "needs_background": "light"
     },
     "output_type": "display_data"
    }
   ],
   "source": [
    "## skewness removal\n",
    "df['Rainfall'] = np.log(df['Rainfall']+1)\n",
    "sns.distplot(df[\"Rainfall\"])"
   ]
  },
  {
   "cell_type": "code",
   "execution_count": 34,
   "id": "27f1ccb7",
   "metadata": {},
   "outputs": [
    {
     "data": {
      "text/plain": [
       "MinTemp         -0.027584\n",
       "MaxTemp          0.355414\n",
       "Rainfall         1.869705\n",
       "WindGustSpeed    0.760239\n",
       "WindSpeed9am     1.047535\n",
       "WindSpeed3pm     0.505636\n",
       "Humidity9am     -0.209426\n",
       "Humidity3pm      0.089337\n",
       "Pressure9am     -0.014362\n",
       "Pressure3pm      0.004238\n",
       "Temp9am          0.033470\n",
       "Temp3pm          0.369079\n",
       "dtype: float64"
      ]
     },
     "execution_count": 34,
     "metadata": {},
     "output_type": "execute_result"
    }
   ],
   "source": [
    "df.skew()"
   ]
  },
  {
   "cell_type": "code",
   "execution_count": 20,
   "id": "06418bb2",
   "metadata": {},
   "outputs": [
    {
     "data": {
      "text/plain": [
       "<AxesSubplot:xlabel='RainTomorrow', ylabel='count'>"
      ]
     },
     "execution_count": 20,
     "metadata": {},
     "output_type": "execute_result"
    },
    {
     "data": {
      "image/png": "[encoded data removed]",
      "text/plain": [
       "<Figure size 432x288 with 1 Axes>"
      ]
     },
     "metadata": {
      "needs_background": "light"
     },
     "output_type": "display_data"
    }
   ],
   "source": [
    "sns.countplot(df['RainTomorrow'])"
   ]
  },
  {
   "cell_type": "markdown",
   "id": "a584fc1e",
   "metadata": {},
   "source": [
    "Observation : Data is unbalanced it needs to be balanced."
   ]
  },
  {
   "cell_type": "code",
   "execution_count": 21,
   "id": "3735e7d7",
   "metadata": {},
   "outputs": [
    {
     "data": {
      "text/plain": [
       "<AxesSubplot:xlabel='WindGustDir', ylabel='count'>"
      ]
     },
     "execution_count": 21,
     "metadata": {},
     "output_type": "execute_result"
    },
    {
     "data": {
      "image/png": "[encoded data removed]",
      "text/plain": [
       "<Figure size 432x288 with 1 Axes>"
      ]
     },
     "metadata": {
      "needs_background": "light"
     },
     "output_type": "display_data"
    }
   ],
   "source": [
    "sns.countplot(df['WindGustDir'])"
   ]
  },
  {
   "cell_type": "code",
   "execution_count": 22,
   "id": "a876c8a2",
   "metadata": {},
   "outputs": [
    {
     "data": {
      "text/plain": [
       "N      621\n",
       "E      511\n",
       "SW     495\n",
       "S      495\n",
       "SSE    470\n",
       "WNW    454\n",
       "W      435\n",
       "WSW    427\n",
       "SE     401\n",
       "ENE    339\n",
       "SSW    338\n",
       "NW     336\n",
       "NE     300\n",
       "NNE    279\n",
       "ESE    249\n",
       "NNW    182\n",
       "Name: WindGustDir, dtype: int64"
      ]
     },
     "execution_count": 22,
     "metadata": {},
     "output_type": "execute_result"
    }
   ],
   "source": [
    "df.WindGustDir.value_counts()"
   ]
  },
  {
   "cell_type": "markdown",
   "id": "3e24cc93",
   "metadata": {},
   "source": [
    "observation : North direction of the strongest wind gust in the 24 hours to midnight is the highest."
   ]
  },
  {
   "cell_type": "code",
   "execution_count": 23,
   "id": "eb35fbc7",
   "metadata": {},
   "outputs": [
    {
     "data": {
      "text/plain": [
       "<AxesSubplot:xlabel='WindDir9am', ylabel='count'>"
      ]
     },
     "execution_count": 23,
     "metadata": {},
     "output_type": "execute_result"
    },
    {
     "data": {
      "image/png": "[encoded data removed]",
      "text/plain": [
       "<Figure size 432x288 with 1 Axes>"
      ]
     },
     "metadata": {
      "needs_background": "light"
     },
     "output_type": "display_data"
    }
   ],
   "source": [
    "sns.countplot(df['WindDir9am'])"
   ]
  },
  {
   "cell_type": "code",
   "execution_count": 24,
   "id": "b85ab805",
   "metadata": {},
   "outputs": [
    {
     "data": {
      "text/plain": [
       "N      751\n",
       "SW     560\n",
       "WSW    479\n",
       "WNW    424\n",
       "NW     416\n",
       "ENE    407\n",
       "SE     397\n",
       "NNE    391\n",
       "W      376\n",
       "SSW    373\n",
       "E      356\n",
       "S      330\n",
       "SSE    317\n",
       "NE     303\n",
       "ESE    227\n",
       "NNW    225\n",
       "Name: WindDir9am, dtype: int64"
      ]
     },
     "execution_count": 24,
     "metadata": {},
     "output_type": "execute_result"
    }
   ],
   "source": [
    "df.WindDir9am.value_counts()"
   ]
  },
  {
   "cell_type": "markdown",
   "id": "fa20fff8",
   "metadata": {},
   "source": [
    "Observation :Higher wind can be seen in North and South-west direction"
   ]
  },
  {
   "cell_type": "code",
   "execution_count": 25,
   "id": "35ad9f5f",
   "metadata": {},
   "outputs": [
    {
     "data": {
      "text/plain": [
       "<AxesSubplot:xlabel='WindDir3pm', ylabel='count'>"
      ]
     },
     "execution_count": 25,
     "metadata": {},
     "output_type": "execute_result"
    },
    {
     "data": {
      "image/png": "[encoded data removed]",
      "text/plain": [
       "<Figure size 432x288 with 1 Axes>"
      ]
     },
     "metadata": {
      "needs_background": "light"
     },
     "output_type": "display_data"
    }
   ],
   "source": [
    "sns.countplot(df['WindDir3pm'])"
   ]
  },
  {
   "cell_type": "code",
   "execution_count": 26,
   "id": "ed57601f",
   "metadata": {},
   "outputs": [
    {
     "data": {
      "text/plain": [
       "S      601\n",
       "SSE    540\n",
       "WSW    501\n",
       "N      447\n",
       "SE     437\n",
       "WNW    413\n",
       "W      405\n",
       "E      397\n",
       "SW     382\n",
       "ESE    381\n",
       "NE     366\n",
       "ENE    339\n",
       "NNE    297\n",
       "SSW    292\n",
       "NW     275\n",
       "NNW    259\n",
       "Name: WindDir3pm, dtype: int64"
      ]
     },
     "execution_count": 26,
     "metadata": {},
     "output_type": "execute_result"
    }
   ],
   "source": [
    "df.WindDir3pm.value_counts()"
   ]
  },
  {
   "cell_type": "markdown",
   "id": "f34f701d",
   "metadata": {},
   "source": [
    "Observation :Higher wind can be seen in and South direction"
   ]
  },
  {
   "cell_type": "markdown",
   "id": "1277f447",
   "metadata": {},
   "source": [
    "# Label Encoder"
   ]
  },
  {
   "cell_type": "code",
   "execution_count": 35,
   "id": "7cc88168",
   "metadata": {},
   "outputs": [],
   "source": [
    "from sklearn.preprocessing import LabelEncoder\n",
    "le = LabelEncoder()\n",
    "df['WindGustDir'] = le.fit_transform(df['WindGustDir'])\n",
    "df['WindDir9am'] = le.fit_transform(df['WindDir9am'])\n",
    "df['WindDir3pm'] = le.fit_transform(df['WindDir3pm'])\n",
    "df['RainToday'] = le.fit_transform(df['RainToday'])\n",
    "df['RainTomorrow'] = le.fit_transform(df['RainTomorrow'])"
   ]
  },
  {
   "cell_type": "code",
   "execution_count": 36,
   "id": "c1afe073",
   "metadata": {},
   "outputs": [
    {
     "data": {
      "text/html": [
       "<div>\n",
       "<style scoped>\n",
       "    .dataframe tbody tr th:only-of-type {\n",
       "        vertical-align: middle;\n",
       "    }\n",
       "\n",
       "    .dataframe tbody tr th {\n",
       "        vertical-align: top;\n",
       "    }\n",
       "\n",
       "    .dataframe thead th {\n",
       "        text-align: right;\n",
       "    }\n",
       "</style>\n",
       "<table border=\"1\" class=\"dataframe\">\n",
       "  <thead>\n",
       "    <tr style=\"text-align: right;\">\n",
       "      <th></th>\n",
       "      <th>MinTemp</th>\n",
       "      <th>MaxTemp</th>\n",
       "      <th>Rainfall</th>\n",
       "      <th>WindGustDir</th>\n",
       "      <th>WindGustSpeed</th>\n",
       "      <th>WindDir9am</th>\n",
       "      <th>WindDir3pm</th>\n",
       "      <th>WindSpeed9am</th>\n",
       "      <th>WindSpeed3pm</th>\n",
       "      <th>Humidity9am</th>\n",
       "      <th>Humidity3pm</th>\n",
       "      <th>Pressure9am</th>\n",
       "      <th>Pressure3pm</th>\n",
       "      <th>Temp9am</th>\n",
       "      <th>Temp3pm</th>\n",
       "      <th>RainToday</th>\n",
       "      <th>RainTomorrow</th>\n",
       "    </tr>\n",
       "  </thead>\n",
       "  <tbody>\n",
       "    <tr>\n",
       "      <th>0</th>\n",
       "      <td>13.4</td>\n",
       "      <td>22.9</td>\n",
       "      <td>0.470004</td>\n",
       "      <td>13</td>\n",
       "      <td>44.0</td>\n",
       "      <td>13</td>\n",
       "      <td>14</td>\n",
       "      <td>20.0</td>\n",
       "      <td>24.0</td>\n",
       "      <td>71.0</td>\n",
       "      <td>22.0</td>\n",
       "      <td>1007.7</td>\n",
       "      <td>1007.1</td>\n",
       "      <td>16.9</td>\n",
       "      <td>21.8</td>\n",
       "      <td>0</td>\n",
       "      <td>0</td>\n",
       "    </tr>\n",
       "    <tr>\n",
       "      <th>1</th>\n",
       "      <td>7.4</td>\n",
       "      <td>25.1</td>\n",
       "      <td>0.000000</td>\n",
       "      <td>14</td>\n",
       "      <td>44.0</td>\n",
       "      <td>6</td>\n",
       "      <td>15</td>\n",
       "      <td>4.0</td>\n",
       "      <td>22.0</td>\n",
       "      <td>44.0</td>\n",
       "      <td>25.0</td>\n",
       "      <td>1010.6</td>\n",
       "      <td>1007.8</td>\n",
       "      <td>17.2</td>\n",
       "      <td>24.3</td>\n",
       "      <td>0</td>\n",
       "      <td>0</td>\n",
       "    </tr>\n",
       "    <tr>\n",
       "      <th>2</th>\n",
       "      <td>12.9</td>\n",
       "      <td>25.7</td>\n",
       "      <td>0.000000</td>\n",
       "      <td>15</td>\n",
       "      <td>46.0</td>\n",
       "      <td>13</td>\n",
       "      <td>15</td>\n",
       "      <td>19.0</td>\n",
       "      <td>26.0</td>\n",
       "      <td>38.0</td>\n",
       "      <td>30.0</td>\n",
       "      <td>1007.6</td>\n",
       "      <td>1008.7</td>\n",
       "      <td>21.0</td>\n",
       "      <td>23.2</td>\n",
       "      <td>0</td>\n",
       "      <td>0</td>\n",
       "    </tr>\n",
       "    <tr>\n",
       "      <th>3</th>\n",
       "      <td>9.2</td>\n",
       "      <td>28.0</td>\n",
       "      <td>0.000000</td>\n",
       "      <td>4</td>\n",
       "      <td>24.0</td>\n",
       "      <td>9</td>\n",
       "      <td>0</td>\n",
       "      <td>11.0</td>\n",
       "      <td>9.0</td>\n",
       "      <td>45.0</td>\n",
       "      <td>16.0</td>\n",
       "      <td>1017.6</td>\n",
       "      <td>1012.8</td>\n",
       "      <td>18.1</td>\n",
       "      <td>26.5</td>\n",
       "      <td>0</td>\n",
       "      <td>0</td>\n",
       "    </tr>\n",
       "    <tr>\n",
       "      <th>4</th>\n",
       "      <td>17.5</td>\n",
       "      <td>32.3</td>\n",
       "      <td>0.693147</td>\n",
       "      <td>13</td>\n",
       "      <td>41.0</td>\n",
       "      <td>1</td>\n",
       "      <td>7</td>\n",
       "      <td>7.0</td>\n",
       "      <td>20.0</td>\n",
       "      <td>82.0</td>\n",
       "      <td>33.0</td>\n",
       "      <td>1010.8</td>\n",
       "      <td>1006.0</td>\n",
       "      <td>17.8</td>\n",
       "      <td>29.7</td>\n",
       "      <td>0</td>\n",
       "      <td>0</td>\n",
       "    </tr>\n",
       "    <tr>\n",
       "      <th>...</th>\n",
       "      <td>...</td>\n",
       "      <td>...</td>\n",
       "      <td>...</td>\n",
       "      <td>...</td>\n",
       "      <td>...</td>\n",
       "      <td>...</td>\n",
       "      <td>...</td>\n",
       "      <td>...</td>\n",
       "      <td>...</td>\n",
       "      <td>...</td>\n",
       "      <td>...</td>\n",
       "      <td>...</td>\n",
       "      <td>...</td>\n",
       "      <td>...</td>\n",
       "      <td>...</td>\n",
       "      <td>...</td>\n",
       "      <td>...</td>\n",
       "    </tr>\n",
       "    <tr>\n",
       "      <th>8419</th>\n",
       "      <td>3.5</td>\n",
       "      <td>21.8</td>\n",
       "      <td>0.000000</td>\n",
       "      <td>0</td>\n",
       "      <td>31.0</td>\n",
       "      <td>2</td>\n",
       "      <td>0</td>\n",
       "      <td>15.0</td>\n",
       "      <td>13.0</td>\n",
       "      <td>59.0</td>\n",
       "      <td>27.0</td>\n",
       "      <td>1024.7</td>\n",
       "      <td>1021.2</td>\n",
       "      <td>9.4</td>\n",
       "      <td>20.9</td>\n",
       "      <td>0</td>\n",
       "      <td>0</td>\n",
       "    </tr>\n",
       "    <tr>\n",
       "      <th>8420</th>\n",
       "      <td>2.8</td>\n",
       "      <td>23.4</td>\n",
       "      <td>0.000000</td>\n",
       "      <td>0</td>\n",
       "      <td>31.0</td>\n",
       "      <td>9</td>\n",
       "      <td>1</td>\n",
       "      <td>13.0</td>\n",
       "      <td>11.0</td>\n",
       "      <td>51.0</td>\n",
       "      <td>24.0</td>\n",
       "      <td>1024.6</td>\n",
       "      <td>1020.3</td>\n",
       "      <td>10.1</td>\n",
       "      <td>22.4</td>\n",
       "      <td>0</td>\n",
       "      <td>0</td>\n",
       "    </tr>\n",
       "    <tr>\n",
       "      <th>8421</th>\n",
       "      <td>3.6</td>\n",
       "      <td>25.3</td>\n",
       "      <td>0.000000</td>\n",
       "      <td>6</td>\n",
       "      <td>22.0</td>\n",
       "      <td>9</td>\n",
       "      <td>3</td>\n",
       "      <td>13.0</td>\n",
       "      <td>9.0</td>\n",
       "      <td>56.0</td>\n",
       "      <td>21.0</td>\n",
       "      <td>1023.5</td>\n",
       "      <td>1019.1</td>\n",
       "      <td>10.9</td>\n",
       "      <td>24.5</td>\n",
       "      <td>0</td>\n",
       "      <td>0</td>\n",
       "    </tr>\n",
       "    <tr>\n",
       "      <th>8422</th>\n",
       "      <td>5.4</td>\n",
       "      <td>26.9</td>\n",
       "      <td>0.000000</td>\n",
       "      <td>3</td>\n",
       "      <td>37.0</td>\n",
       "      <td>9</td>\n",
       "      <td>14</td>\n",
       "      <td>9.0</td>\n",
       "      <td>9.0</td>\n",
       "      <td>53.0</td>\n",
       "      <td>24.0</td>\n",
       "      <td>1021.0</td>\n",
       "      <td>1016.8</td>\n",
       "      <td>12.5</td>\n",
       "      <td>26.1</td>\n",
       "      <td>0</td>\n",
       "      <td>0</td>\n",
       "    </tr>\n",
       "    <tr>\n",
       "      <th>8423</th>\n",
       "      <td>7.8</td>\n",
       "      <td>27.0</td>\n",
       "      <td>0.000000</td>\n",
       "      <td>9</td>\n",
       "      <td>28.0</td>\n",
       "      <td>10</td>\n",
       "      <td>3</td>\n",
       "      <td>13.0</td>\n",
       "      <td>7.0</td>\n",
       "      <td>51.0</td>\n",
       "      <td>24.0</td>\n",
       "      <td>1019.4</td>\n",
       "      <td>1016.5</td>\n",
       "      <td>15.1</td>\n",
       "      <td>26.0</td>\n",
       "      <td>0</td>\n",
       "      <td>0</td>\n",
       "    </tr>\n",
       "  </tbody>\n",
       "</table>\n",
       "<p>6332 rows × 17 columns</p>\n",
       "</div>"
      ],
      "text/plain": [
       "      MinTemp  MaxTemp  Rainfall  WindGustDir  WindGustSpeed  WindDir9am  \\\n",
       "0        13.4     22.9  0.470004           13           44.0          13   \n",
       "1         7.4     25.1  0.000000           14           44.0           6   \n",
       "2        12.9     25.7  0.000000           15           46.0          13   \n",
       "3         9.2     28.0  0.000000            4           24.0           9   \n",
       "4        17.5     32.3  0.693147           13           41.0           1   \n",
       "...       ...      ...       ...          ...            ...         ...   \n",
       "8419      3.5     21.8  0.000000            0           31.0           2   \n",
       "8420      2.8     23.4  0.000000            0           31.0           9   \n",
       "8421      3.6     25.3  0.000000            6           22.0           9   \n",
       "8422      5.4     26.9  0.000000            3           37.0           9   \n",
       "8423      7.8     27.0  0.000000            9           28.0          10   \n",
       "\n",
       "      WindDir3pm  WindSpeed9am  WindSpeed3pm  Humidity9am  Humidity3pm  \\\n",
       "0             14          20.0          24.0         71.0         22.0   \n",
       "1             15           4.0          22.0         44.0         25.0   \n",
       "2             15          19.0          26.0         38.0         30.0   \n",
       "3              0          11.0           9.0         45.0         16.0   \n",
       "4              7           7.0          20.0         82.0         33.0   \n",
       "...          ...           ...           ...          ...          ...   \n",
       "8419           0          15.0          13.0         59.0         27.0   \n",
       "8420           1          13.0          11.0         51.0         24.0   \n",
       "8421           3          13.0           9.0         56.0         21.0   \n",
       "8422          14           9.0           9.0         53.0         24.0   \n",
       "8423           3          13.0           7.0         51.0         24.0   \n",
       "\n",
       "      Pressure9am  Pressure3pm  Temp9am  Temp3pm  RainToday  RainTomorrow  \n",
       "0          1007.7       1007.1     16.9     21.8          0             0  \n",
       "1          1010.6       1007.8     17.2     24.3          0             0  \n",
       "2          1007.6       1008.7     21.0     23.2          0             0  \n",
       "3          1017.6       1012.8     18.1     26.5          0             0  \n",
       "4          1010.8       1006.0     17.8     29.7          0             0  \n",
       "...           ...          ...      ...      ...        ...           ...  \n",
       "8419       1024.7       1021.2      9.4     20.9          0             0  \n",
       "8420       1024.6       1020.3     10.1     22.4          0             0  \n",
       "8421       1023.5       1019.1     10.9     24.5          0             0  \n",
       "8422       1021.0       1016.8     12.5     26.1          0             0  \n",
       "8423       1019.4       1016.5     15.1     26.0          0             0  \n",
       "\n",
       "[6332 rows x 17 columns]"
      ]
     },
     "execution_count": 36,
     "metadata": {},
     "output_type": "execute_result"
    }
   ],
   "source": [
    "df"
   ]
  },
  {
   "cell_type": "markdown",
   "id": "fc2aa41d",
   "metadata": {},
   "source": [
    "# Box plot for outliers"
   ]
  },
  {
   "cell_type": "code",
   "execution_count": 37,
   "id": "3195b7c3",
   "metadata": {},
   "outputs": [
    {
     "data": {
      "image/png": "[encoded data removed]",
      "text/plain": [
       "<Figure size 432x288 with 1 Axes>"
      ]
     },
     "metadata": {
      "needs_background": "light"
     },
     "output_type": "display_data"
    },
    {
     "data": {
      "image/png": "[encoded data removed]",
      "text/plain": [
       "<Figure size 432x288 with 1 Axes>"
      ]
     },
     "metadata": {
      "needs_background": "light"
     },
     "output_type": "display_data"
    },
    {
     "data": {
      "image/png": "[encoded data removed]",
      "text/plain": [
       "<Figure size 432x288 with 1 Axes>"
      ]
     },
     "metadata": {
      "needs_background": "light"
     },
     "output_type": "display_data"
    },
    {
     "data": {
      "image/png": "[encoded data removed]",
      "text/plain": [
       "<Figure size 432x288 with 1 Axes>"
      ]
     },
     "metadata": {
      "needs_background": "light"
     },
     "output_type": "display_data"
    },
    {
     "data": {
      "image/png": "[encoded data removed]",
      "text/plain": [
       "<Figure size 432x288 with 1 Axes>"
      ]
     },
     "metadata": {
      "needs_background": "light"
     },
     "output_type": "display_data"
    },
    {
     "data": {
      "image/png": "[encoded data removed]",
      "text/plain": [
       "<Figure size 432x288 with 1 Axes>"
      ]
     },
     "metadata": {
      "needs_background": "light"
     },
     "output_type": "display_data"
    },
    {
     "data": {
      "image/png": "[encoded data removed]",
      "text/plain": [
       "<Figure size 432x288 with 1 Axes>"
      ]
     },
     "metadata": {
      "needs_background": "light"
     },
     "output_type": "display_data"
    },
    {
     "data": {
      "image/png": "[encoded data removed]",
      "text/plain": [
       "<Figure size 432x288 with 1 Axes>"
      ]
     },
     "metadata": {
      "needs_background": "light"
     },
     "output_type": "display_data"
    },
    {
     "data": {
      "image/png": "[encoded data removed]",
      "text/plain": [
       "<Figure size 432x288 with 1 Axes>"
      ]
     },
     "metadata": {
      "needs_background": "light"
     },
     "output_type": "display_data"
    },
    {
     "data": {
      "image/png": "[encoded data removed]",
      "text/plain": [
       "<Figure size 432x288 with 1 Axes>"
      ]
     },
     "metadata": {
      "needs_background": "light"
     },
     "output_type": "display_data"
    },
    {
     "data": {
      "image/png": "[encoded data removed]",
      "text/plain": [
       "<Figure size 432x288 with 1 Axes>"
      ]
     },
     "metadata": {
      "needs_background": "light"
     },
     "output_type": "display_data"
    },
    {
     "data": {
      "image/png": "[encoded data removed]",
      "text/plain": [
       "<Figure size 432x288 with 1 Axes>"
      ]
     },
     "metadata": {
      "needs_background": "light"
     },
     "output_type": "display_data"
    },
    {
     "data": {
      "image/png": "[encoded data removed]",
      "text/plain": [
       "<Figure size 432x288 with 1 Axes>"
      ]
     },
     "metadata": {
      "needs_background": "light"
     },
     "output_type": "display_data"
    },
    {
     "data": {
      "image/png": "[encoded data removed]",
      "text/plain": [
       "<Figure size 432x288 with 1 Axes>"
      ]
     },
     "metadata": {
      "needs_background": "light"
     },
     "output_type": "display_data"
    },
    {
     "data": {
      "image/png": "[encoded data removed]",
      "text/plain": [
       "<Figure size 432x288 with 1 Axes>"
      ]
     },
     "metadata": {
      "needs_background": "light"
     },
     "output_type": "display_data"
    },
    {
     "data": {
      "image/png": "[encoded data removed]",
      "text/plain": [
       "<Figure size 432x288 with 1 Axes>"
      ]
     },
     "metadata": {
      "needs_background": "light"
     },
     "output_type": "display_data"
    },
    {
     "data": {
      "image/png": "[encoded data removed]",
      "text/plain": [
       "<Figure size 432x288 with 1 Axes>"
      ]
     },
     "metadata": {
      "needs_background": "light"
     },
     "output_type": "display_data"
    }
   ],
   "source": [
    "for i in df.describe().columns:\n",
    "    df[i].plot.box()\n",
    "    plt.show()"
   ]
  },
  {
   "cell_type": "code",
   "execution_count": 38,
   "id": "87e8a7ad",
   "metadata": {},
   "outputs": [
    {
     "data": {
      "text/plain": [
       "MinTemp             AxesSubplot(0.125,0.787927;0.133621x0.0920732)\n",
       "MaxTemp          AxesSubplot(0.285345,0.787927;0.133621x0.0920732)\n",
       "Rainfall          AxesSubplot(0.44569,0.787927;0.133621x0.0920732)\n",
       "WindGustDir      AxesSubplot(0.606034,0.787927;0.133621x0.0920732)\n",
       "WindGustSpeed    AxesSubplot(0.766379,0.787927;0.133621x0.0920732)\n",
       "WindDir9am          AxesSubplot(0.125,0.677439;0.133621x0.0920732)\n",
       "WindDir3pm       AxesSubplot(0.285345,0.677439;0.133621x0.0920732)\n",
       "WindSpeed9am      AxesSubplot(0.44569,0.677439;0.133621x0.0920732)\n",
       "WindSpeed3pm     AxesSubplot(0.606034,0.677439;0.133621x0.0920732)\n",
       "Humidity9am      AxesSubplot(0.766379,0.677439;0.133621x0.0920732)\n",
       "Humidity3pm         AxesSubplot(0.125,0.566951;0.133621x0.0920732)\n",
       "Pressure9am      AxesSubplot(0.285345,0.566951;0.133621x0.0920732)\n",
       "Pressure3pm       AxesSubplot(0.44569,0.566951;0.133621x0.0920732)\n",
       "Temp9am          AxesSubplot(0.606034,0.566951;0.133621x0.0920732)\n",
       "Temp3pm          AxesSubplot(0.766379,0.566951;0.133621x0.0920732)\n",
       "RainToday           AxesSubplot(0.125,0.456463;0.133621x0.0920732)\n",
       "RainTomorrow     AxesSubplot(0.285345,0.456463;0.133621x0.0920732)\n",
       "dtype: object"
      ]
     },
     "execution_count": 38,
     "metadata": {},
     "output_type": "execute_result"
    },
    {
     "data": {
      "image/png": "[encoded data removed]",
      "text/plain": [
       "<Figure size 3600x3600 with 35 Axes>"
      ]
     },
     "metadata": {
      "needs_background": "light"
     },
     "output_type": "display_data"
    }
   ],
   "source": [
    "df.plot(kind='box',subplots=True,layout=(7,5),\n",
    "        figsize=(50,50))"
   ]
  },
  {
   "cell_type": "markdown",
   "id": "581bb0f7",
   "metadata": {},
   "source": [
    "Observation : Outliers are present so it needs to be removed."
   ]
  },
  {
   "cell_type": "markdown",
   "id": "b922d5b1",
   "metadata": {},
   "source": [
    "# Removing outliers by zscore"
   ]
  },
  {
   "cell_type": "code",
   "execution_count": 39,
   "id": "08c2010b",
   "metadata": {},
   "outputs": [
    {
     "data": {
      "text/html": [
       "<div>\n",
       "<style scoped>\n",
       "    .dataframe tbody tr th:only-of-type {\n",
       "        vertical-align: middle;\n",
       "    }\n",
       "\n",
       "    .dataframe tbody tr th {\n",
       "        vertical-align: top;\n",
       "    }\n",
       "\n",
       "    .dataframe thead th {\n",
       "        text-align: right;\n",
       "    }\n",
       "</style>\n",
       "<table border=\"1\" class=\"dataframe\">\n",
       "  <thead>\n",
       "    <tr style=\"text-align: right;\">\n",
       "      <th></th>\n",
       "      <th>MinTemp</th>\n",
       "      <th>MaxTemp</th>\n",
       "      <th>Rainfall</th>\n",
       "      <th>WindGustDir</th>\n",
       "      <th>WindGustSpeed</th>\n",
       "      <th>WindDir9am</th>\n",
       "      <th>WindDir3pm</th>\n",
       "      <th>WindSpeed9am</th>\n",
       "      <th>WindSpeed3pm</th>\n",
       "      <th>Humidity9am</th>\n",
       "      <th>Humidity3pm</th>\n",
       "      <th>Pressure9am</th>\n",
       "      <th>Pressure3pm</th>\n",
       "      <th>Temp9am</th>\n",
       "      <th>Temp3pm</th>\n",
       "      <th>RainToday</th>\n",
       "      <th>RainTomorrow</th>\n",
       "    </tr>\n",
       "  </thead>\n",
       "  <tbody>\n",
       "    <tr>\n",
       "      <th>0</th>\n",
       "      <td>0.025750</td>\n",
       "      <td>0.186105</td>\n",
       "      <td>0.065537</td>\n",
       "      <td>1.103779</td>\n",
       "      <td>0.189791</td>\n",
       "      <td>1.123472</td>\n",
       "      <td>1.331828</td>\n",
       "      <td>0.433454</td>\n",
       "      <td>0.447695</td>\n",
       "      <td>0.292261</td>\n",
       "      <td>1.555986</td>\n",
       "      <td>1.450987</td>\n",
       "      <td>1.199331</td>\n",
       "      <td>0.228535</td>\n",
       "      <td>0.133048</td>\n",
       "      <td>0.570299</td>\n",
       "      <td>0.565921</td>\n",
       "    </tr>\n",
       "    <tr>\n",
       "      <th>1</th>\n",
       "      <td>1.156848</td>\n",
       "      <td>0.167533</td>\n",
       "      <td>0.548924</td>\n",
       "      <td>1.314079</td>\n",
       "      <td>0.189791</td>\n",
       "      <td>0.360430</td>\n",
       "      <td>1.546526</td>\n",
       "      <td>1.257241</td>\n",
       "      <td>0.223830</td>\n",
       "      <td>1.321995</td>\n",
       "      <td>1.394830</td>\n",
       "      <td>1.023432</td>\n",
       "      <td>1.095002</td>\n",
       "      <td>0.174727</td>\n",
       "      <td>0.280037</td>\n",
       "      <td>0.570299</td>\n",
       "      <td>0.565921</td>\n",
       "    </tr>\n",
       "    <tr>\n",
       "      <th>2</th>\n",
       "      <td>0.120008</td>\n",
       "      <td>0.263980</td>\n",
       "      <td>0.548924</td>\n",
       "      <td>1.524380</td>\n",
       "      <td>0.329749</td>\n",
       "      <td>1.123472</td>\n",
       "      <td>1.546526</td>\n",
       "      <td>0.327786</td>\n",
       "      <td>0.671560</td>\n",
       "      <td>1.680718</td>\n",
       "      <td>1.126236</td>\n",
       "      <td>1.465730</td>\n",
       "      <td>0.960864</td>\n",
       "      <td>0.506835</td>\n",
       "      <td>0.098279</td>\n",
       "      <td>0.570299</td>\n",
       "      <td>0.565921</td>\n",
       "    </tr>\n",
       "    <tr>\n",
       "      <th>3</th>\n",
       "      <td>0.817518</td>\n",
       "      <td>0.633692</td>\n",
       "      <td>0.548924</td>\n",
       "      <td>0.788926</td>\n",
       "      <td>1.209795</td>\n",
       "      <td>0.275528</td>\n",
       "      <td>1.673948</td>\n",
       "      <td>0.517562</td>\n",
       "      <td>1.231293</td>\n",
       "      <td>1.262207</td>\n",
       "      <td>1.878299</td>\n",
       "      <td>0.008596</td>\n",
       "      <td>0.349790</td>\n",
       "      <td>0.013305</td>\n",
       "      <td>0.643552</td>\n",
       "      <td>0.570299</td>\n",
       "      <td>0.565921</td>\n",
       "    </tr>\n",
       "    <tr>\n",
       "      <th>4</th>\n",
       "      <td>0.747167</td>\n",
       "      <td>1.324894</td>\n",
       "      <td>0.163961</td>\n",
       "      <td>1.103779</td>\n",
       "      <td>0.020147</td>\n",
       "      <td>1.420360</td>\n",
       "      <td>0.171060</td>\n",
       "      <td>0.940235</td>\n",
       "      <td>0.000035</td>\n",
       "      <td>0.949920</td>\n",
       "      <td>0.965080</td>\n",
       "      <td>0.993946</td>\n",
       "      <td>1.363278</td>\n",
       "      <td>0.067112</td>\n",
       "      <td>1.172301</td>\n",
       "      <td>0.570299</td>\n",
       "      <td>0.565921</td>\n",
       "    </tr>\n",
       "    <tr>\n",
       "      <th>...</th>\n",
       "      <td>...</td>\n",
       "      <td>...</td>\n",
       "      <td>...</td>\n",
       "      <td>...</td>\n",
       "      <td>...</td>\n",
       "      <td>...</td>\n",
       "      <td>...</td>\n",
       "      <td>...</td>\n",
       "      <td>...</td>\n",
       "      <td>...</td>\n",
       "      <td>...</td>\n",
       "      <td>...</td>\n",
       "      <td>...</td>\n",
       "      <td>...</td>\n",
       "      <td>...</td>\n",
       "      <td>...</td>\n",
       "      <td>...</td>\n",
       "    </tr>\n",
       "    <tr>\n",
       "      <th>8419</th>\n",
       "      <td>1.892061</td>\n",
       "      <td>0.362924</td>\n",
       "      <td>0.548924</td>\n",
       "      <td>1.630128</td>\n",
       "      <td>0.719940</td>\n",
       "      <td>1.208374</td>\n",
       "      <td>1.673948</td>\n",
       "      <td>0.094888</td>\n",
       "      <td>0.783563</td>\n",
       "      <td>0.425186</td>\n",
       "      <td>1.287393</td>\n",
       "      <td>1.055368</td>\n",
       "      <td>0.902165</td>\n",
       "      <td>1.573723</td>\n",
       "      <td>0.281759</td>\n",
       "      <td>0.570299</td>\n",
       "      <td>0.565921</td>\n",
       "    </tr>\n",
       "    <tr>\n",
       "      <th>8420</th>\n",
       "      <td>2.024023</td>\n",
       "      <td>0.105733</td>\n",
       "      <td>0.548924</td>\n",
       "      <td>1.630128</td>\n",
       "      <td>0.719940</td>\n",
       "      <td>0.275528</td>\n",
       "      <td>1.459250</td>\n",
       "      <td>0.306225</td>\n",
       "      <td>1.007428</td>\n",
       "      <td>0.903484</td>\n",
       "      <td>1.448549</td>\n",
       "      <td>1.040625</td>\n",
       "      <td>0.768027</td>\n",
       "      <td>1.448172</td>\n",
       "      <td>0.033908</td>\n",
       "      <td>0.570299</td>\n",
       "      <td>0.565921</td>\n",
       "    </tr>\n",
       "    <tr>\n",
       "      <th>8421</th>\n",
       "      <td>1.873210</td>\n",
       "      <td>0.199682</td>\n",
       "      <td>0.548924</td>\n",
       "      <td>0.368325</td>\n",
       "      <td>1.349754</td>\n",
       "      <td>0.275528</td>\n",
       "      <td>1.029853</td>\n",
       "      <td>0.306225</td>\n",
       "      <td>1.231293</td>\n",
       "      <td>0.604548</td>\n",
       "      <td>1.609705</td>\n",
       "      <td>0.878449</td>\n",
       "      <td>0.589176</td>\n",
       "      <td>1.304685</td>\n",
       "      <td>0.313084</td>\n",
       "      <td>0.570299</td>\n",
       "      <td>0.565921</td>\n",
       "    </tr>\n",
       "    <tr>\n",
       "      <th>8422</th>\n",
       "      <td>1.533880</td>\n",
       "      <td>0.456873</td>\n",
       "      <td>0.548924</td>\n",
       "      <td>0.999226</td>\n",
       "      <td>0.300064</td>\n",
       "      <td>0.275528</td>\n",
       "      <td>1.331828</td>\n",
       "      <td>0.728898</td>\n",
       "      <td>1.231293</td>\n",
       "      <td>0.783910</td>\n",
       "      <td>1.448549</td>\n",
       "      <td>0.509867</td>\n",
       "      <td>0.246379</td>\n",
       "      <td>1.017712</td>\n",
       "      <td>0.577458</td>\n",
       "      <td>0.570299</td>\n",
       "      <td>0.565921</td>\n",
       "    </tr>\n",
       "    <tr>\n",
       "      <th>8423</th>\n",
       "      <td>1.081441</td>\n",
       "      <td>0.472948</td>\n",
       "      <td>0.548924</td>\n",
       "      <td>0.262577</td>\n",
       "      <td>0.929878</td>\n",
       "      <td>0.487514</td>\n",
       "      <td>1.029853</td>\n",
       "      <td>0.306225</td>\n",
       "      <td>1.455158</td>\n",
       "      <td>0.903484</td>\n",
       "      <td>1.448549</td>\n",
       "      <td>0.273975</td>\n",
       "      <td>0.201666</td>\n",
       "      <td>0.551380</td>\n",
       "      <td>0.560935</td>\n",
       "      <td>0.570299</td>\n",
       "      <td>0.565921</td>\n",
       "    </tr>\n",
       "  </tbody>\n",
       "</table>\n",
       "<p>6332 rows × 17 columns</p>\n",
       "</div>"
      ],
      "text/plain": [
       "       MinTemp   MaxTemp  Rainfall  WindGustDir  WindGustSpeed  WindDir9am  \\\n",
       "0     0.025750  0.186105  0.065537     1.103779       0.189791    1.123472   \n",
       "1     1.156848  0.167533  0.548924     1.314079       0.189791    0.360430   \n",
       "2     0.120008  0.263980  0.548924     1.524380       0.329749    1.123472   \n",
       "3     0.817518  0.633692  0.548924     0.788926       1.209795    0.275528   \n",
       "4     0.747167  1.324894  0.163961     1.103779       0.020147    1.420360   \n",
       "...        ...       ...       ...          ...            ...         ...   \n",
       "8419  1.892061  0.362924  0.548924     1.630128       0.719940    1.208374   \n",
       "8420  2.024023  0.105733  0.548924     1.630128       0.719940    0.275528   \n",
       "8421  1.873210  0.199682  0.548924     0.368325       1.349754    0.275528   \n",
       "8422  1.533880  0.456873  0.548924     0.999226       0.300064    0.275528   \n",
       "8423  1.081441  0.472948  0.548924     0.262577       0.929878    0.487514   \n",
       "\n",
       "      WindDir3pm  WindSpeed9am  WindSpeed3pm  Humidity9am  Humidity3pm  \\\n",
       "0       1.331828      0.433454      0.447695     0.292261     1.555986   \n",
       "1       1.546526      1.257241      0.223830     1.321995     1.394830   \n",
       "2       1.546526      0.327786      0.671560     1.680718     1.126236   \n",
       "3       1.673948      0.517562      1.231293     1.262207     1.878299   \n",
       "4       0.171060      0.940235      0.000035     0.949920     0.965080   \n",
       "...          ...           ...           ...          ...          ...   \n",
       "8419    1.673948      0.094888      0.783563     0.425186     1.287393   \n",
       "8420    1.459250      0.306225      1.007428     0.903484     1.448549   \n",
       "8421    1.029853      0.306225      1.231293     0.604548     1.609705   \n",
       "8422    1.331828      0.728898      1.231293     0.783910     1.448549   \n",
       "8423    1.029853      0.306225      1.455158     0.903484     1.448549   \n",
       "\n",
       "      Pressure9am  Pressure3pm   Temp9am   Temp3pm  RainToday  RainTomorrow  \n",
       "0        1.450987     1.199331  0.228535  0.133048   0.570299      0.565921  \n",
       "1        1.023432     1.095002  0.174727  0.280037   0.570299      0.565921  \n",
       "2        1.465730     0.960864  0.506835  0.098279   0.570299      0.565921  \n",
       "3        0.008596     0.349790  0.013305  0.643552   0.570299      0.565921  \n",
       "4        0.993946     1.363278  0.067112  1.172301   0.570299      0.565921  \n",
       "...           ...          ...       ...       ...        ...           ...  \n",
       "8419     1.055368     0.902165  1.573723  0.281759   0.570299      0.565921  \n",
       "8420     1.040625     0.768027  1.448172  0.033908   0.570299      0.565921  \n",
       "8421     0.878449     0.589176  1.304685  0.313084   0.570299      0.565921  \n",
       "8422     0.509867     0.246379  1.017712  0.577458   0.570299      0.565921  \n",
       "8423     0.273975     0.201666  0.551380  0.560935   0.570299      0.565921  \n",
       "\n",
       "[6332 rows x 17 columns]"
      ]
     },
     "execution_count": 39,
     "metadata": {},
     "output_type": "execute_result"
    }
   ],
   "source": [
    "import numpy as np\n",
    "from scipy.stats import zscore\n",
    "z=np.abs(zscore(df))\n",
    "z"
   ]
  },
  {
   "cell_type": "code",
   "execution_count": 40,
   "id": "5d28eaca",
   "metadata": {},
   "outputs": [
    {
     "name": "stdout",
     "output_type": "stream",
     "text": [
      "(array([  12,   12,   41,   41,   49,   49,   57,   57,   58,   59,   59,\n",
      "         62,   63,   63,  104,  200,  305,  305,  327,  328,  329,  351,\n",
      "        368,  431,  522,  522,  523,  536,  550,  585,  605,  628,  629,\n",
      "        634,  726,  739,  768,  769,  769,  769,  790,  791,  793,  913,\n",
      "        957,  958,  992,  996, 1019, 1020, 1110, 1111, 1164, 1165, 1166,\n",
      "       1225, 1226, 1227, 1258, 1259, 1279, 1288, 1319, 1326, 1328, 1335,\n",
      "       1423, 1468, 1476, 1476, 1483, 1484, 1484, 1484, 1485, 1487, 1499,\n",
      "       1499, 1499, 1506, 1506, 1516, 1516, 1636, 1647, 1658, 1658, 1676,\n",
      "       1702, 1713, 1767, 1769, 1778, 1794, 1794, 1794, 1794, 1795, 1795,\n",
      "       1803, 1816, 1836, 1858, 1899, 1911, 1942, 1943, 1947, 1954, 1958,\n",
      "       2024, 2033, 2064, 2071, 2073, 2080, 2168, 2213, 2221, 2221, 2228,\n",
      "       2229, 2229, 2229, 2230, 2232, 2244, 2244, 2244, 2251, 2251, 2261,\n",
      "       2261, 2381, 2392, 2403, 2403, 2421, 2447, 2458, 2512, 2514, 2523,\n",
      "       2539, 2539, 2539, 2539, 2540, 2540, 2548, 2561, 2581, 2603, 2644,\n",
      "       2656, 2687, 2688, 2692, 2699, 2703, 2755, 2755, 2791, 2793, 2842,\n",
      "       2842, 2862, 2873, 2880, 2895, 2896, 2953, 2993, 2998, 2998, 3014,\n",
      "       3048, 3048, 3052, 3058, 3069, 3069, 3070, 3074, 3101, 3107, 3110,\n",
      "       3110, 3126, 3133, 3149, 3171, 3175, 3175, 3193, 3221, 3240, 3333,\n",
      "       3348, 3348, 3351, 3357, 3357, 3369, 3370, 3372, 3372, 3378, 3379,\n",
      "       3379, 3380, 3380, 3380, 3392, 3409, 3410, 3420, 3430, 3433, 3441,\n",
      "       3443, 3444, 3455, 3455, 3491, 3493, 3542, 3542, 3562, 3573, 3580,\n",
      "       3595, 3596, 3653, 3693, 3698, 3698, 3714, 3748, 3748, 3752, 3758,\n",
      "       3769, 3769, 3770, 3774, 3801, 3807, 3810, 3810, 3826, 3833, 3849,\n",
      "       3871, 3875, 3875, 3893, 3921, 3940, 4033, 4048, 4048, 4051, 4057,\n",
      "       4057, 4069, 4070, 4072, 4072, 4078, 4079, 4079, 4080, 4080, 4080,\n",
      "       4092, 4109, 4110, 4120, 4130, 4133, 4141, 4143, 4144, 4154, 4186,\n",
      "       4209, 4374, 4426, 4465, 4466, 4473, 4474, 4486, 4502, 4563, 4756,\n",
      "       4807, 4842, 4858, 4883, 4884, 4910, 4928, 4943, 5101, 5108, 5126,\n",
      "       5219, 5263, 5303, 5395, 5477, 5502, 5529, 5557, 5557, 5657, 5657,\n",
      "       5657, 5740, 5768, 5783, 5894, 5894, 5895, 5895, 5895, 6011, 6046,\n",
      "       6054, 6055, 6055, 6095, 6288], dtype=int64), array([11, 12,  1, 14,  4,  8,  1, 14, 14,  1, 14, 14,  1, 14,  4,  4,  4,\n",
      "        8, 14, 14, 14,  2,  2,  4, 11, 12,  2,  2,  2, 12,  2,  2,  2,  2,\n",
      "        2,  2,  2,  2,  4,  7,  2,  2,  2,  2,  2,  2,  2,  2,  2,  2,  2,\n",
      "        2,  2,  2,  2,  2,  2,  2,  2,  2,  2, 14,  2,  2,  2,  2,  2,  2,\n",
      "       11, 12,  4,  4,  7,  8,  7,  4,  4,  7,  8,  4,  7,  4,  8, 13, 14,\n",
      "        1, 14,  2,  2,  2,  2,  2,  2,  2,  4, 11, 12,  4, 11,  8,  8,  4,\n",
      "        2,  7,  2,  4,  4,  2,  8,  2,  2, 14,  2,  2,  2,  2,  2,  2, 11,\n",
      "       12,  4,  4,  7,  8,  7,  4,  4,  7,  8,  4,  7,  4,  8, 13, 14,  1,\n",
      "       14,  2,  2,  2,  2,  2,  2,  2,  4, 11, 12,  4, 11,  8,  8,  4,  2,\n",
      "        7,  2,  4,  4,  2,  8,  2, 11, 12,  4,  2,  1, 14,  7,  2,  7,  4,\n",
      "        2,  7,  4, 11, 12,  8,  4,  7,  4,  8,  8, 12,  4,  7,  8,  7, 11,\n",
      "       12,  2,  7,  7,  7, 11, 12,  7,  2,  7,  7, 11, 12,  7,  4,  7,  7,\n",
      "        8,  4,  7,  7,  7,  8,  2, 11, 12,  7,  2,  7,  2,  2,  7,  7,  7,\n",
      "        7, 11, 12,  4,  2,  1, 14,  7,  2,  7,  4,  2,  7,  4, 11, 12,  8,\n",
      "        4,  7,  4,  8,  8, 12,  4,  7,  8,  7, 11, 12,  2,  7,  7,  7, 11,\n",
      "       12,  7,  2,  7,  7, 11, 12,  7,  4,  7,  7,  8,  4,  7,  7,  7,  8,\n",
      "        2, 11, 12,  7,  2,  7,  2,  2,  7,  7,  7,  7,  2,  2,  2,  2,  2,\n",
      "        2,  2,  2,  2,  2,  2,  2, 12,  4,  9,  9,  9,  9,  4, 11, 13,  8,\n",
      "        2, 11,  2, 14,  9,  4,  2,  9,  9,  4,  8,  2, 11, 12,  2,  2,  4,\n",
      "        1, 14,  1,  9, 13,  2,  2,  2,  2,  4,  2,  2], dtype=int64))\n"
     ]
    }
   ],
   "source": [
    "threshold=3\n",
    "print(np.where(z>3))"
   ]
  },
  {
   "cell_type": "code",
   "execution_count": 41,
   "id": "d98134af",
   "metadata": {},
   "outputs": [
    {
     "data": {
      "text/plain": [
       "3.426584147163376"
      ]
     },
     "execution_count": 41,
     "metadata": {},
     "output_type": "execute_result"
    }
   ],
   "source": [
    "z.iloc[12,11]"
   ]
  },
  {
   "cell_type": "code",
   "execution_count": 42,
   "id": "fbc59f67",
   "metadata": {},
   "outputs": [],
   "source": [
    "df1=df[(z<3).all(axis=1)]"
   ]
  },
  {
   "cell_type": "code",
   "execution_count": 43,
   "id": "db89edd3",
   "metadata": {},
   "outputs": [
    {
     "data": {
      "text/html": [
       "<div>\n",
       "<style scoped>\n",
       "    .dataframe tbody tr th:only-of-type {\n",
       "        vertical-align: middle;\n",
       "    }\n",
       "\n",
       "    .dataframe tbody tr th {\n",
       "        vertical-align: top;\n",
       "    }\n",
       "\n",
       "    .dataframe thead th {\n",
       "        text-align: right;\n",
       "    }\n",
       "</style>\n",
       "<table border=\"1\" class=\"dataframe\">\n",
       "  <thead>\n",
       "    <tr style=\"text-align: right;\">\n",
       "      <th></th>\n",
       "      <th>MinTemp</th>\n",
       "      <th>MaxTemp</th>\n",
       "      <th>Rainfall</th>\n",
       "      <th>WindGustDir</th>\n",
       "      <th>WindGustSpeed</th>\n",
       "      <th>WindDir9am</th>\n",
       "      <th>WindDir3pm</th>\n",
       "      <th>WindSpeed9am</th>\n",
       "      <th>WindSpeed3pm</th>\n",
       "      <th>Humidity9am</th>\n",
       "      <th>Humidity3pm</th>\n",
       "      <th>Pressure9am</th>\n",
       "      <th>Pressure3pm</th>\n",
       "      <th>Temp9am</th>\n",
       "      <th>Temp3pm</th>\n",
       "      <th>RainToday</th>\n",
       "      <th>RainTomorrow</th>\n",
       "    </tr>\n",
       "  </thead>\n",
       "  <tbody>\n",
       "    <tr>\n",
       "      <th>0</th>\n",
       "      <td>13.4</td>\n",
       "      <td>22.9</td>\n",
       "      <td>0.470004</td>\n",
       "      <td>13</td>\n",
       "      <td>44.0</td>\n",
       "      <td>13</td>\n",
       "      <td>14</td>\n",
       "      <td>20.0</td>\n",
       "      <td>24.0</td>\n",
       "      <td>71.0</td>\n",
       "      <td>22.0</td>\n",
       "      <td>1007.7</td>\n",
       "      <td>1007.1</td>\n",
       "      <td>16.9</td>\n",
       "      <td>21.8</td>\n",
       "      <td>0</td>\n",
       "      <td>0</td>\n",
       "    </tr>\n",
       "    <tr>\n",
       "      <th>1</th>\n",
       "      <td>7.4</td>\n",
       "      <td>25.1</td>\n",
       "      <td>0.000000</td>\n",
       "      <td>14</td>\n",
       "      <td>44.0</td>\n",
       "      <td>6</td>\n",
       "      <td>15</td>\n",
       "      <td>4.0</td>\n",
       "      <td>22.0</td>\n",
       "      <td>44.0</td>\n",
       "      <td>25.0</td>\n",
       "      <td>1010.6</td>\n",
       "      <td>1007.8</td>\n",
       "      <td>17.2</td>\n",
       "      <td>24.3</td>\n",
       "      <td>0</td>\n",
       "      <td>0</td>\n",
       "    </tr>\n",
       "    <tr>\n",
       "      <th>2</th>\n",
       "      <td>12.9</td>\n",
       "      <td>25.7</td>\n",
       "      <td>0.000000</td>\n",
       "      <td>15</td>\n",
       "      <td>46.0</td>\n",
       "      <td>13</td>\n",
       "      <td>15</td>\n",
       "      <td>19.0</td>\n",
       "      <td>26.0</td>\n",
       "      <td>38.0</td>\n",
       "      <td>30.0</td>\n",
       "      <td>1007.6</td>\n",
       "      <td>1008.7</td>\n",
       "      <td>21.0</td>\n",
       "      <td>23.2</td>\n",
       "      <td>0</td>\n",
       "      <td>0</td>\n",
       "    </tr>\n",
       "    <tr>\n",
       "      <th>3</th>\n",
       "      <td>9.2</td>\n",
       "      <td>28.0</td>\n",
       "      <td>0.000000</td>\n",
       "      <td>4</td>\n",
       "      <td>24.0</td>\n",
       "      <td>9</td>\n",
       "      <td>0</td>\n",
       "      <td>11.0</td>\n",
       "      <td>9.0</td>\n",
       "      <td>45.0</td>\n",
       "      <td>16.0</td>\n",
       "      <td>1017.6</td>\n",
       "      <td>1012.8</td>\n",
       "      <td>18.1</td>\n",
       "      <td>26.5</td>\n",
       "      <td>0</td>\n",
       "      <td>0</td>\n",
       "    </tr>\n",
       "    <tr>\n",
       "      <th>4</th>\n",
       "      <td>17.5</td>\n",
       "      <td>32.3</td>\n",
       "      <td>0.693147</td>\n",
       "      <td>13</td>\n",
       "      <td>41.0</td>\n",
       "      <td>1</td>\n",
       "      <td>7</td>\n",
       "      <td>7.0</td>\n",
       "      <td>20.0</td>\n",
       "      <td>82.0</td>\n",
       "      <td>33.0</td>\n",
       "      <td>1010.8</td>\n",
       "      <td>1006.0</td>\n",
       "      <td>17.8</td>\n",
       "      <td>29.7</td>\n",
       "      <td>0</td>\n",
       "      <td>0</td>\n",
       "    </tr>\n",
       "    <tr>\n",
       "      <th>...</th>\n",
       "      <td>...</td>\n",
       "      <td>...</td>\n",
       "      <td>...</td>\n",
       "      <td>...</td>\n",
       "      <td>...</td>\n",
       "      <td>...</td>\n",
       "      <td>...</td>\n",
       "      <td>...</td>\n",
       "      <td>...</td>\n",
       "      <td>...</td>\n",
       "      <td>...</td>\n",
       "      <td>...</td>\n",
       "      <td>...</td>\n",
       "      <td>...</td>\n",
       "      <td>...</td>\n",
       "      <td>...</td>\n",
       "      <td>...</td>\n",
       "    </tr>\n",
       "    <tr>\n",
       "      <th>8419</th>\n",
       "      <td>3.5</td>\n",
       "      <td>21.8</td>\n",
       "      <td>0.000000</td>\n",
       "      <td>0</td>\n",
       "      <td>31.0</td>\n",
       "      <td>2</td>\n",
       "      <td>0</td>\n",
       "      <td>15.0</td>\n",
       "      <td>13.0</td>\n",
       "      <td>59.0</td>\n",
       "      <td>27.0</td>\n",
       "      <td>1024.7</td>\n",
       "      <td>1021.2</td>\n",
       "      <td>9.4</td>\n",
       "      <td>20.9</td>\n",
       "      <td>0</td>\n",
       "      <td>0</td>\n",
       "    </tr>\n",
       "    <tr>\n",
       "      <th>8420</th>\n",
       "      <td>2.8</td>\n",
       "      <td>23.4</td>\n",
       "      <td>0.000000</td>\n",
       "      <td>0</td>\n",
       "      <td>31.0</td>\n",
       "      <td>9</td>\n",
       "      <td>1</td>\n",
       "      <td>13.0</td>\n",
       "      <td>11.0</td>\n",
       "      <td>51.0</td>\n",
       "      <td>24.0</td>\n",
       "      <td>1024.6</td>\n",
       "      <td>1020.3</td>\n",
       "      <td>10.1</td>\n",
       "      <td>22.4</td>\n",
       "      <td>0</td>\n",
       "      <td>0</td>\n",
       "    </tr>\n",
       "    <tr>\n",
       "      <th>8421</th>\n",
       "      <td>3.6</td>\n",
       "      <td>25.3</td>\n",
       "      <td>0.000000</td>\n",
       "      <td>6</td>\n",
       "      <td>22.0</td>\n",
       "      <td>9</td>\n",
       "      <td>3</td>\n",
       "      <td>13.0</td>\n",
       "      <td>9.0</td>\n",
       "      <td>56.0</td>\n",
       "      <td>21.0</td>\n",
       "      <td>1023.5</td>\n",
       "      <td>1019.1</td>\n",
       "      <td>10.9</td>\n",
       "      <td>24.5</td>\n",
       "      <td>0</td>\n",
       "      <td>0</td>\n",
       "    </tr>\n",
       "    <tr>\n",
       "      <th>8422</th>\n",
       "      <td>5.4</td>\n",
       "      <td>26.9</td>\n",
       "      <td>0.000000</td>\n",
       "      <td>3</td>\n",
       "      <td>37.0</td>\n",
       "      <td>9</td>\n",
       "      <td>14</td>\n",
       "      <td>9.0</td>\n",
       "      <td>9.0</td>\n",
       "      <td>53.0</td>\n",
       "      <td>24.0</td>\n",
       "      <td>1021.0</td>\n",
       "      <td>1016.8</td>\n",
       "      <td>12.5</td>\n",
       "      <td>26.1</td>\n",
       "      <td>0</td>\n",
       "      <td>0</td>\n",
       "    </tr>\n",
       "    <tr>\n",
       "      <th>8423</th>\n",
       "      <td>7.8</td>\n",
       "      <td>27.0</td>\n",
       "      <td>0.000000</td>\n",
       "      <td>9</td>\n",
       "      <td>28.0</td>\n",
       "      <td>10</td>\n",
       "      <td>3</td>\n",
       "      <td>13.0</td>\n",
       "      <td>7.0</td>\n",
       "      <td>51.0</td>\n",
       "      <td>24.0</td>\n",
       "      <td>1019.4</td>\n",
       "      <td>1016.5</td>\n",
       "      <td>15.1</td>\n",
       "      <td>26.0</td>\n",
       "      <td>0</td>\n",
       "      <td>0</td>\n",
       "    </tr>\n",
       "  </tbody>\n",
       "</table>\n",
       "<p>6064 rows × 17 columns</p>\n",
       "</div>"
      ],
      "text/plain": [
       "      MinTemp  MaxTemp  Rainfall  WindGustDir  WindGustSpeed  WindDir9am  \\\n",
       "0        13.4     22.9  0.470004           13           44.0          13   \n",
       "1         7.4     25.1  0.000000           14           44.0           6   \n",
       "2        12.9     25.7  0.000000           15           46.0          13   \n",
       "3         9.2     28.0  0.000000            4           24.0           9   \n",
       "4        17.5     32.3  0.693147           13           41.0           1   \n",
       "...       ...      ...       ...          ...            ...         ...   \n",
       "8419      3.5     21.8  0.000000            0           31.0           2   \n",
       "8420      2.8     23.4  0.000000            0           31.0           9   \n",
       "8421      3.6     25.3  0.000000            6           22.0           9   \n",
       "8422      5.4     26.9  0.000000            3           37.0           9   \n",
       "8423      7.8     27.0  0.000000            9           28.0          10   \n",
       "\n",
       "      WindDir3pm  WindSpeed9am  WindSpeed3pm  Humidity9am  Humidity3pm  \\\n",
       "0             14          20.0          24.0         71.0         22.0   \n",
       "1             15           4.0          22.0         44.0         25.0   \n",
       "2             15          19.0          26.0         38.0         30.0   \n",
       "3              0          11.0           9.0         45.0         16.0   \n",
       "4              7           7.0          20.0         82.0         33.0   \n",
       "...          ...           ...           ...          ...          ...   \n",
       "8419           0          15.0          13.0         59.0         27.0   \n",
       "8420           1          13.0          11.0         51.0         24.0   \n",
       "8421           3          13.0           9.0         56.0         21.0   \n",
       "8422          14           9.0           9.0         53.0         24.0   \n",
       "8423           3          13.0           7.0         51.0         24.0   \n",
       "\n",
       "      Pressure9am  Pressure3pm  Temp9am  Temp3pm  RainToday  RainTomorrow  \n",
       "0          1007.7       1007.1     16.9     21.8          0             0  \n",
       "1          1010.6       1007.8     17.2     24.3          0             0  \n",
       "2          1007.6       1008.7     21.0     23.2          0             0  \n",
       "3          1017.6       1012.8     18.1     26.5          0             0  \n",
       "4          1010.8       1006.0     17.8     29.7          0             0  \n",
       "...           ...          ...      ...      ...        ...           ...  \n",
       "8419       1024.7       1021.2      9.4     20.9          0             0  \n",
       "8420       1024.6       1020.3     10.1     22.4          0             0  \n",
       "8421       1023.5       1019.1     10.9     24.5          0             0  \n",
       "8422       1021.0       1016.8     12.5     26.1          0             0  \n",
       "8423       1019.4       1016.5     15.1     26.0          0             0  \n",
       "\n",
       "[6064 rows x 17 columns]"
      ]
     },
     "execution_count": 43,
     "metadata": {},
     "output_type": "execute_result"
    }
   ],
   "source": [
    "df1"
   ]
  },
  {
   "cell_type": "code",
   "execution_count": 44,
   "id": "2115a5e1",
   "metadata": {},
   "outputs": [],
   "source": [
    "X = df.drop(['RainTomorrow'], axis = 1)\n",
    "Y = df['RainTomorrow']"
   ]
  },
  {
   "cell_type": "markdown",
   "id": "666b8c05",
   "metadata": {},
   "source": [
    "# Standard scaler method"
   ]
  },
  {
   "cell_type": "code",
   "execution_count": 45,
   "id": "d88906b9",
   "metadata": {},
   "outputs": [],
   "source": [
    "from sklearn.preprocessing import StandardScaler\n",
    "for col in X.columns:\n",
    "    scaler = StandardScaler()\n",
    "    X[col] = scaler.fit_transform(X[col].values.reshape(-1, 1))"
   ]
  },
  {
   "cell_type": "markdown",
   "id": "501e60ff",
   "metadata": {},
   "source": [
    "# Balancing the data"
   ]
  },
  {
   "cell_type": "code",
   "execution_count": 46,
   "id": "10d24a85",
   "metadata": {},
   "outputs": [
    {
     "data": {
      "text/plain": [
       "0    75.74 %\n",
       "1    24.26 %\n",
       "Name: RainTomorrow, dtype: object"
      ]
     },
     "execution_count": 46,
     "metadata": {},
     "output_type": "execute_result"
    }
   ],
   "source": [
    "round(Y.value_counts(normalize=True) * 100, 2).astype('str') + ' %'"
   ]
  },
  {
   "cell_type": "code",
   "execution_count": 47,
   "id": "9c220a7a",
   "metadata": {},
   "outputs": [],
   "source": [
    "from imblearn.over_sampling import RandomOverSampler\n",
    "ros = RandomOverSampler(random_state=42)"
   ]
  },
  {
   "cell_type": "code",
   "execution_count": 48,
   "id": "3ca84434",
   "metadata": {},
   "outputs": [
    {
     "data": {
      "text/html": [
       "<style>#sk-container-id-1 {color: black;background-color: white;}#sk-container-id-1 pre{padding: 0;}#sk-container-id-1 div.sk-toggleable {background-color: white;}#sk-container-id-1 label.sk-toggleable__label {cursor: pointer;display: block;width: 100%;margin-bottom: 0;padding: 0.3em;box-sizing: border-box;text-align: center;}#sk-container-id-1 label.sk-toggleable__label-arrow:before {content: \"▸\";float: left;margin-right: 0.25em;color: #696969;}#sk-container-id-1 label.sk-toggleable__label-arrow:hover:before {color: black;}#sk-container-id-1 div.sk-estimator:hover label.sk-toggleable__label-arrow:before {color: black;}#sk-container-id-1 div.sk-toggleable__content {max-height: 0;max-width: 0;overflow: hidden;text-align: left;background-color: #f0f8ff;}#sk-container-id-1 div.sk-toggleable__content pre {margin: 0.2em;color: black;border-radius: 0.25em;background-color: #f0f8ff;}#sk-container-id-1 input.sk-toggleable__control:checked~div.sk-toggleable__content {max-height: 200px;max-width: 100%;overflow: auto;}#sk-container-id-1 input.sk-toggleable__control:checked~label.sk-toggleable__label-arrow:before {content: \"▾\";}#sk-container-id-1 div.sk-estimator input.sk-toggleable__control:checked~label.sk-toggleable__label {background-color: #d4ebff;}#sk-container-id-1 div.sk-label input.sk-toggleable__control:checked~label.sk-toggleable__label {background-color: #d4ebff;}#sk-container-id-1 input.sk-hidden--visually {border: 0;clip: rect(1px 1px 1px 1px);clip: rect(1px, 1px, 1px, 1px);height: 1px;margin: -1px;overflow: hidden;padding: 0;position: absolute;width: 1px;}#sk-container-id-1 div.sk-estimator {font-family: monospace;background-color: #f0f8ff;border: 1px dotted black;border-radius: 0.25em;box-sizing: border-box;margin-bottom: 0.5em;}#sk-container-id-1 div.sk-estimator:hover {background-color: #d4ebff;}#sk-container-id-1 div.sk-parallel-item::after {content: \"\";width: 100%;border-bottom: 1px solid gray;flex-grow: 1;}#sk-container-id-1 div.sk-label:hover label.sk-toggleable__label {background-color: #d4ebff;}#sk-container-id-1 div.sk-serial::before {content: \"\";position: absolute;border-left: 1px solid gray;box-sizing: border-box;top: 0;bottom: 0;left: 50%;z-index: 0;}#sk-container-id-1 div.sk-serial {display: flex;flex-direction: column;align-items: center;background-color: white;padding-right: 0.2em;padding-left: 0.2em;position: relative;}#sk-container-id-1 div.sk-item {position: relative;z-index: 1;}#sk-container-id-1 div.sk-parallel {display: flex;align-items: stretch;justify-content: center;background-color: white;position: relative;}#sk-container-id-1 div.sk-item::before, #sk-container-id-1 div.sk-parallel-item::before {content: \"\";position: absolute;border-left: 1px solid gray;box-sizing: border-box;top: 0;bottom: 0;left: 50%;z-index: -1;}#sk-container-id-1 div.sk-parallel-item {display: flex;flex-direction: column;z-index: 1;position: relative;background-color: white;}#sk-container-id-1 div.sk-parallel-item:first-child::after {align-self: flex-end;width: 50%;}#sk-container-id-1 div.sk-parallel-item:last-child::after {align-self: flex-start;width: 50%;}#sk-container-id-1 div.sk-parallel-item:only-child::after {width: 0;}#sk-container-id-1 div.sk-dashed-wrapped {border: 1px dashed gray;margin: 0 0.4em 0.5em 0.4em;box-sizing: border-box;padding-bottom: 0.4em;background-color: white;}#sk-container-id-1 div.sk-label label {font-family: monospace;font-weight: bold;display: inline-block;line-height: 1.2em;}#sk-container-id-1 div.sk-label-container {text-align: center;}#sk-container-id-1 div.sk-container {/* jupyter's `normalize.less` sets `[hidden] { display: none; }` but bootstrap.min.css set `[hidden] { display: none !important; }` so we also need the `!important` here to be able to override the default hidden behavior on the sphinx rendered scikit-learn.org. See: https://github.com/scikit-learn/scikit-learn/issues/21755 */display: inline-block !important;position: relative;}#sk-container-id-1 div.sk-text-repr-fallback {display: none;}</style><div id=\"sk-container-id-1\" class=\"sk-top-container\"><div class=\"sk-text-repr-fallback\"><pre>RandomOverSampler(random_state=42)</pre><b>In a Jupyter environment, please rerun this cell to show the HTML representation or trust the notebook. <br />On GitHub, the HTML representation is unable to render, please try loading this page with nbviewer.org.</b></div><div class=\"sk-container\" hidden><div class=\"sk-item\"><div class=\"sk-estimator sk-toggleable\"><input class=\"sk-toggleable__control sk-hidden--visually\" id=\"sk-estimator-id-1\" type=\"checkbox\" checked><label for=\"sk-estimator-id-1\" class=\"sk-toggleable__label sk-toggleable__label-arrow\">RandomOverSampler</label><div class=\"sk-toggleable__content\"><pre>RandomOverSampler(random_state=42)</pre></div></div></div></div></div>"
      ],
      "text/plain": [
       "RandomOverSampler(random_state=42)"
      ]
     },
     "execution_count": 48,
     "metadata": {},
     "output_type": "execute_result"
    }
   ],
   "source": [
    "ros.fit(X, Y)"
   ]
  },
  {
   "cell_type": "code",
   "execution_count": 49,
   "id": "b77ab378",
   "metadata": {},
   "outputs": [],
   "source": [
    "X_resampled, Y_resampled = ros.fit_resample(X, Y)"
   ]
  },
  {
   "cell_type": "code",
   "execution_count": 53,
   "id": "23f8e86c",
   "metadata": {},
   "outputs": [
    {
     "data": {
      "text/plain": [
       "0    50.0 %\n",
       "1    50.0 %\n",
       "Name: RainTomorrow, dtype: object"
      ]
     },
     "execution_count": 53,
     "metadata": {},
     "output_type": "execute_result"
    }
   ],
   "source": [
    "round(Y_resampled.value_counts(normalize=True) * 100, 2).astype('str') + ' %'"
   ]
  },
  {
   "cell_type": "code",
   "execution_count": 51,
   "id": "5bfa5d8b",
   "metadata": {},
   "outputs": [],
   "source": [
    "## now target data is balanced."
   ]
  },
  {
   "cell_type": "markdown",
   "id": "dbf62429",
   "metadata": {},
   "source": [
    "# Loading ML algorithm"
   ]
  },
  {
   "cell_type": "code",
   "execution_count": 52,
   "id": "43e70064",
   "metadata": {},
   "outputs": [],
   "source": [
    "from sklearn.linear_model import LogisticRegression \n",
    "from sklearn.metrics import accuracy_score\n",
    "from sklearn.metrics import confusion_matrix,classification_report\n",
    "from sklearn.model_selection import train_test_split\n",
    "import warnings\n",
    "warnings.filterwarnings('ignore')"
   ]
  },
  {
   "cell_type": "markdown",
   "id": "b67deaa6",
   "metadata": {},
   "source": [
    "# Train_Test_split and Best Random state"
   ]
  },
  {
   "cell_type": "code",
   "execution_count": 54,
   "id": "3fbdfbc9",
   "metadata": {},
   "outputs": [
    {
     "name": "stdout",
     "output_type": "stream",
     "text": [
      "accuracy 0.8421468034727704 random_state 1\n",
      "accuracy 0.8255722178374112 random_state 2\n",
      "accuracy 0.824782951854775 random_state 3\n",
      "accuracy 0.8397790055248618 random_state 4\n",
      "accuracy 0.8279400157853196 random_state 5\n",
      "accuracy 0.8389897395422258 random_state 6\n",
      "accuracy 0.8366219415943172 random_state 7\n",
      "accuracy 0.8524072612470402 random_state 8\n",
      "accuracy 0.840568271507498 random_state 9\n",
      "accuracy 0.8437253354380426 random_state 10\n",
      "accuracy 0.8413575374901342 random_state 11\n",
      "accuracy 0.840568271507498 random_state 12\n",
      "accuracy 0.829518547750592 random_state 13\n",
      "accuracy 0.8445146014206788 random_state 14\n",
      "accuracy 0.846093133385951 random_state 15\n",
      "accuracy 0.8326756116811366 random_state 16\n",
      "accuracy 0.8413575374901342 random_state 17\n",
      "accuracy 0.824782951854775 random_state 18\n",
      "accuracy 0.8271507498026835 random_state 19\n",
      "accuracy 0.8389897395422258 random_state 20\n",
      "accuracy 0.8374112075769534 random_state 21\n",
      "accuracy 0.8397790055248618 random_state 22\n",
      "accuracy 0.8389897395422258 random_state 23\n",
      "accuracy 0.835043409629045 random_state 24\n",
      "accuracy 0.8358326756116812 random_state 25\n",
      "accuracy 0.823993685872139 random_state 26\n",
      "accuracy 0.8429360694554064 random_state 27\n",
      "accuracy 0.8326756116811366 random_state 28\n",
      "accuracy 0.8429360694554064 random_state 29\n",
      "accuracy 0.8492501973164956 random_state 30\n",
      "accuracy 0.8484609313338595 random_state 31\n",
      "accuracy 0.8271507498026835 random_state 32\n",
      "accuracy 0.8334648776637726 random_state 33\n",
      "accuracy 0.8358326756116812 random_state 34\n",
      "accuracy 0.8524072612470402 random_state 35\n",
      "accuracy 0.8492501973164956 random_state 36\n",
      "accuracy 0.8389897395422258 random_state 37\n",
      "accuracy 0.8342541436464088 random_state 38\n",
      "accuracy 0.8366219415943172 random_state 39\n",
      "accuracy 0.8303078137332282 random_state 40\n",
      "accuracy 0.8161010260457774 random_state 41\n",
      "accuracy 0.8318863456985004 random_state 42\n",
      "accuracy 0.850828729281768 random_state 43\n",
      "accuracy 0.829518547750592 random_state 44\n",
      "accuracy 0.8429360694554064 random_state 45\n",
      "accuracy 0.8318863456985004 random_state 46\n",
      "accuracy 0.8334648776637726 random_state 47\n",
      "accuracy 0.8421468034727704 random_state 48\n",
      "accuracy 0.8389897395422258 random_state 49\n",
      "accuracy 0.8484609313338595 random_state 50\n",
      "accuracy 0.8342541436464088 random_state 51\n",
      "accuracy 0.8531965272296764 random_state 52\n",
      "accuracy 0.8232044198895028 random_state 53\n",
      "accuracy 0.850828729281768 random_state 54\n",
      "accuracy 0.8232044198895028 random_state 55\n",
      "accuracy 0.840568271507498 random_state 56\n",
      "accuracy 0.8468823993685872 random_state 57\n",
      "accuracy 0.8326756116811366 random_state 58\n",
      "accuracy 0.8342541436464088 random_state 59\n",
      "accuracy 0.8334648776637726 random_state 60\n",
      "accuracy 0.8516179952644041 random_state 61\n",
      "accuracy 0.8279400157853196 random_state 62\n",
      "accuracy 0.8374112075769534 random_state 63\n",
      "accuracy 0.8476716653512234 random_state 64\n",
      "accuracy 0.8342541436464088 random_state 65\n",
      "accuracy 0.8602999210734017 random_state 66\n",
      "accuracy 0.8421468034727704 random_state 67\n",
      "accuracy 0.813733228097869 random_state 68\n",
      "accuracy 0.8358326756116812 random_state 69\n",
      "accuracy 0.8342541436464088 random_state 70\n",
      "accuracy 0.856353591160221 random_state 71\n",
      "accuracy 0.8413575374901342 random_state 72\n",
      "accuracy 0.8579321231254933 random_state 73\n",
      "accuracy 0.8421468034727704 random_state 74\n",
      "accuracy 0.8310970797158642 random_state 75\n",
      "accuracy 0.8255722178374112 random_state 76\n",
      "accuracy 0.8445146014206788 random_state 77\n",
      "accuracy 0.8366219415943172 random_state 78\n",
      "accuracy 0.8437253354380426 random_state 79\n",
      "accuracy 0.846093133385951 random_state 80\n",
      "accuracy 0.8318863456985004 random_state 81\n",
      "accuracy 0.8468823993685872 random_state 82\n",
      "accuracy 0.835043409629045 random_state 83\n",
      "accuracy 0.846093133385951 random_state 84\n",
      "accuracy 0.8318863456985004 random_state 85\n",
      "accuracy 0.8468823993685872 random_state 86\n",
      "accuracy 0.8271507498026835 random_state 87\n",
      "accuracy 0.8310970797158642 random_state 88\n",
      "accuracy 0.846093133385951 random_state 89\n",
      "accuracy 0.8342541436464088 random_state 90\n",
      "accuracy 0.846093133385951 random_state 91\n",
      "accuracy 0.8468823993685872 random_state 92\n",
      "accuracy 0.829518547750592 random_state 93\n",
      "accuracy 0.8516179952644041 random_state 94\n",
      "accuracy 0.8334648776637726 random_state 95\n",
      "accuracy 0.8445146014206788 random_state 96\n",
      "accuracy 0.8287292817679558 random_state 97\n",
      "accuracy 0.8271507498026835 random_state 98\n",
      "accuracy 0.8287292817679558 random_state 99\n",
      "accuracy 0.8476716653512234 random_state 100\n",
      "accuracy 0.8453038674033149 random_state 101\n",
      "accuracy 0.8626677190213102 random_state 102\n",
      "accuracy 0.8421468034727704 random_state 103\n",
      "accuracy 0.8445146014206788 random_state 104\n",
      "accuracy 0.8342541436464088 random_state 105\n",
      "accuracy 0.8208366219415943 random_state 106\n",
      "accuracy 0.824782951854775 random_state 107\n",
      "accuracy 0.8587213891081295 random_state 108\n",
      "accuracy 0.8516179952644041 random_state 109\n",
      "accuracy 0.8437253354380426 random_state 110\n",
      "accuracy 0.8571428571428571 random_state 111\n",
      "accuracy 0.8445146014206788 random_state 112\n",
      "accuracy 0.8374112075769534 random_state 113\n",
      "accuracy 0.8374112075769534 random_state 114\n",
      "accuracy 0.8389897395422258 random_state 115\n",
      "accuracy 0.8224151539068666 random_state 116\n",
      "accuracy 0.8421468034727704 random_state 117\n",
      "accuracy 0.840568271507498 random_state 118\n",
      "accuracy 0.8421468034727704 random_state 119\n",
      "accuracy 0.8437253354380426 random_state 120\n",
      "accuracy 0.8397790055248618 random_state 121\n",
      "accuracy 0.8342541436464088 random_state 122\n",
      "accuracy 0.8168902920284136 random_state 123\n",
      "accuracy 0.823993685872139 random_state 124\n",
      "accuracy 0.8255722178374112 random_state 125\n",
      "accuracy 0.8342541436464088 random_state 126\n",
      "accuracy 0.8366219415943172 random_state 127\n",
      "accuracy 0.8453038674033149 random_state 128\n",
      "accuracy 0.8334648776637726 random_state 129\n",
      "accuracy 0.8342541436464088 random_state 130\n",
      "accuracy 0.824782951854775 random_state 131\n",
      "accuracy 0.8382004735595896 random_state 132\n",
      "accuracy 0.8437253354380426 random_state 133\n",
      "accuracy 0.8531965272296764 random_state 134\n",
      "accuracy 0.8397790055248618 random_state 135\n",
      "accuracy 0.8445146014206788 random_state 136\n",
      "accuracy 0.8397790055248618 random_state 137\n",
      "accuracy 0.8255722178374112 random_state 138\n",
      "accuracy 0.8161010260457774 random_state 139\n",
      "accuracy 0.8476716653512234 random_state 140\n",
      "accuracy 0.8263614838200474 random_state 141\n",
      "accuracy 0.8445146014206788 random_state 142\n",
      "accuracy 0.8524072612470402 random_state 143\n",
      "accuracy 0.8271507498026835 random_state 144\n",
      "accuracy 0.8287292817679558 random_state 145\n",
      "accuracy 0.8303078137332282 random_state 146\n",
      "accuracy 0.8334648776637726 random_state 147\n",
      "accuracy 0.840568271507498 random_state 148\n",
      "accuracy 0.8287292817679558 random_state 149\n",
      "accuracy 0.8326756116811366 random_state 150\n",
      "accuracy 0.8255722178374112 random_state 151\n",
      "accuracy 0.8358326756116812 random_state 152\n",
      "accuracy 0.829518547750592 random_state 153\n",
      "accuracy 0.8429360694554064 random_state 154\n",
      "accuracy 0.8326756116811366 random_state 155\n",
      "accuracy 0.8421468034727704 random_state 156\n",
      "accuracy 0.8500394632991318 random_state 157\n",
      "accuracy 0.8342541436464088 random_state 158\n",
      "accuracy 0.8176795580110497 random_state 159\n",
      "accuracy 0.8476716653512234 random_state 160\n",
      "accuracy 0.8587213891081295 random_state 161\n",
      "accuracy 0.8382004735595896 random_state 162\n",
      "accuracy 0.8334648776637726 random_state 163\n",
      "accuracy 0.8547750591949487 random_state 164\n",
      "accuracy 0.8318863456985004 random_state 165\n",
      "accuracy 0.8389897395422258 random_state 166\n",
      "accuracy 0.8429360694554064 random_state 167\n",
      "accuracy 0.8255722178374112 random_state 168\n",
      "accuracy 0.8334648776637726 random_state 169\n",
      "accuracy 0.8453038674033149 random_state 170\n",
      "accuracy 0.8397790055248618 random_state 171\n",
      "accuracy 0.8397790055248618 random_state 172\n",
      "accuracy 0.835043409629045 random_state 173\n",
      "accuracy 0.8389897395422258 random_state 174\n",
      "accuracy 0.8524072612470402 random_state 175\n",
      "accuracy 0.8358326756116812 random_state 176\n",
      "accuracy 0.835043409629045 random_state 177\n",
      "accuracy 0.8326756116811366 random_state 178\n",
      "accuracy 0.8326756116811366 random_state 179\n",
      "accuracy 0.8366219415943172 random_state 180\n",
      "accuracy 0.8445146014206788 random_state 181\n",
      "accuracy 0.829518547750592 random_state 182\n",
      "accuracy 0.8389897395422258 random_state 183\n",
      "accuracy 0.8263614838200474 random_state 184\n",
      "accuracy 0.8445146014206788 random_state 185\n",
      "accuracy 0.8397790055248618 random_state 186\n",
      "accuracy 0.8318863456985004 random_state 187\n",
      "accuracy 0.846093133385951 random_state 188\n",
      "accuracy 0.8413575374901342 random_state 189\n",
      "accuracy 0.8358326756116812 random_state 190\n",
      "accuracy 0.8318863456985004 random_state 191\n",
      "accuracy 0.8555643251775849 random_state 192\n",
      "accuracy 0.835043409629045 random_state 193\n",
      "accuracy 0.8397790055248618 random_state 194\n",
      "accuracy 0.8397790055248618 random_state 195\n",
      "accuracy 0.8334648776637726 random_state 196\n",
      "accuracy 0.8389897395422258 random_state 197\n",
      "accuracy 0.8153117600631413 random_state 198\n",
      "accuracy 0.8263614838200474 random_state 199\n"
     ]
    }
   ],
   "source": [
    "maxAccu=0  ## maximum accuracy\n",
    "maxRS=0   ## best random state value for which max accuracy is achieved\n",
    "\n",
    "for i in range(1,200):\n",
    "    X_train,X_test,Y_train,Y_test=train_test_split(X,Y,test_size=.20,random_state=i)\n",
    "    LR=LogisticRegression()\n",
    "    LR.fit(X_train,Y_train)   ## fitting the data will train your model\n",
    "    predrf=LR.predict(X_test)   ## this is the predicted target variable\n",
    "    acc=accuracy_score(Y_test,predrf)  ## accuracy score\n",
    "    print('accuracy',acc,'random_state',i)\n",
    "    \n",
    "    if acc>maxAccu:\n",
    "        maxAccu=acc\n",
    "        maxRS=i\n",
    "        \n",
    "        ## print('accuracy',maxAccu, 'random_state' i)"
   ]
  },
  {
   "cell_type": "code",
   "execution_count": 55,
   "id": "1dd181cf",
   "metadata": {},
   "outputs": [
    {
     "name": "stdout",
     "output_type": "stream",
     "text": [
      "Best accuracy is  0.8626677190213102  on Random_state 102\n"
     ]
    }
   ],
   "source": [
    "print(\"Best accuracy is \", maxAccu,\" on Random_state\",maxRS)"
   ]
  },
  {
   "cell_type": "code",
   "execution_count": 56,
   "id": "d0f0033b",
   "metadata": {},
   "outputs": [],
   "source": [
    "X_train,X_test,Y_train,Y_test=train_test_split(X,Y,test_size=.20,random_state=102)"
   ]
  },
  {
   "cell_type": "code",
   "execution_count": 57,
   "id": "509dd286",
   "metadata": {},
   "outputs": [
    {
     "name": "stdout",
     "output_type": "stream",
     "text": [
      "--------------Result of LogisticRegression---------------------\n",
      "Accuracy 86.26677190213103\n",
      "[[938  63]\n",
      " [111 155]]\n",
      "              precision    recall  f1-score   support\n",
      "\n",
      "           0       0.89      0.94      0.92      1001\n",
      "           1       0.71      0.58      0.64       266\n",
      "\n",
      "    accuracy                           0.86      1267\n",
      "   macro avg       0.80      0.76      0.78      1267\n",
      "weighted avg       0.86      0.86      0.86      1267\n",
      "\n",
      "--------------Result of DecisionTreeClassifier---------------------\n",
      "Accuracy 87.60852407261247\n",
      "[[903  98]\n",
      " [ 59 207]]\n",
      "              precision    recall  f1-score   support\n",
      "\n",
      "           0       0.94      0.90      0.92      1001\n",
      "           1       0.68      0.78      0.73       266\n",
      "\n",
      "    accuracy                           0.88      1267\n",
      "   macro avg       0.81      0.84      0.82      1267\n",
      "weighted avg       0.88      0.88      0.88      1267\n",
      "\n",
      "--------------Result of RandomForestClassifier---------------------\n",
      "Accuracy 93.52801894238358\n",
      "[[982  19]\n",
      " [ 63 203]]\n",
      "              precision    recall  f1-score   support\n",
      "\n",
      "           0       0.94      0.98      0.96      1001\n",
      "           1       0.91      0.76      0.83       266\n",
      "\n",
      "    accuracy                           0.94      1267\n",
      "   macro avg       0.93      0.87      0.90      1267\n",
      "weighted avg       0.93      0.94      0.93      1267\n",
      "\n",
      "--------------Result of SVC---------------------\n",
      "Accuracy 88.47671665351223\n",
      "[[959  42]\n",
      " [104 162]]\n",
      "              precision    recall  f1-score   support\n",
      "\n",
      "           0       0.90      0.96      0.93      1001\n",
      "           1       0.79      0.61      0.69       266\n",
      "\n",
      "    accuracy                           0.88      1267\n",
      "   macro avg       0.85      0.78      0.81      1267\n",
      "weighted avg       0.88      0.88      0.88      1267\n",
      "\n",
      "--------------Result of KNeighborsClassifier---------------------\n",
      "Accuracy 88.47671665351223\n",
      "[[959  42]\n",
      " [104 162]]\n",
      "              precision    recall  f1-score   support\n",
      "\n",
      "           0       0.90      0.96      0.93      1001\n",
      "           1       0.79      0.61      0.69       266\n",
      "\n",
      "    accuracy                           0.88      1267\n",
      "   macro avg       0.85      0.78      0.81      1267\n",
      "weighted avg       0.88      0.88      0.88      1267\n",
      "\n",
      "--------------Result of GaussianNB---------------------\n",
      "Accuracy 88.47671665351223\n",
      "[[959  42]\n",
      " [104 162]]\n",
      "              precision    recall  f1-score   support\n",
      "\n",
      "           0       0.90      0.96      0.93      1001\n",
      "           1       0.79      0.61      0.69       266\n",
      "\n",
      "    accuracy                           0.88      1267\n",
      "   macro avg       0.85      0.78      0.81      1267\n",
      "weighted avg       0.88      0.88      0.88      1267\n",
      "\n"
     ]
    }
   ],
   "source": [
    "from sklearn.linear_model import LogisticRegression\n",
    "LR=LogisticRegression()\n",
    "LR.fit(X_train,Y_train) \n",
    "predlr=LR.predict(X_test)\n",
    "print(\"--------------Result of LogisticRegression---------------------\")\n",
    "print(\"Accuracy\",accuracy_score(Y_test,predlr)*100)\n",
    "print(confusion_matrix(Y_test,predlr))\n",
    "print(classification_report(Y_test,predlr))\n",
    "\n",
    "from sklearn.tree import DecisionTreeClassifier\n",
    "\n",
    "dt=DecisionTreeClassifier()\n",
    "dt.fit(X_train,Y_train) \n",
    "preddt=dt.predict(X_test)\n",
    "print(\"--------------Result of DecisionTreeClassifier---------------------\")\n",
    "print(\"Accuracy\",accuracy_score(Y_test,preddt)*100)\n",
    "print(confusion_matrix(Y_test,preddt))\n",
    "print(classification_report(Y_test,preddt))\n",
    "\n",
    "from sklearn.ensemble import RandomForestClassifier\n",
    "rf=RandomForestClassifier()\n",
    "rf.fit(X_train,Y_train) \n",
    "predrf=rf.predict(X_test)\n",
    "print(\"--------------Result of RandomForestClassifier---------------------\")\n",
    "print(\"Accuracy\",accuracy_score(Y_test,predrf)*100)\n",
    "print(confusion_matrix(Y_test,predrf))\n",
    "print(classification_report(Y_test,predrf))\n",
    "\n",
    "\n",
    "from sklearn.svm import SVC\n",
    "svc=SVC()\n",
    "svc.fit(X_train,Y_train) \n",
    "predsvc=svc.predict(X_test)\n",
    "print(\"--------------Result of SVC---------------------\")\n",
    "print(\"Accuracy\",accuracy_score(Y_test,predsvc)*100)\n",
    "print(confusion_matrix(Y_test,predsvc))\n",
    "print(classification_report(Y_test,predsvc))\n",
    "\n",
    "from sklearn.neighbors import KNeighborsClassifier\n",
    "KN=KNeighborsClassifier()\n",
    "KN.fit(X_train,Y_train) \n",
    "predKN=svc.predict(X_test)\n",
    "print(\"--------------Result of KNeighborsClassifier---------------------\")\n",
    "print(\"Accuracy\",accuracy_score(Y_test,predKN)*100)\n",
    "print(confusion_matrix(Y_test,predKN))\n",
    "print(classification_report(Y_test,predKN))\n",
    "\n",
    "from sklearn.naive_bayes import GaussianNB\n",
    "GNB=KNeighborsClassifier()\n",
    "GNB.fit(X_train,Y_train) \n",
    "predGNB=svc.predict(X_test)\n",
    "print(\"--------------Result of GaussianNB---------------------\")\n",
    "print(\"Accuracy\",accuracy_score(Y_test,predGNB)*100)\n",
    "print(confusion_matrix(Y_test,predGNB))\n",
    "print(classification_report(Y_test,predGNB))\n"
   ]
  },
  {
   "cell_type": "markdown",
   "id": "f814dc9f",
   "metadata": {},
   "source": [
    "# Cross Validation"
   ]
  },
  {
   "cell_type": "code",
   "execution_count": 58,
   "id": "2a2cbb51",
   "metadata": {},
   "outputs": [
    {
     "name": "stdout",
     "output_type": "stream",
     "text": [
      "Cross Validation score of Logistic Regresssion model :  0.8291289022220394\n",
      "Cross Validation score of Decision Tree Classifier :  0.8065556457455072\n",
      "Cross Validation score of Random Forest Classifier :  0.8812507559123255\n",
      "Cross Validation score of SVC :  0.8386012161927955\n",
      "Cross Validation score of KNeighbors classifier :  0.8194926254128683\n",
      "Cross Validation score of GaussianNB :  0.8194926254128683\n"
     ]
    }
   ],
   "source": [
    "from sklearn.model_selection import cross_val_score\n",
    "\n",
    "scr1=cross_val_score(LR,X,Y,cv=5)\n",
    "scr2=cross_val_score(dt,X,Y,cv=5)\n",
    "scr3=cross_val_score(rf,X,Y,cv=5)\n",
    "scr4=cross_val_score(svc,X,Y,cv=5)\n",
    "scr5=cross_val_score(KN,X,Y,cv=5)\n",
    "scr6=cross_val_score(GNB,X,Y,cv=5)\n",
    "\n",
    "\n",
    "print(\"Cross Validation score of Logistic Regresssion model : \",scr1.mean())\n",
    "print(\"Cross Validation score of Decision Tree Classifier : \",scr2.mean())\n",
    "print(\"Cross Validation score of Random Forest Classifier : \",scr3.mean())\n",
    "print(\"Cross Validation score of SVC : \",scr4.mean())\n",
    "print(\"Cross Validation score of KNeighbors classifier : \",scr5.mean())\n",
    "print(\"Cross Validation score of GaussianNB : \",scr6.mean())"
   ]
  },
  {
   "cell_type": "markdown",
   "id": "421f071c",
   "metadata": {},
   "source": [
    "# Hyperparameter Tunning with GridSearchCV"
   ]
  },
  {
   "cell_type": "code",
   "execution_count": 59,
   "id": "6aa09e94",
   "metadata": {},
   "outputs": [
    {
     "data": {
      "text/html": [
       "<style>#sk-container-id-2 {color: black;background-color: white;}#sk-container-id-2 pre{padding: 0;}#sk-container-id-2 div.sk-toggleable {background-color: white;}#sk-container-id-2 label.sk-toggleable__label {cursor: pointer;display: block;width: 100%;margin-bottom: 0;padding: 0.3em;box-sizing: border-box;text-align: center;}#sk-container-id-2 label.sk-toggleable__label-arrow:before {content: \"▸\";float: left;margin-right: 0.25em;color: #696969;}#sk-container-id-2 label.sk-toggleable__label-arrow:hover:before {color: black;}#sk-container-id-2 div.sk-estimator:hover label.sk-toggleable__label-arrow:before {color: black;}#sk-container-id-2 div.sk-toggleable__content {max-height: 0;max-width: 0;overflow: hidden;text-align: left;background-color: #f0f8ff;}#sk-container-id-2 div.sk-toggleable__content pre {margin: 0.2em;color: black;border-radius: 0.25em;background-color: #f0f8ff;}#sk-container-id-2 input.sk-toggleable__control:checked~div.sk-toggleable__content {max-height: 200px;max-width: 100%;overflow: auto;}#sk-container-id-2 input.sk-toggleable__control:checked~label.sk-toggleable__label-arrow:before {content: \"▾\";}#sk-container-id-2 div.sk-estimator input.sk-toggleable__control:checked~label.sk-toggleable__label {background-color: #d4ebff;}#sk-container-id-2 div.sk-label input.sk-toggleable__control:checked~label.sk-toggleable__label {background-color: #d4ebff;}#sk-container-id-2 input.sk-hidden--visually {border: 0;clip: rect(1px 1px 1px 1px);clip: rect(1px, 1px, 1px, 1px);height: 1px;margin: -1px;overflow: hidden;padding: 0;position: absolute;width: 1px;}#sk-container-id-2 div.sk-estimator {font-family: monospace;background-color: #f0f8ff;border: 1px dotted black;border-radius: 0.25em;box-sizing: border-box;margin-bottom: 0.5em;}#sk-container-id-2 div.sk-estimator:hover {background-color: #d4ebff;}#sk-container-id-2 div.sk-parallel-item::after {content: \"\";width: 100%;border-bottom: 1px solid gray;flex-grow: 1;}#sk-container-id-2 div.sk-label:hover label.sk-toggleable__label {background-color: #d4ebff;}#sk-container-id-2 div.sk-serial::before {content: \"\";position: absolute;border-left: 1px solid gray;box-sizing: border-box;top: 0;bottom: 0;left: 50%;z-index: 0;}#sk-container-id-2 div.sk-serial {display: flex;flex-direction: column;align-items: center;background-color: white;padding-right: 0.2em;padding-left: 0.2em;position: relative;}#sk-container-id-2 div.sk-item {position: relative;z-index: 1;}#sk-container-id-2 div.sk-parallel {display: flex;align-items: stretch;justify-content: center;background-color: white;position: relative;}#sk-container-id-2 div.sk-item::before, #sk-container-id-2 div.sk-parallel-item::before {content: \"\";position: absolute;border-left: 1px solid gray;box-sizing: border-box;top: 0;bottom: 0;left: 50%;z-index: -1;}#sk-container-id-2 div.sk-parallel-item {display: flex;flex-direction: column;z-index: 1;position: relative;background-color: white;}#sk-container-id-2 div.sk-parallel-item:first-child::after {align-self: flex-end;width: 50%;}#sk-container-id-2 div.sk-parallel-item:last-child::after {align-self: flex-start;width: 50%;}#sk-container-id-2 div.sk-parallel-item:only-child::after {width: 0;}#sk-container-id-2 div.sk-dashed-wrapped {border: 1px dashed gray;margin: 0 0.4em 0.5em 0.4em;box-sizing: border-box;padding-bottom: 0.4em;background-color: white;}#sk-container-id-2 div.sk-label label {font-family: monospace;font-weight: bold;display: inline-block;line-height: 1.2em;}#sk-container-id-2 div.sk-label-container {text-align: center;}#sk-container-id-2 div.sk-container {/* jupyter's `normalize.less` sets `[hidden] { display: none; }` but bootstrap.min.css set `[hidden] { display: none !important; }` so we also need the `!important` here to be able to override the default hidden behavior on the sphinx rendered scikit-learn.org. See: https://github.com/scikit-learn/scikit-learn/issues/21755 */display: inline-block !important;position: relative;}#sk-container-id-2 div.sk-text-repr-fallback {display: none;}</style><div id=\"sk-container-id-2\" class=\"sk-top-container\"><div class=\"sk-text-repr-fallback\"><pre>RandomForestClassifier()</pre><b>In a Jupyter environment, please rerun this cell to show the HTML representation or trust the notebook. <br />On GitHub, the HTML representation is unable to render, please try loading this page with nbviewer.org.</b></div><div class=\"sk-container\" hidden><div class=\"sk-item\"><div class=\"sk-estimator sk-toggleable\"><input class=\"sk-toggleable__control sk-hidden--visually\" id=\"sk-estimator-id-2\" type=\"checkbox\" checked><label for=\"sk-estimator-id-2\" class=\"sk-toggleable__label sk-toggleable__label-arrow\">RandomForestClassifier</label><div class=\"sk-toggleable__content\"><pre>RandomForestClassifier()</pre></div></div></div></div></div>"
      ],
      "text/plain": [
       "RandomForestClassifier()"
      ]
     },
     "execution_count": 59,
     "metadata": {},
     "output_type": "execute_result"
    }
   ],
   "source": [
    "RandomForestClassifier()"
   ]
  },
  {
   "cell_type": "code",
   "execution_count": 60,
   "id": "be4971a3",
   "metadata": {},
   "outputs": [],
   "source": [
    "from sklearn.model_selection import GridSearchCV\n",
    "\n",
    "## creating parameter list to pass in GridSearchCv\n",
    "\n",
    "parameters= {'max_features':['auto','sqrt','log2'],\n",
    "            'max_depth':[9,11,13,15,17],\n",
    "            'criterion':['gini','entropy']}"
   ]
  },
  {
   "cell_type": "code",
   "execution_count": 61,
   "id": "0cd06227",
   "metadata": {},
   "outputs": [
    {
     "data": {
      "text/plain": [
       "{'criterion': 'gini', 'max_depth': 17, 'max_features': 'sqrt'}"
      ]
     },
     "execution_count": 61,
     "metadata": {},
     "output_type": "execute_result"
    }
   ],
   "source": [
    "GCV=GridSearchCV(RandomForestClassifier(),parameters,cv=5,scoring=\"accuracy\")\n",
    "GCV.fit(X_train,Y_train)  ## fitiing the data in model\n",
    "GCV.best_params_   ## Printing the best parameter found by GridSearchCV"
   ]
  },
  {
   "cell_type": "code",
   "execution_count": 62,
   "id": "cd458129",
   "metadata": {},
   "outputs": [
    {
     "data": {
      "text/plain": [
       "sklearn.model_selection._search.GridSearchCV"
      ]
     },
     "execution_count": 62,
     "metadata": {},
     "output_type": "execute_result"
    }
   ],
   "source": [
    "type(GCV)"
   ]
  },
  {
   "cell_type": "code",
   "execution_count": 63,
   "id": "55d0df9f",
   "metadata": {},
   "outputs": [
    {
     "data": {
      "text/html": [
       "<style>#sk-container-id-3 {color: black;background-color: white;}#sk-container-id-3 pre{padding: 0;}#sk-container-id-3 div.sk-toggleable {background-color: white;}#sk-container-id-3 label.sk-toggleable__label {cursor: pointer;display: block;width: 100%;margin-bottom: 0;padding: 0.3em;box-sizing: border-box;text-align: center;}#sk-container-id-3 label.sk-toggleable__label-arrow:before {content: \"▸\";float: left;margin-right: 0.25em;color: #696969;}#sk-container-id-3 label.sk-toggleable__label-arrow:hover:before {color: black;}#sk-container-id-3 div.sk-estimator:hover label.sk-toggleable__label-arrow:before {color: black;}#sk-container-id-3 div.sk-toggleable__content {max-height: 0;max-width: 0;overflow: hidden;text-align: left;background-color: #f0f8ff;}#sk-container-id-3 div.sk-toggleable__content pre {margin: 0.2em;color: black;border-radius: 0.25em;background-color: #f0f8ff;}#sk-container-id-3 input.sk-toggleable__control:checked~div.sk-toggleable__content {max-height: 200px;max-width: 100%;overflow: auto;}#sk-container-id-3 input.sk-toggleable__control:checked~label.sk-toggleable__label-arrow:before {content: \"▾\";}#sk-container-id-3 div.sk-estimator input.sk-toggleable__control:checked~label.sk-toggleable__label {background-color: #d4ebff;}#sk-container-id-3 div.sk-label input.sk-toggleable__control:checked~label.sk-toggleable__label {background-color: #d4ebff;}#sk-container-id-3 input.sk-hidden--visually {border: 0;clip: rect(1px 1px 1px 1px);clip: rect(1px, 1px, 1px, 1px);height: 1px;margin: -1px;overflow: hidden;padding: 0;position: absolute;width: 1px;}#sk-container-id-3 div.sk-estimator {font-family: monospace;background-color: #f0f8ff;border: 1px dotted black;border-radius: 0.25em;box-sizing: border-box;margin-bottom: 0.5em;}#sk-container-id-3 div.sk-estimator:hover {background-color: #d4ebff;}#sk-container-id-3 div.sk-parallel-item::after {content: \"\";width: 100%;border-bottom: 1px solid gray;flex-grow: 1;}#sk-container-id-3 div.sk-label:hover label.sk-toggleable__label {background-color: #d4ebff;}#sk-container-id-3 div.sk-serial::before {content: \"\";position: absolute;border-left: 1px solid gray;box-sizing: border-box;top: 0;bottom: 0;left: 50%;z-index: 0;}#sk-container-id-3 div.sk-serial {display: flex;flex-direction: column;align-items: center;background-color: white;padding-right: 0.2em;padding-left: 0.2em;position: relative;}#sk-container-id-3 div.sk-item {position: relative;z-index: 1;}#sk-container-id-3 div.sk-parallel {display: flex;align-items: stretch;justify-content: center;background-color: white;position: relative;}#sk-container-id-3 div.sk-item::before, #sk-container-id-3 div.sk-parallel-item::before {content: \"\";position: absolute;border-left: 1px solid gray;box-sizing: border-box;top: 0;bottom: 0;left: 50%;z-index: -1;}#sk-container-id-3 div.sk-parallel-item {display: flex;flex-direction: column;z-index: 1;position: relative;background-color: white;}#sk-container-id-3 div.sk-parallel-item:first-child::after {align-self: flex-end;width: 50%;}#sk-container-id-3 div.sk-parallel-item:last-child::after {align-self: flex-start;width: 50%;}#sk-container-id-3 div.sk-parallel-item:only-child::after {width: 0;}#sk-container-id-3 div.sk-dashed-wrapped {border: 1px dashed gray;margin: 0 0.4em 0.5em 0.4em;box-sizing: border-box;padding-bottom: 0.4em;background-color: white;}#sk-container-id-3 div.sk-label label {font-family: monospace;font-weight: bold;display: inline-block;line-height: 1.2em;}#sk-container-id-3 div.sk-label-container {text-align: center;}#sk-container-id-3 div.sk-container {/* jupyter's `normalize.less` sets `[hidden] { display: none; }` but bootstrap.min.css set `[hidden] { display: none !important; }` so we also need the `!important` here to be able to override the default hidden behavior on the sphinx rendered scikit-learn.org. See: https://github.com/scikit-learn/scikit-learn/issues/21755 */display: inline-block !important;position: relative;}#sk-container-id-3 div.sk-text-repr-fallback {display: none;}</style><div id=\"sk-container-id-3\" class=\"sk-top-container\"><div class=\"sk-text-repr-fallback\"><pre>RandomForestClassifier(max_depth=17)</pre><b>In a Jupyter environment, please rerun this cell to show the HTML representation or trust the notebook. <br />On GitHub, the HTML representation is unable to render, please try loading this page with nbviewer.org.</b></div><div class=\"sk-container\" hidden><div class=\"sk-item\"><div class=\"sk-estimator sk-toggleable\"><input class=\"sk-toggleable__control sk-hidden--visually\" id=\"sk-estimator-id-3\" type=\"checkbox\" checked><label for=\"sk-estimator-id-3\" class=\"sk-toggleable__label sk-toggleable__label-arrow\">RandomForestClassifier</label><div class=\"sk-toggleable__content\"><pre>RandomForestClassifier(max_depth=17)</pre></div></div></div></div></div>"
      ],
      "text/plain": [
       "RandomForestClassifier(max_depth=17)"
      ]
     },
     "execution_count": 63,
     "metadata": {},
     "output_type": "execute_result"
    }
   ],
   "source": [
    "GCV.best_estimator_"
   ]
  },
  {
   "cell_type": "code",
   "execution_count": 64,
   "id": "196233c9",
   "metadata": {},
   "outputs": [
    {
     "data": {
      "text/plain": [
       "0.9321231254932912"
      ]
     },
     "execution_count": 64,
     "metadata": {},
     "output_type": "execute_result"
    }
   ],
   "source": [
    "GCV_pred=GCV.best_estimator_.predict(X_test)   ## predicting with best parameters\n",
    "accuracy_score(Y_test,GCV_pred) ## Checking final accuracy"
   ]
  },
  {
   "cell_type": "markdown",
   "id": "c95dbf3e",
   "metadata": {},
   "source": [
    "# AUC_ROC CURVE"
   ]
  },
  {
   "cell_type": "code",
   "execution_count": 65,
   "id": "46e742ac",
   "metadata": {},
   "outputs": [
    {
     "data": {
      "image/png": "[encoded data removed]",
      "text/plain": [
       "<Figure size 432x288 with 1 Axes>"
      ]
     },
     "metadata": {
      "needs_background": "light"
     },
     "output_type": "display_data"
    }
   ],
   "source": [
    "from sklearn.metrics import plot_roc_curve\n",
    "plot_roc_curve(GCV.best_estimator_,X_test,Y_test)\n",
    "plt.title(\"ROC AUC PLOT\")\n",
    "plt.show()"
   ]
  },
  {
   "cell_type": "markdown",
   "id": "4724f1d3",
   "metadata": {},
   "source": [
    "# AdaBoostClassifier"
   ]
  },
  {
   "cell_type": "code",
   "execution_count": 66,
   "id": "e0061c55",
   "metadata": {},
   "outputs": [
    {
     "name": "stdout",
     "output_type": "stream",
     "text": [
      "Accuracy 86.42462509865825\n",
      "[[933  68]\n",
      " [104 162]]\n",
      "              precision    recall  f1-score   support\n",
      "\n",
      "           0       0.90      0.93      0.92      1001\n",
      "           1       0.70      0.61      0.65       266\n",
      "\n",
      "    accuracy                           0.86      1267\n",
      "   macro avg       0.80      0.77      0.78      1267\n",
      "weighted avg       0.86      0.86      0.86      1267\n",
      "\n"
     ]
    }
   ],
   "source": [
    "from sklearn.ensemble import AdaBoostClassifier\n",
    "ad=AdaBoostClassifier()\n",
    "ad.fit(X_train,Y_train) \n",
    "predad=ad.predict(X_test)\n",
    "print(\"Accuracy\",accuracy_score(Y_test,predad)*100)\n",
    "print(confusion_matrix(Y_test,predad))\n",
    "print(classification_report(Y_test,predad))"
   ]
  },
  {
   "cell_type": "markdown",
   "id": "65cb57ee",
   "metadata": {},
   "source": [
    "# Cross validation with AdaBoost"
   ]
  },
  {
   "cell_type": "code",
   "execution_count": 68,
   "id": "f25cad68",
   "metadata": {},
   "outputs": [
    {
     "name": "stdout",
     "output_type": "stream",
     "text": [
      "Cross Validation score of AdaBoostClassifier :  0.8253399267591094\n"
     ]
    }
   ],
   "source": [
    "scr7=cross_val_score(ad,X,Y,cv=5)\n",
    "print(\"Cross Validation score of AdaBoostClassifier : \",scr7.mean())"
   ]
  },
  {
   "cell_type": "code",
   "execution_count": 70,
   "id": "8b4ac183",
   "metadata": {},
   "outputs": [
    {
     "name": "stdout",
     "output_type": "stream",
     "text": [
      "Accuracy 86.74033149171271\n",
      "[[937  64]\n",
      " [104 162]]\n",
      "              precision    recall  f1-score   support\n",
      "\n",
      "           0       0.90      0.94      0.92      1001\n",
      "           1       0.72      0.61      0.66       266\n",
      "\n",
      "    accuracy                           0.87      1267\n",
      "   macro avg       0.81      0.77      0.79      1267\n",
      "weighted avg       0.86      0.87      0.86      1267\n",
      "\n"
     ]
    }
   ],
   "source": [
    "ad=AdaBoostClassifier(n_estimators=200\n",
    "                     )\n",
    "ad.fit(X_train,Y_train) \n",
    "predad=ad.predict(X_test)\n",
    "print(\"Accuracy\",accuracy_score(Y_test,predad)*100)\n",
    "print(confusion_matrix(Y_test,predad))\n",
    "print(classification_report(Y_test,predad))"
   ]
  },
  {
   "cell_type": "markdown",
   "id": "0ed9e4e9",
   "metadata": {},
   "source": [
    "# AdaBoost Classifier with Support Vector Classifier"
   ]
  },
  {
   "cell_type": "code",
   "execution_count": 72,
   "id": "3bba3058",
   "metadata": {},
   "outputs": [
    {
     "name": "stdout",
     "output_type": "stream",
     "text": [
      "Accuracy 79.00552486187846\n",
      "[[1001    0]\n",
      " [ 266    0]]\n",
      "              precision    recall  f1-score   support\n",
      "\n",
      "           0       0.79      1.00      0.88      1001\n",
      "           1       0.00      0.00      0.00       266\n",
      "\n",
      "    accuracy                           0.79      1267\n",
      "   macro avg       0.40      0.50      0.44      1267\n",
      "weighted avg       0.62      0.79      0.70      1267\n",
      "\n"
     ]
    }
   ],
   "source": [
    "from sklearn.svm import SVC\n",
    "svc=SVC()\n",
    "\n",
    "ad=AdaBoostClassifier(n_estimators=200,base_estimator=svc,algorithm='SAMME')\n",
    "ad.fit(X_train,Y_train) \n",
    "predad=ad.predict(X_test)\n",
    "print(\"Accuracy\",accuracy_score(Y_test,predad)*100)\n",
    "print(confusion_matrix(Y_test,predad))\n",
    "print(classification_report(Y_test,predad))"
   ]
  },
  {
   "cell_type": "markdown",
   "id": "9e1043c2",
   "metadata": {},
   "source": [
    "# Conclusion"
   ]
  },
  {
   "cell_type": "markdown",
   "id": "72e82f52",
   "metadata": {},
   "source": [
    "From above analysis, some modeles gives same result such as Logistic Regresssion,Random Forest Classifier,SVC,KNeighbors classifier,GaussianNB,AdaBoostClassifier.\n",
    "\n",
    "By hyperperameter tunning RandomForestClassifier gives the best value for this dataset."
   ]
  },
  {
   "cell_type": "markdown",
   "id": "a753335b",
   "metadata": {},
   "source": [
    "# Saving the model in pickle format"
   ]
  },
  {
   "cell_type": "code",
   "execution_count": 73,
   "id": "0757cfb9",
   "metadata": {},
   "outputs": [
    {
     "data": {
      "text/plain": [
       "['weatherAUS.pkl']"
      ]
     },
     "execution_count": 73,
     "metadata": {},
     "output_type": "execute_result"
    }
   ],
   "source": [
    "## PICKeling of file or serialization of a file\n",
    "\n",
    "import joblib\n",
    "joblib.dump(GCV.best_estimator_,\"weatherAUS.pkl\")"
   ]
  },
  {
   "cell_type": "code",
   "execution_count": null,
   "id": "f1be9849",
   "metadata": {},
   "outputs": [],
   "source": []
  }
 ],
 "metadata": {
  "kernelspec": {
   "display_name": "Python 3 (ipykernel)",
   "language": "python",
   "name": "python3"
  },
  "language_info": {
   "codemirror_mode": {
    "name": "ipython",
    "version": 3
   },
   "file_extension": ".py",
   "mimetype": "text/x-python",
   "name": "python",
   "nbconvert_exporter": "python",
   "pygments_lexer": "ipython3",
   "version": "3.9.7"
  }
 },
 "nbformat": 4,
 "nbformat_minor": 5
}

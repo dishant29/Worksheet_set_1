{
 "cells": [
  {
   "cell_type": "code",
   "execution_count": 1,
   "id": "c32520d6",
   "metadata": {},
   "outputs": [],
   "source": [
    "import pandas as pd\n",
    "import numpy as np"
   ]
  },
  {
   "cell_type": "code",
   "execution_count": 2,
   "id": "80cf9c1e",
   "metadata": {},
   "outputs": [],
   "source": [
    "df=pd.read_csv(\"salaries.csv\")"
   ]
  },
  {
   "cell_type": "code",
   "execution_count": 3,
   "id": "d79c03c9",
   "metadata": {},
   "outputs": [
    {
     "data": {
      "text/html": [
       "<div>\n",
       "<style scoped>\n",
       "    .dataframe tbody tr th:only-of-type {\n",
       "        vertical-align: middle;\n",
       "    }\n",
       "\n",
       "    .dataframe tbody tr th {\n",
       "        vertical-align: top;\n",
       "    }\n",
       "\n",
       "    .dataframe thead th {\n",
       "        text-align: right;\n",
       "    }\n",
       "</style>\n",
       "<table border=\"1\" class=\"dataframe\">\n",
       "  <thead>\n",
       "    <tr style=\"text-align: right;\">\n",
       "      <th></th>\n",
       "      <th>rank</th>\n",
       "      <th>discipline</th>\n",
       "      <th>yrs.since.phd</th>\n",
       "      <th>yrs.service</th>\n",
       "      <th>sex</th>\n",
       "      <th>salary</th>\n",
       "    </tr>\n",
       "  </thead>\n",
       "  <tbody>\n",
       "    <tr>\n",
       "      <th>0</th>\n",
       "      <td>Prof</td>\n",
       "      <td>B</td>\n",
       "      <td>19</td>\n",
       "      <td>18</td>\n",
       "      <td>Male</td>\n",
       "      <td>139750</td>\n",
       "    </tr>\n",
       "    <tr>\n",
       "      <th>1</th>\n",
       "      <td>Prof</td>\n",
       "      <td>B</td>\n",
       "      <td>20</td>\n",
       "      <td>16</td>\n",
       "      <td>Male</td>\n",
       "      <td>173200</td>\n",
       "    </tr>\n",
       "    <tr>\n",
       "      <th>2</th>\n",
       "      <td>AsstProf</td>\n",
       "      <td>B</td>\n",
       "      <td>4</td>\n",
       "      <td>3</td>\n",
       "      <td>Male</td>\n",
       "      <td>79750</td>\n",
       "    </tr>\n",
       "    <tr>\n",
       "      <th>3</th>\n",
       "      <td>Prof</td>\n",
       "      <td>B</td>\n",
       "      <td>45</td>\n",
       "      <td>39</td>\n",
       "      <td>Male</td>\n",
       "      <td>115000</td>\n",
       "    </tr>\n",
       "    <tr>\n",
       "      <th>4</th>\n",
       "      <td>Prof</td>\n",
       "      <td>B</td>\n",
       "      <td>40</td>\n",
       "      <td>41</td>\n",
       "      <td>Male</td>\n",
       "      <td>141500</td>\n",
       "    </tr>\n",
       "    <tr>\n",
       "      <th>...</th>\n",
       "      <td>...</td>\n",
       "      <td>...</td>\n",
       "      <td>...</td>\n",
       "      <td>...</td>\n",
       "      <td>...</td>\n",
       "      <td>...</td>\n",
       "    </tr>\n",
       "    <tr>\n",
       "      <th>392</th>\n",
       "      <td>Prof</td>\n",
       "      <td>A</td>\n",
       "      <td>33</td>\n",
       "      <td>30</td>\n",
       "      <td>Male</td>\n",
       "      <td>103106</td>\n",
       "    </tr>\n",
       "    <tr>\n",
       "      <th>393</th>\n",
       "      <td>Prof</td>\n",
       "      <td>A</td>\n",
       "      <td>31</td>\n",
       "      <td>19</td>\n",
       "      <td>Male</td>\n",
       "      <td>150564</td>\n",
       "    </tr>\n",
       "    <tr>\n",
       "      <th>394</th>\n",
       "      <td>Prof</td>\n",
       "      <td>A</td>\n",
       "      <td>42</td>\n",
       "      <td>25</td>\n",
       "      <td>Male</td>\n",
       "      <td>101738</td>\n",
       "    </tr>\n",
       "    <tr>\n",
       "      <th>395</th>\n",
       "      <td>Prof</td>\n",
       "      <td>A</td>\n",
       "      <td>25</td>\n",
       "      <td>15</td>\n",
       "      <td>Male</td>\n",
       "      <td>95329</td>\n",
       "    </tr>\n",
       "    <tr>\n",
       "      <th>396</th>\n",
       "      <td>AsstProf</td>\n",
       "      <td>A</td>\n",
       "      <td>8</td>\n",
       "      <td>4</td>\n",
       "      <td>Male</td>\n",
       "      <td>81035</td>\n",
       "    </tr>\n",
       "  </tbody>\n",
       "</table>\n",
       "<p>397 rows × 6 columns</p>\n",
       "</div>"
      ],
      "text/plain": [
       "         rank discipline  yrs.since.phd  yrs.service   sex  salary\n",
       "0        Prof          B             19           18  Male  139750\n",
       "1        Prof          B             20           16  Male  173200\n",
       "2    AsstProf          B              4            3  Male   79750\n",
       "3        Prof          B             45           39  Male  115000\n",
       "4        Prof          B             40           41  Male  141500\n",
       "..        ...        ...            ...          ...   ...     ...\n",
       "392      Prof          A             33           30  Male  103106\n",
       "393      Prof          A             31           19  Male  150564\n",
       "394      Prof          A             42           25  Male  101738\n",
       "395      Prof          A             25           15  Male   95329\n",
       "396  AsstProf          A              8            4  Male   81035\n",
       "\n",
       "[397 rows x 6 columns]"
      ]
     },
     "execution_count": 3,
     "metadata": {},
     "output_type": "execute_result"
    }
   ],
   "source": [
    "df"
   ]
  },
  {
   "cell_type": "code",
   "execution_count": 4,
   "id": "2ac36bc7",
   "metadata": {},
   "outputs": [
    {
     "data": {
      "text/plain": [
       "Index(['rank', 'discipline', 'yrs.since.phd', 'yrs.service', 'sex', 'salary'], dtype='object')"
      ]
     },
     "execution_count": 4,
     "metadata": {},
     "output_type": "execute_result"
    }
   ],
   "source": [
    "df.columns"
   ]
  },
  {
   "cell_type": "code",
   "execution_count": 5,
   "id": "231b8b5b",
   "metadata": {},
   "outputs": [
    {
     "data": {
      "text/plain": [
       "rank             0\n",
       "discipline       0\n",
       "yrs.since.phd    0\n",
       "yrs.service      0\n",
       "sex              0\n",
       "salary           0\n",
       "dtype: int64"
      ]
     },
     "execution_count": 5,
     "metadata": {},
     "output_type": "execute_result"
    }
   ],
   "source": [
    "df.isnull().sum()"
   ]
  },
  {
   "cell_type": "markdown",
   "id": "26f4e7e1",
   "metadata": {},
   "source": [
    "# EDA"
   ]
  },
  {
   "cell_type": "markdown",
   "id": "54140d6f",
   "metadata": {},
   "source": [
    "# Scatterplot:"
   ]
  },
  {
   "cell_type": "code",
   "execution_count": 6,
   "id": "cd0f0529",
   "metadata": {},
   "outputs": [
    {
     "data": {
      "text/plain": [
       "<AxesSubplot:xlabel='rank', ylabel='salary'>"
      ]
     },
     "execution_count": 6,
     "metadata": {},
     "output_type": "execute_result"
    },
    {
     "data": {
      "image/png": "[encoded data removed]",
      "text/plain": [
       "<Figure size 432x288 with 1 Axes>"
      ]
     },
     "metadata": {
      "needs_background": "light"
     },
     "output_type": "display_data"
    }
   ],
   "source": [
    "import seaborn as sns\n",
    "sns.scatterplot(x=\"rank\",y=\"salary\",data=df)"
   ]
  },
  {
   "cell_type": "code",
   "execution_count": 7,
   "id": "79b04865",
   "metadata": {},
   "outputs": [
    {
     "data": {
      "text/plain": [
       "<AxesSubplot:xlabel='discipline', ylabel='salary'>"
      ]
     },
     "execution_count": 7,
     "metadata": {},
     "output_type": "execute_result"
    },
    {
     "data": {
      "image/png": "[encoded data removed]",
      "text/plain": [
       "<Figure size 432x288 with 1 Axes>"
      ]
     },
     "metadata": {
      "needs_background": "light"
     },
     "output_type": "display_data"
    }
   ],
   "source": [
    "import seaborn as sns\n",
    "sns.scatterplot(x=\"discipline\",y=\"salary\",data=df)"
   ]
  },
  {
   "cell_type": "code",
   "execution_count": 8,
   "id": "54911c17",
   "metadata": {},
   "outputs": [
    {
     "data": {
      "text/plain": [
       "<AxesSubplot:xlabel='yrs.since.phd', ylabel='salary'>"
      ]
     },
     "execution_count": 8,
     "metadata": {},
     "output_type": "execute_result"
    },
    {
     "data": {
      "image/png": "[encoded data removed]",
      "text/plain": [
       "<Figure size 432x288 with 1 Axes>"
      ]
     },
     "metadata": {
      "needs_background": "light"
     },
     "output_type": "display_data"
    }
   ],
   "source": [
    "import seaborn as sns\n",
    "sns.scatterplot(x=\"yrs.since.phd\",y=\"salary\",data=df)"
   ]
  },
  {
   "cell_type": "code",
   "execution_count": 9,
   "id": "3b3c1236",
   "metadata": {},
   "outputs": [
    {
     "data": {
      "text/plain": [
       "<AxesSubplot:xlabel='yrs.service', ylabel='salary'>"
      ]
     },
     "execution_count": 9,
     "metadata": {},
     "output_type": "execute_result"
    },
    {
     "data": {
      "image/png": "[encoded data removed]",
      "text/plain": [
       "<Figure size 432x288 with 1 Axes>"
      ]
     },
     "metadata": {
      "needs_background": "light"
     },
     "output_type": "display_data"
    }
   ],
   "source": [
    "import seaborn as sns\n",
    "sns.scatterplot(x=\"yrs.service\",y=\"salary\",data=df)"
   ]
  },
  {
   "cell_type": "code",
   "execution_count": 10,
   "id": "c89c2d1e",
   "metadata": {},
   "outputs": [
    {
     "data": {
      "text/plain": [
       "<AxesSubplot:xlabel='sex', ylabel='salary'>"
      ]
     },
     "execution_count": 10,
     "metadata": {},
     "output_type": "execute_result"
    },
    {
     "data": {
      "image/png": "[encoded data removed]",
      "text/plain": [
       "<Figure size 432x288 with 1 Axes>"
      ]
     },
     "metadata": {
      "needs_background": "light"
     },
     "output_type": "display_data"
    }
   ],
   "source": [
    "import seaborn as sns\n",
    "sns.scatterplot(x=\"sex\",y=\"salary\",data=df)"
   ]
  },
  {
   "cell_type": "code",
   "execution_count": 11,
   "id": "888dbf97",
   "metadata": {},
   "outputs": [
    {
     "data": {
      "text/plain": [
       "rank             object\n",
       "discipline       object\n",
       "yrs.since.phd     int64\n",
       "yrs.service       int64\n",
       "sex              object\n",
       "salary            int64\n",
       "dtype: object"
      ]
     },
     "execution_count": 11,
     "metadata": {},
     "output_type": "execute_result"
    }
   ],
   "source": [
    "df.dtypes"
   ]
  },
  {
   "cell_type": "code",
   "execution_count": 12,
   "id": "748a2ce0",
   "metadata": {},
   "outputs": [],
   "source": [
    "from sklearn.preprocessing import OrdinalEncoder\n",
    "enc=OrdinalEncoder()"
   ]
  },
  {
   "cell_type": "code",
   "execution_count": 13,
   "id": "81b9ae9b",
   "metadata": {},
   "outputs": [],
   "source": [
    "for i in df.columns:\n",
    "    if df[i].dtypes==\"object\":\n",
    "        df[i]=enc.fit_transform(df[i].values.reshape(-1,1))"
   ]
  },
  {
   "cell_type": "code",
   "execution_count": 14,
   "id": "3cd8b3d2",
   "metadata": {},
   "outputs": [
    {
     "data": {
      "text/html": [
       "<div>\n",
       "<style scoped>\n",
       "    .dataframe tbody tr th:only-of-type {\n",
       "        vertical-align: middle;\n",
       "    }\n",
       "\n",
       "    .dataframe tbody tr th {\n",
       "        vertical-align: top;\n",
       "    }\n",
       "\n",
       "    .dataframe thead th {\n",
       "        text-align: right;\n",
       "    }\n",
       "</style>\n",
       "<table border=\"1\" class=\"dataframe\">\n",
       "  <thead>\n",
       "    <tr style=\"text-align: right;\">\n",
       "      <th></th>\n",
       "      <th>rank</th>\n",
       "      <th>discipline</th>\n",
       "      <th>yrs.since.phd</th>\n",
       "      <th>yrs.service</th>\n",
       "      <th>sex</th>\n",
       "      <th>salary</th>\n",
       "    </tr>\n",
       "  </thead>\n",
       "  <tbody>\n",
       "    <tr>\n",
       "      <th>0</th>\n",
       "      <td>2.0</td>\n",
       "      <td>1.0</td>\n",
       "      <td>19</td>\n",
       "      <td>18</td>\n",
       "      <td>1.0</td>\n",
       "      <td>139750</td>\n",
       "    </tr>\n",
       "    <tr>\n",
       "      <th>1</th>\n",
       "      <td>2.0</td>\n",
       "      <td>1.0</td>\n",
       "      <td>20</td>\n",
       "      <td>16</td>\n",
       "      <td>1.0</td>\n",
       "      <td>173200</td>\n",
       "    </tr>\n",
       "    <tr>\n",
       "      <th>2</th>\n",
       "      <td>1.0</td>\n",
       "      <td>1.0</td>\n",
       "      <td>4</td>\n",
       "      <td>3</td>\n",
       "      <td>1.0</td>\n",
       "      <td>79750</td>\n",
       "    </tr>\n",
       "    <tr>\n",
       "      <th>3</th>\n",
       "      <td>2.0</td>\n",
       "      <td>1.0</td>\n",
       "      <td>45</td>\n",
       "      <td>39</td>\n",
       "      <td>1.0</td>\n",
       "      <td>115000</td>\n",
       "    </tr>\n",
       "    <tr>\n",
       "      <th>4</th>\n",
       "      <td>2.0</td>\n",
       "      <td>1.0</td>\n",
       "      <td>40</td>\n",
       "      <td>41</td>\n",
       "      <td>1.0</td>\n",
       "      <td>141500</td>\n",
       "    </tr>\n",
       "    <tr>\n",
       "      <th>...</th>\n",
       "      <td>...</td>\n",
       "      <td>...</td>\n",
       "      <td>...</td>\n",
       "      <td>...</td>\n",
       "      <td>...</td>\n",
       "      <td>...</td>\n",
       "    </tr>\n",
       "    <tr>\n",
       "      <th>392</th>\n",
       "      <td>2.0</td>\n",
       "      <td>0.0</td>\n",
       "      <td>33</td>\n",
       "      <td>30</td>\n",
       "      <td>1.0</td>\n",
       "      <td>103106</td>\n",
       "    </tr>\n",
       "    <tr>\n",
       "      <th>393</th>\n",
       "      <td>2.0</td>\n",
       "      <td>0.0</td>\n",
       "      <td>31</td>\n",
       "      <td>19</td>\n",
       "      <td>1.0</td>\n",
       "      <td>150564</td>\n",
       "    </tr>\n",
       "    <tr>\n",
       "      <th>394</th>\n",
       "      <td>2.0</td>\n",
       "      <td>0.0</td>\n",
       "      <td>42</td>\n",
       "      <td>25</td>\n",
       "      <td>1.0</td>\n",
       "      <td>101738</td>\n",
       "    </tr>\n",
       "    <tr>\n",
       "      <th>395</th>\n",
       "      <td>2.0</td>\n",
       "      <td>0.0</td>\n",
       "      <td>25</td>\n",
       "      <td>15</td>\n",
       "      <td>1.0</td>\n",
       "      <td>95329</td>\n",
       "    </tr>\n",
       "    <tr>\n",
       "      <th>396</th>\n",
       "      <td>1.0</td>\n",
       "      <td>0.0</td>\n",
       "      <td>8</td>\n",
       "      <td>4</td>\n",
       "      <td>1.0</td>\n",
       "      <td>81035</td>\n",
       "    </tr>\n",
       "  </tbody>\n",
       "</table>\n",
       "<p>397 rows × 6 columns</p>\n",
       "</div>"
      ],
      "text/plain": [
       "     rank  discipline  yrs.since.phd  yrs.service  sex  salary\n",
       "0     2.0         1.0             19           18  1.0  139750\n",
       "1     2.0         1.0             20           16  1.0  173200\n",
       "2     1.0         1.0              4            3  1.0   79750\n",
       "3     2.0         1.0             45           39  1.0  115000\n",
       "4     2.0         1.0             40           41  1.0  141500\n",
       "..    ...         ...            ...          ...  ...     ...\n",
       "392   2.0         0.0             33           30  1.0  103106\n",
       "393   2.0         0.0             31           19  1.0  150564\n",
       "394   2.0         0.0             42           25  1.0  101738\n",
       "395   2.0         0.0             25           15  1.0   95329\n",
       "396   1.0         0.0              8            4  1.0   81035\n",
       "\n",
       "[397 rows x 6 columns]"
      ]
     },
     "execution_count": 14,
     "metadata": {},
     "output_type": "execute_result"
    }
   ],
   "source": [
    "df"
   ]
  },
  {
   "cell_type": "markdown",
   "id": "a6b1850c",
   "metadata": {},
   "source": [
    "# Correlation"
   ]
  },
  {
   "cell_type": "code",
   "execution_count": 15,
   "id": "3ffee849",
   "metadata": {},
   "outputs": [
    {
     "data": {
      "text/html": [
       "<div>\n",
       "<style scoped>\n",
       "    .dataframe tbody tr th:only-of-type {\n",
       "        vertical-align: middle;\n",
       "    }\n",
       "\n",
       "    .dataframe tbody tr th {\n",
       "        vertical-align: top;\n",
       "    }\n",
       "\n",
       "    .dataframe thead th {\n",
       "        text-align: right;\n",
       "    }\n",
       "</style>\n",
       "<table border=\"1\" class=\"dataframe\">\n",
       "  <thead>\n",
       "    <tr style=\"text-align: right;\">\n",
       "      <th></th>\n",
       "      <th>rank</th>\n",
       "      <th>discipline</th>\n",
       "      <th>yrs.since.phd</th>\n",
       "      <th>yrs.service</th>\n",
       "      <th>sex</th>\n",
       "      <th>salary</th>\n",
       "    </tr>\n",
       "  </thead>\n",
       "  <tbody>\n",
       "    <tr>\n",
       "      <th>rank</th>\n",
       "      <td>1.000000</td>\n",
       "      <td>-0.086266</td>\n",
       "      <td>0.525500</td>\n",
       "      <td>0.447499</td>\n",
       "      <td>0.132492</td>\n",
       "      <td>0.522207</td>\n",
       "    </tr>\n",
       "    <tr>\n",
       "      <th>discipline</th>\n",
       "      <td>-0.086266</td>\n",
       "      <td>1.000000</td>\n",
       "      <td>-0.218087</td>\n",
       "      <td>-0.164599</td>\n",
       "      <td>0.003724</td>\n",
       "      <td>0.156084</td>\n",
       "    </tr>\n",
       "    <tr>\n",
       "      <th>yrs.since.phd</th>\n",
       "      <td>0.525500</td>\n",
       "      <td>-0.218087</td>\n",
       "      <td>1.000000</td>\n",
       "      <td>0.909649</td>\n",
       "      <td>0.148788</td>\n",
       "      <td>0.419231</td>\n",
       "    </tr>\n",
       "    <tr>\n",
       "      <th>yrs.service</th>\n",
       "      <td>0.447499</td>\n",
       "      <td>-0.164599</td>\n",
       "      <td>0.909649</td>\n",
       "      <td>1.000000</td>\n",
       "      <td>0.153740</td>\n",
       "      <td>0.334745</td>\n",
       "    </tr>\n",
       "    <tr>\n",
       "      <th>sex</th>\n",
       "      <td>0.132492</td>\n",
       "      <td>0.003724</td>\n",
       "      <td>0.148788</td>\n",
       "      <td>0.153740</td>\n",
       "      <td>1.000000</td>\n",
       "      <td>0.138610</td>\n",
       "    </tr>\n",
       "    <tr>\n",
       "      <th>salary</th>\n",
       "      <td>0.522207</td>\n",
       "      <td>0.156084</td>\n",
       "      <td>0.419231</td>\n",
       "      <td>0.334745</td>\n",
       "      <td>0.138610</td>\n",
       "      <td>1.000000</td>\n",
       "    </tr>\n",
       "  </tbody>\n",
       "</table>\n",
       "</div>"
      ],
      "text/plain": [
       "                   rank  discipline  yrs.since.phd  yrs.service       sex  \\\n",
       "rank           1.000000   -0.086266       0.525500     0.447499  0.132492   \n",
       "discipline    -0.086266    1.000000      -0.218087    -0.164599  0.003724   \n",
       "yrs.since.phd  0.525500   -0.218087       1.000000     0.909649  0.148788   \n",
       "yrs.service    0.447499   -0.164599       0.909649     1.000000  0.153740   \n",
       "sex            0.132492    0.003724       0.148788     0.153740  1.000000   \n",
       "salary         0.522207    0.156084       0.419231     0.334745  0.138610   \n",
       "\n",
       "                 salary  \n",
       "rank           0.522207  \n",
       "discipline     0.156084  \n",
       "yrs.since.phd  0.419231  \n",
       "yrs.service    0.334745  \n",
       "sex            0.138610  \n",
       "salary         1.000000  "
      ]
     },
     "execution_count": 15,
     "metadata": {},
     "output_type": "execute_result"
    }
   ],
   "source": [
    "df.corr()"
   ]
  },
  {
   "cell_type": "code",
   "execution_count": 16,
   "id": "26c01169",
   "metadata": {},
   "outputs": [
    {
     "data": {
      "text/plain": [
       "sex              0.138610\n",
       "discipline       0.156084\n",
       "yrs.service      0.334745\n",
       "yrs.since.phd    0.419231\n",
       "rank             0.522207\n",
       "salary           1.000000\n",
       "Name: salary, dtype: float64"
      ]
     },
     "execution_count": 16,
     "metadata": {},
     "output_type": "execute_result"
    }
   ],
   "source": [
    "df.corr()['salary'].sort_values()"
   ]
  },
  {
   "cell_type": "code",
   "execution_count": 17,
   "id": "42c19482",
   "metadata": {
    "scrolled": true
   },
   "outputs": [
    {
     "data": {
      "text/plain": [
       "<AxesSubplot:>"
      ]
     },
     "execution_count": 17,
     "metadata": {},
     "output_type": "execute_result"
    },
    {
     "data": {
      "image/png": "[encoded data removed]",
      "text/plain": [
       "<Figure size 1584x720 with 2 Axes>"
      ]
     },
     "metadata": {
      "needs_background": "light"
     },
     "output_type": "display_data"
    }
   ],
   "source": [
    "import matplotlib.pyplot as plt\n",
    "plt.figure(figsize=(22,10))\n",
    "sns.heatmap(df.corr(),annot=True,linewidths=0.5,linecolor=\"black\",fmt=\"0.2f\")"
   ]
  },
  {
   "cell_type": "markdown",
   "id": "29234c18",
   "metadata": {},
   "source": [
    "# Describing Datasets:"
   ]
  },
  {
   "cell_type": "code",
   "execution_count": 18,
   "id": "e02bfd25",
   "metadata": {},
   "outputs": [
    {
     "data": {
      "text/html": [
       "<div>\n",
       "<style scoped>\n",
       "    .dataframe tbody tr th:only-of-type {\n",
       "        vertical-align: middle;\n",
       "    }\n",
       "\n",
       "    .dataframe tbody tr th {\n",
       "        vertical-align: top;\n",
       "    }\n",
       "\n",
       "    .dataframe thead th {\n",
       "        text-align: right;\n",
       "    }\n",
       "</style>\n",
       "<table border=\"1\" class=\"dataframe\">\n",
       "  <thead>\n",
       "    <tr style=\"text-align: right;\">\n",
       "      <th></th>\n",
       "      <th>rank</th>\n",
       "      <th>discipline</th>\n",
       "      <th>yrs.since.phd</th>\n",
       "      <th>yrs.service</th>\n",
       "      <th>sex</th>\n",
       "      <th>salary</th>\n",
       "    </tr>\n",
       "  </thead>\n",
       "  <tbody>\n",
       "    <tr>\n",
       "      <th>count</th>\n",
       "      <td>397.000000</td>\n",
       "      <td>397.000000</td>\n",
       "      <td>397.000000</td>\n",
       "      <td>397.000000</td>\n",
       "      <td>397.000000</td>\n",
       "      <td>397.000000</td>\n",
       "    </tr>\n",
       "    <tr>\n",
       "      <th>mean</th>\n",
       "      <td>1.508816</td>\n",
       "      <td>0.544081</td>\n",
       "      <td>22.314861</td>\n",
       "      <td>17.614610</td>\n",
       "      <td>0.901763</td>\n",
       "      <td>113706.458438</td>\n",
       "    </tr>\n",
       "    <tr>\n",
       "      <th>std</th>\n",
       "      <td>0.757486</td>\n",
       "      <td>0.498682</td>\n",
       "      <td>12.887003</td>\n",
       "      <td>13.006024</td>\n",
       "      <td>0.298010</td>\n",
       "      <td>30289.038695</td>\n",
       "    </tr>\n",
       "    <tr>\n",
       "      <th>min</th>\n",
       "      <td>0.000000</td>\n",
       "      <td>0.000000</td>\n",
       "      <td>1.000000</td>\n",
       "      <td>0.000000</td>\n",
       "      <td>0.000000</td>\n",
       "      <td>57800.000000</td>\n",
       "    </tr>\n",
       "    <tr>\n",
       "      <th>25%</th>\n",
       "      <td>1.000000</td>\n",
       "      <td>0.000000</td>\n",
       "      <td>12.000000</td>\n",
       "      <td>7.000000</td>\n",
       "      <td>1.000000</td>\n",
       "      <td>91000.000000</td>\n",
       "    </tr>\n",
       "    <tr>\n",
       "      <th>50%</th>\n",
       "      <td>2.000000</td>\n",
       "      <td>1.000000</td>\n",
       "      <td>21.000000</td>\n",
       "      <td>16.000000</td>\n",
       "      <td>1.000000</td>\n",
       "      <td>107300.000000</td>\n",
       "    </tr>\n",
       "    <tr>\n",
       "      <th>75%</th>\n",
       "      <td>2.000000</td>\n",
       "      <td>1.000000</td>\n",
       "      <td>32.000000</td>\n",
       "      <td>27.000000</td>\n",
       "      <td>1.000000</td>\n",
       "      <td>134185.000000</td>\n",
       "    </tr>\n",
       "    <tr>\n",
       "      <th>max</th>\n",
       "      <td>2.000000</td>\n",
       "      <td>1.000000</td>\n",
       "      <td>56.000000</td>\n",
       "      <td>60.000000</td>\n",
       "      <td>1.000000</td>\n",
       "      <td>231545.000000</td>\n",
       "    </tr>\n",
       "  </tbody>\n",
       "</table>\n",
       "</div>"
      ],
      "text/plain": [
       "             rank  discipline  yrs.since.phd  yrs.service         sex  \\\n",
       "count  397.000000  397.000000     397.000000   397.000000  397.000000   \n",
       "mean     1.508816    0.544081      22.314861    17.614610    0.901763   \n",
       "std      0.757486    0.498682      12.887003    13.006024    0.298010   \n",
       "min      0.000000    0.000000       1.000000     0.000000    0.000000   \n",
       "25%      1.000000    0.000000      12.000000     7.000000    1.000000   \n",
       "50%      2.000000    1.000000      21.000000    16.000000    1.000000   \n",
       "75%      2.000000    1.000000      32.000000    27.000000    1.000000   \n",
       "max      2.000000    1.000000      56.000000    60.000000    1.000000   \n",
       "\n",
       "              salary  \n",
       "count     397.000000  \n",
       "mean   113706.458438  \n",
       "std     30289.038695  \n",
       "min     57800.000000  \n",
       "25%     91000.000000  \n",
       "50%    107300.000000  \n",
       "75%    134185.000000  \n",
       "max    231545.000000  "
      ]
     },
     "execution_count": 18,
     "metadata": {},
     "output_type": "execute_result"
    }
   ],
   "source": [
    "df.describe()"
   ]
  },
  {
   "cell_type": "code",
   "execution_count": 19,
   "id": "a08eb27e",
   "metadata": {},
   "outputs": [
    {
     "data": {
      "image/png": "[encoded data removed]",
      "text/plain": [
       "<Figure size 1584x504 with 2 Axes>"
      ]
     },
     "metadata": {
      "needs_background": "light"
     },
     "output_type": "display_data"
    }
   ],
   "source": [
    "plt.figure(figsize=(22,7))\n",
    "sns.heatmap(round(df.describe()[1:].transpose(),2),linewidth=2,annot=True,fmt=\"f\")\n",
    "plt.xticks(fontsize=14)\n",
    "plt.yticks(fontsize=14)\n",
    "plt.title('Variables summary',fontsize=18)\n",
    "plt.show()"
   ]
  },
  {
   "cell_type": "code",
   "execution_count": 20,
   "id": "689524e5",
   "metadata": {},
   "outputs": [
    {
     "name": "stdout",
     "output_type": "stream",
     "text": [
      "<class 'pandas.core.frame.DataFrame'>\n",
      "RangeIndex: 397 entries, 0 to 396\n",
      "Data columns (total 6 columns):\n",
      " #   Column         Non-Null Count  Dtype  \n",
      "---  ------         --------------  -----  \n",
      " 0   rank           397 non-null    float64\n",
      " 1   discipline     397 non-null    float64\n",
      " 2   yrs.since.phd  397 non-null    int64  \n",
      " 3   yrs.service    397 non-null    int64  \n",
      " 4   sex            397 non-null    float64\n",
      " 5   salary         397 non-null    int64  \n",
      "dtypes: float64(3), int64(3)\n",
      "memory usage: 18.7 KB\n"
     ]
    }
   ],
   "source": [
    "df.info()"
   ]
  },
  {
   "cell_type": "markdown",
   "id": "9e7bbe96",
   "metadata": {},
   "source": [
    "# outliers checking"
   ]
  },
  {
   "cell_type": "code",
   "execution_count": 21,
   "id": "2dcc7358",
   "metadata": {},
   "outputs": [],
   "source": [
    "import warnings\n",
    "warnings.filterwarnings('ignore')"
   ]
  },
  {
   "cell_type": "code",
   "execution_count": 22,
   "id": "6a98bfe9",
   "metadata": {},
   "outputs": [
    {
     "data": {
      "image/png": "[encoded data removed]",
      "text/plain": [
       "<Figure size 432x43200 with 6 Axes>"
      ]
     },
     "metadata": {
      "needs_background": "light"
     },
     "output_type": "display_data"
    }
   ],
   "source": [
    "collist=df.columns.values\n",
    "ncol=6\n",
    "nrow=397\n",
    "plt.figure(figsize=(ncol,100*ncol))\n",
    "for i in range(0,len(collist)):\n",
    "    plt.subplot(nrow,ncol,i+1)\n",
    "    sns.boxplot(df[collist[i]],color='green',orient='h')\n",
    "    "
   ]
  },
  {
   "cell_type": "markdown",
   "id": "636917af",
   "metadata": {},
   "source": [
    "# skewness"
   ]
  },
  {
   "cell_type": "code",
   "execution_count": 23,
   "id": "7243952b",
   "metadata": {},
   "outputs": [
    {
     "data": {
      "text/plain": [
       "rank            -1.151164\n",
       "discipline      -0.177684\n",
       "yrs.since.phd    0.300880\n",
       "yrs.service      0.650569\n",
       "sex             -2.709958\n",
       "salary           0.714568\n",
       "dtype: float64"
      ]
     },
     "execution_count": 23,
     "metadata": {},
     "output_type": "execute_result"
    }
   ],
   "source": [
    "df.skew()"
   ]
  },
  {
   "cell_type": "markdown",
   "id": "0d3d39cf",
   "metadata": {},
   "source": [
    "# Normal Distribution Curve:"
   ]
  },
  {
   "cell_type": "code",
   "execution_count": 24,
   "id": "4abd7f64",
   "metadata": {},
   "outputs": [
    {
     "data": {
      "text/plain": [
       "<AxesSubplot:xlabel='rank', ylabel='Density'>"
      ]
     },
     "execution_count": 24,
     "metadata": {},
     "output_type": "execute_result"
    },
    {
     "data": {
      "image/png": "[encoded data removed]",
      "text/plain": [
       "<Figure size 432x288 with 1 Axes>"
      ]
     },
     "metadata": {
      "needs_background": "light"
     },
     "output_type": "display_data"
    }
   ],
   "source": [
    "sns.distplot(df[\"rank\"])"
   ]
  },
  {
   "cell_type": "code",
   "execution_count": 25,
   "id": "6c7a3eab",
   "metadata": {},
   "outputs": [
    {
     "data": {
      "text/plain": [
       "<AxesSubplot:xlabel='discipline', ylabel='Density'>"
      ]
     },
     "execution_count": 25,
     "metadata": {},
     "output_type": "execute_result"
    },
    {
     "data": {
      "image/png": "[encoded data removed]",
      "text/plain": [
       "<Figure size 432x288 with 1 Axes>"
      ]
     },
     "metadata": {
      "needs_background": "light"
     },
     "output_type": "display_data"
    }
   ],
   "source": [
    "sns.distplot(df[\"discipline\"])"
   ]
  },
  {
   "cell_type": "code",
   "execution_count": 26,
   "id": "04c401d4",
   "metadata": {},
   "outputs": [
    {
     "data": {
      "text/plain": [
       "<AxesSubplot:xlabel='yrs.since.phd', ylabel='Density'>"
      ]
     },
     "execution_count": 26,
     "metadata": {},
     "output_type": "execute_result"
    },
    {
     "data": {
      "image/png": "[encoded data removed]",
      "text/plain": [
       "<Figure size 432x288 with 1 Axes>"
      ]
     },
     "metadata": {
      "needs_background": "light"
     },
     "output_type": "display_data"
    }
   ],
   "source": [
    "sns.distplot(df[\"yrs.since.phd\"])"
   ]
  },
  {
   "cell_type": "code",
   "execution_count": 27,
   "id": "be51ee71",
   "metadata": {},
   "outputs": [
    {
     "data": {
      "text/plain": [
       "<AxesSubplot:xlabel='yrs.service', ylabel='Density'>"
      ]
     },
     "execution_count": 27,
     "metadata": {},
     "output_type": "execute_result"
    },
    {
     "data": {
      "image/png": "[encoded data removed]",
      "text/plain": [
       "<Figure size 432x288 with 1 Axes>"
      ]
     },
     "metadata": {
      "needs_background": "light"
     },
     "output_type": "display_data"
    }
   ],
   "source": [
    "sns.distplot(df[\"yrs.service\"])"
   ]
  },
  {
   "cell_type": "code",
   "execution_count": 28,
   "id": "0eb5b7bf",
   "metadata": {},
   "outputs": [
    {
     "data": {
      "text/plain": [
       "<AxesSubplot:xlabel='sex', ylabel='Density'>"
      ]
     },
     "execution_count": 28,
     "metadata": {},
     "output_type": "execute_result"
    },
    {
     "data": {
      "image/png": "[encoded data removed]",
      "text/plain": [
       "<Figure size 432x288 with 1 Axes>"
      ]
     },
     "metadata": {
      "needs_background": "light"
     },
     "output_type": "display_data"
    }
   ],
   "source": [
    "sns.distplot(df[\"sex\"])"
   ]
  },
  {
   "cell_type": "code",
   "execution_count": 29,
   "id": "5966a391",
   "metadata": {},
   "outputs": [
    {
     "data": {
      "text/plain": [
       "<AxesSubplot:xlabel='salary', ylabel='Density'>"
      ]
     },
     "execution_count": 29,
     "metadata": {},
     "output_type": "execute_result"
    },
    {
     "data": {
      "image/png": "[encoded data removed]",
      "text/plain": [
       "<Figure size 432x288 with 1 Axes>"
      ]
     },
     "metadata": {
      "needs_background": "light"
     },
     "output_type": "display_data"
    }
   ],
   "source": [
    "sns.distplot(df[\"salary\"])"
   ]
  },
  {
   "cell_type": "code",
   "execution_count": 30,
   "id": "e2101a73",
   "metadata": {},
   "outputs": [
    {
     "data": {
      "text/plain": [
       "rank             0.522207\n",
       "discipline       0.156084\n",
       "yrs.since.phd    0.419231\n",
       "yrs.service      0.334745\n",
       "sex              0.138610\n",
       "salary           1.000000\n",
       "Name: salary, dtype: float64"
      ]
     },
     "execution_count": 30,
     "metadata": {},
     "output_type": "execute_result"
    }
   ],
   "source": [
    "df.corr()[\"salary\"]"
   ]
  },
  {
   "cell_type": "code",
   "execution_count": 31,
   "id": "7e40f552",
   "metadata": {},
   "outputs": [
    {
     "data": {
      "text/plain": [
       "(397, 6)"
      ]
     },
     "execution_count": 31,
     "metadata": {},
     "output_type": "execute_result"
    }
   ],
   "source": [
    "df.shape"
   ]
  },
  {
   "cell_type": "markdown",
   "id": "32f684bc",
   "metadata": {},
   "source": [
    "# Removing outliers"
   ]
  },
  {
   "cell_type": "code",
   "execution_count": 32,
   "id": "26b200ad",
   "metadata": {},
   "outputs": [
    {
     "data": {
      "text/plain": [
       "(array([  9,  19,  24,  34,  35,  43,  47,  48,  52,  63,  68,  84,  90,\n",
       "        103, 114, 119, 123, 127, 131, 132, 133, 148, 153, 179, 186, 218,\n",
       "        230, 231, 233, 237, 245, 253, 254, 274, 316, 323, 330, 332, 334,\n",
       "        341, 358, 361, 364], dtype=int64),\n",
       " array([4, 4, 4, 4, 4, 5, 4, 4, 4, 4, 4, 4, 4, 4, 4, 4, 4, 4, 3, 4, 4, 4,\n",
       "        4, 4, 4, 4, 4, 4, 4, 4, 4, 4, 4, 4, 4, 4, 3, 4, 4, 4, 4, 4, 5],\n",
       "       dtype=int64))"
      ]
     },
     "execution_count": 32,
     "metadata": {},
     "output_type": "execute_result"
    }
   ],
   "source": [
    "from scipy.stats import zscore\n",
    "import numpy as np\n",
    "z=np.abs(zscore(df))\n",
    "threshold=3\n",
    "np.where(z>3)"
   ]
  },
  {
   "cell_type": "code",
   "execution_count": 33,
   "id": "9d9fe822",
   "metadata": {},
   "outputs": [
    {
     "data": {
      "text/html": [
       "<div>\n",
       "<style scoped>\n",
       "    .dataframe tbody tr th:only-of-type {\n",
       "        vertical-align: middle;\n",
       "    }\n",
       "\n",
       "    .dataframe tbody tr th {\n",
       "        vertical-align: top;\n",
       "    }\n",
       "\n",
       "    .dataframe thead th {\n",
       "        text-align: right;\n",
       "    }\n",
       "</style>\n",
       "<table border=\"1\" class=\"dataframe\">\n",
       "  <thead>\n",
       "    <tr style=\"text-align: right;\">\n",
       "      <th></th>\n",
       "      <th>rank</th>\n",
       "      <th>discipline</th>\n",
       "      <th>yrs.since.phd</th>\n",
       "      <th>yrs.service</th>\n",
       "      <th>sex</th>\n",
       "      <th>salary</th>\n",
       "    </tr>\n",
       "  </thead>\n",
       "  <tbody>\n",
       "    <tr>\n",
       "      <th>0</th>\n",
       "      <td>2.0</td>\n",
       "      <td>1.0</td>\n",
       "      <td>19</td>\n",
       "      <td>18</td>\n",
       "      <td>1.0</td>\n",
       "      <td>139750</td>\n",
       "    </tr>\n",
       "    <tr>\n",
       "      <th>1</th>\n",
       "      <td>2.0</td>\n",
       "      <td>1.0</td>\n",
       "      <td>20</td>\n",
       "      <td>16</td>\n",
       "      <td>1.0</td>\n",
       "      <td>173200</td>\n",
       "    </tr>\n",
       "    <tr>\n",
       "      <th>2</th>\n",
       "      <td>1.0</td>\n",
       "      <td>1.0</td>\n",
       "      <td>4</td>\n",
       "      <td>3</td>\n",
       "      <td>1.0</td>\n",
       "      <td>79750</td>\n",
       "    </tr>\n",
       "    <tr>\n",
       "      <th>3</th>\n",
       "      <td>2.0</td>\n",
       "      <td>1.0</td>\n",
       "      <td>45</td>\n",
       "      <td>39</td>\n",
       "      <td>1.0</td>\n",
       "      <td>115000</td>\n",
       "    </tr>\n",
       "    <tr>\n",
       "      <th>4</th>\n",
       "      <td>2.0</td>\n",
       "      <td>1.0</td>\n",
       "      <td>40</td>\n",
       "      <td>41</td>\n",
       "      <td>1.0</td>\n",
       "      <td>141500</td>\n",
       "    </tr>\n",
       "    <tr>\n",
       "      <th>...</th>\n",
       "      <td>...</td>\n",
       "      <td>...</td>\n",
       "      <td>...</td>\n",
       "      <td>...</td>\n",
       "      <td>...</td>\n",
       "      <td>...</td>\n",
       "    </tr>\n",
       "    <tr>\n",
       "      <th>392</th>\n",
       "      <td>2.0</td>\n",
       "      <td>0.0</td>\n",
       "      <td>33</td>\n",
       "      <td>30</td>\n",
       "      <td>1.0</td>\n",
       "      <td>103106</td>\n",
       "    </tr>\n",
       "    <tr>\n",
       "      <th>393</th>\n",
       "      <td>2.0</td>\n",
       "      <td>0.0</td>\n",
       "      <td>31</td>\n",
       "      <td>19</td>\n",
       "      <td>1.0</td>\n",
       "      <td>150564</td>\n",
       "    </tr>\n",
       "    <tr>\n",
       "      <th>394</th>\n",
       "      <td>2.0</td>\n",
       "      <td>0.0</td>\n",
       "      <td>42</td>\n",
       "      <td>25</td>\n",
       "      <td>1.0</td>\n",
       "      <td>101738</td>\n",
       "    </tr>\n",
       "    <tr>\n",
       "      <th>395</th>\n",
       "      <td>2.0</td>\n",
       "      <td>0.0</td>\n",
       "      <td>25</td>\n",
       "      <td>15</td>\n",
       "      <td>1.0</td>\n",
       "      <td>95329</td>\n",
       "    </tr>\n",
       "    <tr>\n",
       "      <th>396</th>\n",
       "      <td>1.0</td>\n",
       "      <td>0.0</td>\n",
       "      <td>8</td>\n",
       "      <td>4</td>\n",
       "      <td>1.0</td>\n",
       "      <td>81035</td>\n",
       "    </tr>\n",
       "  </tbody>\n",
       "</table>\n",
       "<p>354 rows × 6 columns</p>\n",
       "</div>"
      ],
      "text/plain": [
       "     rank  discipline  yrs.since.phd  yrs.service  sex  salary\n",
       "0     2.0         1.0             19           18  1.0  139750\n",
       "1     2.0         1.0             20           16  1.0  173200\n",
       "2     1.0         1.0              4            3  1.0   79750\n",
       "3     2.0         1.0             45           39  1.0  115000\n",
       "4     2.0         1.0             40           41  1.0  141500\n",
       "..    ...         ...            ...          ...  ...     ...\n",
       "392   2.0         0.0             33           30  1.0  103106\n",
       "393   2.0         0.0             31           19  1.0  150564\n",
       "394   2.0         0.0             42           25  1.0  101738\n",
       "395   2.0         0.0             25           15  1.0   95329\n",
       "396   1.0         0.0              8            4  1.0   81035\n",
       "\n",
       "[354 rows x 6 columns]"
      ]
     },
     "execution_count": 33,
     "metadata": {},
     "output_type": "execute_result"
    }
   ],
   "source": [
    "df1=df[(z<3).all(axis=1)]\n",
    "df1"
   ]
  },
  {
   "cell_type": "code",
   "execution_count": 34,
   "id": "c65163f3",
   "metadata": {},
   "outputs": [
    {
     "data": {
      "text/plain": [
       "(354, 6)"
      ]
     },
     "execution_count": 34,
     "metadata": {},
     "output_type": "execute_result"
    }
   ],
   "source": [
    "df1.shape"
   ]
  },
  {
   "cell_type": "markdown",
   "id": "bff716ec",
   "metadata": {},
   "source": [
    "# Percentage data loss:"
   ]
  },
  {
   "cell_type": "code",
   "execution_count": 35,
   "id": "f66e7218",
   "metadata": {},
   "outputs": [],
   "source": [
    "Data_loss=((397-354)/397)*100"
   ]
  },
  {
   "cell_type": "code",
   "execution_count": 36,
   "id": "de69dce3",
   "metadata": {},
   "outputs": [
    {
     "data": {
      "text/plain": [
       "10.831234256926953"
      ]
     },
     "execution_count": 36,
     "metadata": {},
     "output_type": "execute_result"
    }
   ],
   "source": [
    "Data_loss"
   ]
  },
  {
   "cell_type": "markdown",
   "id": "b45e574f",
   "metadata": {},
   "source": [
    "Dividing datain features and vectors"
   ]
  },
  {
   "cell_type": "code",
   "execution_count": 37,
   "id": "42dbdc6b",
   "metadata": {},
   "outputs": [],
   "source": [
    "## independent column\n",
    "x=df1.iloc[:,:-1]\n",
    "#target\n",
    "y=df1.iloc[:,-1]"
   ]
  },
  {
   "cell_type": "markdown",
   "id": "2a7f6222",
   "metadata": {},
   "source": [
    "# Transforming data to remove skewness:"
   ]
  },
  {
   "cell_type": "code",
   "execution_count": 38,
   "id": "b93b937d",
   "metadata": {},
   "outputs": [],
   "source": [
    "from sklearn.preprocessing import power_transform\n",
    "x=power_transform(x,method='yeo-johnson')"
   ]
  },
  {
   "cell_type": "code",
   "execution_count": 39,
   "id": "fbb562d4",
   "metadata": {},
   "outputs": [
    {
     "data": {
      "text/plain": [
       "array([[ 0.66261867,  0.9133438 , -0.16993349,  0.21391071,  0.        ],\n",
       "       [ 0.66261867,  0.9133438 , -0.09133723,  0.06567291,  0.        ],\n",
       "       [-1.18533666,  0.9133438 , -1.64343352, -1.32485378,  0.        ],\n",
       "       ...,\n",
       "       [ 0.66261867, -1.09487797,  1.38580057,  0.67335521,  0.        ],\n",
       "       [ 0.66261867, -1.09487797,  0.28223854, -0.0121133 ,  0.        ],\n",
       "       [-1.18533666, -1.09487797, -1.16828402, -1.16384273,  0.        ]])"
      ]
     },
     "execution_count": 39,
     "metadata": {},
     "output_type": "execute_result"
    }
   ],
   "source": [
    "x"
   ]
  },
  {
   "cell_type": "code",
   "execution_count": 40,
   "id": "064f77d8",
   "metadata": {},
   "outputs": [
    {
     "data": {
      "text/plain": [
       "0   -0.905242\n",
       "1   -0.182308\n",
       "2   -0.146134\n",
       "3   -0.138197\n",
       "4    0.000000\n",
       "dtype: float64"
      ]
     },
     "execution_count": 40,
     "metadata": {},
     "output_type": "execute_result"
    }
   ],
   "source": [
    "pd.DataFrame(x).skew()"
   ]
  },
  {
   "cell_type": "code",
   "execution_count": 41,
   "id": "51ec7aec",
   "metadata": {},
   "outputs": [
    {
     "data": {
      "text/plain": [
       "array([[ 0.66261867,  0.9133438 , -0.16993349,  0.21391071,  0.        ],\n",
       "       [ 0.66261867,  0.9133438 , -0.09133723,  0.06567291,  0.        ],\n",
       "       [-1.18533666,  0.9133438 , -1.64343352, -1.32485378,  0.        ],\n",
       "       ...,\n",
       "       [ 0.66261867, -1.09487797,  1.38580057,  0.67335521,  0.        ],\n",
       "       [ 0.66261867, -1.09487797,  0.28223854, -0.0121133 ,  0.        ],\n",
       "       [-1.18533666, -1.09487797, -1.16828402, -1.16384273,  0.        ]])"
      ]
     },
     "execution_count": 41,
     "metadata": {},
     "output_type": "execute_result"
    }
   ],
   "source": [
    "from sklearn.preprocessing import StandardScaler\n",
    "sc=StandardScaler()\n",
    "x=sc.fit_transform(x)\n",
    "x"
   ]
  },
  {
   "cell_type": "code",
   "execution_count": 42,
   "id": "358aeee5",
   "metadata": {},
   "outputs": [],
   "source": [
    "from sklearn.preprocessing import MinMaxScaler\n",
    "mms=MinMaxScaler()\n",
    "from sklearn.linear_model import LinearRegression\n",
    "lr=LinearRegression()\n",
    "from sklearn.metrics import r2_score\n",
    "from sklearn.model_selection import train_test_split"
   ]
  },
  {
   "cell_type": "code",
   "execution_count": 43,
   "id": "b64d997a",
   "metadata": {},
   "outputs": [],
   "source": [
    "import warnings\n",
    "warnings.filterwarnings('ignore')"
   ]
  },
  {
   "cell_type": "code",
   "execution_count": 45,
   "id": "6edd2904",
   "metadata": {},
   "outputs": [
    {
     "name": "stdout",
     "output_type": "stream",
     "text": [
      "At random state 0,the training accuracy is :- 0.381611058352638\n",
      "At random state 0,the testing accuracy is :- 0.41263683167613807\n",
      "\n",
      "\n",
      "At random state 1,the training accuracy is :- 0.3684272348327665\n",
      "At random state 1,the testing accuracy is :- 0.4097259708231513\n",
      "\n",
      "\n",
      "At random state 2,the training accuracy is :- 0.38016166955297703\n",
      "At random state 2,the testing accuracy is :- 0.4193485318146386\n",
      "\n",
      "\n",
      "At random state 3,the training accuracy is :- 0.38454305566470426\n",
      "At random state 3,the testing accuracy is :- 0.41029140384650886\n",
      "\n",
      "\n",
      "At random state 4,the training accuracy is :- 0.3764843462902884\n",
      "At random state 4,the testing accuracy is :- 0.40933753902906533\n",
      "\n",
      "\n",
      "At random state 5,the training accuracy is :- 0.3891804529537908\n",
      "At random state 5,the testing accuracy is :- 0.3916156739842592\n",
      "\n",
      "\n",
      "At random state 6,the training accuracy is :- 0.3464345730753069\n",
      "At random state 6,the testing accuracy is :- 0.4857901490093849\n",
      "\n",
      "\n",
      "At random state 7,the training accuracy is :- 0.3928114057673554\n",
      "At random state 7,the testing accuracy is :- 0.35040339729804193\n",
      "\n",
      "\n",
      "At random state 8,the training accuracy is :- 0.39008251498330504\n",
      "At random state 8,the testing accuracy is :- 0.3783196644767979\n",
      "\n",
      "\n",
      "At random state 9,the training accuracy is :- 0.41842926394100266\n",
      "At random state 9,the testing accuracy is :- 0.2332895825031983\n",
      "\n",
      "\n",
      "At random state 10,the training accuracy is :- 0.3879869749823077\n",
      "At random state 10,the testing accuracy is :- 0.400031471063349\n",
      "\n",
      "\n",
      "At random state 11,the training accuracy is :- 0.36973179451769533\n",
      "At random state 11,the testing accuracy is :- 0.41983641661745374\n",
      "\n",
      "\n",
      "At random state 12,the training accuracy is :- 0.38301330534530253\n",
      "At random state 12,the testing accuracy is :- 0.4090498681207029\n",
      "\n",
      "\n",
      "At random state 13,the training accuracy is :- 0.38956558864315527\n",
      "At random state 13,the testing accuracy is :- 0.36708689457062615\n",
      "\n",
      "\n",
      "At random state 14,the training accuracy is :- 0.3686822137016419\n",
      "At random state 14,the testing accuracy is :- 0.45247928816458205\n",
      "\n",
      "\n",
      "At random state 15,the training accuracy is :- 0.3661299634052576\n",
      "At random state 15,the testing accuracy is :- 0.42306886731483495\n",
      "\n",
      "\n",
      "At random state 16,the training accuracy is :- 0.3778387634268692\n",
      "At random state 16,the testing accuracy is :- 0.40631385975996426\n",
      "\n",
      "\n",
      "At random state 17,the training accuracy is :- 0.39669207164678544\n",
      "At random state 17,the testing accuracy is :- 0.36748613320633516\n",
      "\n",
      "\n",
      "At random state 18,the training accuracy is :- 0.3891106016796412\n",
      "At random state 18,the testing accuracy is :- 0.37911407391007346\n",
      "\n",
      "\n",
      "At random state 19,the training accuracy is :- 0.4088968003435475\n",
      "At random state 19,the testing accuracy is :- 0.33719351715052026\n",
      "\n",
      "\n",
      "At random state 20,the training accuracy is :- 0.3679925818962382\n",
      "At random state 20,the testing accuracy is :- 0.4719145467168294\n",
      "\n",
      "\n",
      "At random state 21,the training accuracy is :- 0.40148059680117165\n",
      "At random state 21,the testing accuracy is :- 0.3270710073044487\n",
      "\n",
      "\n",
      "At random state 22,the training accuracy is :- 0.4170757354891115\n",
      "At random state 22,the testing accuracy is :- 0.2943094842512538\n",
      "\n",
      "\n",
      "At random state 23,the training accuracy is :- 0.3821628952110311\n",
      "At random state 23,the testing accuracy is :- 0.40526286763888497\n",
      "\n",
      "\n",
      "At random state 24,the training accuracy is :- 0.3797195871363023\n",
      "At random state 24,the testing accuracy is :- 0.4226619863455333\n",
      "\n",
      "\n",
      "At random state 25,the training accuracy is :- 0.4090418246954781\n",
      "At random state 25,the testing accuracy is :- 0.3322994326183135\n",
      "\n",
      "\n",
      "At random state 26,the training accuracy is :- 0.3624749441552396\n",
      "At random state 26,the testing accuracy is :- 0.4554668363401655\n",
      "\n",
      "\n",
      "At random state 27,the training accuracy is :- 0.40608938205883816\n",
      "At random state 27,the testing accuracy is :- 0.34717578690977824\n",
      "\n",
      "\n",
      "At random state 28,the training accuracy is :- 0.3520628599276827\n",
      "At random state 28,the testing accuracy is :- 0.5185941159479154\n",
      "\n",
      "\n",
      "At random state 29,the training accuracy is :- 0.40968821523627996\n",
      "At random state 29,the testing accuracy is :- 0.3375016038139912\n",
      "\n",
      "\n",
      "At random state 30,the training accuracy is :- 0.38130502158920543\n",
      "At random state 30,the testing accuracy is :- 0.4122726275268188\n",
      "\n",
      "\n",
      "At random state 31,the training accuracy is :- 0.40505193586764043\n",
      "At random state 31,the testing accuracy is :- 0.32922656469895606\n",
      "\n",
      "\n",
      "At random state 32,the training accuracy is :- 0.4015297498052147\n",
      "At random state 32,the testing accuracy is :- 0.3586177039856624\n",
      "\n",
      "\n",
      "At random state 33,the training accuracy is :- 0.4043016446599861\n",
      "At random state 33,the testing accuracy is :- 0.3459876446703989\n",
      "\n",
      "\n",
      "At random state 34,the training accuracy is :- 0.3568878732529498\n",
      "At random state 34,the testing accuracy is :- 0.48232993736038565\n",
      "\n",
      "\n",
      "At random state 35,the training accuracy is :- 0.4057301203465883\n",
      "At random state 35,the testing accuracy is :- 0.33755618738084414\n",
      "\n",
      "\n",
      "At random state 36,the training accuracy is :- 0.3920727922060495\n",
      "At random state 36,the testing accuracy is :- 0.3874703503475556\n",
      "\n",
      "\n",
      "At random state 37,the training accuracy is :- 0.3685700137351443\n",
      "At random state 37,the testing accuracy is :- 0.4404199244501459\n",
      "\n",
      "\n",
      "At random state 38,the training accuracy is :- 0.38659858639207567\n",
      "At random state 38,the testing accuracy is :- 0.3779673745081755\n",
      "\n",
      "\n",
      "At random state 39,the training accuracy is :- 0.41160490608447564\n",
      "At random state 39,the testing accuracy is :- 0.30109931559070147\n",
      "\n",
      "\n",
      "At random state 40,the training accuracy is :- 0.4206187261059342\n",
      "At random state 40,the testing accuracy is :- 0.25534126191201567\n",
      "\n",
      "\n",
      "At random state 41,the training accuracy is :- 0.3940155762462131\n",
      "At random state 41,the testing accuracy is :- 0.37737743244279254\n",
      "\n",
      "\n",
      "At random state 42,the training accuracy is :- 0.3943489839037252\n",
      "At random state 42,the testing accuracy is :- 0.36703156576267626\n",
      "\n",
      "\n",
      "At random state 43,the training accuracy is :- 0.4202013175442232\n",
      "At random state 43,the testing accuracy is :- 0.29820052778225126\n",
      "\n",
      "\n",
      "At random state 44,the training accuracy is :- 0.3847713730823593\n",
      "At random state 44,the testing accuracy is :- 0.39705805308747677\n",
      "\n",
      "\n",
      "At random state 45,the training accuracy is :- 0.40377855515506866\n",
      "At random state 45,the testing accuracy is :- 0.35349923581619735\n",
      "\n",
      "\n",
      "At random state 46,the training accuracy is :- 0.39905644399022744\n",
      "At random state 46,the testing accuracy is :- 0.34919762093656503\n",
      "\n",
      "\n",
      "At random state 47,the training accuracy is :- 0.40313791208769056\n",
      "At random state 47,the testing accuracy is :- 0.3192073714543824\n",
      "\n",
      "\n",
      "At random state 48,the training accuracy is :- 0.4102711455811464\n",
      "At random state 48,the testing accuracy is :- 0.33398455335269106\n",
      "\n",
      "\n",
      "At random state 49,the training accuracy is :- 0.4004824799212986\n",
      "At random state 49,the testing accuracy is :- 0.33682449965675376\n",
      "\n",
      "\n",
      "At random state 50,the training accuracy is :- 0.397315079966696\n",
      "At random state 50,the testing accuracy is :- 0.37109960853142876\n",
      "\n",
      "\n",
      "At random state 51,the training accuracy is :- 0.4275861625934212\n",
      "At random state 51,the testing accuracy is :- 0.29316152101102744\n",
      "\n",
      "\n",
      "At random state 52,the training accuracy is :- 0.3808277027820274\n",
      "At random state 52,the testing accuracy is :- 0.411537861677283\n",
      "\n",
      "\n",
      "At random state 53,the training accuracy is :- 0.4069935219487931\n",
      "At random state 53,the testing accuracy is :- 0.34205298814741625\n",
      "\n",
      "\n",
      "At random state 54,the training accuracy is :- 0.36537622178223395\n",
      "At random state 54,the testing accuracy is :- 0.34730074230029373\n",
      "\n",
      "\n",
      "At random state 55,the training accuracy is :- 0.41311324738053645\n",
      "At random state 55,the testing accuracy is :- 0.27927390453976797\n",
      "\n",
      "\n",
      "At random state 56,the training accuracy is :- 0.3552051661190124\n",
      "At random state 56,the testing accuracy is :- 0.48372450468694017\n",
      "\n",
      "\n",
      "At random state 57,the training accuracy is :- 0.39280111049965893\n",
      "At random state 57,the testing accuracy is :- 0.37543730316902013\n",
      "\n",
      "\n",
      "At random state 58,the training accuracy is :- 0.3776976202350002\n",
      "At random state 58,the testing accuracy is :- 0.43513888495887143\n",
      "\n",
      "\n",
      "At random state 59,the training accuracy is :- 0.3933893204660476\n",
      "At random state 59,the testing accuracy is :- 0.3820004021074288\n",
      "\n",
      "\n",
      "At random state 60,the training accuracy is :- 0.42079268318647267\n",
      "At random state 60,the testing accuracy is :- 0.29974495411698376\n",
      "\n",
      "\n",
      "At random state 61,the training accuracy is :- 0.36513479165667617\n",
      "At random state 61,the testing accuracy is :- 0.4575024588159601\n",
      "\n",
      "\n",
      "At random state 62,the training accuracy is :- 0.3955077562270307\n",
      "At random state 62,the testing accuracy is :- 0.38064720863009904\n",
      "\n",
      "\n",
      "At random state 63,the training accuracy is :- 0.3953506736812007\n",
      "At random state 63,the testing accuracy is :- 0.3795910618881294\n",
      "\n",
      "\n",
      "At random state 64,the training accuracy is :- 0.36899593611422055\n",
      "At random state 64,the testing accuracy is :- 0.44150060814174474\n",
      "\n",
      "\n",
      "At random state 65,the training accuracy is :- 0.412947519597502\n",
      "At random state 65,the testing accuracy is :- 0.30822898476256433\n",
      "\n",
      "\n",
      "At random state 66,the training accuracy is :- 0.4046112931776181\n",
      "At random state 66,the testing accuracy is :- 0.345425097520901\n",
      "\n",
      "\n",
      "At random state 67,the training accuracy is :- 0.399106930432348\n",
      "At random state 67,the testing accuracy is :- 0.22385618031628862\n",
      "\n",
      "\n",
      "At random state 68,the training accuracy is :- 0.43618942634337265\n",
      "At random state 68,the testing accuracy is :- 0.2531256796435559\n",
      "\n",
      "\n",
      "At random state 69,the training accuracy is :- 0.4008582630357076\n",
      "At random state 69,the testing accuracy is :- 0.35871942557795156\n",
      "\n",
      "\n",
      "At random state 70,the training accuracy is :- 0.41064098306785546\n",
      "At random state 70,the testing accuracy is :- 0.3298339764322451\n",
      "\n",
      "\n",
      "At random state 71,the training accuracy is :- 0.39171128838619007\n",
      "At random state 71,the testing accuracy is :- 0.38513478621663566\n",
      "\n",
      "\n",
      "At random state 72,the training accuracy is :- 0.384818298472013\n",
      "At random state 72,the testing accuracy is :- 0.39867952865845835\n",
      "\n",
      "\n",
      "At random state 73,the training accuracy is :- 0.3967310150740855\n",
      "At random state 73,the testing accuracy is :- 0.3734360711536511\n",
      "\n",
      "\n",
      "At random state 74,the training accuracy is :- 0.3541527667423273\n",
      "At random state 74,the testing accuracy is :- 0.4441462553020582\n",
      "\n",
      "\n",
      "At random state 75,the training accuracy is :- 0.40054376561522553\n",
      "At random state 75,the testing accuracy is :- 0.35549527784278556\n",
      "\n",
      "\n",
      "At random state 76,the training accuracy is :- 0.4105048242288477\n",
      "At random state 76,the testing accuracy is :- 0.3273890224211137\n",
      "\n",
      "\n",
      "At random state 77,the training accuracy is :- 0.36649796618884756\n",
      "At random state 77,the testing accuracy is :- 0.46612526596135306\n",
      "\n",
      "\n",
      "At random state 78,the training accuracy is :- 0.38555583816328964\n",
      "At random state 78,the testing accuracy is :- 0.39092819863805583\n",
      "\n",
      "\n",
      "At random state 79,the training accuracy is :- 0.3511044111953109\n",
      "At random state 79,the testing accuracy is :- 0.48295013106735174\n",
      "\n",
      "\n",
      "At random state 80,the training accuracy is :- 0.412513922867056\n",
      "At random state 80,the testing accuracy is :- 0.31382175460767736\n",
      "\n",
      "\n",
      "At random state 81,the training accuracy is :- 0.4088527713783904\n",
      "At random state 81,the testing accuracy is :- 0.3321139122875628\n",
      "\n",
      "\n",
      "At random state 82,the training accuracy is :- 0.429543126395288\n",
      "At random state 82,the testing accuracy is :- 0.21336446168210133\n",
      "\n",
      "\n",
      "At random state 83,the training accuracy is :- 0.4014936294153101\n",
      "At random state 83,the testing accuracy is :- 0.35809573799114247\n",
      "\n",
      "\n",
      "At random state 84,the training accuracy is :- 0.3700349276462852\n",
      "At random state 84,the testing accuracy is :- 0.4374613300146931\n",
      "\n",
      "\n",
      "At random state 85,the training accuracy is :- 0.3782284401472735\n",
      "At random state 85,the testing accuracy is :- 0.4270971627651764\n",
      "\n",
      "\n",
      "At random state 86,the training accuracy is :- 0.40959784350129136\n",
      "At random state 86,the testing accuracy is :- 0.30832159420627325\n",
      "\n",
      "\n",
      "At random state 87,the training accuracy is :- 0.3962047710770713\n",
      "At random state 87,the testing accuracy is :- 0.36558407852977304\n",
      "\n",
      "\n",
      "At random state 88,the training accuracy is :- 0.3894982461337907\n",
      "At random state 88,the testing accuracy is :- 0.3704141411478493\n",
      "\n",
      "\n",
      "At random state 89,the training accuracy is :- 0.38160266413116817\n",
      "At random state 89,the testing accuracy is :- 0.4088826753410225\n",
      "\n",
      "\n",
      "At random state 90,the training accuracy is :- 0.4007896012134309\n",
      "At random state 90,the testing accuracy is :- 0.3525857727161076\n",
      "\n",
      "\n",
      "At random state 91,the training accuracy is :- 0.407372922875063\n",
      "At random state 91,the testing accuracy is :- 0.3356326968967601\n",
      "\n",
      "\n",
      "At random state 92,the training accuracy is :- 0.3744583299937073\n",
      "At random state 92,the testing accuracy is :- 0.43343841008796924\n",
      "\n",
      "\n",
      "At random state 93,the training accuracy is :- 0.4100213949210805\n",
      "At random state 93,the testing accuracy is :- 0.31132905310560355\n",
      "\n",
      "\n",
      "At random state 94,the training accuracy is :- 0.4130213902810268\n",
      "At random state 94,the testing accuracy is :- 0.3364832537963417\n",
      "\n",
      "\n",
      "At random state 95,the training accuracy is :- 0.4321040995555703\n",
      "At random state 95,the testing accuracy is :- 0.2803939651375078\n",
      "\n",
      "\n",
      "At random state 96,the training accuracy is :- 0.370396347184909\n",
      "At random state 96,the testing accuracy is :- 0.4352619340983246\n",
      "\n",
      "\n",
      "At random state 97,the training accuracy is :- 0.3969073274279554\n",
      "At random state 97,the testing accuracy is :- 0.34399409114495616\n",
      "\n",
      "\n",
      "At random state 98,the training accuracy is :- 0.3982630297802602\n",
      "At random state 98,the testing accuracy is :- 0.36882753566296955\n",
      "\n",
      "\n",
      "At random state 99,the training accuracy is :- 0.3855659170581476\n",
      "At random state 99,the testing accuracy is :- 0.4003542835469661\n",
      "\n",
      "\n"
     ]
    }
   ],
   "source": [
    "for i in range(0,100):\n",
    "    x_train,x_test,y_train,y_test=train_test_split(x,y,random_state=i)\n",
    "    lr.fit(x_train,y_train)\n",
    "    pred_train=lr.predict(x_train)\n",
    "    pred_test=lr.predict(x_test)\n",
    "    print(f\"At random state {i},the training accuracy is :- {r2_score(y_train,pred_train)}\")\n",
    "    print(f\"At random state {i},the testing accuracy is :- {r2_score(y_test,pred_test)}\")\n",
    "    print(\"\\n\")"
   ]
  },
  {
   "cell_type": "code",
   "execution_count": 47,
   "id": "9baf77a9",
   "metadata": {},
   "outputs": [],
   "source": [
    "x_train,x_test,y_train,y_test=train_test_split(x,y,random_state=12)"
   ]
  },
  {
   "cell_type": "code",
   "execution_count": 49,
   "id": "2508fdd2",
   "metadata": {},
   "outputs": [
    {
     "data": {
      "text/plain": [
       "LinearRegression()"
      ]
     },
     "execution_count": 49,
     "metadata": {},
     "output_type": "execute_result"
    }
   ],
   "source": [
    "lr.fit(x_train,y_train)"
   ]
  },
  {
   "cell_type": "code",
   "execution_count": 50,
   "id": "381f790c",
   "metadata": {},
   "outputs": [],
   "source": [
    "pred_test=lr.predict(x_test)"
   ]
  },
  {
   "cell_type": "code",
   "execution_count": 51,
   "id": "9104be14",
   "metadata": {},
   "outputs": [
    {
     "name": "stdout",
     "output_type": "stream",
     "text": [
      "0.4090498681207029\n"
     ]
    }
   ],
   "source": [
    "print(r2_score(y_test,pred_test))"
   ]
  },
  {
   "cell_type": "code",
   "execution_count": 52,
   "id": "a8854db2",
   "metadata": {},
   "outputs": [
    {
     "data": {
      "image/png": "[encoded data removed]",
      "text/plain": [
       "<Figure size 576x432 with 1 Axes>"
      ]
     },
     "metadata": {
      "needs_background": "light"
     },
     "output_type": "display_data"
    }
   ],
   "source": [
    "import matplotlib.pyplot as plt \n",
    "plt.figure(figsize=(8,6))\n",
    "plt.scatter(x=y_test,y=pred_test,color='r')\n",
    "plt.plot(y_test,y_test, color='b')\n",
    "plt.xlabel('Actual score',fontsize=14)\n",
    "plt.ylabel('predicted score',fontsize=14)\n",
    "plt.title('Linear Regression',fontsize=18)\n",
    "plt.show()"
   ]
  },
  {
   "cell_type": "code",
   "execution_count": null,
   "id": "3d882e36",
   "metadata": {},
   "outputs": [],
   "source": []
  }
 ],
 "metadata": {
  "kernelspec": {
   "display_name": "Python 3 (ipykernel)",
   "language": "python",
   "name": "python3"
  },
  "language_info": {
   "codemirror_mode": {
    "name": "ipython",
    "version": 3
   },
   "file_extension": ".py",
   "mimetype": "text/x-python",
   "name": "python",
   "nbconvert_exporter": "python",
   "pygments_lexer": "ipython3",
   "version": "3.9.7"
  }
 },
 "nbformat": 4,
 "nbformat_minor": 5
}

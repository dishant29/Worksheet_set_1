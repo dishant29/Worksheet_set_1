{
 "cells": [
  {
   "cell_type": "code",
   "execution_count": null,
   "id": "35e2449a",
   "metadata": {},
   "outputs": [],
   "source": [
    "##11. Write a python program to find the factorial of a number"
   ]
  },
  {
   "cell_type": "code",
   "execution_count": 2,
   "id": "b6593b28",
   "metadata": {},
   "outputs": [],
   "source": [
    "import math"
   ]
  },
  {
   "cell_type": "code",
   "execution_count": 28,
   "id": "71cebd52",
   "metadata": {},
   "outputs": [
    {
     "name": "stdout",
     "output_type": "stream",
     "text": [
      "1515\n"
     ]
    }
   ],
   "source": [
    "n = int (input (15))"
   ]
  },
  {
   "cell_type": "code",
   "execution_count": 24,
   "id": "025e8cb1",
   "metadata": {},
   "outputs": [
    {
     "data": {
      "text/plain": [
       "2"
      ]
     },
     "execution_count": 24,
     "metadata": {},
     "output_type": "execute_result"
    }
   ],
   "source": [
    "math.factorial(2)"
   ]
  },
  {
   "cell_type": "code",
   "execution_count": 26,
   "id": "c6f69ab5",
   "metadata": {},
   "outputs": [
    {
     "data": {
      "text/plain": [
       "720"
      ]
     },
     "execution_count": 26,
     "metadata": {},
     "output_type": "execute_result"
    }
   ],
   "source": [
    "math.factorial(6)"
   ]
  },
  {
   "cell_type": "code",
   "execution_count": 30,
   "id": "e45f244a",
   "metadata": {},
   "outputs": [
    {
     "data": {
      "text/plain": [
       "1"
      ]
     },
     "execution_count": 30,
     "metadata": {},
     "output_type": "execute_result"
    }
   ],
   "source": [
    "math.factorial(0)"
   ]
  },
  {
   "cell_type": "code",
   "execution_count": null,
   "id": "3dbe4d06",
   "metadata": {},
   "outputs": [],
   "source": [
    " ##Write a python program to find whether a number is prime or composite."
   ]
  },
  {
   "cell_type": "code",
   "execution_count": 33,
   "id": "5fda5fe2",
   "metadata": {},
   "outputs": [],
   "source": [
    "number=2"
   ]
  },
  {
   "cell_type": "code",
   "execution_count": 34,
   "id": "09739c59",
   "metadata": {},
   "outputs": [
    {
     "name": "stdout",
     "output_type": "stream",
     "text": [
      "2 is a Prime number\n"
     ]
    }
   ],
   "source": [
    "if number > 1:\n",
    "    for i in range(2,int(number/2)+1):\n",
    "        if (number % i == 0):\n",
    "            print(number, \"is not a Prime Number\")\n",
    "            break\n",
    "    else:\n",
    "        print(number,\"is a Prime number\")\n",
    "# If the number is less than 1 it can't be Prime\n",
    "else:\n",
    "    print(number,\"is not a Prime number\")"
   ]
  },
  {
   "cell_type": "code",
   "execution_count": null,
   "id": "fe8db1c4",
   "metadata": {},
   "outputs": [],
   "source": [
    "##13. Write a python program to check whether a given string is palindrome or not."
   ]
  },
  {
   "cell_type": "code",
   "execution_count": 40,
   "id": "c8dde3b9",
   "metadata": {},
   "outputs": [
    {
     "name": "stdout",
     "output_type": "stream",
     "text": [
      "Enter a string:\"Dishant\"\n",
      "Not a palindrome\n"
     ]
    }
   ],
   "source": [
    "string=input((\"Enter a string:\"))\n",
    "if(string==string[::-1]):\n",
    "      print(\"The string is a palindrome\")\n",
    "else:\n",
    "      print(\"Not a palindrome\")"
   ]
  },
  {
   "cell_type": "code",
   "execution_count": null,
   "id": "341d4d6a",
   "metadata": {},
   "outputs": [],
   "source": [
    "#14. Write a Python program to get the third side of right-angled triangle from two given sides."
   ]
  },
  {
   "cell_type": "code",
   "execution_count": 42,
   "id": "27893ac8",
   "metadata": {},
   "outputs": [
    {
     "name": "stdout",
     "output_type": "stream",
     "text": [
      "Enter base: 10\n",
      "Enter height: 5\n",
      "Enter angle: 60\n",
      "Hypotenuse = 11.180339887498949\n"
     ]
    }
   ],
   "source": [
    "a = int(input(\"Enter base: \"))\n",
    "b = int(input(\"Enter height: \"))\n",
    "x = int(input(\"Enter angle: \"))\n",
    "\n",
    "c = math.sqrt(a ** 2 + b ** 2)\n",
    "\n",
    "print(\"Hypotenuse =\", c)"
   ]
  },
  {
   "cell_type": "code",
   "execution_count": null,
   "id": "bfc55dfb",
   "metadata": {},
   "outputs": [],
   "source": [
    "##15.Write a python program to print the frequency of each of the characters present in a given string"
   ]
  },
  {
   "cell_type": "code",
   "execution_count": 4,
   "id": "57e3dca6",
   "metadata": {},
   "outputs": [],
   "source": [
    "# initializing string \n",
    "test_str = \"DishantPrajapati\""
   ]
  },
  {
   "cell_type": "code",
   "execution_count": 5,
   "id": "415a4acd",
   "metadata": {},
   "outputs": [],
   "source": [
    "# of each element in string \n",
    "all_freq = {}\n",
    "  \n",
    "for i in test_str:\n",
    "    if i in all_freq:\n",
    "        all_freq[i] += 1\n",
    "    else:\n",
    "        all_freq[i] = 1"
   ]
  },
  {
   "cell_type": "code",
   "execution_count": 6,
   "id": "c8128e4a",
   "metadata": {},
   "outputs": [
    {
     "name": "stdout",
     "output_type": "stream",
     "text": [
      "Count of all characters in GeeksforGeeks is :\n",
      " {'D': 1, 'i': 2, 's': 1, 'h': 1, 'a': 4, 'n': 1, 't': 2, 'P': 1, 'r': 1, 'j': 1, 'p': 1}\n"
     ]
    }
   ],
   "source": [
    "# printing result \n",
    "print (\"Count of all characters in GeeksforGeeks is :\\n \"\n",
    "                                        +  str(all_freq))"
   ]
  },
  {
   "cell_type": "code",
   "execution_count": null,
   "id": "9c1223a0",
   "metadata": {},
   "outputs": [],
   "source": []
  }
 ],
 "metadata": {
  "kernelspec": {
   "display_name": "Python 3 (ipykernel)",
   "language": "python",
   "name": "python3"
  },
  "language_info": {
   "codemirror_mode": {
    "name": "ipython",
    "version": 3
   },
   "file_extension": ".py",
   "mimetype": "text/x-python",
   "name": "python",
   "nbconvert_exporter": "python",
   "pygments_lexer": "ipython3",
   "version": "3.9.7"
  }
 },
 "nbformat": 4,
 "nbformat_minor": 5
}

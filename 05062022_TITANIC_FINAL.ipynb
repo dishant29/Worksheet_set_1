{
 "cells": [
  {
   "cell_type": "markdown",
   "id": "1638b8f7",
   "metadata": {},
   "source": [
    "# TITANIC PROJECT"
   ]
  },
  {
   "cell_type": "markdown",
   "id": "805235b2",
   "metadata": {},
   "source": [
    "\n",
    "\n",
    "\n",
    "Problem Statement:\n",
    "\n",
    "\n",
    "The Titanic Problem is based on the sinking of the ‘Unsinkable’ ship Titanic in early 1912. It gives you information about multiple people like their ages, sexes, sibling counts, embarkment points, and whether or not they survived the disaster. Based on these features, you have to predict if an arbitrary passenger on Titanic would survive the sinking or not. \n",
    "\n"
   ]
  },
  {
   "cell_type": "code",
   "execution_count": 1,
   "id": "eda96f3a",
   "metadata": {},
   "outputs": [],
   "source": [
    "## import all necessary library\n",
    "import pandas as pd\n",
    "import numpy as np\n",
    "import seaborn as sns\n",
    "import matplotlib.pyplot as plt\n",
    "import warnings\n",
    "warnings.filterwarnings('ignore')"
   ]
  },
  {
   "cell_type": "code",
   "execution_count": 2,
   "id": "a8143721",
   "metadata": {},
   "outputs": [
    {
     "data": {
      "text/html": [
       "<div>\n",
       "<style scoped>\n",
       "    .dataframe tbody tr th:only-of-type {\n",
       "        vertical-align: middle;\n",
       "    }\n",
       "\n",
       "    .dataframe tbody tr th {\n",
       "        vertical-align: top;\n",
       "    }\n",
       "\n",
       "    .dataframe thead th {\n",
       "        text-align: right;\n",
       "    }\n",
       "</style>\n",
       "<table border=\"1\" class=\"dataframe\">\n",
       "  <thead>\n",
       "    <tr style=\"text-align: right;\">\n",
       "      <th></th>\n",
       "      <th>PassengerId</th>\n",
       "      <th>Survived</th>\n",
       "      <th>Pclass</th>\n",
       "      <th>Name</th>\n",
       "      <th>Sex</th>\n",
       "      <th>Age</th>\n",
       "      <th>SibSp</th>\n",
       "      <th>Parch</th>\n",
       "      <th>Ticket</th>\n",
       "      <th>Fare</th>\n",
       "      <th>Cabin</th>\n",
       "      <th>Embarked</th>\n",
       "    </tr>\n",
       "  </thead>\n",
       "  <tbody>\n",
       "    <tr>\n",
       "      <th>0</th>\n",
       "      <td>1</td>\n",
       "      <td>0</td>\n",
       "      <td>3</td>\n",
       "      <td>Braund, Mr. Owen Harris</td>\n",
       "      <td>male</td>\n",
       "      <td>22.0</td>\n",
       "      <td>1</td>\n",
       "      <td>0</td>\n",
       "      <td>A/5 21171</td>\n",
       "      <td>7.2500</td>\n",
       "      <td>NaN</td>\n",
       "      <td>S</td>\n",
       "    </tr>\n",
       "    <tr>\n",
       "      <th>1</th>\n",
       "      <td>2</td>\n",
       "      <td>1</td>\n",
       "      <td>1</td>\n",
       "      <td>Cumings, Mrs. John Bradley (Florence Briggs Th...</td>\n",
       "      <td>female</td>\n",
       "      <td>38.0</td>\n",
       "      <td>1</td>\n",
       "      <td>0</td>\n",
       "      <td>PC 17599</td>\n",
       "      <td>71.2833</td>\n",
       "      <td>C85</td>\n",
       "      <td>C</td>\n",
       "    </tr>\n",
       "    <tr>\n",
       "      <th>2</th>\n",
       "      <td>3</td>\n",
       "      <td>1</td>\n",
       "      <td>3</td>\n",
       "      <td>Heikkinen, Miss. Laina</td>\n",
       "      <td>female</td>\n",
       "      <td>26.0</td>\n",
       "      <td>0</td>\n",
       "      <td>0</td>\n",
       "      <td>STON/O2. 3101282</td>\n",
       "      <td>7.9250</td>\n",
       "      <td>NaN</td>\n",
       "      <td>S</td>\n",
       "    </tr>\n",
       "    <tr>\n",
       "      <th>3</th>\n",
       "      <td>4</td>\n",
       "      <td>1</td>\n",
       "      <td>1</td>\n",
       "      <td>Futrelle, Mrs. Jacques Heath (Lily May Peel)</td>\n",
       "      <td>female</td>\n",
       "      <td>35.0</td>\n",
       "      <td>1</td>\n",
       "      <td>0</td>\n",
       "      <td>113803</td>\n",
       "      <td>53.1000</td>\n",
       "      <td>C123</td>\n",
       "      <td>S</td>\n",
       "    </tr>\n",
       "    <tr>\n",
       "      <th>4</th>\n",
       "      <td>5</td>\n",
       "      <td>0</td>\n",
       "      <td>3</td>\n",
       "      <td>Allen, Mr. William Henry</td>\n",
       "      <td>male</td>\n",
       "      <td>35.0</td>\n",
       "      <td>0</td>\n",
       "      <td>0</td>\n",
       "      <td>373450</td>\n",
       "      <td>8.0500</td>\n",
       "      <td>NaN</td>\n",
       "      <td>S</td>\n",
       "    </tr>\n",
       "    <tr>\n",
       "      <th>5</th>\n",
       "      <td>6</td>\n",
       "      <td>0</td>\n",
       "      <td>3</td>\n",
       "      <td>Moran, Mr. James</td>\n",
       "      <td>male</td>\n",
       "      <td>NaN</td>\n",
       "      <td>0</td>\n",
       "      <td>0</td>\n",
       "      <td>330877</td>\n",
       "      <td>8.4583</td>\n",
       "      <td>NaN</td>\n",
       "      <td>Q</td>\n",
       "    </tr>\n",
       "    <tr>\n",
       "      <th>6</th>\n",
       "      <td>7</td>\n",
       "      <td>0</td>\n",
       "      <td>1</td>\n",
       "      <td>McCarthy, Mr. Timothy J</td>\n",
       "      <td>male</td>\n",
       "      <td>54.0</td>\n",
       "      <td>0</td>\n",
       "      <td>0</td>\n",
       "      <td>17463</td>\n",
       "      <td>51.8625</td>\n",
       "      <td>E46</td>\n",
       "      <td>S</td>\n",
       "    </tr>\n",
       "    <tr>\n",
       "      <th>7</th>\n",
       "      <td>8</td>\n",
       "      <td>0</td>\n",
       "      <td>3</td>\n",
       "      <td>Palsson, Master. Gosta Leonard</td>\n",
       "      <td>male</td>\n",
       "      <td>2.0</td>\n",
       "      <td>3</td>\n",
       "      <td>1</td>\n",
       "      <td>349909</td>\n",
       "      <td>21.0750</td>\n",
       "      <td>NaN</td>\n",
       "      <td>S</td>\n",
       "    </tr>\n",
       "    <tr>\n",
       "      <th>8</th>\n",
       "      <td>9</td>\n",
       "      <td>1</td>\n",
       "      <td>3</td>\n",
       "      <td>Johnson, Mrs. Oscar W (Elisabeth Vilhelmina Berg)</td>\n",
       "      <td>female</td>\n",
       "      <td>27.0</td>\n",
       "      <td>0</td>\n",
       "      <td>2</td>\n",
       "      <td>347742</td>\n",
       "      <td>11.1333</td>\n",
       "      <td>NaN</td>\n",
       "      <td>S</td>\n",
       "    </tr>\n",
       "    <tr>\n",
       "      <th>9</th>\n",
       "      <td>10</td>\n",
       "      <td>1</td>\n",
       "      <td>2</td>\n",
       "      <td>Nasser, Mrs. Nicholas (Adele Achem)</td>\n",
       "      <td>female</td>\n",
       "      <td>14.0</td>\n",
       "      <td>1</td>\n",
       "      <td>0</td>\n",
       "      <td>237736</td>\n",
       "      <td>30.0708</td>\n",
       "      <td>NaN</td>\n",
       "      <td>C</td>\n",
       "    </tr>\n",
       "  </tbody>\n",
       "</table>\n",
       "</div>"
      ],
      "text/plain": [
       "   PassengerId  Survived  Pclass  \\\n",
       "0            1         0       3   \n",
       "1            2         1       1   \n",
       "2            3         1       3   \n",
       "3            4         1       1   \n",
       "4            5         0       3   \n",
       "5            6         0       3   \n",
       "6            7         0       1   \n",
       "7            8         0       3   \n",
       "8            9         1       3   \n",
       "9           10         1       2   \n",
       "\n",
       "                                                Name     Sex   Age  SibSp  \\\n",
       "0                            Braund, Mr. Owen Harris    male  22.0      1   \n",
       "1  Cumings, Mrs. John Bradley (Florence Briggs Th...  female  38.0      1   \n",
       "2                             Heikkinen, Miss. Laina  female  26.0      0   \n",
       "3       Futrelle, Mrs. Jacques Heath (Lily May Peel)  female  35.0      1   \n",
       "4                           Allen, Mr. William Henry    male  35.0      0   \n",
       "5                                   Moran, Mr. James    male   NaN      0   \n",
       "6                            McCarthy, Mr. Timothy J    male  54.0      0   \n",
       "7                     Palsson, Master. Gosta Leonard    male   2.0      3   \n",
       "8  Johnson, Mrs. Oscar W (Elisabeth Vilhelmina Berg)  female  27.0      0   \n",
       "9                Nasser, Mrs. Nicholas (Adele Achem)  female  14.0      1   \n",
       "\n",
       "   Parch            Ticket     Fare Cabin Embarked  \n",
       "0      0         A/5 21171   7.2500   NaN        S  \n",
       "1      0          PC 17599  71.2833   C85        C  \n",
       "2      0  STON/O2. 3101282   7.9250   NaN        S  \n",
       "3      0            113803  53.1000  C123        S  \n",
       "4      0            373450   8.0500   NaN        S  \n",
       "5      0            330877   8.4583   NaN        Q  \n",
       "6      0             17463  51.8625   E46        S  \n",
       "7      1            349909  21.0750   NaN        S  \n",
       "8      2            347742  11.1333   NaN        S  \n",
       "9      0            237736  30.0708   NaN        C  "
      ]
     },
     "execution_count": 2,
     "metadata": {},
     "output_type": "execute_result"
    }
   ],
   "source": [
    "## Loading data set\n",
    "df=pd.read_csv('titanic_train.csv')\n",
    "df.head(10)"
   ]
  },
  {
   "cell_type": "code",
   "execution_count": 3,
   "id": "51536aa9",
   "metadata": {},
   "outputs": [
    {
     "data": {
      "text/html": [
       "<div>\n",
       "<style scoped>\n",
       "    .dataframe tbody tr th:only-of-type {\n",
       "        vertical-align: middle;\n",
       "    }\n",
       "\n",
       "    .dataframe tbody tr th {\n",
       "        vertical-align: top;\n",
       "    }\n",
       "\n",
       "    .dataframe thead th {\n",
       "        text-align: right;\n",
       "    }\n",
       "</style>\n",
       "<table border=\"1\" class=\"dataframe\">\n",
       "  <thead>\n",
       "    <tr style=\"text-align: right;\">\n",
       "      <th></th>\n",
       "      <th>PassengerId</th>\n",
       "      <th>Survived</th>\n",
       "      <th>Pclass</th>\n",
       "      <th>Name</th>\n",
       "      <th>Sex</th>\n",
       "      <th>Age</th>\n",
       "      <th>SibSp</th>\n",
       "      <th>Parch</th>\n",
       "      <th>Ticket</th>\n",
       "      <th>Fare</th>\n",
       "      <th>Cabin</th>\n",
       "      <th>Embarked</th>\n",
       "    </tr>\n",
       "  </thead>\n",
       "  <tbody>\n",
       "    <tr>\n",
       "      <th>0</th>\n",
       "      <td>1</td>\n",
       "      <td>0</td>\n",
       "      <td>3</td>\n",
       "      <td>Braund, Mr. Owen Harris</td>\n",
       "      <td>male</td>\n",
       "      <td>22.0</td>\n",
       "      <td>1</td>\n",
       "      <td>0</td>\n",
       "      <td>A/5 21171</td>\n",
       "      <td>7.2500</td>\n",
       "      <td>NaN</td>\n",
       "      <td>S</td>\n",
       "    </tr>\n",
       "    <tr>\n",
       "      <th>1</th>\n",
       "      <td>2</td>\n",
       "      <td>1</td>\n",
       "      <td>1</td>\n",
       "      <td>Cumings, Mrs. John Bradley (Florence Briggs Th...</td>\n",
       "      <td>female</td>\n",
       "      <td>38.0</td>\n",
       "      <td>1</td>\n",
       "      <td>0</td>\n",
       "      <td>PC 17599</td>\n",
       "      <td>71.2833</td>\n",
       "      <td>C85</td>\n",
       "      <td>C</td>\n",
       "    </tr>\n",
       "    <tr>\n",
       "      <th>2</th>\n",
       "      <td>3</td>\n",
       "      <td>1</td>\n",
       "      <td>3</td>\n",
       "      <td>Heikkinen, Miss. Laina</td>\n",
       "      <td>female</td>\n",
       "      <td>26.0</td>\n",
       "      <td>0</td>\n",
       "      <td>0</td>\n",
       "      <td>STON/O2. 3101282</td>\n",
       "      <td>7.9250</td>\n",
       "      <td>NaN</td>\n",
       "      <td>S</td>\n",
       "    </tr>\n",
       "    <tr>\n",
       "      <th>3</th>\n",
       "      <td>4</td>\n",
       "      <td>1</td>\n",
       "      <td>1</td>\n",
       "      <td>Futrelle, Mrs. Jacques Heath (Lily May Peel)</td>\n",
       "      <td>female</td>\n",
       "      <td>35.0</td>\n",
       "      <td>1</td>\n",
       "      <td>0</td>\n",
       "      <td>113803</td>\n",
       "      <td>53.1000</td>\n",
       "      <td>C123</td>\n",
       "      <td>S</td>\n",
       "    </tr>\n",
       "    <tr>\n",
       "      <th>4</th>\n",
       "      <td>5</td>\n",
       "      <td>0</td>\n",
       "      <td>3</td>\n",
       "      <td>Allen, Mr. William Henry</td>\n",
       "      <td>male</td>\n",
       "      <td>35.0</td>\n",
       "      <td>0</td>\n",
       "      <td>0</td>\n",
       "      <td>373450</td>\n",
       "      <td>8.0500</td>\n",
       "      <td>NaN</td>\n",
       "      <td>S</td>\n",
       "    </tr>\n",
       "    <tr>\n",
       "      <th>...</th>\n",
       "      <td>...</td>\n",
       "      <td>...</td>\n",
       "      <td>...</td>\n",
       "      <td>...</td>\n",
       "      <td>...</td>\n",
       "      <td>...</td>\n",
       "      <td>...</td>\n",
       "      <td>...</td>\n",
       "      <td>...</td>\n",
       "      <td>...</td>\n",
       "      <td>...</td>\n",
       "      <td>...</td>\n",
       "    </tr>\n",
       "    <tr>\n",
       "      <th>886</th>\n",
       "      <td>887</td>\n",
       "      <td>0</td>\n",
       "      <td>2</td>\n",
       "      <td>Montvila, Rev. Juozas</td>\n",
       "      <td>male</td>\n",
       "      <td>27.0</td>\n",
       "      <td>0</td>\n",
       "      <td>0</td>\n",
       "      <td>211536</td>\n",
       "      <td>13.0000</td>\n",
       "      <td>NaN</td>\n",
       "      <td>S</td>\n",
       "    </tr>\n",
       "    <tr>\n",
       "      <th>887</th>\n",
       "      <td>888</td>\n",
       "      <td>1</td>\n",
       "      <td>1</td>\n",
       "      <td>Graham, Miss. Margaret Edith</td>\n",
       "      <td>female</td>\n",
       "      <td>19.0</td>\n",
       "      <td>0</td>\n",
       "      <td>0</td>\n",
       "      <td>112053</td>\n",
       "      <td>30.0000</td>\n",
       "      <td>B42</td>\n",
       "      <td>S</td>\n",
       "    </tr>\n",
       "    <tr>\n",
       "      <th>888</th>\n",
       "      <td>889</td>\n",
       "      <td>0</td>\n",
       "      <td>3</td>\n",
       "      <td>Johnston, Miss. Catherine Helen \"Carrie\"</td>\n",
       "      <td>female</td>\n",
       "      <td>NaN</td>\n",
       "      <td>1</td>\n",
       "      <td>2</td>\n",
       "      <td>W./C. 6607</td>\n",
       "      <td>23.4500</td>\n",
       "      <td>NaN</td>\n",
       "      <td>S</td>\n",
       "    </tr>\n",
       "    <tr>\n",
       "      <th>889</th>\n",
       "      <td>890</td>\n",
       "      <td>1</td>\n",
       "      <td>1</td>\n",
       "      <td>Behr, Mr. Karl Howell</td>\n",
       "      <td>male</td>\n",
       "      <td>26.0</td>\n",
       "      <td>0</td>\n",
       "      <td>0</td>\n",
       "      <td>111369</td>\n",
       "      <td>30.0000</td>\n",
       "      <td>C148</td>\n",
       "      <td>C</td>\n",
       "    </tr>\n",
       "    <tr>\n",
       "      <th>890</th>\n",
       "      <td>891</td>\n",
       "      <td>0</td>\n",
       "      <td>3</td>\n",
       "      <td>Dooley, Mr. Patrick</td>\n",
       "      <td>male</td>\n",
       "      <td>32.0</td>\n",
       "      <td>0</td>\n",
       "      <td>0</td>\n",
       "      <td>370376</td>\n",
       "      <td>7.7500</td>\n",
       "      <td>NaN</td>\n",
       "      <td>Q</td>\n",
       "    </tr>\n",
       "  </tbody>\n",
       "</table>\n",
       "<p>891 rows × 12 columns</p>\n",
       "</div>"
      ],
      "text/plain": [
       "     PassengerId  Survived  Pclass  \\\n",
       "0              1         0       3   \n",
       "1              2         1       1   \n",
       "2              3         1       3   \n",
       "3              4         1       1   \n",
       "4              5         0       3   \n",
       "..           ...       ...     ...   \n",
       "886          887         0       2   \n",
       "887          888         1       1   \n",
       "888          889         0       3   \n",
       "889          890         1       1   \n",
       "890          891         0       3   \n",
       "\n",
       "                                                  Name     Sex   Age  SibSp  \\\n",
       "0                              Braund, Mr. Owen Harris    male  22.0      1   \n",
       "1    Cumings, Mrs. John Bradley (Florence Briggs Th...  female  38.0      1   \n",
       "2                               Heikkinen, Miss. Laina  female  26.0      0   \n",
       "3         Futrelle, Mrs. Jacques Heath (Lily May Peel)  female  35.0      1   \n",
       "4                             Allen, Mr. William Henry    male  35.0      0   \n",
       "..                                                 ...     ...   ...    ...   \n",
       "886                              Montvila, Rev. Juozas    male  27.0      0   \n",
       "887                       Graham, Miss. Margaret Edith  female  19.0      0   \n",
       "888           Johnston, Miss. Catherine Helen \"Carrie\"  female   NaN      1   \n",
       "889                              Behr, Mr. Karl Howell    male  26.0      0   \n",
       "890                                Dooley, Mr. Patrick    male  32.0      0   \n",
       "\n",
       "     Parch            Ticket     Fare Cabin Embarked  \n",
       "0        0         A/5 21171   7.2500   NaN        S  \n",
       "1        0          PC 17599  71.2833   C85        C  \n",
       "2        0  STON/O2. 3101282   7.9250   NaN        S  \n",
       "3        0            113803  53.1000  C123        S  \n",
       "4        0            373450   8.0500   NaN        S  \n",
       "..     ...               ...      ...   ...      ...  \n",
       "886      0            211536  13.0000   NaN        S  \n",
       "887      0            112053  30.0000   B42        S  \n",
       "888      2        W./C. 6607  23.4500   NaN        S  \n",
       "889      0            111369  30.0000  C148        C  \n",
       "890      0            370376   7.7500   NaN        Q  \n",
       "\n",
       "[891 rows x 12 columns]"
      ]
     },
     "execution_count": 3,
     "metadata": {},
     "output_type": "execute_result"
    }
   ],
   "source": [
    "df"
   ]
  },
  {
   "cell_type": "code",
   "execution_count": 4,
   "id": "9d9741e3",
   "metadata": {},
   "outputs": [
    {
     "data": {
      "text/plain": [
       "(891, 12)"
      ]
     },
     "execution_count": 4,
     "metadata": {},
     "output_type": "execute_result"
    }
   ],
   "source": [
    "df.shape  ## to check how many rows and columns in a data set"
   ]
  },
  {
   "cell_type": "markdown",
   "id": "036e3a04",
   "metadata": {},
   "source": [
    "It has 891 rows and 12 columns."
   ]
  },
  {
   "cell_type": "code",
   "execution_count": 5,
   "id": "e8543f73",
   "metadata": {},
   "outputs": [
    {
     "data": {
      "text/plain": [
       "PassengerId      int64\n",
       "Survived         int64\n",
       "Pclass           int64\n",
       "Name            object\n",
       "Sex             object\n",
       "Age            float64\n",
       "SibSp            int64\n",
       "Parch            int64\n",
       "Ticket          object\n",
       "Fare           float64\n",
       "Cabin           object\n",
       "Embarked        object\n",
       "dtype: object"
      ]
     },
     "execution_count": 5,
     "metadata": {},
     "output_type": "execute_result"
    }
   ],
   "source": [
    "df.dtypes    ## it will show all the data types of feature"
   ]
  },
  {
   "cell_type": "code",
   "execution_count": 6,
   "id": "05bd57f5",
   "metadata": {},
   "outputs": [],
   "source": [
    "## Different data types were observed in dataset like integer,float,object,....."
   ]
  },
  {
   "cell_type": "code",
   "execution_count": 7,
   "id": "9c556b24",
   "metadata": {},
   "outputs": [
    {
     "data": {
      "text/plain": [
       "Index(['PassengerId', 'Survived', 'Pclass', 'Name', 'Sex', 'Age', 'SibSp',\n",
       "       'Parch', 'Ticket', 'Fare', 'Cabin', 'Embarked'],\n",
       "      dtype='object')"
      ]
     },
     "execution_count": 7,
     "metadata": {},
     "output_type": "execute_result"
    }
   ],
   "source": [
    "df.columns"
   ]
  },
  {
   "cell_type": "code",
   "execution_count": 8,
   "id": "72647f85",
   "metadata": {},
   "outputs": [],
   "source": [
    "## These are the features all the data set."
   ]
  },
  {
   "cell_type": "code",
   "execution_count": 9,
   "id": "02c1cc74",
   "metadata": {},
   "outputs": [
    {
     "name": "stdout",
     "output_type": "stream",
     "text": [
      "<class 'pandas.core.frame.DataFrame'>\n",
      "RangeIndex: 891 entries, 0 to 890\n",
      "Data columns (total 12 columns):\n",
      " #   Column       Non-Null Count  Dtype  \n",
      "---  ------       --------------  -----  \n",
      " 0   PassengerId  891 non-null    int64  \n",
      " 1   Survived     891 non-null    int64  \n",
      " 2   Pclass       891 non-null    int64  \n",
      " 3   Name         891 non-null    object \n",
      " 4   Sex          891 non-null    object \n",
      " 5   Age          714 non-null    float64\n",
      " 6   SibSp        891 non-null    int64  \n",
      " 7   Parch        891 non-null    int64  \n",
      " 8   Ticket       891 non-null    object \n",
      " 9   Fare         891 non-null    float64\n",
      " 10  Cabin        204 non-null    object \n",
      " 11  Embarked     889 non-null    object \n",
      "dtypes: float64(2), int64(5), object(5)\n",
      "memory usage: 83.7+ KB\n"
     ]
    }
   ],
   "source": [
    "df.info()   ## it will show the all information about dataset."
   ]
  },
  {
   "cell_type": "code",
   "execution_count": 10,
   "id": "00555cfd",
   "metadata": {},
   "outputs": [],
   "source": [
    "## It can be seen that there are some null values present in Age, Cabin and Embarked column."
   ]
  },
  {
   "cell_type": "raw",
   "id": "5e565ba3",
   "metadata": {},
   "source": [
    "---->>Data Dictionary<<<<--------------\n",
    "Survived: 0 = No, 1 = Yes\n",
    "pclass: Ticket class 1 = 1st, 2 = 2nd, 3 = 3rd\n",
    "sibsp: # of siblings / spouses aboard the Titanic\n",
    "parch: # of parents / children aboard the Titanic\n",
    "ticket: Ticket number\n",
    "cabin: Cabin number\n",
    "embarked: Port of Embarkation C = Cherbourg, Q = Queenstown, S = Southampton"
   ]
  },
  {
   "cell_type": "markdown",
   "id": "ef2544e5",
   "metadata": {},
   "source": [
    "# Data Wrangling & Data Cleaning"
   ]
  },
  {
   "cell_type": "code",
   "execution_count": 11,
   "id": "5a29f8a7",
   "metadata": {},
   "outputs": [
    {
     "data": {
      "text/html": [
       "<div>\n",
       "<style scoped>\n",
       "    .dataframe tbody tr th:only-of-type {\n",
       "        vertical-align: middle;\n",
       "    }\n",
       "\n",
       "    .dataframe tbody tr th {\n",
       "        vertical-align: top;\n",
       "    }\n",
       "\n",
       "    .dataframe thead th {\n",
       "        text-align: right;\n",
       "    }\n",
       "</style>\n",
       "<table border=\"1\" class=\"dataframe\">\n",
       "  <thead>\n",
       "    <tr style=\"text-align: right;\">\n",
       "      <th></th>\n",
       "      <th>PassengerId</th>\n",
       "      <th>Survived</th>\n",
       "      <th>Pclass</th>\n",
       "      <th>Age</th>\n",
       "      <th>SibSp</th>\n",
       "      <th>Parch</th>\n",
       "      <th>Fare</th>\n",
       "    </tr>\n",
       "  </thead>\n",
       "  <tbody>\n",
       "    <tr>\n",
       "      <th>count</th>\n",
       "      <td>891.000000</td>\n",
       "      <td>891.000000</td>\n",
       "      <td>891.000000</td>\n",
       "      <td>714.000000</td>\n",
       "      <td>891.000000</td>\n",
       "      <td>891.000000</td>\n",
       "      <td>891.000000</td>\n",
       "    </tr>\n",
       "    <tr>\n",
       "      <th>mean</th>\n",
       "      <td>446.000000</td>\n",
       "      <td>0.383838</td>\n",
       "      <td>2.308642</td>\n",
       "      <td>29.699118</td>\n",
       "      <td>0.523008</td>\n",
       "      <td>0.381594</td>\n",
       "      <td>32.204208</td>\n",
       "    </tr>\n",
       "    <tr>\n",
       "      <th>std</th>\n",
       "      <td>257.353842</td>\n",
       "      <td>0.486592</td>\n",
       "      <td>0.836071</td>\n",
       "      <td>14.526497</td>\n",
       "      <td>1.102743</td>\n",
       "      <td>0.806057</td>\n",
       "      <td>49.693429</td>\n",
       "    </tr>\n",
       "    <tr>\n",
       "      <th>min</th>\n",
       "      <td>1.000000</td>\n",
       "      <td>0.000000</td>\n",
       "      <td>1.000000</td>\n",
       "      <td>0.420000</td>\n",
       "      <td>0.000000</td>\n",
       "      <td>0.000000</td>\n",
       "      <td>0.000000</td>\n",
       "    </tr>\n",
       "    <tr>\n",
       "      <th>25%</th>\n",
       "      <td>223.500000</td>\n",
       "      <td>0.000000</td>\n",
       "      <td>2.000000</td>\n",
       "      <td>20.125000</td>\n",
       "      <td>0.000000</td>\n",
       "      <td>0.000000</td>\n",
       "      <td>7.910400</td>\n",
       "    </tr>\n",
       "    <tr>\n",
       "      <th>50%</th>\n",
       "      <td>446.000000</td>\n",
       "      <td>0.000000</td>\n",
       "      <td>3.000000</td>\n",
       "      <td>28.000000</td>\n",
       "      <td>0.000000</td>\n",
       "      <td>0.000000</td>\n",
       "      <td>14.454200</td>\n",
       "    </tr>\n",
       "    <tr>\n",
       "      <th>75%</th>\n",
       "      <td>668.500000</td>\n",
       "      <td>1.000000</td>\n",
       "      <td>3.000000</td>\n",
       "      <td>38.000000</td>\n",
       "      <td>1.000000</td>\n",
       "      <td>0.000000</td>\n",
       "      <td>31.000000</td>\n",
       "    </tr>\n",
       "    <tr>\n",
       "      <th>max</th>\n",
       "      <td>891.000000</td>\n",
       "      <td>1.000000</td>\n",
       "      <td>3.000000</td>\n",
       "      <td>80.000000</td>\n",
       "      <td>8.000000</td>\n",
       "      <td>6.000000</td>\n",
       "      <td>512.329200</td>\n",
       "    </tr>\n",
       "  </tbody>\n",
       "</table>\n",
       "</div>"
      ],
      "text/plain": [
       "       PassengerId    Survived      Pclass         Age       SibSp  \\\n",
       "count   891.000000  891.000000  891.000000  714.000000  891.000000   \n",
       "mean    446.000000    0.383838    2.308642   29.699118    0.523008   \n",
       "std     257.353842    0.486592    0.836071   14.526497    1.102743   \n",
       "min       1.000000    0.000000    1.000000    0.420000    0.000000   \n",
       "25%     223.500000    0.000000    2.000000   20.125000    0.000000   \n",
       "50%     446.000000    0.000000    3.000000   28.000000    0.000000   \n",
       "75%     668.500000    1.000000    3.000000   38.000000    1.000000   \n",
       "max     891.000000    1.000000    3.000000   80.000000    8.000000   \n",
       "\n",
       "            Parch        Fare  \n",
       "count  891.000000  891.000000  \n",
       "mean     0.381594   32.204208  \n",
       "std      0.806057   49.693429  \n",
       "min      0.000000    0.000000  \n",
       "25%      0.000000    7.910400  \n",
       "50%      0.000000   14.454200  \n",
       "75%      0.000000   31.000000  \n",
       "max      6.000000  512.329200  "
      ]
     },
     "execution_count": 11,
     "metadata": {},
     "output_type": "execute_result"
    }
   ],
   "source": [
    "df.describe()       ## it will give some stastical summary of dataset."
   ]
  },
  {
   "cell_type": "code",
   "execution_count": 12,
   "id": "66a7b380",
   "metadata": {},
   "outputs": [
    {
     "data": {
      "text/plain": [
       "Cabin          687\n",
       "Age            177\n",
       "Embarked         2\n",
       "PassengerId      0\n",
       "Survived         0\n",
       "Pclass           0\n",
       "Name             0\n",
       "Sex              0\n",
       "SibSp            0\n",
       "Parch            0\n",
       "Ticket           0\n",
       "Fare             0\n",
       "dtype: int64"
      ]
     },
     "execution_count": 12,
     "metadata": {},
     "output_type": "execute_result"
    }
   ],
   "source": [
    "df.isnull().sum().sort_values(ascending=False)"
   ]
  },
  {
   "cell_type": "code",
   "execution_count": 13,
   "id": "524183a8",
   "metadata": {},
   "outputs": [],
   "source": [
    "## Missing values in Cabin,Age and Embarked column"
   ]
  },
  {
   "cell_type": "code",
   "execution_count": 14,
   "id": "5929dfa3",
   "metadata": {},
   "outputs": [
    {
     "data": {
      "text/plain": [
       "PassengerId     0.000000\n",
       "Survived        0.000000\n",
       "Pclass          0.000000\n",
       "Name            0.000000\n",
       "Sex             0.000000\n",
       "Age            19.865320\n",
       "SibSp           0.000000\n",
       "Parch           0.000000\n",
       "Ticket          0.000000\n",
       "Fare            0.000000\n",
       "Cabin          77.104377\n",
       "Embarked        0.224467\n",
       "dtype: float64"
      ]
     },
     "execution_count": 14,
     "metadata": {},
     "output_type": "execute_result"
    }
   ],
   "source": [
    "P=df.isnull().sum()/df.isnull().count()*100   ## It will show the error in percentage(%) format.\n",
    "P"
   ]
  },
  {
   "cell_type": "code",
   "execution_count": 15,
   "id": "b1b01d42",
   "metadata": {},
   "outputs": [],
   "source": [
    "## It shows that 77.101377% missing values in cabin , 19.86% missing values in Age and only 0.2% Missing values in Embarked\n",
    "## Higher missing values can be dropped out from the dataset.\n",
    "                "
   ]
  },
  {
   "cell_type": "markdown",
   "id": "8760680b",
   "metadata": {},
   "source": [
    "# Exploring Data variable"
   ]
  },
  {
   "cell_type": "code",
   "execution_count": 16,
   "id": "4193231a",
   "metadata": {},
   "outputs": [
    {
     "data": {
      "text/plain": [
       "array([0, 1], dtype=int64)"
      ]
     },
     "execution_count": 16,
     "metadata": {},
     "output_type": "execute_result"
    }
   ],
   "source": [
    "df.Survived.unique()"
   ]
  },
  {
   "cell_type": "code",
   "execution_count": 17,
   "id": "623b06ee",
   "metadata": {},
   "outputs": [],
   "source": [
    "# It has two category 0 and 1\n",
    "## 0 = Not Survived\n",
    "## 1 = SUrvived \n",
    "\n",
    "## It means Target/dependent variable categorical in nature."
   ]
  },
  {
   "cell_type": "markdown",
   "id": "88b291b3",
   "metadata": {},
   "source": [
    "# Data Visulization"
   ]
  },
  {
   "cell_type": "markdown",
   "id": "13c46c6d",
   "metadata": {},
   "source": [
    "To check the missing values"
   ]
  },
  {
   "cell_type": "code",
   "execution_count": 18,
   "id": "34b55d49",
   "metadata": {},
   "outputs": [
    {
     "data": {
      "text/plain": [
       "<AxesSubplot:>"
      ]
     },
     "execution_count": 18,
     "metadata": {},
     "output_type": "execute_result"
    },
    {
     "data": {
      "image/png": "[encoded data removed]",
      "text/plain": [
       "<Figure size 432x288 with 2 Axes>"
      ]
     },
     "metadata": {
      "needs_background": "light"
     },
     "output_type": "display_data"
    }
   ],
   "source": [
    "sns.heatmap(df.isnull())      ## it will show the null value if any null values are present or not in dataset???"
   ]
  },
  {
   "cell_type": "markdown",
   "id": "8e786898",
   "metadata": {},
   "source": [
    "This plot displays some stripes. It means this dataset has some missing values"
   ]
  },
  {
   "cell_type": "code",
   "execution_count": 19,
   "id": "6484c94d",
   "metadata": {},
   "outputs": [
    {
     "name": "stdout",
     "output_type": "stream",
     "text": [
      "Requirement already satisfied: missingno in c:\\users\\toshiba\\anaconda3\\lib\\site-packages (0.5.1)\n",
      "Requirement already satisfied: numpy in c:\\users\\toshiba\\anaconda3\\lib\\site-packages (from missingno) (1.20.3)\n",
      "Requirement already satisfied: scipy in c:\\users\\toshiba\\anaconda3\\lib\\site-packages (from missingno) (1.7.1)\n",
      "Requirement already satisfied: seaborn in c:\\users\\toshiba\\anaconda3\\lib\\site-packages (from missingno) (0.11.2)\n",
      "Requirement already satisfied: matplotlib in c:\\users\\toshiba\\anaconda3\\lib\\site-packages (from missingno) (3.4.3)\n",
      "Requirement already satisfied: kiwisolver>=1.0.1 in c:\\users\\toshiba\\anaconda3\\lib\\site-packages (from matplotlib->missingno) (1.3.1)\n",
      "Requirement already satisfied: python-dateutil>=2.7 in c:\\users\\toshiba\\anaconda3\\lib\\site-packages (from matplotlib->missingno) (2.8.2)\n",
      "Requirement already satisfied: pillow>=6.2.0 in c:\\users\\toshiba\\anaconda3\\lib\\site-packages (from matplotlib->missingno) (8.4.0)\n",
      "Requirement already satisfied: pyparsing>=2.2.1 in c:\\users\\toshiba\\anaconda3\\lib\\site-packages (from matplotlib->missingno) (3.0.4)\n",
      "Requirement already satisfied: cycler>=0.10 in c:\\users\\toshiba\\anaconda3\\lib\\site-packages (from matplotlib->missingno) (0.10.0)\n",
      "Requirement already satisfied: six in c:\\users\\toshiba\\anaconda3\\lib\\site-packages (from cycler>=0.10->matplotlib->missingno) (1.16.0)\n",
      "Requirement already satisfied: pandas>=0.23 in c:\\users\\toshiba\\anaconda3\\lib\\site-packages (from seaborn->missingno) (1.3.4)\n",
      "Requirement already satisfied: pytz>=2017.3 in c:\\users\\toshiba\\anaconda3\\lib\\site-packages (from pandas>=0.23->seaborn->missingno) (2021.3)\n"
     ]
    }
   ],
   "source": [
    "! pip install missingno\n",
    "import missingno as ms"
   ]
  },
  {
   "cell_type": "code",
   "execution_count": 20,
   "id": "95027514",
   "metadata": {},
   "outputs": [
    {
     "data": {
      "text/plain": [
       "Text(0.5, 1.0, 'Missing values representation')"
      ]
     },
     "execution_count": 20,
     "metadata": {},
     "output_type": "execute_result"
    },
    {
     "data": {
      "image/png": "[encoded data removed]",
      "text/plain": [
       "<Figure size 1008x360 with 2 Axes>"
      ]
     },
     "metadata": {
      "needs_background": "light"
     },
     "output_type": "display_data"
    }
   ],
   "source": [
    "ms.matrix(df,figsize=(14,5))\n",
    "plt.title(\"Missing values representation\",size =20)"
   ]
  },
  {
   "cell_type": "code",
   "execution_count": 21,
   "id": "1d122ea1",
   "metadata": {},
   "outputs": [],
   "source": [
    "## Cabing has the highest missing values."
   ]
  },
  {
   "cell_type": "code",
   "execution_count": 22,
   "id": "ae553da5",
   "metadata": {},
   "outputs": [
    {
     "data": {
      "text/plain": [
       "Text(0.5, 1.0, 'Bar chart representation for missing values')"
      ]
     },
     "execution_count": 22,
     "metadata": {},
     "output_type": "execute_result"
    },
    {
     "data": {
      "image/png": "[encoded data removed]",
      "text/plain": [
       "<Figure size 1008x504 with 3 Axes>"
      ]
     },
     "metadata": {
      "needs_background": "light"
     },
     "output_type": "display_data"
    }
   ],
   "source": [
    "ms.bar(df,figsize=(14,7))\n",
    "plt.title(\"Bar chart representation for missing values\",size = 20)"
   ]
  },
  {
   "cell_type": "raw",
   "id": "8aef0684",
   "metadata": {},
   "source": [
    "Conclusion: Cabin and age has missing values.\n",
    "            Cabin has more missing values so it can be dropped out because there is no meaning of this data to process for\n",
    "            model and Age column missing values by replace by mean of it."
   ]
  },
  {
   "cell_type": "markdown",
   "id": "ee9b4f3c",
   "metadata": {},
   "source": [
    "# Removing of missing values"
   ]
  },
  {
   "cell_type": "code",
   "execution_count": 23,
   "id": "c63ff48b",
   "metadata": {},
   "outputs": [],
   "source": [
    "df[\"Age_mean\"]=df[\"Age\"].fillna(df['Age'].mean())"
   ]
  },
  {
   "cell_type": "code",
   "execution_count": 24,
   "id": "f79207f1",
   "metadata": {},
   "outputs": [
    {
     "data": {
      "text/plain": [
       "<function matplotlib.pyplot.legend(*args, **kwargs)>"
      ]
     },
     "execution_count": 24,
     "metadata": {},
     "output_type": "execute_result"
    },
    {
     "data": {
      "image/png": "[encoded data removed]",
      "text/plain": [
       "<Figure size 432x288 with 1 Axes>"
      ]
     },
     "metadata": {
      "needs_background": "light"
     },
     "output_type": "display_data"
    }
   ],
   "source": [
    "sns.kdeplot(df[\"Age_mean\"],color=\"Yellow\",label='Mean')\n",
    "sns.kdeplot(df[\"Age\"],color=\"Red\",label='original')\n",
    "plt.legend"
   ]
  },
  {
   "cell_type": "code",
   "execution_count": 25,
   "id": "4d783df4",
   "metadata": {},
   "outputs": [],
   "source": [
    "##  Red color line shows that there were some missing values.\n",
    "##  Yellow Color line shows that value by replacing it mean values."
   ]
  },
  {
   "cell_type": "code",
   "execution_count": 26,
   "id": "184ff1b0",
   "metadata": {},
   "outputs": [],
   "source": [
    "df[\"Age\"]=df[\"Age\"].fillna(df['Age'].mean())"
   ]
  },
  {
   "cell_type": "markdown",
   "id": "8071b5c0",
   "metadata": {},
   "source": [
    "# Remove some features"
   ]
  },
  {
   "cell_type": "code",
   "execution_count": 27,
   "id": "d3a70f17",
   "metadata": {},
   "outputs": [],
   "source": [
    "df.drop([\"Cabin\",\"Ticket\",\"Fare\",\"PassengerId\",\"Name\"],axis=1,inplace=True)"
   ]
  },
  {
   "cell_type": "code",
   "execution_count": 28,
   "id": "6aad1305",
   "metadata": {},
   "outputs": [],
   "source": [
    "## These are some features which is not useful for data analysis so it was dropped out from dataset."
   ]
  },
  {
   "cell_type": "code",
   "execution_count": 29,
   "id": "18f49d43",
   "metadata": {},
   "outputs": [
    {
     "data": {
      "text/html": [
       "<div>\n",
       "<style scoped>\n",
       "    .dataframe tbody tr th:only-of-type {\n",
       "        vertical-align: middle;\n",
       "    }\n",
       "\n",
       "    .dataframe tbody tr th {\n",
       "        vertical-align: top;\n",
       "    }\n",
       "\n",
       "    .dataframe thead th {\n",
       "        text-align: right;\n",
       "    }\n",
       "</style>\n",
       "<table border=\"1\" class=\"dataframe\">\n",
       "  <thead>\n",
       "    <tr style=\"text-align: right;\">\n",
       "      <th></th>\n",
       "      <th>Survived</th>\n",
       "      <th>Pclass</th>\n",
       "      <th>Sex</th>\n",
       "      <th>Age</th>\n",
       "      <th>SibSp</th>\n",
       "      <th>Parch</th>\n",
       "      <th>Embarked</th>\n",
       "      <th>Age_mean</th>\n",
       "    </tr>\n",
       "  </thead>\n",
       "  <tbody>\n",
       "    <tr>\n",
       "      <th>0</th>\n",
       "      <td>0</td>\n",
       "      <td>3</td>\n",
       "      <td>male</td>\n",
       "      <td>22.000000</td>\n",
       "      <td>1</td>\n",
       "      <td>0</td>\n",
       "      <td>S</td>\n",
       "      <td>22.000000</td>\n",
       "    </tr>\n",
       "    <tr>\n",
       "      <th>1</th>\n",
       "      <td>1</td>\n",
       "      <td>1</td>\n",
       "      <td>female</td>\n",
       "      <td>38.000000</td>\n",
       "      <td>1</td>\n",
       "      <td>0</td>\n",
       "      <td>C</td>\n",
       "      <td>38.000000</td>\n",
       "    </tr>\n",
       "    <tr>\n",
       "      <th>2</th>\n",
       "      <td>1</td>\n",
       "      <td>3</td>\n",
       "      <td>female</td>\n",
       "      <td>26.000000</td>\n",
       "      <td>0</td>\n",
       "      <td>0</td>\n",
       "      <td>S</td>\n",
       "      <td>26.000000</td>\n",
       "    </tr>\n",
       "    <tr>\n",
       "      <th>3</th>\n",
       "      <td>1</td>\n",
       "      <td>1</td>\n",
       "      <td>female</td>\n",
       "      <td>35.000000</td>\n",
       "      <td>1</td>\n",
       "      <td>0</td>\n",
       "      <td>S</td>\n",
       "      <td>35.000000</td>\n",
       "    </tr>\n",
       "    <tr>\n",
       "      <th>4</th>\n",
       "      <td>0</td>\n",
       "      <td>3</td>\n",
       "      <td>male</td>\n",
       "      <td>35.000000</td>\n",
       "      <td>0</td>\n",
       "      <td>0</td>\n",
       "      <td>S</td>\n",
       "      <td>35.000000</td>\n",
       "    </tr>\n",
       "    <tr>\n",
       "      <th>5</th>\n",
       "      <td>0</td>\n",
       "      <td>3</td>\n",
       "      <td>male</td>\n",
       "      <td>29.699118</td>\n",
       "      <td>0</td>\n",
       "      <td>0</td>\n",
       "      <td>Q</td>\n",
       "      <td>29.699118</td>\n",
       "    </tr>\n",
       "    <tr>\n",
       "      <th>6</th>\n",
       "      <td>0</td>\n",
       "      <td>1</td>\n",
       "      <td>male</td>\n",
       "      <td>54.000000</td>\n",
       "      <td>0</td>\n",
       "      <td>0</td>\n",
       "      <td>S</td>\n",
       "      <td>54.000000</td>\n",
       "    </tr>\n",
       "    <tr>\n",
       "      <th>7</th>\n",
       "      <td>0</td>\n",
       "      <td>3</td>\n",
       "      <td>male</td>\n",
       "      <td>2.000000</td>\n",
       "      <td>3</td>\n",
       "      <td>1</td>\n",
       "      <td>S</td>\n",
       "      <td>2.000000</td>\n",
       "    </tr>\n",
       "    <tr>\n",
       "      <th>8</th>\n",
       "      <td>1</td>\n",
       "      <td>3</td>\n",
       "      <td>female</td>\n",
       "      <td>27.000000</td>\n",
       "      <td>0</td>\n",
       "      <td>2</td>\n",
       "      <td>S</td>\n",
       "      <td>27.000000</td>\n",
       "    </tr>\n",
       "    <tr>\n",
       "      <th>9</th>\n",
       "      <td>1</td>\n",
       "      <td>2</td>\n",
       "      <td>female</td>\n",
       "      <td>14.000000</td>\n",
       "      <td>1</td>\n",
       "      <td>0</td>\n",
       "      <td>C</td>\n",
       "      <td>14.000000</td>\n",
       "    </tr>\n",
       "  </tbody>\n",
       "</table>\n",
       "</div>"
      ],
      "text/plain": [
       "   Survived  Pclass     Sex        Age  SibSp  Parch Embarked   Age_mean\n",
       "0         0       3    male  22.000000      1      0        S  22.000000\n",
       "1         1       1  female  38.000000      1      0        C  38.000000\n",
       "2         1       3  female  26.000000      0      0        S  26.000000\n",
       "3         1       1  female  35.000000      1      0        S  35.000000\n",
       "4         0       3    male  35.000000      0      0        S  35.000000\n",
       "5         0       3    male  29.699118      0      0        Q  29.699118\n",
       "6         0       1    male  54.000000      0      0        S  54.000000\n",
       "7         0       3    male   2.000000      3      1        S   2.000000\n",
       "8         1       3  female  27.000000      0      2        S  27.000000\n",
       "9         1       2  female  14.000000      1      0        C  14.000000"
      ]
     },
     "execution_count": 29,
     "metadata": {},
     "output_type": "execute_result"
    }
   ],
   "source": [
    "df.head(10)"
   ]
  },
  {
   "cell_type": "code",
   "execution_count": 30,
   "id": "53e1b6e0",
   "metadata": {},
   "outputs": [],
   "source": [
    "df.drop([\"Age_mean\"],axis=1,inplace=True)"
   ]
  },
  {
   "cell_type": "code",
   "execution_count": 31,
   "id": "b8f99a4e",
   "metadata": {},
   "outputs": [
    {
     "data": {
      "text/html": [
       "<div>\n",
       "<style scoped>\n",
       "    .dataframe tbody tr th:only-of-type {\n",
       "        vertical-align: middle;\n",
       "    }\n",
       "\n",
       "    .dataframe tbody tr th {\n",
       "        vertical-align: top;\n",
       "    }\n",
       "\n",
       "    .dataframe thead th {\n",
       "        text-align: right;\n",
       "    }\n",
       "</style>\n",
       "<table border=\"1\" class=\"dataframe\">\n",
       "  <thead>\n",
       "    <tr style=\"text-align: right;\">\n",
       "      <th></th>\n",
       "      <th>Survived</th>\n",
       "      <th>Pclass</th>\n",
       "      <th>Sex</th>\n",
       "      <th>Age</th>\n",
       "      <th>SibSp</th>\n",
       "      <th>Parch</th>\n",
       "      <th>Embarked</th>\n",
       "    </tr>\n",
       "  </thead>\n",
       "  <tbody>\n",
       "    <tr>\n",
       "      <th>0</th>\n",
       "      <td>0</td>\n",
       "      <td>3</td>\n",
       "      <td>male</td>\n",
       "      <td>22.000000</td>\n",
       "      <td>1</td>\n",
       "      <td>0</td>\n",
       "      <td>S</td>\n",
       "    </tr>\n",
       "    <tr>\n",
       "      <th>1</th>\n",
       "      <td>1</td>\n",
       "      <td>1</td>\n",
       "      <td>female</td>\n",
       "      <td>38.000000</td>\n",
       "      <td>1</td>\n",
       "      <td>0</td>\n",
       "      <td>C</td>\n",
       "    </tr>\n",
       "    <tr>\n",
       "      <th>2</th>\n",
       "      <td>1</td>\n",
       "      <td>3</td>\n",
       "      <td>female</td>\n",
       "      <td>26.000000</td>\n",
       "      <td>0</td>\n",
       "      <td>0</td>\n",
       "      <td>S</td>\n",
       "    </tr>\n",
       "    <tr>\n",
       "      <th>3</th>\n",
       "      <td>1</td>\n",
       "      <td>1</td>\n",
       "      <td>female</td>\n",
       "      <td>35.000000</td>\n",
       "      <td>1</td>\n",
       "      <td>0</td>\n",
       "      <td>S</td>\n",
       "    </tr>\n",
       "    <tr>\n",
       "      <th>4</th>\n",
       "      <td>0</td>\n",
       "      <td>3</td>\n",
       "      <td>male</td>\n",
       "      <td>35.000000</td>\n",
       "      <td>0</td>\n",
       "      <td>0</td>\n",
       "      <td>S</td>\n",
       "    </tr>\n",
       "    <tr>\n",
       "      <th>5</th>\n",
       "      <td>0</td>\n",
       "      <td>3</td>\n",
       "      <td>male</td>\n",
       "      <td>29.699118</td>\n",
       "      <td>0</td>\n",
       "      <td>0</td>\n",
       "      <td>Q</td>\n",
       "    </tr>\n",
       "    <tr>\n",
       "      <th>6</th>\n",
       "      <td>0</td>\n",
       "      <td>1</td>\n",
       "      <td>male</td>\n",
       "      <td>54.000000</td>\n",
       "      <td>0</td>\n",
       "      <td>0</td>\n",
       "      <td>S</td>\n",
       "    </tr>\n",
       "    <tr>\n",
       "      <th>7</th>\n",
       "      <td>0</td>\n",
       "      <td>3</td>\n",
       "      <td>male</td>\n",
       "      <td>2.000000</td>\n",
       "      <td>3</td>\n",
       "      <td>1</td>\n",
       "      <td>S</td>\n",
       "    </tr>\n",
       "    <tr>\n",
       "      <th>8</th>\n",
       "      <td>1</td>\n",
       "      <td>3</td>\n",
       "      <td>female</td>\n",
       "      <td>27.000000</td>\n",
       "      <td>0</td>\n",
       "      <td>2</td>\n",
       "      <td>S</td>\n",
       "    </tr>\n",
       "    <tr>\n",
       "      <th>9</th>\n",
       "      <td>1</td>\n",
       "      <td>2</td>\n",
       "      <td>female</td>\n",
       "      <td>14.000000</td>\n",
       "      <td>1</td>\n",
       "      <td>0</td>\n",
       "      <td>C</td>\n",
       "    </tr>\n",
       "  </tbody>\n",
       "</table>\n",
       "</div>"
      ],
      "text/plain": [
       "   Survived  Pclass     Sex        Age  SibSp  Parch Embarked\n",
       "0         0       3    male  22.000000      1      0        S\n",
       "1         1       1  female  38.000000      1      0        C\n",
       "2         1       3  female  26.000000      0      0        S\n",
       "3         1       1  female  35.000000      1      0        S\n",
       "4         0       3    male  35.000000      0      0        S\n",
       "5         0       3    male  29.699118      0      0        Q\n",
       "6         0       1    male  54.000000      0      0        S\n",
       "7         0       3    male   2.000000      3      1        S\n",
       "8         1       3  female  27.000000      0      2        S\n",
       "9         1       2  female  14.000000      1      0        C"
      ]
     },
     "execution_count": 31,
     "metadata": {},
     "output_type": "execute_result"
    }
   ],
   "source": [
    "df.head(10)"
   ]
  },
  {
   "cell_type": "markdown",
   "id": "d7beb115",
   "metadata": {},
   "source": [
    "# Analysis of survived or Not Survived Passengers"
   ]
  },
  {
   "cell_type": "code",
   "execution_count": 32,
   "id": "5e274a38",
   "metadata": {},
   "outputs": [
    {
     "data": {
      "text/html": [
       "<div>\n",
       "<style scoped>\n",
       "    .dataframe tbody tr th:only-of-type {\n",
       "        vertical-align: middle;\n",
       "    }\n",
       "\n",
       "    .dataframe tbody tr th {\n",
       "        vertical-align: top;\n",
       "    }\n",
       "\n",
       "    .dataframe thead th {\n",
       "        text-align: right;\n",
       "    }\n",
       "</style>\n",
       "<table border=\"1\" class=\"dataframe\">\n",
       "  <thead>\n",
       "    <tr style=\"text-align: right;\">\n",
       "      <th></th>\n",
       "      <th>Value counts</th>\n",
       "      <th>Percentage(%)</th>\n",
       "    </tr>\n",
       "    <tr>\n",
       "      <th></th>\n",
       "      <th></th>\n",
       "      <th></th>\n",
       "    </tr>\n",
       "  </thead>\n",
       "  <tbody>\n",
       "    <tr>\n",
       "      <th>Not Survived</th>\n",
       "      <td>549</td>\n",
       "      <td>61.616162</td>\n",
       "    </tr>\n",
       "    <tr>\n",
       "      <th>Survived</th>\n",
       "      <td>342</td>\n",
       "      <td>38.383838</td>\n",
       "    </tr>\n",
       "  </tbody>\n",
       "</table>\n",
       "</div>"
      ],
      "text/plain": [
       "              Value counts  Percentage(%)\n",
       "                                         \n",
       "Not Survived           549      61.616162\n",
       "Survived               342      38.383838"
      ]
     },
     "execution_count": 32,
     "metadata": {},
     "output_type": "execute_result"
    }
   ],
   "source": [
    "pd.DataFrame({' ':['Not Survived','Survived'],'Value counts':df['Survived'].value_counts(),\n",
    "              'Percentage(%)':[(df[\"Survived\"]==0).sum()*100/len(df),(df[\"Survived\"]==1).sum()*100/len(df)]}).set_index(' ').head()\n",
    "             \n",
    "              "
   ]
  },
  {
   "cell_type": "code",
   "execution_count": 33,
   "id": "c7fed795",
   "metadata": {},
   "outputs": [],
   "source": [
    "## it shows that 549 passengers not survived and 342 passengers survived during titanic sink."
   ]
  },
  {
   "cell_type": "markdown",
   "id": "8f0bafb6",
   "metadata": {},
   "source": [
    "# Representation os passengers by survived or not survived y pie chart"
   ]
  },
  {
   "cell_type": "code",
   "execution_count": 34,
   "id": "3c489568",
   "metadata": {},
   "outputs": [
    {
     "data": {
      "text/plain": [
       "<matplotlib.legend.Legend at 0x2b97872a7f0>"
      ]
     },
     "execution_count": 34,
     "metadata": {},
     "output_type": "execute_result"
    },
    {
     "data": {
      "image/png": "[encoded data removed]",
      "text/plain": [
       "<Figure size 936x504 with 1 Axes>"
      ]
     },
     "metadata": {},
     "output_type": "display_data"
    }
   ],
   "source": [
    "df[\"Survived\"].value_counts().plot(kind='pie',figsize=(13,7),startangle=100,autopct='%1.2f%%',shadow=True,\n",
    "                                  labels=[\"Not Survived\",\"Survived\"],pctdistance=1.31,\n",
    "                                  wedgeprops={'linewidth':8},\n",
    "                                  colors=[\"Blue\",\"Grey\"],\n",
    "                                  explode=[0.1,0])\n",
    "plt.title(\"Passengers who survived or Not Survived by using pie chart\",c=\"b\",size=30\n",
    "          ,y=0.99)\n",
    "plt.axis(\"equal\")\n",
    "plt.legend(title=\"Value counts\",\n",
    "          labels=df[\"Survived\"].value_counts(),loc=\"center right\")"
   ]
  },
  {
   "cell_type": "markdown",
   "id": "945ba7e6",
   "metadata": {},
   "source": [
    "# Countplot Visualization by bar chart"
   ]
  },
  {
   "cell_type": "code",
   "execution_count": 35,
   "id": "64c4f5b7",
   "metadata": {},
   "outputs": [
    {
     "data": {
      "image/png": "[encoded data removed]",
      "text/plain": [
       "<Figure size 1224x864 with 4 Axes>"
      ]
     },
     "metadata": {
      "needs_background": "light"
     },
     "output_type": "display_data"
    }
   ],
   "source": [
    "fig,axs=plt.subplots(nrows=2,ncols=2,figsize=(17,12));\n",
    "fig.suptitle('COUNTPLOT VISUALIZATION', c='Black',size=25)\n",
    "\n",
    "sns.countplot(\"Survived\",data=df, hue = \"Sex\" , ax=axs[0][0])\n",
    "axs[0][0].set_title(\"Visualization of survived values with respect to 'Sex'\",c='Green')\n",
    "\n",
    "sns.countplot(\"Survived\",data=df, hue = \"SibSp\" , ax=axs[0][1])\n",
    "axs[0][1].set_title(\"Visualization of survived values with respect to number of siblings & spouses\",c='Green')\n",
    "axs[0][1].legend(title='SIBSP', loc='upper right')\n",
    "\n",
    "sns.countplot(\"Survived\",data=df, hue = \"Parch\" , ax=axs[1][0])\n",
    "axs[1][0].set_title(\"Visualization of survived values with respect to number of parents and children\",c='Green')\n",
    "axs[1][0].legend(title='PARCH', loc='upper right')\n",
    "\n",
    "sns.countplot(\"Survived\",data=df, hue = \"Embarked\" , ax=axs[1][1])\n",
    "axs[1][1].set_title(\"Visualization of survived values with respect to embarked\",c='Green')\n",
    "axs[1][1].legend(title='EMBARKED', loc='upper right')\n",
    "\n",
    "plt.show()"
   ]
  },
  {
   "cell_type": "code",
   "execution_count": 36,
   "id": "61310cc6",
   "metadata": {},
   "outputs": [
    {
     "data": {
      "image/png": "[encoded data removed]",
      "text/plain": [
       "<Figure size 648x360 with 1 Axes>"
      ]
     },
     "metadata": {
      "needs_background": "light"
     },
     "output_type": "display_data"
    },
    {
     "name": "stdout",
     "output_type": "stream",
     "text": [
      "Pclass \n",
      "3    491\n",
      "1    216\n",
      "2    184\n",
      "Name: Pclass, dtype: int64\n"
     ]
    },
    {
     "data": {
      "image/png": "[encoded data removed]",
      "text/plain": [
       "<Figure size 648x360 with 1 Axes>"
      ]
     },
     "metadata": {
      "needs_background": "light"
     },
     "output_type": "display_data"
    },
    {
     "name": "stdout",
     "output_type": "stream",
     "text": [
      "Sex \n",
      "male      577\n",
      "female    314\n",
      "Name: Sex, dtype: int64\n"
     ]
    },
    {
     "data": {
      "image/png": "[encoded data removed]",
      "text/plain": [
       "<Figure size 648x360 with 1 Axes>"
      ]
     },
     "metadata": {
      "needs_background": "light"
     },
     "output_type": "display_data"
    },
    {
     "name": "stdout",
     "output_type": "stream",
     "text": [
      "Embarked \n",
      "S    644\n",
      "C    168\n",
      "Q     77\n",
      "Name: Embarked, dtype: int64\n"
     ]
    },
    {
     "data": {
      "image/png": "[encoded data removed]",
      "text/plain": [
       "<Figure size 648x360 with 1 Axes>"
      ]
     },
     "metadata": {
      "needs_background": "light"
     },
     "output_type": "display_data"
    },
    {
     "name": "stdout",
     "output_type": "stream",
     "text": [
      "Parch \n",
      "0    678\n",
      "1    118\n",
      "2     80\n",
      "5      5\n",
      "3      5\n",
      "4      4\n",
      "6      1\n",
      "Name: Parch, dtype: int64\n"
     ]
    },
    {
     "data": {
      "image/png": "[encoded data removed]",
      "text/plain": [
       "<Figure size 648x360 with 1 Axes>"
      ]
     },
     "metadata": {
      "needs_background": "light"
     },
     "output_type": "display_data"
    },
    {
     "name": "stdout",
     "output_type": "stream",
     "text": [
      "SibSp \n",
      "0    608\n",
      "1    209\n",
      "2     28\n",
      "4     18\n",
      "3     16\n",
      "8      7\n",
      "5      5\n",
      "Name: SibSp, dtype: int64\n"
     ]
    }
   ],
   "source": [
    "def bar_graph(features):\n",
    "    feature=df[features];\n",
    "    feature_val = feature.value_counts();\n",
    "    \n",
    "    plt.figure(figsize=(9,5))\n",
    "    plt.bar(feature_val.index,feature_val,color='purple');\n",
    "    plt.title(features);\n",
    "    plt.xticks(feature_val.index, feature_val.index.values);\n",
    "    plt.ylabel(\"count\");\n",
    "    \n",
    "    plt.show();\n",
    "    \n",
    "    print(\"{} \\n{}\".format(features,feature_val));\n",
    "    \n",
    "cols=[\"Pclass\",\"Sex\",\"Embarked\",\"Parch\",\"SibSp\"]\n",
    "\n",
    "for i in cols:\n",
    "    bar_graph(i)"
   ]
  },
  {
   "cell_type": "code",
   "execution_count": 37,
   "id": "2caa57fc",
   "metadata": {},
   "outputs": [
    {
     "data": {
      "text/plain": [
       "<AxesSubplot:>"
      ]
     },
     "execution_count": 37,
     "metadata": {},
     "output_type": "execute_result"
    },
    {
     "data": {
      "image/png": "[encoded data removed]",
      "text/plain": [
       "<Figure size 432x288 with 2 Axes>"
      ]
     },
     "metadata": {
      "needs_background": "light"
     },
     "output_type": "display_data"
    }
   ],
   "source": [
    "sns.heatmap(df.isnull()) "
   ]
  },
  {
   "cell_type": "code",
   "execution_count": 38,
   "id": "f8a224b6",
   "metadata": {},
   "outputs": [],
   "source": [
    "## Now there is no null values in Dataset"
   ]
  },
  {
   "cell_type": "markdown",
   "id": "7973af13",
   "metadata": {},
   "source": [
    "# Check Correlation"
   ]
  },
  {
   "cell_type": "code",
   "execution_count": 39,
   "id": "7b61ef22",
   "metadata": {},
   "outputs": [],
   "source": [
    "dfcor=df.corr()    ## To check the coreelation in dataset"
   ]
  },
  {
   "cell_type": "code",
   "execution_count": 40,
   "id": "277fb0c6",
   "metadata": {},
   "outputs": [
    {
     "data": {
      "text/html": [
       "<div>\n",
       "<style scoped>\n",
       "    .dataframe tbody tr th:only-of-type {\n",
       "        vertical-align: middle;\n",
       "    }\n",
       "\n",
       "    .dataframe tbody tr th {\n",
       "        vertical-align: top;\n",
       "    }\n",
       "\n",
       "    .dataframe thead th {\n",
       "        text-align: right;\n",
       "    }\n",
       "</style>\n",
       "<table border=\"1\" class=\"dataframe\">\n",
       "  <thead>\n",
       "    <tr style=\"text-align: right;\">\n",
       "      <th></th>\n",
       "      <th>Survived</th>\n",
       "      <th>Pclass</th>\n",
       "      <th>Age</th>\n",
       "      <th>SibSp</th>\n",
       "      <th>Parch</th>\n",
       "    </tr>\n",
       "  </thead>\n",
       "  <tbody>\n",
       "    <tr>\n",
       "      <th>Survived</th>\n",
       "      <td>1.000000</td>\n",
       "      <td>-0.338481</td>\n",
       "      <td>-0.069809</td>\n",
       "      <td>-0.035322</td>\n",
       "      <td>0.081629</td>\n",
       "    </tr>\n",
       "    <tr>\n",
       "      <th>Pclass</th>\n",
       "      <td>-0.338481</td>\n",
       "      <td>1.000000</td>\n",
       "      <td>-0.331339</td>\n",
       "      <td>0.083081</td>\n",
       "      <td>0.018443</td>\n",
       "    </tr>\n",
       "    <tr>\n",
       "      <th>Age</th>\n",
       "      <td>-0.069809</td>\n",
       "      <td>-0.331339</td>\n",
       "      <td>1.000000</td>\n",
       "      <td>-0.232625</td>\n",
       "      <td>-0.179191</td>\n",
       "    </tr>\n",
       "    <tr>\n",
       "      <th>SibSp</th>\n",
       "      <td>-0.035322</td>\n",
       "      <td>0.083081</td>\n",
       "      <td>-0.232625</td>\n",
       "      <td>1.000000</td>\n",
       "      <td>0.414838</td>\n",
       "    </tr>\n",
       "    <tr>\n",
       "      <th>Parch</th>\n",
       "      <td>0.081629</td>\n",
       "      <td>0.018443</td>\n",
       "      <td>-0.179191</td>\n",
       "      <td>0.414838</td>\n",
       "      <td>1.000000</td>\n",
       "    </tr>\n",
       "  </tbody>\n",
       "</table>\n",
       "</div>"
      ],
      "text/plain": [
       "          Survived    Pclass       Age     SibSp     Parch\n",
       "Survived  1.000000 -0.338481 -0.069809 -0.035322  0.081629\n",
       "Pclass   -0.338481  1.000000 -0.331339  0.083081  0.018443\n",
       "Age      -0.069809 -0.331339  1.000000 -0.232625 -0.179191\n",
       "SibSp    -0.035322  0.083081 -0.232625  1.000000  0.414838\n",
       "Parch     0.081629  0.018443 -0.179191  0.414838  1.000000"
      ]
     },
     "execution_count": 40,
     "metadata": {},
     "output_type": "execute_result"
    }
   ],
   "source": [
    "dfcor"
   ]
  },
  {
   "cell_type": "code",
   "execution_count": 41,
   "id": "fcd6c66c",
   "metadata": {},
   "outputs": [
    {
     "data": {
      "text/plain": [
       "<AxesSubplot:>"
      ]
     },
     "execution_count": 41,
     "metadata": {},
     "output_type": "execute_result"
    },
    {
     "data": {
      "image/png": "[encoded data removed]",
      "text/plain": [
       "<Figure size 432x288 with 2 Axes>"
      ]
     },
     "metadata": {
      "needs_background": "light"
     },
     "output_type": "display_data"
    }
   ],
   "source": [
    "sns.heatmap(dfcor)   ## Graphical represntation of correlation of datset by seaborn"
   ]
  },
  {
   "cell_type": "code",
   "execution_count": 42,
   "id": "589f599c",
   "metadata": {},
   "outputs": [
    {
     "data": {
      "text/plain": [
       "<AxesSubplot:>"
      ]
     },
     "execution_count": 42,
     "metadata": {},
     "output_type": "execute_result"
    },
    {
     "data": {
      "image/png": "[encoded data removed]",
      "text/plain": [
       "<Figure size 720x432 with 2 Axes>"
      ]
     },
     "metadata": {
      "needs_background": "light"
     },
     "output_type": "display_data"
    }
   ],
   "source": [
    "plt.figure(figsize=(10,6))\n",
    "sns.heatmap(dfcor,cmap='YlOrRd_r',annot=True)"
   ]
  },
  {
   "cell_type": "code",
   "execution_count": 43,
   "id": "75b87422",
   "metadata": {},
   "outputs": [],
   "source": [
    "## Observation : Parch has good correlation"
   ]
  },
  {
   "cell_type": "markdown",
   "id": "22d5eb03",
   "metadata": {},
   "source": [
    "# To check distribution of skewness"
   ]
  },
  {
   "cell_type": "code",
   "execution_count": 44,
   "id": "ebf4c5e2",
   "metadata": {},
   "outputs": [
    {
     "data": {
      "text/plain": [
       "<AxesSubplot:xlabel='Pclass', ylabel='Density'>"
      ]
     },
     "execution_count": 44,
     "metadata": {},
     "output_type": "execute_result"
    },
    {
     "data": {
      "image/png": "[encoded data removed]",
      "text/plain": [
       "<Figure size 432x288 with 1 Axes>"
      ]
     },
     "metadata": {
      "needs_background": "light"
     },
     "output_type": "display_data"
    }
   ],
   "source": [
    "sns.distplot(df['Pclass'])     ## For normal distribution "
   ]
  },
  {
   "cell_type": "code",
   "execution_count": 45,
   "id": "93352109",
   "metadata": {},
   "outputs": [
    {
     "data": {
      "text/plain": [
       "<AxesSubplot:xlabel='Age', ylabel='Density'>"
      ]
     },
     "execution_count": 45,
     "metadata": {},
     "output_type": "execute_result"
    },
    {
     "data": {
      "image/png": "[encoded data removed]",
      "text/plain": [
       "<Figure size 432x288 with 1 Axes>"
      ]
     },
     "metadata": {
      "needs_background": "light"
     },
     "output_type": "display_data"
    }
   ],
   "source": [
    "sns.distplot(df['Age'])     ## For normal distribution "
   ]
  },
  {
   "cell_type": "code",
   "execution_count": 46,
   "id": "caedc817",
   "metadata": {},
   "outputs": [
    {
     "data": {
      "text/plain": [
       "<AxesSubplot:xlabel='SibSp', ylabel='Density'>"
      ]
     },
     "execution_count": 46,
     "metadata": {},
     "output_type": "execute_result"
    },
    {
     "data": {
      "image/png": "[encoded data removed]",
      "text/plain": [
       "<Figure size 432x288 with 1 Axes>"
      ]
     },
     "metadata": {
      "needs_background": "light"
     },
     "output_type": "display_data"
    }
   ],
   "source": [
    "sns.distplot(df['SibSp'])"
   ]
  },
  {
   "cell_type": "code",
   "execution_count": 47,
   "id": "6e14d6df",
   "metadata": {},
   "outputs": [
    {
     "data": {
      "text/plain": [
       "<AxesSubplot:xlabel='Parch', ylabel='Density'>"
      ]
     },
     "execution_count": 47,
     "metadata": {},
     "output_type": "execute_result"
    },
    {
     "data": {
      "image/png": "[encoded data removed]",
      "text/plain": [
       "<Figure size 432x288 with 1 Axes>"
      ]
     },
     "metadata": {
      "needs_background": "light"
     },
     "output_type": "display_data"
    }
   ],
   "source": [
    "sns.distplot(df['Parch'])"
   ]
  },
  {
   "cell_type": "code",
   "execution_count": 48,
   "id": "53116eb9",
   "metadata": {},
   "outputs": [],
   "source": [
    "from sklearn.preprocessing import LabelEncoder\n",
    "lben=LabelEncoder()\n",
    "\n",
    "df[\"Sex\"]=lben.fit_transform(df[\"Sex\"].values)\n",
    "df[\"Embarked\"]=lben.fit_transform(df[\"Embarked\"].values)"
   ]
  },
  {
   "cell_type": "code",
   "execution_count": 49,
   "id": "3b6100f2",
   "metadata": {},
   "outputs": [
    {
     "data": {
      "text/html": [
       "<div>\n",
       "<style scoped>\n",
       "    .dataframe tbody tr th:only-of-type {\n",
       "        vertical-align: middle;\n",
       "    }\n",
       "\n",
       "    .dataframe tbody tr th {\n",
       "        vertical-align: top;\n",
       "    }\n",
       "\n",
       "    .dataframe thead th {\n",
       "        text-align: right;\n",
       "    }\n",
       "</style>\n",
       "<table border=\"1\" class=\"dataframe\">\n",
       "  <thead>\n",
       "    <tr style=\"text-align: right;\">\n",
       "      <th></th>\n",
       "      <th>Survived</th>\n",
       "      <th>Pclass</th>\n",
       "      <th>Sex</th>\n",
       "      <th>Age</th>\n",
       "      <th>SibSp</th>\n",
       "      <th>Parch</th>\n",
       "      <th>Embarked</th>\n",
       "    </tr>\n",
       "  </thead>\n",
       "  <tbody>\n",
       "    <tr>\n",
       "      <th>0</th>\n",
       "      <td>0</td>\n",
       "      <td>3</td>\n",
       "      <td>1</td>\n",
       "      <td>22.0</td>\n",
       "      <td>1</td>\n",
       "      <td>0</td>\n",
       "      <td>2</td>\n",
       "    </tr>\n",
       "    <tr>\n",
       "      <th>1</th>\n",
       "      <td>1</td>\n",
       "      <td>1</td>\n",
       "      <td>0</td>\n",
       "      <td>38.0</td>\n",
       "      <td>1</td>\n",
       "      <td>0</td>\n",
       "      <td>0</td>\n",
       "    </tr>\n",
       "    <tr>\n",
       "      <th>2</th>\n",
       "      <td>1</td>\n",
       "      <td>3</td>\n",
       "      <td>0</td>\n",
       "      <td>26.0</td>\n",
       "      <td>0</td>\n",
       "      <td>0</td>\n",
       "      <td>2</td>\n",
       "    </tr>\n",
       "    <tr>\n",
       "      <th>3</th>\n",
       "      <td>1</td>\n",
       "      <td>1</td>\n",
       "      <td>0</td>\n",
       "      <td>35.0</td>\n",
       "      <td>1</td>\n",
       "      <td>0</td>\n",
       "      <td>2</td>\n",
       "    </tr>\n",
       "    <tr>\n",
       "      <th>4</th>\n",
       "      <td>0</td>\n",
       "      <td>3</td>\n",
       "      <td>1</td>\n",
       "      <td>35.0</td>\n",
       "      <td>0</td>\n",
       "      <td>0</td>\n",
       "      <td>2</td>\n",
       "    </tr>\n",
       "  </tbody>\n",
       "</table>\n",
       "</div>"
      ],
      "text/plain": [
       "   Survived  Pclass  Sex   Age  SibSp  Parch  Embarked\n",
       "0         0       3    1  22.0      1      0         2\n",
       "1         1       1    0  38.0      1      0         0\n",
       "2         1       3    0  26.0      0      0         2\n",
       "3         1       1    0  35.0      1      0         2\n",
       "4         0       3    1  35.0      0      0         2"
      ]
     },
     "execution_count": 49,
     "metadata": {},
     "output_type": "execute_result"
    }
   ],
   "source": [
    "df.head()"
   ]
  },
  {
   "cell_type": "code",
   "execution_count": 50,
   "id": "8852df45",
   "metadata": {},
   "outputs": [
    {
     "data": {
      "text/plain": [
       "<AxesSubplot:xlabel='Embarked', ylabel='Density'>"
      ]
     },
     "execution_count": 50,
     "metadata": {},
     "output_type": "execute_result"
    },
    {
     "data": {
      "image/png": "[encoded data removed]",
      "text/plain": [
       "<Figure size 432x288 with 1 Axes>"
      ]
     },
     "metadata": {
      "needs_background": "light"
     },
     "output_type": "display_data"
    }
   ],
   "source": [
    "sns.distplot(df['Embarked'])"
   ]
  },
  {
   "cell_type": "markdown",
   "id": "049daf39",
   "metadata": {},
   "source": [
    "A little skewness is present in all columns it can be removed out."
   ]
  },
  {
   "cell_type": "markdown",
   "id": "6195e25a",
   "metadata": {},
   "source": [
    "# Removing of skewness"
   ]
  },
  {
   "cell_type": "code",
   "execution_count": 51,
   "id": "cf12018a",
   "metadata": {},
   "outputs": [
    {
     "data": {
      "text/plain": [
       "Survived    0.478523\n",
       "Pclass     -0.630548\n",
       "Sex        -0.618921\n",
       "Age         0.434488\n",
       "SibSp       3.695352\n",
       "Parch       2.749117\n",
       "Embarked   -1.246689\n",
       "dtype: float64"
      ]
     },
     "execution_count": 51,
     "metadata": {},
     "output_type": "execute_result"
    }
   ],
   "source": [
    "df.skew()"
   ]
  },
  {
   "cell_type": "code",
   "execution_count": 52,
   "id": "86aac9d3",
   "metadata": {},
   "outputs": [
    {
     "data": {
      "text/plain": [
       "Survived    0.478523\n",
       "Pclass     -0.630548\n",
       "Sex        -0.618921\n",
       "Age         0.434488\n",
       "SibSp       1.436526\n",
       "Parch       1.529799\n",
       "Embarked   -1.246689\n",
       "dtype: float64"
      ]
     },
     "execution_count": 52,
     "metadata": {},
     "output_type": "execute_result"
    }
   ],
   "source": [
    "\n",
    "df['SibSp']=np.sqrt(df['SibSp'])\n",
    "df['Parch']=np.sqrt(df['Parch'])\n",
    "df.skew()"
   ]
  },
  {
   "cell_type": "code",
   "execution_count": 53,
   "id": "c8fbd1d9",
   "metadata": {},
   "outputs": [],
   "source": [
    "X=df.iloc[:,1:7]\n",
    "Y=df.loc[:,\"Survived\"]"
   ]
  },
  {
   "cell_type": "markdown",
   "id": "5bbd460f",
   "metadata": {},
   "source": [
    "# Training Process begins"
   ]
  },
  {
   "cell_type": "code",
   "execution_count": 59,
   "id": "39e76063",
   "metadata": {},
   "outputs": [],
   "source": [
    "from sklearn.linear_model import LogisticRegression \n",
    "from sklearn.metrics import accuracy_score\n",
    "from sklearn.metrics import confusion_matrix,classification_report\n",
    "from sklearn.model_selection import train_test_split"
   ]
  },
  {
   "cell_type": "markdown",
   "id": "e4c3a421",
   "metadata": {},
   "source": [
    "# Best random state"
   ]
  },
  {
   "cell_type": "code",
   "execution_count": 60,
   "id": "58b0b94c",
   "metadata": {},
   "outputs": [
    {
     "name": "stdout",
     "output_type": "stream",
     "text": [
      "accuracy 0.7988826815642458 random_state 1\n",
      "accuracy 0.776536312849162 random_state 2\n",
      "accuracy 0.7597765363128491 random_state 3\n",
      "accuracy 0.8268156424581006 random_state 4\n",
      "accuracy 0.8156424581005587 random_state 5\n",
      "accuracy 0.8603351955307262 random_state 6\n",
      "accuracy 0.7541899441340782 random_state 7\n",
      "accuracy 0.7653631284916201 random_state 8\n",
      "accuracy 0.770949720670391 random_state 9\n",
      "accuracy 0.8212290502793296 random_state 10\n",
      "accuracy 0.8379888268156425 random_state 11\n",
      "accuracy 0.7877094972067039 random_state 12\n",
      "accuracy 0.8324022346368715 random_state 13\n",
      "accuracy 0.7988826815642458 random_state 14\n",
      "accuracy 0.8100558659217877 random_state 15\n",
      "accuracy 0.7262569832402235 random_state 16\n",
      "accuracy 0.7653631284916201 random_state 17\n",
      "accuracy 0.8603351955307262 random_state 18\n",
      "accuracy 0.8212290502793296 random_state 19\n",
      "accuracy 0.8100558659217877 random_state 20\n",
      "accuracy 0.7988826815642458 random_state 21\n",
      "accuracy 0.7877094972067039 random_state 22\n",
      "accuracy 0.7486033519553073 random_state 23\n",
      "accuracy 0.8268156424581006 random_state 24\n",
      "accuracy 0.8156424581005587 random_state 25\n",
      "accuracy 0.8044692737430168 random_state 26\n",
      "accuracy 0.8156424581005587 random_state 27\n",
      "accuracy 0.7932960893854749 random_state 28\n",
      "accuracy 0.7932960893854749 random_state 29\n",
      "accuracy 0.776536312849162 random_state 30\n",
      "accuracy 0.7988826815642458 random_state 31\n",
      "accuracy 0.7877094972067039 random_state 32\n",
      "accuracy 0.8100558659217877 random_state 33\n",
      "accuracy 0.8156424581005587 random_state 34\n",
      "accuracy 0.7932960893854749 random_state 35\n",
      "accuracy 0.8044692737430168 random_state 36\n",
      "accuracy 0.8044692737430168 random_state 37\n",
      "accuracy 0.8156424581005587 random_state 38\n",
      "accuracy 0.770949720670391 random_state 39\n",
      "accuracy 0.8100558659217877 random_state 40\n",
      "accuracy 0.7988826815642458 random_state 41\n",
      "accuracy 0.7988826815642458 random_state 42\n",
      "accuracy 0.7486033519553073 random_state 43\n",
      "accuracy 0.7430167597765364 random_state 44\n",
      "accuracy 0.8324022346368715 random_state 45\n",
      "accuracy 0.8324022346368715 random_state 46\n",
      "accuracy 0.7877094972067039 random_state 47\n",
      "accuracy 0.7653631284916201 random_state 48\n",
      "accuracy 0.8100558659217877 random_state 49\n",
      "accuracy 0.7988826815642458 random_state 50\n",
      "accuracy 0.770949720670391 random_state 51\n",
      "accuracy 0.8156424581005587 random_state 52\n",
      "accuracy 0.7653631284916201 random_state 53\n",
      "accuracy 0.8044692737430168 random_state 54\n",
      "accuracy 0.776536312849162 random_state 55\n",
      "accuracy 0.8156424581005587 random_state 56\n",
      "accuracy 0.7821229050279329 random_state 57\n",
      "accuracy 0.7877094972067039 random_state 58\n",
      "accuracy 0.7262569832402235 random_state 59\n",
      "accuracy 0.7541899441340782 random_state 60\n",
      "accuracy 0.776536312849162 random_state 61\n",
      "accuracy 0.8044692737430168 random_state 62\n",
      "accuracy 0.8044692737430168 random_state 63\n",
      "accuracy 0.8212290502793296 random_state 64\n",
      "accuracy 0.8100558659217877 random_state 65\n",
      "accuracy 0.7597765363128491 random_state 66\n",
      "accuracy 0.7988826815642458 random_state 67\n",
      "accuracy 0.7988826815642458 random_state 68\n",
      "accuracy 0.8044692737430168 random_state 69\n",
      "accuracy 0.8435754189944135 random_state 70\n",
      "accuracy 0.8156424581005587 random_state 71\n",
      "accuracy 0.8212290502793296 random_state 72\n",
      "accuracy 0.8100558659217877 random_state 73\n",
      "accuracy 0.8324022346368715 random_state 74\n",
      "accuracy 0.7486033519553073 random_state 75\n",
      "accuracy 0.8491620111731844 random_state 76\n",
      "accuracy 0.7653631284916201 random_state 77\n",
      "accuracy 0.8212290502793296 random_state 78\n",
      "accuracy 0.8100558659217877 random_state 79\n",
      "accuracy 0.7653631284916201 random_state 80\n",
      "accuracy 0.770949720670391 random_state 81\n",
      "accuracy 0.8100558659217877 random_state 82\n",
      "accuracy 0.776536312849162 random_state 83\n",
      "accuracy 0.7374301675977654 random_state 84\n",
      "accuracy 0.776536312849162 random_state 85\n",
      "accuracy 0.7932960893854749 random_state 86\n",
      "accuracy 0.8100558659217877 random_state 87\n",
      "accuracy 0.7932960893854749 random_state 88\n",
      "accuracy 0.8268156424581006 random_state 89\n",
      "accuracy 0.7877094972067039 random_state 90\n",
      "accuracy 0.7597765363128491 random_state 91\n",
      "accuracy 0.7988826815642458 random_state 92\n",
      "accuracy 0.8268156424581006 random_state 93\n",
      "accuracy 0.7932960893854749 random_state 94\n",
      "accuracy 0.8156424581005587 random_state 95\n",
      "accuracy 0.7988826815642458 random_state 96\n",
      "accuracy 0.7988826815642458 random_state 97\n",
      "accuracy 0.7821229050279329 random_state 98\n",
      "accuracy 0.7541899441340782 random_state 99\n",
      "accuracy 0.8044692737430168 random_state 100\n",
      "accuracy 0.8100558659217877 random_state 101\n",
      "accuracy 0.7877094972067039 random_state 102\n",
      "accuracy 0.7877094972067039 random_state 103\n",
      "accuracy 0.7932960893854749 random_state 104\n",
      "accuracy 0.7541899441340782 random_state 105\n",
      "accuracy 0.8044692737430168 random_state 106\n",
      "accuracy 0.7821229050279329 random_state 107\n",
      "accuracy 0.7988826815642458 random_state 108\n",
      "accuracy 0.8044692737430168 random_state 109\n",
      "accuracy 0.8268156424581006 random_state 110\n",
      "accuracy 0.7653631284916201 random_state 111\n",
      "accuracy 0.8156424581005587 random_state 112\n",
      "accuracy 0.7988826815642458 random_state 113\n",
      "accuracy 0.7430167597765364 random_state 114\n",
      "accuracy 0.8100558659217877 random_state 115\n",
      "accuracy 0.8212290502793296 random_state 116\n",
      "accuracy 0.7653631284916201 random_state 117\n",
      "accuracy 0.7653631284916201 random_state 118\n",
      "accuracy 0.7653631284916201 random_state 119\n",
      "accuracy 0.776536312849162 random_state 120\n",
      "accuracy 0.7821229050279329 random_state 121\n",
      "accuracy 0.7486033519553073 random_state 122\n",
      "accuracy 0.8212290502793296 random_state 123\n",
      "accuracy 0.7821229050279329 random_state 124\n",
      "accuracy 0.8156424581005587 random_state 125\n",
      "accuracy 0.8268156424581006 random_state 126\n",
      "accuracy 0.7988826815642458 random_state 127\n",
      "accuracy 0.7988826815642458 random_state 128\n",
      "accuracy 0.8212290502793296 random_state 129\n",
      "accuracy 0.8212290502793296 random_state 130\n",
      "accuracy 0.7486033519553073 random_state 131\n",
      "accuracy 0.8324022346368715 random_state 132\n",
      "accuracy 0.8156424581005587 random_state 133\n",
      "accuracy 0.770949720670391 random_state 134\n",
      "accuracy 0.7653631284916201 random_state 135\n",
      "accuracy 0.8100558659217877 random_state 136\n",
      "accuracy 0.8100558659217877 random_state 137\n",
      "accuracy 0.8212290502793296 random_state 138\n",
      "accuracy 0.8268156424581006 random_state 139\n",
      "accuracy 0.7821229050279329 random_state 140\n",
      "accuracy 0.7932960893854749 random_state 141\n",
      "accuracy 0.8156424581005587 random_state 142\n",
      "accuracy 0.7877094972067039 random_state 143\n",
      "accuracy 0.7988826815642458 random_state 144\n",
      "accuracy 0.8491620111731844 random_state 145\n",
      "accuracy 0.770949720670391 random_state 146\n",
      "accuracy 0.8324022346368715 random_state 147\n",
      "accuracy 0.8044692737430168 random_state 148\n",
      "accuracy 0.8100558659217877 random_state 149\n",
      "accuracy 0.8379888268156425 random_state 150\n",
      "accuracy 0.770949720670391 random_state 151\n",
      "accuracy 0.7653631284916201 random_state 152\n",
      "accuracy 0.8100558659217877 random_state 153\n",
      "accuracy 0.8044692737430168 random_state 154\n",
      "accuracy 0.776536312849162 random_state 155\n",
      "accuracy 0.7932960893854749 random_state 156\n",
      "accuracy 0.776536312849162 random_state 157\n",
      "accuracy 0.776536312849162 random_state 158\n",
      "accuracy 0.8435754189944135 random_state 159\n",
      "accuracy 0.8044692737430168 random_state 160\n",
      "accuracy 0.770949720670391 random_state 161\n",
      "accuracy 0.770949720670391 random_state 162\n",
      "accuracy 0.7932960893854749 random_state 163\n",
      "accuracy 0.8212290502793296 random_state 164\n",
      "accuracy 0.8212290502793296 random_state 165\n",
      "accuracy 0.7821229050279329 random_state 166\n",
      "accuracy 0.8156424581005587 random_state 167\n",
      "accuracy 0.8044692737430168 random_state 168\n",
      "accuracy 0.8212290502793296 random_state 169\n",
      "accuracy 0.770949720670391 random_state 170\n",
      "accuracy 0.7877094972067039 random_state 171\n",
      "accuracy 0.8156424581005587 random_state 172\n",
      "accuracy 0.8212290502793296 random_state 173\n",
      "accuracy 0.770949720670391 random_state 174\n",
      "accuracy 0.7932960893854749 random_state 175\n",
      "accuracy 0.7597765363128491 random_state 176\n",
      "accuracy 0.7877094972067039 random_state 177\n",
      "accuracy 0.7932960893854749 random_state 178\n",
      "accuracy 0.770949720670391 random_state 179\n",
      "accuracy 0.8268156424581006 random_state 180\n",
      "accuracy 0.8044692737430168 random_state 181\n",
      "accuracy 0.7988826815642458 random_state 182\n",
      "accuracy 0.7988826815642458 random_state 183\n",
      "accuracy 0.7988826815642458 random_state 184\n",
      "accuracy 0.7653631284916201 random_state 185\n",
      "accuracy 0.7877094972067039 random_state 186\n",
      "accuracy 0.7653631284916201 random_state 187\n",
      "accuracy 0.7541899441340782 random_state 188\n",
      "accuracy 0.7653631284916201 random_state 189\n",
      "accuracy 0.8324022346368715 random_state 190\n",
      "accuracy 0.8212290502793296 random_state 191\n",
      "accuracy 0.770949720670391 random_state 192\n",
      "accuracy 0.7932960893854749 random_state 193\n",
      "accuracy 0.7988826815642458 random_state 194\n",
      "accuracy 0.776536312849162 random_state 195\n",
      "accuracy 0.8491620111731844 random_state 196\n",
      "accuracy 0.8100558659217877 random_state 197\n",
      "accuracy 0.776536312849162 random_state 198\n",
      "accuracy 0.7877094972067039 random_state 199\n"
     ]
    }
   ],
   "source": [
    "maxAccu=0  ## maximum accuracy\n",
    "maxRS=0   ## best random state value for which max accuracy is achieved\n",
    "\n",
    "for i in range(1,200):\n",
    "    X_train,X_test,Y_train,Y_test=train_test_split(X,Y,test_size=.20,random_state=i)\n",
    "    LR=LogisticRegression()\n",
    "    LR.fit(X_train,Y_train)   ## fitting the data will train your model\n",
    "    predrf=LR.predict(X_test)   ## this is the predicted target variable\n",
    "    acc=accuracy_score(Y_test,predrf)  ## accuracy score\n",
    "    print('accuracy',acc,'random_state',i)\n",
    "    \n",
    "    if acc>maxAccu:\n",
    "        maxAccu=acc\n",
    "        maxRS=i\n",
    "        \n",
    "        ## print('accuracy',maxAccu, 'random_state' i)"
   ]
  },
  {
   "cell_type": "code",
   "execution_count": 61,
   "id": "ad3ac633",
   "metadata": {},
   "outputs": [
    {
     "name": "stdout",
     "output_type": "stream",
     "text": [
      "Best accuracy is  0.8603351955307262  on Random_state 6\n"
     ]
    }
   ],
   "source": [
    "print(\"Best accuracy is \", maxAccu,\" on Random_state\",maxRS)"
   ]
  },
  {
   "cell_type": "code",
   "execution_count": 62,
   "id": "763c150e",
   "metadata": {},
   "outputs": [],
   "source": [
    "## i found best random state 6. i will apply it for further process."
   ]
  },
  {
   "cell_type": "markdown",
   "id": "82f4e3ce",
   "metadata": {},
   "source": [
    "# Creating train_test_split"
   ]
  },
  {
   "cell_type": "code",
   "execution_count": 63,
   "id": "4055aeb4",
   "metadata": {},
   "outputs": [],
   "source": [
    "X_train,X_test,Y_train,Y_test=train_test_split(X,Y,test_size=.20,random_state=6)"
   ]
  },
  {
   "cell_type": "markdown",
   "id": "ae6e0663",
   "metadata": {},
   "source": [
    "# Different models to find out the best accuracy"
   ]
  },
  {
   "cell_type": "code",
   "execution_count": 64,
   "id": "0b93af3b",
   "metadata": {},
   "outputs": [
    {
     "name": "stdout",
     "output_type": "stream",
     "text": [
      "Accuracy 86.03351955307262\n",
      "[[105   8]\n",
      " [ 17  49]]\n",
      "              precision    recall  f1-score   support\n",
      "\n",
      "           0       0.86      0.93      0.89       113\n",
      "           1       0.86      0.74      0.80        66\n",
      "\n",
      "    accuracy                           0.86       179\n",
      "   macro avg       0.86      0.84      0.85       179\n",
      "weighted avg       0.86      0.86      0.86       179\n",
      "\n",
      "Accuracy 83.24022346368714\n",
      "[[104   9]\n",
      " [ 21  45]]\n",
      "              precision    recall  f1-score   support\n",
      "\n",
      "           0       0.83      0.92      0.87       113\n",
      "           1       0.83      0.68      0.75        66\n",
      "\n",
      "    accuracy                           0.83       179\n",
      "   macro avg       0.83      0.80      0.81       179\n",
      "weighted avg       0.83      0.83      0.83       179\n",
      "\n",
      "Accuracy 84.91620111731844\n",
      "[[103  10]\n",
      " [ 17  49]]\n",
      "              precision    recall  f1-score   support\n",
      "\n",
      "           0       0.86      0.91      0.88       113\n",
      "           1       0.83      0.74      0.78        66\n",
      "\n",
      "    accuracy                           0.85       179\n",
      "   macro avg       0.84      0.83      0.83       179\n",
      "weighted avg       0.85      0.85      0.85       179\n",
      "\n",
      "Accuracy 65.92178770949721\n",
      "[[112   1]\n",
      " [ 60   6]]\n",
      "              precision    recall  f1-score   support\n",
      "\n",
      "           0       0.65      0.99      0.79       113\n",
      "           1       0.86      0.09      0.16        66\n",
      "\n",
      "    accuracy                           0.66       179\n",
      "   macro avg       0.75      0.54      0.48       179\n",
      "weighted avg       0.73      0.66      0.56       179\n",
      "\n",
      "Accuracy 65.92178770949721\n",
      "[[112   1]\n",
      " [ 60   6]]\n",
      "              precision    recall  f1-score   support\n",
      "\n",
      "           0       0.65      0.99      0.79       113\n",
      "           1       0.86      0.09      0.16        66\n",
      "\n",
      "    accuracy                           0.66       179\n",
      "   macro avg       0.75      0.54      0.48       179\n",
      "weighted avg       0.73      0.66      0.56       179\n",
      "\n",
      "Accuracy 65.92178770949721\n",
      "[[112   1]\n",
      " [ 60   6]]\n",
      "              precision    recall  f1-score   support\n",
      "\n",
      "           0       0.65      0.99      0.79       113\n",
      "           1       0.86      0.09      0.16        66\n",
      "\n",
      "    accuracy                           0.66       179\n",
      "   macro avg       0.75      0.54      0.48       179\n",
      "weighted avg       0.73      0.66      0.56       179\n",
      "\n"
     ]
    }
   ],
   "source": [
    "from sklearn.linear_model import LogisticRegression\n",
    "LR=LogisticRegression()\n",
    "LR.fit(X_train,Y_train) \n",
    "predlr=LR.predict(X_test)\n",
    "print(\"Accuracy\",accuracy_score(Y_test,predlr)*100)\n",
    "print(confusion_matrix(Y_test,predlr))\n",
    "print(classification_report(Y_test,predlr))\n",
    "\n",
    "from sklearn.tree import DecisionTreeClassifier\n",
    "\n",
    "dt=DecisionTreeClassifier()\n",
    "dt.fit(X_train,Y_train) \n",
    "preddt=dt.predict(X_test)\n",
    "print(\"Accuracy\",accuracy_score(Y_test,preddt)*100)\n",
    "print(confusion_matrix(Y_test,preddt))\n",
    "print(classification_report(Y_test,preddt))\n",
    "\n",
    "from sklearn.ensemble import RandomForestClassifier\n",
    "rf=RandomForestClassifier()\n",
    "rf.fit(X_train,Y_train) \n",
    "predrf=rf.predict(X_test)\n",
    "print(\"Accuracy\",accuracy_score(Y_test,predrf)*100)\n",
    "print(confusion_matrix(Y_test,predrf))\n",
    "print(classification_report(Y_test,predrf))\n",
    "\n",
    "\n",
    "from sklearn.svm import SVC\n",
    "svc=SVC()\n",
    "svc.fit(X_train,Y_train) \n",
    "predsvc=svc.predict(X_test)\n",
    "print(\"Accuracy\",accuracy_score(Y_test,predsvc)*100)\n",
    "print(confusion_matrix(Y_test,predsvc))\n",
    "print(classification_report(Y_test,predsvc))\n",
    "\n",
    "from sklearn.neighbors import KNeighborsClassifier\n",
    "KN=KNeighborsClassifier()\n",
    "KN.fit(X_train,Y_train) \n",
    "predKN=svc.predict(X_test)\n",
    "print(\"Accuracy\",accuracy_score(Y_test,predKN)*100)\n",
    "print(confusion_matrix(Y_test,predKN))\n",
    "print(classification_report(Y_test,predKN))\n",
    "\n",
    "from sklearn.naive_bayes import GaussianNB\n",
    "GNB=KNeighborsClassifier()\n",
    "GNB.fit(X_train,Y_train) \n",
    "predGNB=svc.predict(X_test)\n",
    "print(\"Accuracy\",accuracy_score(Y_test,predGNB)*100)\n",
    "print(confusion_matrix(Y_test,predGNB))\n",
    "print(classification_report(Y_test,predGNB))\n",
    "\n"
   ]
  },
  {
   "cell_type": "markdown",
   "id": "00dc40c6",
   "metadata": {},
   "source": [
    "# Comparision of all classifiers values with Cross validation"
   ]
  },
  {
   "cell_type": "code",
   "execution_count": 68,
   "id": "db7700a0",
   "metadata": {},
   "outputs": [
    {
     "name": "stdout",
     "output_type": "stream",
     "text": [
      "Cross Validation score of Logistic Regresssion model :  0.8013493404118404\n",
      "Cross Validation score of Decision Tree Classifier :  0.7879564832689833\n",
      "Cross Validation score of Random Forest Classifier :  0.801429777992278\n",
      "Cross Validation score of SVC :  0.6364221364221364\n",
      "Cross Validation score of KNeighbors classifier :  0.7700289575289575\n",
      "Cross Validation score of GaussianNB :  0.7700289575289575\n"
     ]
    }
   ],
   "source": [
    "from sklearn.model_selection import cross_val_score\n",
    "\n",
    "scr1=cross_val_score(LR,X,Y,cv=8)\n",
    "scr2=cross_val_score(dt,X,Y,cv=8)\n",
    "scr3=cross_val_score(rf,X,Y,cv=8)\n",
    "scr4=cross_val_score(svc,X,Y,cv=8)\n",
    "scr5=cross_val_score(KN,X,Y,cv=8)\n",
    "scr6=cross_val_score(GNB,X,Y,cv=8)\n",
    "\n",
    "\n",
    "print(\"Cross Validation score of Logistic Regresssion model : \",scr1.mean())\n",
    "print(\"Cross Validation score of Decision Tree Classifier : \",scr2.mean())\n",
    "print(\"Cross Validation score of Random Forest Classifier : \",scr3.mean())\n",
    "print(\"Cross Validation score of SVC : \",scr4.mean())\n",
    "print(\"Cross Validation score of KNeighbors classifier : \",scr5.mean())\n",
    "print(\"Cross Validation score of GaussianNB : \",scr6.mean())\n",
    "\n",
    "\n"
   ]
  },
  {
   "cell_type": "markdown",
   "id": "5e3177a2",
   "metadata": {},
   "source": [
    "# Hyper Parameter tunning"
   ]
  },
  {
   "cell_type": "code",
   "execution_count": 69,
   "id": "54b45d60",
   "metadata": {},
   "outputs": [
    {
     "data": {
      "text/plain": [
       "RandomForestClassifier()"
      ]
     },
     "execution_count": 69,
     "metadata": {},
     "output_type": "execute_result"
    }
   ],
   "source": [
    "RandomForestClassifier()"
   ]
  },
  {
   "cell_type": "code",
   "execution_count": 70,
   "id": "72839c8c",
   "metadata": {},
   "outputs": [],
   "source": [
    "from sklearn.model_selection import GridSearchCV\n",
    "\n",
    "## creating parameter list to pass in GridSearchCv\n",
    "\n",
    "parameters= {'max_features':['auto','sqrt','log2'],\n",
    "            'max_depth':[4,5,6,7,8],\n",
    "            'criterion':['gini','entropy']}"
   ]
  },
  {
   "cell_type": "code",
   "execution_count": 71,
   "id": "e3050a37",
   "metadata": {},
   "outputs": [
    {
     "data": {
      "text/plain": [
       "{'criterion': 'gini', 'max_depth': 4, 'max_features': 'auto'}"
      ]
     },
     "execution_count": 71,
     "metadata": {},
     "output_type": "execute_result"
    }
   ],
   "source": [
    "GCV=GridSearchCV(RandomForestClassifier(),parameters,cv=8,scoring=\"accuracy\")\n",
    "GCV.fit(X_train,Y_train)  ## fitiing the data in model\n",
    "GCV.best_params_   ## Printing the best parameter found by GridSearchCV"
   ]
  },
  {
   "cell_type": "code",
   "execution_count": 72,
   "id": "d9ce9866",
   "metadata": {},
   "outputs": [
    {
     "data": {
      "text/plain": [
       "sklearn.model_selection._search.GridSearchCV"
      ]
     },
     "execution_count": 72,
     "metadata": {},
     "output_type": "execute_result"
    }
   ],
   "source": [
    "type(GCV)"
   ]
  },
  {
   "cell_type": "code",
   "execution_count": 73,
   "id": "9ea66dbf",
   "metadata": {},
   "outputs": [
    {
     "data": {
      "text/plain": [
       "RandomForestClassifier(max_depth=4)"
      ]
     },
     "execution_count": 73,
     "metadata": {},
     "output_type": "execute_result"
    }
   ],
   "source": [
    "GCV.best_estimator_"
   ]
  },
  {
   "cell_type": "code",
   "execution_count": 74,
   "id": "7e6c46e0",
   "metadata": {},
   "outputs": [
    {
     "data": {
      "text/plain": [
       "0.8659217877094972"
      ]
     },
     "execution_count": 74,
     "metadata": {},
     "output_type": "execute_result"
    }
   ],
   "source": [
    "GCV_pred=GCV.best_estimator_.predict(X_test)   ## predicting with best parameters\n",
    "accuracy_score(Y_test,GCV_pred) ## Checking final accuracy"
   ]
  },
  {
   "cell_type": "markdown",
   "id": "d6255556",
   "metadata": {},
   "source": [
    "# ROC AUC PLOT"
   ]
  },
  {
   "cell_type": "code",
   "execution_count": 75,
   "id": "26e0df60",
   "metadata": {},
   "outputs": [
    {
     "data": {
      "image/png": "[encoded data removed]",
      "text/plain": [
       "<Figure size 432x288 with 1 Axes>"
      ]
     },
     "metadata": {
      "needs_background": "light"
     },
     "output_type": "display_data"
    }
   ],
   "source": [
    "from sklearn.metrics import plot_roc_curve\n",
    "plot_roc_curve(GCV.best_estimator_,X_test,Y_test)\n",
    "plt.title(\"ROC AUC PLOT\")\n",
    "plt.show()"
   ]
  },
  {
   "cell_type": "markdown",
   "id": "bedfc141",
   "metadata": {},
   "source": [
    "# Random classifier & Logistic regression are the best model for this dataset. "
   ]
  },
  {
   "cell_type": "markdown",
   "id": "83bf083c",
   "metadata": {},
   "source": [
    "# Saving the model in pickle format"
   ]
  },
  {
   "cell_type": "code",
   "execution_count": 77,
   "id": "e2eae3c6",
   "metadata": {},
   "outputs": [
    {
     "data": {
      "text/plain": [
       "['Titanic.pkl']"
      ]
     },
     "execution_count": 77,
     "metadata": {},
     "output_type": "execute_result"
    }
   ],
   "source": [
    "## PICKeling of file or serialization of a file\n",
    "\n",
    "import joblib\n",
    "joblib.dump(GCV.best_estimator_,\"Titanic.pkl\")"
   ]
  },
  {
   "cell_type": "markdown",
   "id": "fd0f32ae",
   "metadata": {},
   "source": [
    "# Observation : If i remove the outlier from the dataset so i get less accuracy (~77.0%). I didnot remove outlier to get higher accuracy.    "
   ]
  },
  {
   "cell_type": "code",
   "execution_count": null,
   "id": "a5d607d1",
   "metadata": {},
   "outputs": [],
   "source": []
  }
 ],
 "metadata": {
  "kernelspec": {
   "display_name": "Python 3 (ipykernel)",
   "language": "python",
   "name": "python3"
  },
  "language_info": {
   "codemirror_mode": {
    "name": "ipython",
    "version": 3
   },
   "file_extension": ".py",
   "mimetype": "text/x-python",
   "name": "python",
   "nbconvert_exporter": "python",
   "pygments_lexer": "ipython3",
   "version": "3.9.7"
  }
 },
 "nbformat": 4,
 "nbformat_minor": 5
}

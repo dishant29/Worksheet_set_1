{
 "cells": [
  {
   "cell_type": "code",
   "execution_count": null,
   "id": "48349588",
   "metadata": {},
   "outputs": [],
   "source": [
    "! pip install selenium"
   ]
  },
  {
   "cell_type": "code",
   "execution_count": 2,
   "id": "210505a8",
   "metadata": {},
   "outputs": [],
   "source": [
    "import selenium\n",
    "import pandas as pd\n",
    "from selenium import webdriver\n",
    "import warnings\n",
    "warnings.filterwarnings(\"ignore\")\n",
    "import time"
   ]
  },
  {
   "cell_type": "markdown",
   "id": "a4b8b270",
   "metadata": {},
   "source": [
    "Q1: Write a python program to scrape data for “Data Analyst” Job position in “Bangalore” location. You\n",
    "have to scrape the job-title, job-location, company_name, experience_required. You have to scrape first 10\n",
    "jobs data.\n",
    "Ans. "
   ]
  },
  {
   "cell_type": "code",
   "execution_count": 3,
   "id": "c4138cec",
   "metadata": {},
   "outputs": [],
   "source": [
    "driver = webdriver.Chrome(r\"C:\\Users\\Toshiba\\chromedriver.exe\")"
   ]
  },
  {
   "cell_type": "code",
   "execution_count": 4,
   "id": "07aff093",
   "metadata": {},
   "outputs": [],
   "source": [
    "driver = webdriver.Chrome(\"chromedriver.exe\")\n",
    "time.sleep(2)"
   ]
  },
  {
   "cell_type": "code",
   "execution_count": 5,
   "id": "7edc9884",
   "metadata": {},
   "outputs": [],
   "source": [
    "driver.get('https://www.naukri.com/')"
   ]
  },
  {
   "cell_type": "code",
   "execution_count": 6,
   "id": "99e4b5c4",
   "metadata": {},
   "outputs": [],
   "source": [
    "search_field_designation=driver.find_element_by_class_name(\"suggestor-input\")\n",
    "search_field_designation.send_keys(\"Data Analyst\")"
   ]
  },
  {
   "cell_type": "code",
   "execution_count": 7,
   "id": "807023ac",
   "metadata": {},
   "outputs": [],
   "source": [
    "search_field_loc=driver.find_element_by_class_name(\"suggestor-input \")\n",
    "search_field_loc.send_keys(\"Banglore\")"
   ]
  },
  {
   "cell_type": "code",
   "execution_count": 8,
   "id": "b3b1fc0e",
   "metadata": {},
   "outputs": [],
   "source": [
    "search_field_location=driver.find_element_by_xpath(\"/html/body/div/div[2]/div[3]/div/div/div[3]/div/div/div/input\")\n",
    "search_field_location.send_keys(\"Banglore\")"
   ]
  },
  {
   "cell_type": "code",
   "execution_count": 9,
   "id": "081865f7",
   "metadata": {},
   "outputs": [],
   "source": [
    "job_titles=[]\n",
    "company_names=[]\n",
    "locations_list=[]\n",
    "experience_list=[]"
   ]
  },
  {
   "cell_type": "code",
   "execution_count": 10,
   "id": "583ea9d2",
   "metadata": {},
   "outputs": [
    {
     "data": {
      "text/plain": [
       "[<selenium.webdriver.remote.webelement.WebElement (session=\"a7fe7fd4dcf7b400a299f26dc35e3f41\", element=\"eafb350a-5a26-455f-b45b-5e24badb9158\")>,\n",
       " <selenium.webdriver.remote.webelement.WebElement (session=\"a7fe7fd4dcf7b400a299f26dc35e3f41\", element=\"7b49d488-c1f7-4269-bde6-825d604f62f7\")>,\n",
       " <selenium.webdriver.remote.webelement.WebElement (session=\"a7fe7fd4dcf7b400a299f26dc35e3f41\", element=\"996a282d-387c-4bab-9eb2-ae8d86e07670\")>,\n",
       " <selenium.webdriver.remote.webelement.WebElement (session=\"a7fe7fd4dcf7b400a299f26dc35e3f41\", element=\"d04fbebd-02ce-4891-bc72-b365ac32f1dc\")>]"
      ]
     },
     "execution_count": 10,
     "metadata": {},
     "output_type": "execute_result"
    }
   ],
   "source": [
    "titles_tags=driver.find_elements_by_xpath(\"//a[@class='title fw500 ellipsis']\")\n",
    "titles_tags[0:4]"
   ]
  },
  {
   "cell_type": "code",
   "execution_count": 11,
   "id": "d13205e8",
   "metadata": {},
   "outputs": [
    {
     "data": {
      "text/plain": [
       "['Business and Data Analyst',\n",
       " 'Senior Data Analyst',\n",
       " 'Jr . Data Analyst',\n",
       " 'Officer - Category Demand Management ( Data Analyst)']"
      ]
     },
     "execution_count": 11,
     "metadata": {},
     "output_type": "execute_result"
    }
   ],
   "source": [
    "for i in titles_tags:\n",
    "    title=i.text\n",
    "    job_titles.append(title)\n",
    "job_titles[0:4]"
   ]
  },
  {
   "cell_type": "code",
   "execution_count": 12,
   "id": "ee0e836c",
   "metadata": {},
   "outputs": [
    {
     "data": {
      "text/plain": [
       "[<selenium.webdriver.remote.webelement.WebElement (session=\"a7fe7fd4dcf7b400a299f26dc35e3f41\", element=\"0c71abe1-7144-454a-a2a5-fdc4530c6e62\")>,\n",
       " <selenium.webdriver.remote.webelement.WebElement (session=\"a7fe7fd4dcf7b400a299f26dc35e3f41\", element=\"1ca5744a-54ac-4a43-8ea1-2482dfc9809e\")>,\n",
       " <selenium.webdriver.remote.webelement.WebElement (session=\"a7fe7fd4dcf7b400a299f26dc35e3f41\", element=\"6d3bb38d-37ae-4693-bda6-2afa9dd77d6c\")>,\n",
       " <selenium.webdriver.remote.webelement.WebElement (session=\"a7fe7fd4dcf7b400a299f26dc35e3f41\", element=\"87ed3fd7-7855-4c81-ad59-bb3dec466dc5\")>]"
      ]
     },
     "execution_count": 12,
     "metadata": {},
     "output_type": "execute_result"
    }
   ],
   "source": [
    "companies_tags=driver.find_elements_by_xpath(\"//a[@class='subTitle ellipsis fleft']\")\n",
    "companies_tags[0:4]"
   ]
  },
  {
   "cell_type": "code",
   "execution_count": 13,
   "id": "8afabb12",
   "metadata": {},
   "outputs": [
    {
     "data": {
      "text/plain": [
       "['CAREERDOST ENTERPRISE', 'Gsn Games India', 'Armorblox', 'Myntra']"
      ]
     },
     "execution_count": 13,
     "metadata": {},
     "output_type": "execute_result"
    }
   ],
   "source": [
    "for i in companies_tags:\n",
    "    company_name=i.text\n",
    "    company_names.append(company_name)\n",
    "company_names[0:4]"
   ]
  },
  {
   "cell_type": "code",
   "execution_count": 14,
   "id": "54db2956",
   "metadata": {},
   "outputs": [
    {
     "data": {
      "text/plain": [
       "[<selenium.webdriver.remote.webelement.WebElement (session=\"a7fe7fd4dcf7b400a299f26dc35e3f41\", element=\"0b9cbd1a-b753-49d1-b42b-33d4e7f7b8f5\")>,\n",
       " <selenium.webdriver.remote.webelement.WebElement (session=\"a7fe7fd4dcf7b400a299f26dc35e3f41\", element=\"b5c2ac0a-ad5a-4e57-9d95-46eba62270ab\")>,\n",
       " <selenium.webdriver.remote.webelement.WebElement (session=\"a7fe7fd4dcf7b400a299f26dc35e3f41\", element=\"c660c968-11ce-4e4e-84f6-121777ce0952\")>,\n",
       " <selenium.webdriver.remote.webelement.WebElement (session=\"a7fe7fd4dcf7b400a299f26dc35e3f41\", element=\"b866c059-0a19-4218-9eaf-6ed8a38362f3\")>]"
      ]
     },
     "execution_count": 14,
     "metadata": {},
     "output_type": "execute_result"
    }
   ],
   "source": [
    "experience_tags=driver.find_elements_by_xpath(\"//li[@class='fleft grey-text br2 placeHolderLi experience']/span\")\n",
    "experience_tags[0:4]"
   ]
  },
  {
   "cell_type": "code",
   "execution_count": 15,
   "id": "535c6c0f",
   "metadata": {},
   "outputs": [
    {
     "data": {
      "text/plain": [
       "['0-5 Yrs', '3-7 Yrs', '0-2 Yrs', '1-4 Yrs']"
      ]
     },
     "execution_count": 15,
     "metadata": {},
     "output_type": "execute_result"
    }
   ],
   "source": [
    "for i in experience_tags:\n",
    "    experience=i.text\n",
    "    experience_list.append(experience)\n",
    "experience_list[0:4]"
   ]
  },
  {
   "cell_type": "code",
   "execution_count": 16,
   "id": "515e2de3",
   "metadata": {},
   "outputs": [
    {
     "data": {
      "text/plain": [
       "[<selenium.webdriver.remote.webelement.WebElement (session=\"a7fe7fd4dcf7b400a299f26dc35e3f41\", element=\"a1df073a-e2f6-4180-b6d0-791fb7b578b5\")>,\n",
       " <selenium.webdriver.remote.webelement.WebElement (session=\"a7fe7fd4dcf7b400a299f26dc35e3f41\", element=\"ada965dc-da51-48d6-a7e1-08ce2985822f\")>,\n",
       " <selenium.webdriver.remote.webelement.WebElement (session=\"a7fe7fd4dcf7b400a299f26dc35e3f41\", element=\"2f5e97d1-306a-4b91-98e5-c0d79d7616e6\")>,\n",
       " <selenium.webdriver.remote.webelement.WebElement (session=\"a7fe7fd4dcf7b400a299f26dc35e3f41\", element=\"8f06c536-a2af-45f8-b44a-661fcc9e39c7\")>]"
      ]
     },
     "execution_count": 16,
     "metadata": {},
     "output_type": "execute_result"
    }
   ],
   "source": [
    "location_tags=driver.find_elements_by_xpath(\"//li[@class='fleft grey-text br2 placeHolderLi location']/span[1]\")\n",
    "location_tags[0:4]"
   ]
  },
  {
   "cell_type": "code",
   "execution_count": 17,
   "id": "600792c6",
   "metadata": {},
   "outputs": [
    {
     "data": {
      "text/plain": [
       "['Bangalore/Bengaluru',\n",
       " 'Bangalore/Bengaluru',\n",
       " 'Bangalore/Bengaluru',\n",
       " 'Bangalore/Bengaluru']"
      ]
     },
     "execution_count": 17,
     "metadata": {},
     "output_type": "execute_result"
    }
   ],
   "source": [
    "for i in location_tags:\n",
    "    location=i.text\n",
    "    locations_list.append(location)\n",
    "locations_list[0:4]"
   ]
  },
  {
   "cell_type": "code",
   "execution_count": 18,
   "id": "111ab049",
   "metadata": {},
   "outputs": [
    {
     "name": "stdout",
     "output_type": "stream",
     "text": [
      "20 20 20 20\n"
     ]
    }
   ],
   "source": [
    "print(len(job_titles),len(company_names),len(experience_list),len(locations_list))"
   ]
  },
  {
   "cell_type": "code",
   "execution_count": 20,
   "id": "3d66bf07",
   "metadata": {},
   "outputs": [],
   "source": [
    "jobs=pd.DataFrame({})\n",
    "jobs['title']=job_titles\n",
    "jobs['company']=company_names\n",
    "jobs['experience_required']=experience_list\n",
    "jobs['location']=locations_list"
   ]
  },
  {
   "cell_type": "code",
   "execution_count": 21,
   "id": "0d2973ba",
   "metadata": {},
   "outputs": [
    {
     "data": {
      "text/html": [
       "<div>\n",
       "<style scoped>\n",
       "    .dataframe tbody tr th:only-of-type {\n",
       "        vertical-align: middle;\n",
       "    }\n",
       "\n",
       "    .dataframe tbody tr th {\n",
       "        vertical-align: top;\n",
       "    }\n",
       "\n",
       "    .dataframe thead th {\n",
       "        text-align: right;\n",
       "    }\n",
       "</style>\n",
       "<table border=\"1\" class=\"dataframe\">\n",
       "  <thead>\n",
       "    <tr style=\"text-align: right;\">\n",
       "      <th></th>\n",
       "      <th>title</th>\n",
       "      <th>company</th>\n",
       "      <th>experience_required</th>\n",
       "      <th>location</th>\n",
       "    </tr>\n",
       "  </thead>\n",
       "  <tbody>\n",
       "    <tr>\n",
       "      <th>0</th>\n",
       "      <td>Business and Data Analyst</td>\n",
       "      <td>CAREERDOST ENTERPRISE</td>\n",
       "      <td>0-5 Yrs</td>\n",
       "      <td>Bangalore/Bengaluru</td>\n",
       "    </tr>\n",
       "    <tr>\n",
       "      <th>1</th>\n",
       "      <td>Senior Data Analyst</td>\n",
       "      <td>Gsn Games India</td>\n",
       "      <td>3-7 Yrs</td>\n",
       "      <td>Bangalore/Bengaluru</td>\n",
       "    </tr>\n",
       "    <tr>\n",
       "      <th>2</th>\n",
       "      <td>Jr . Data Analyst</td>\n",
       "      <td>Armorblox</td>\n",
       "      <td>0-2 Yrs</td>\n",
       "      <td>Bangalore/Bengaluru</td>\n",
       "    </tr>\n",
       "    <tr>\n",
       "      <th>3</th>\n",
       "      <td>Officer - Category Demand Management ( Data An...</td>\n",
       "      <td>Myntra</td>\n",
       "      <td>1-4 Yrs</td>\n",
       "      <td>Bangalore/Bengaluru</td>\n",
       "    </tr>\n",
       "    <tr>\n",
       "      <th>4</th>\n",
       "      <td>Software Technologist II - Data Analyst</td>\n",
       "      <td>Philips</td>\n",
       "      <td>5-8 Yrs</td>\n",
       "      <td>Bangalore/Bengaluru</td>\n",
       "    </tr>\n",
       "    <tr>\n",
       "      <th>5</th>\n",
       "      <td>SAS Analyst / data Analyst / Business analyst ...</td>\n",
       "      <td>Leading US MNC into analytics</td>\n",
       "      <td>2-7 Yrs</td>\n",
       "      <td>Bangalore/Bengaluru, Delhi / NCR, Mumbai (All ...</td>\n",
       "    </tr>\n",
       "    <tr>\n",
       "      <th>6</th>\n",
       "      <td>Sr Data Analyst</td>\n",
       "      <td>TECHNODYSIS PRIVATE LIMITED</td>\n",
       "      <td>6-10 Yrs</td>\n",
       "      <td>Hyderabad/Secunderabad, Pune, Chennai, Bangalo...</td>\n",
       "    </tr>\n",
       "    <tr>\n",
       "      <th>7</th>\n",
       "      <td>Senior Data Analyst</td>\n",
       "      <td>ClearTrail Technologies</td>\n",
       "      <td>4-8 Yrs</td>\n",
       "      <td>Noida, Indore, Hyderabad/Secunderabad, Pune, G...</td>\n",
       "    </tr>\n",
       "    <tr>\n",
       "      <th>8</th>\n",
       "      <td>Data Analyst</td>\n",
       "      <td>Malayala Manorama</td>\n",
       "      <td>2-7 Yrs</td>\n",
       "      <td>Chennai, Bangalore/Bengaluru, kerala</td>\n",
       "    </tr>\n",
       "    <tr>\n",
       "      <th>9</th>\n",
       "      <td>Data Analyst II</td>\n",
       "      <td>Cerner</td>\n",
       "      <td>6-10 Yrs</td>\n",
       "      <td>Bangalore/Bengaluru</td>\n",
       "    </tr>\n",
       "    <tr>\n",
       "      <th>10</th>\n",
       "      <td>Senior Data Analyst II</td>\n",
       "      <td>Flipkart</td>\n",
       "      <td>2-4 Yrs</td>\n",
       "      <td>Bangalore/Bengaluru</td>\n",
       "    </tr>\n",
       "    <tr>\n",
       "      <th>11</th>\n",
       "      <td>Senior Data Analyst II</td>\n",
       "      <td>Flipkart</td>\n",
       "      <td>3-6 Yrs</td>\n",
       "      <td>Bangalore/Bengaluru</td>\n",
       "    </tr>\n",
       "    <tr>\n",
       "      <th>12</th>\n",
       "      <td>Consultant - Data Analyst</td>\n",
       "      <td>Jobs Territory</td>\n",
       "      <td>0-2 Yrs</td>\n",
       "      <td>Bangalore/Bengaluru, Delhi / NCR, Mumbai (All ...</td>\n",
       "    </tr>\n",
       "    <tr>\n",
       "      <th>13</th>\n",
       "      <td>Data Analyst / Business Analyst</td>\n",
       "      <td>Search Advisers Services ( GUJ ) Pvt. Ltd.</td>\n",
       "      <td>4-9 Yrs</td>\n",
       "      <td>Bangalore/Bengaluru</td>\n",
       "    </tr>\n",
       "    <tr>\n",
       "      <th>14</th>\n",
       "      <td>Senior Data Analyst - Logistics</td>\n",
       "      <td>Gojek</td>\n",
       "      <td>4-10 Yrs</td>\n",
       "      <td>Bangalore/Bengaluru</td>\n",
       "    </tr>\n",
       "    <tr>\n",
       "      <th>15</th>\n",
       "      <td>Data Analyst I</td>\n",
       "      <td>Bioclinica</td>\n",
       "      <td>0-3 Yrs</td>\n",
       "      <td>Bangalore/Bengaluru</td>\n",
       "    </tr>\n",
       "    <tr>\n",
       "      <th>16</th>\n",
       "      <td>Senior Data Analyst</td>\n",
       "      <td>Shell</td>\n",
       "      <td>10-12 Yrs</td>\n",
       "      <td>Bangalore/Bengaluru</td>\n",
       "    </tr>\n",
       "    <tr>\n",
       "      <th>17</th>\n",
       "      <td>Senior Data Analyst (Digital Services Analytics)</td>\n",
       "      <td>Dell Technologies</td>\n",
       "      <td>1-6 Yrs</td>\n",
       "      <td>Bangalore/Bengaluru</td>\n",
       "    </tr>\n",
       "    <tr>\n",
       "      <th>18</th>\n",
       "      <td>Senior Data Analyst, Data &amp; Analytics</td>\n",
       "      <td>ReSource Pro Operational Solutions Pvt Ltd.</td>\n",
       "      <td>3-5 Yrs</td>\n",
       "      <td>Bangalore/Bengaluru</td>\n",
       "    </tr>\n",
       "    <tr>\n",
       "      <th>19</th>\n",
       "      <td>Lead Data Analyst - Risk Analytics</td>\n",
       "      <td>Gojek</td>\n",
       "      <td>5-11 Yrs</td>\n",
       "      <td>Bangalore/Bengaluru</td>\n",
       "    </tr>\n",
       "  </tbody>\n",
       "</table>\n",
       "</div>"
      ],
      "text/plain": [
       "                                                title  \\\n",
       "0                           Business and Data Analyst   \n",
       "1                                 Senior Data Analyst   \n",
       "2                                   Jr . Data Analyst   \n",
       "3   Officer - Category Demand Management ( Data An...   \n",
       "4             Software Technologist II - Data Analyst   \n",
       "5   SAS Analyst / data Analyst / Business analyst ...   \n",
       "6                                     Sr Data Analyst   \n",
       "7                                 Senior Data Analyst   \n",
       "8                                        Data Analyst   \n",
       "9                                     Data Analyst II   \n",
       "10                             Senior Data Analyst II   \n",
       "11                             Senior Data Analyst II   \n",
       "12                          Consultant - Data Analyst   \n",
       "13                    Data Analyst / Business Analyst   \n",
       "14                    Senior Data Analyst - Logistics   \n",
       "15                                     Data Analyst I   \n",
       "16                                Senior Data Analyst   \n",
       "17   Senior Data Analyst (Digital Services Analytics)   \n",
       "18              Senior Data Analyst, Data & Analytics   \n",
       "19                 Lead Data Analyst - Risk Analytics   \n",
       "\n",
       "                                        company experience_required  \\\n",
       "0                         CAREERDOST ENTERPRISE             0-5 Yrs   \n",
       "1                               Gsn Games India             3-7 Yrs   \n",
       "2                                     Armorblox             0-2 Yrs   \n",
       "3                                        Myntra             1-4 Yrs   \n",
       "4                                       Philips             5-8 Yrs   \n",
       "5                 Leading US MNC into analytics             2-7 Yrs   \n",
       "6                   TECHNODYSIS PRIVATE LIMITED            6-10 Yrs   \n",
       "7                       ClearTrail Technologies             4-8 Yrs   \n",
       "8                             Malayala Manorama             2-7 Yrs   \n",
       "9                                        Cerner            6-10 Yrs   \n",
       "10                                     Flipkart             2-4 Yrs   \n",
       "11                                     Flipkart             3-6 Yrs   \n",
       "12                               Jobs Territory             0-2 Yrs   \n",
       "13   Search Advisers Services ( GUJ ) Pvt. Ltd.             4-9 Yrs   \n",
       "14                                        Gojek            4-10 Yrs   \n",
       "15                                   Bioclinica             0-3 Yrs   \n",
       "16                                        Shell           10-12 Yrs   \n",
       "17                            Dell Technologies             1-6 Yrs   \n",
       "18  ReSource Pro Operational Solutions Pvt Ltd.             3-5 Yrs   \n",
       "19                                        Gojek            5-11 Yrs   \n",
       "\n",
       "                                             location  \n",
       "0                                 Bangalore/Bengaluru  \n",
       "1                                 Bangalore/Bengaluru  \n",
       "2                                 Bangalore/Bengaluru  \n",
       "3                                 Bangalore/Bengaluru  \n",
       "4                                 Bangalore/Bengaluru  \n",
       "5   Bangalore/Bengaluru, Delhi / NCR, Mumbai (All ...  \n",
       "6   Hyderabad/Secunderabad, Pune, Chennai, Bangalo...  \n",
       "7   Noida, Indore, Hyderabad/Secunderabad, Pune, G...  \n",
       "8                Chennai, Bangalore/Bengaluru, kerala  \n",
       "9                                 Bangalore/Bengaluru  \n",
       "10                                Bangalore/Bengaluru  \n",
       "11                                Bangalore/Bengaluru  \n",
       "12  Bangalore/Bengaluru, Delhi / NCR, Mumbai (All ...  \n",
       "13                                Bangalore/Bengaluru  \n",
       "14                                Bangalore/Bengaluru  \n",
       "15                                Bangalore/Bengaluru  \n",
       "16                                Bangalore/Bengaluru  \n",
       "17                                Bangalore/Bengaluru  \n",
       "18                                Bangalore/Bengaluru  \n",
       "19                                Bangalore/Bengaluru  "
      ]
     },
     "execution_count": 21,
     "metadata": {},
     "output_type": "execute_result"
    }
   ],
   "source": [
    "jobs"
   ]
  },
  {
   "cell_type": "code",
   "execution_count": 22,
   "id": "fa4db80c",
   "metadata": {},
   "outputs": [],
   "source": [
    "driver.close()"
   ]
  },
  {
   "cell_type": "raw",
   "id": "b47a85ef",
   "metadata": {},
   "source": [
    "Q2: Write a python program to scrape data for “Data Scientist” Job position in “Bangalore” location. You\n",
    "have to scrape the job-title, job-location, company_name. You have to scrape first 10 jobs data.\n",
    "This task will be done in following steps:\n",
    "1. First get the webpage https://www.naukri.com/\n",
    "2. Enter “Data Scientist” in “Skill, Designations, Companies” field and enter “Bangalore” in “enter the\n",
    "location” field.\n",
    "3. Then click the search button.\n",
    "4. Then scrape the data for the first 10 jobs results you get.\n",
    "5. Finally create a dataframe of the scraped data."
   ]
  },
  {
   "cell_type": "code",
   "execution_count": 35,
   "id": "9ddd898f",
   "metadata": {},
   "outputs": [],
   "source": [
    "driver = webdriver.Chrome(r\"C:\\Users\\Toshiba\\chromedriver.exe\")"
   ]
  },
  {
   "cell_type": "code",
   "execution_count": 36,
   "id": "423ac717",
   "metadata": {},
   "outputs": [],
   "source": [
    "driver = webdriver.Chrome(\"chromedriver.exe\")\n",
    "time.sleep(2)"
   ]
  },
  {
   "cell_type": "code",
   "execution_count": 37,
   "id": "5a50719f",
   "metadata": {},
   "outputs": [],
   "source": [
    "driver.get('https://www.naukri.com/')"
   ]
  },
  {
   "cell_type": "code",
   "execution_count": 38,
   "id": "573c176e",
   "metadata": {},
   "outputs": [],
   "source": [
    "search_field_designation1=driver.find_element_by_class_name(\"suggestor-input \")\n",
    "search_field_designation1.send_keys(\"Data Scientist\")"
   ]
  },
  {
   "cell_type": "code",
   "execution_count": 39,
   "id": "8968415c",
   "metadata": {},
   "outputs": [],
   "source": [
    "search_field_loc1=driver.find_element_by_class_name(\"suggestor-input\")\n",
    "search_field_loc1.send_keys(\"Banglore\")"
   ]
  },
  {
   "cell_type": "code",
   "execution_count": 40,
   "id": "ec8b2963",
   "metadata": {},
   "outputs": [],
   "source": [
    "search_field_location1=driver.find_element_by_xpath(\"/html/body/div/div[2]/div[3]/div/div/div[3]/div/div/div/input\")\n",
    "search_field_location1.send_keys(\"Banglore\")"
   ]
  },
  {
   "cell_type": "code",
   "execution_count": 41,
   "id": "d25bc998",
   "metadata": {},
   "outputs": [],
   "source": [
    "job_titles1=[]\n",
    "company_names1=[]\n",
    "locations_list1=[]\n",
    "experience_list1=[]"
   ]
  },
  {
   "cell_type": "code",
   "execution_count": null,
   "id": "94789585",
   "metadata": {},
   "outputs": [],
   "source": [
    "titles_tags1=driver.find_elements_by_xpath(\"//a[@class='title fw500 ellipsis']\")\n",
    "titles_tags1[0:10]"
   ]
  },
  {
   "cell_type": "code",
   "execution_count": 44,
   "id": "0b2d503a",
   "metadata": {},
   "outputs": [
    {
     "data": {
      "text/plain": [
       "['Senior Data Scientist',\n",
       " 'Senior Associate - Data Scientist',\n",
       " 'Data Scientist',\n",
       " 'Staff Data Scientist',\n",
       " 'Job Opening with Wipro For Data Scientist - SAS',\n",
       " 'Data Scientist',\n",
       " 'Senior Data Scientist -Python+ML(5-7 years)',\n",
       " 'Senior Data Scientist',\n",
       " 'Data Scientist',\n",
       " 'Senior Data Scientist (IN4)']"
      ]
     },
     "execution_count": 44,
     "metadata": {},
     "output_type": "execute_result"
    }
   ],
   "source": [
    "for i in titles_tags1:\n",
    "    title=i.text\n",
    "    job_titles1.append(title)\n",
    "job_titles1[0:10]"
   ]
  },
  {
   "cell_type": "code",
   "execution_count": null,
   "id": "8224ae68",
   "metadata": {},
   "outputs": [],
   "source": [
    "companies_tags=driver.find_elements_by_xpath(\"//a[@class='subTitle ellipsis fleft']\")\n",
    "companies_tags[0:10]"
   ]
  },
  {
   "cell_type": "code",
   "execution_count": 46,
   "id": "845fd8e8",
   "metadata": {},
   "outputs": [
    {
     "data": {
      "text/plain": [
       "['Walmart',\n",
       " 'Affine',\n",
       " 'Applied Materials',\n",
       " 'Walmart',\n",
       " 'Wipro',\n",
       " 'CRED',\n",
       " 'Knowledge Foundry Business Solutions Pvt. Ltd.',\n",
       " 'Course5',\n",
       " 'Ashkom Media India Private Limited',\n",
       " 'Walmart']"
      ]
     },
     "execution_count": 46,
     "metadata": {},
     "output_type": "execute_result"
    }
   ],
   "source": [
    "for i in companies_tags:\n",
    "    company_name=i.text\n",
    "    company_names1.append(company_name)\n",
    "company_names1[0:10]"
   ]
  },
  {
   "cell_type": "code",
   "execution_count": null,
   "id": "8b409ac3",
   "metadata": {},
   "outputs": [],
   "source": [
    "experience_tags=driver.find_elements_by_xpath(\"//li[@class='fleft grey-text br2 placeHolderLi experience']/span\")\n",
    "experience_tags[0:10]"
   ]
  },
  {
   "cell_type": "code",
   "execution_count": 48,
   "id": "20111f60",
   "metadata": {},
   "outputs": [
    {
     "data": {
      "text/plain": [
       "['5-10 Yrs',\n",
       " '2-4 Yrs',\n",
       " '7-10 Yrs',\n",
       " '4-8 Yrs',\n",
       " '3-7 Yrs',\n",
       " '1-5 Yrs',\n",
       " '5-7 Yrs',\n",
       " '5-9 Yrs',\n",
       " '3-6 Yrs',\n",
       " '5-9 Yrs']"
      ]
     },
     "execution_count": 48,
     "metadata": {},
     "output_type": "execute_result"
    }
   ],
   "source": [
    "for i in experience_tags:\n",
    "    experience=i.text\n",
    "    experience_list1.append(experience)\n",
    "experience_list1[0:10]"
   ]
  },
  {
   "cell_type": "code",
   "execution_count": null,
   "id": "a2d1d91b",
   "metadata": {},
   "outputs": [],
   "source": [
    "location_tags=driver.find_elements_by_xpath(\"//li[@class='fleft grey-text br2 placeHolderLi location']/span[1]\")\n",
    "location_tags[0:10]"
   ]
  },
  {
   "cell_type": "code",
   "execution_count": 50,
   "id": "8454d779",
   "metadata": {},
   "outputs": [
    {
     "data": {
      "text/plain": [
       "['Bangalore/Bengaluru',\n",
       " 'Remote',\n",
       " 'Bangalore/Bengaluru',\n",
       " 'Bangalore/Bengaluru',\n",
       " 'Kolkata, Hyderabad/Secunderabad, Pune, Chennai, Bangalore/Bengaluru',\n",
       " 'Bangalore/Bengaluru',\n",
       " 'Bangalore/Bengaluru',\n",
       " 'Bangalore/Bengaluru, Mumbai (All Areas)',\n",
       " 'Noida, Bangalore/Bengaluru',\n",
       " 'Bangalore/Bengaluru']"
      ]
     },
     "execution_count": 50,
     "metadata": {},
     "output_type": "execute_result"
    }
   ],
   "source": [
    "for i in location_tags:\n",
    "    location=i.text\n",
    "    locations_list1.append(location)\n",
    "locations_list1[0:10]"
   ]
  },
  {
   "cell_type": "code",
   "execution_count": 61,
   "id": "6a9544ba",
   "metadata": {},
   "outputs": [
    {
     "name": "stdout",
     "output_type": "stream",
     "text": [
      "20 20 20 20\n"
     ]
    }
   ],
   "source": [
    "print(len(job_titles1),len(company_names1),len(experience_list1),len(locations_list1))"
   ]
  },
  {
   "cell_type": "code",
   "execution_count": 59,
   "id": "b33d485e",
   "metadata": {},
   "outputs": [],
   "source": [
    "jobs=pd.DataFrame({})\n",
    "jobs['title']=job_titles1\n",
    "jobs['company']=company_names1\n",
    "jobs['experience_required']=experience_list1\n",
    "jobs['location']=locations_list1\n"
   ]
  },
  {
   "cell_type": "code",
   "execution_count": 54,
   "id": "35dd3af0",
   "metadata": {},
   "outputs": [
    {
     "data": {
      "text/html": [
       "<div>\n",
       "<style scoped>\n",
       "    .dataframe tbody tr th:only-of-type {\n",
       "        vertical-align: middle;\n",
       "    }\n",
       "\n",
       "    .dataframe tbody tr th {\n",
       "        vertical-align: top;\n",
       "    }\n",
       "\n",
       "    .dataframe thead th {\n",
       "        text-align: right;\n",
       "    }\n",
       "</style>\n",
       "<table border=\"1\" class=\"dataframe\">\n",
       "  <thead>\n",
       "    <tr style=\"text-align: right;\">\n",
       "      <th></th>\n",
       "      <th>title</th>\n",
       "      <th>company</th>\n",
       "      <th>experience_required</th>\n",
       "      <th>location</th>\n",
       "    </tr>\n",
       "  </thead>\n",
       "  <tbody>\n",
       "    <tr>\n",
       "      <th>0</th>\n",
       "      <td>Senior Data Scientist</td>\n",
       "      <td>Walmart</td>\n",
       "      <td>5-10 Yrs</td>\n",
       "      <td>Bangalore/Bengaluru</td>\n",
       "    </tr>\n",
       "    <tr>\n",
       "      <th>1</th>\n",
       "      <td>Senior Associate - Data Scientist</td>\n",
       "      <td>Affine</td>\n",
       "      <td>2-4 Yrs</td>\n",
       "      <td>Remote</td>\n",
       "    </tr>\n",
       "    <tr>\n",
       "      <th>2</th>\n",
       "      <td>Data Scientist</td>\n",
       "      <td>Applied Materials</td>\n",
       "      <td>7-10 Yrs</td>\n",
       "      <td>Bangalore/Bengaluru</td>\n",
       "    </tr>\n",
       "    <tr>\n",
       "      <th>3</th>\n",
       "      <td>Staff Data Scientist</td>\n",
       "      <td>Walmart</td>\n",
       "      <td>4-8 Yrs</td>\n",
       "      <td>Bangalore/Bengaluru</td>\n",
       "    </tr>\n",
       "    <tr>\n",
       "      <th>4</th>\n",
       "      <td>Job Opening with Wipro For Data Scientist - SAS</td>\n",
       "      <td>Wipro</td>\n",
       "      <td>3-7 Yrs</td>\n",
       "      <td>Kolkata, Hyderabad/Secunderabad, Pune, Chennai...</td>\n",
       "    </tr>\n",
       "    <tr>\n",
       "      <th>5</th>\n",
       "      <td>Data Scientist</td>\n",
       "      <td>CRED</td>\n",
       "      <td>1-5 Yrs</td>\n",
       "      <td>Bangalore/Bengaluru</td>\n",
       "    </tr>\n",
       "    <tr>\n",
       "      <th>6</th>\n",
       "      <td>Senior Data Scientist -Python+ML(5-7 years)</td>\n",
       "      <td>Knowledge Foundry Business Solutions Pvt. Ltd.</td>\n",
       "      <td>5-7 Yrs</td>\n",
       "      <td>Bangalore/Bengaluru</td>\n",
       "    </tr>\n",
       "    <tr>\n",
       "      <th>7</th>\n",
       "      <td>Senior Data Scientist</td>\n",
       "      <td>Course5</td>\n",
       "      <td>5-9 Yrs</td>\n",
       "      <td>Bangalore/Bengaluru, Mumbai (All Areas)</td>\n",
       "    </tr>\n",
       "    <tr>\n",
       "      <th>8</th>\n",
       "      <td>Data Scientist</td>\n",
       "      <td>Ashkom Media India Private Limited</td>\n",
       "      <td>3-6 Yrs</td>\n",
       "      <td>Noida, Bangalore/Bengaluru</td>\n",
       "    </tr>\n",
       "    <tr>\n",
       "      <th>9</th>\n",
       "      <td>Senior Data Scientist (IN4)</td>\n",
       "      <td>Walmart</td>\n",
       "      <td>5-9 Yrs</td>\n",
       "      <td>Bangalore/Bengaluru</td>\n",
       "    </tr>\n",
       "    <tr>\n",
       "      <th>10</th>\n",
       "      <td>Senior Data Scientist</td>\n",
       "      <td>Walmart</td>\n",
       "      <td>5-9 Yrs</td>\n",
       "      <td>Bangalore/Bengaluru</td>\n",
       "    </tr>\n",
       "    <tr>\n",
       "      <th>11</th>\n",
       "      <td>Senior Data Scientist</td>\n",
       "      <td>Ericsson Global Services</td>\n",
       "      <td>10-15 Yrs</td>\n",
       "      <td>Bangalore/Bengaluru</td>\n",
       "    </tr>\n",
       "    <tr>\n",
       "      <th>12</th>\n",
       "      <td>Senior Data Scientist</td>\n",
       "      <td>Truecaller</td>\n",
       "      <td>2-5 Yrs</td>\n",
       "      <td>Bangalore/Bengaluru</td>\n",
       "    </tr>\n",
       "    <tr>\n",
       "      <th>13</th>\n",
       "      <td>Senior Data Scientist</td>\n",
       "      <td>Gojek</td>\n",
       "      <td>6-12 Yrs</td>\n",
       "      <td>Bangalore/Bengaluru</td>\n",
       "    </tr>\n",
       "    <tr>\n",
       "      <th>14</th>\n",
       "      <td>Staff Engineer Data Scientist</td>\n",
       "      <td>Infineon Technologies Pvt Ltd</td>\n",
       "      <td>1-3 Yrs</td>\n",
       "      <td>Bangalore/Bengaluru</td>\n",
       "    </tr>\n",
       "    <tr>\n",
       "      <th>15</th>\n",
       "      <td>Senior AI Scientist - SAP Procurement Data Sci...</td>\n",
       "      <td>SAP India Pvt.Ltd</td>\n",
       "      <td>4-9 Yrs</td>\n",
       "      <td>Bangalore/Bengaluru</td>\n",
       "    </tr>\n",
       "    <tr>\n",
       "      <th>16</th>\n",
       "      <td>Data Scientist</td>\n",
       "      <td>Randstad India Private Limited</td>\n",
       "      <td>1-5 Yrs</td>\n",
       "      <td>Bangalore/Bengaluru</td>\n",
       "    </tr>\n",
       "    <tr>\n",
       "      <th>17</th>\n",
       "      <td>Jr. Data Scientist</td>\n",
       "      <td>TEOCO Software</td>\n",
       "      <td>1-5 Yrs</td>\n",
       "      <td>Bangalore/Bengaluru</td>\n",
       "    </tr>\n",
       "    <tr>\n",
       "      <th>18</th>\n",
       "      <td>Consultant - Data Scientist</td>\n",
       "      <td>Affine</td>\n",
       "      <td>4-7 Yrs</td>\n",
       "      <td>Remote</td>\n",
       "    </tr>\n",
       "    <tr>\n",
       "      <th>19</th>\n",
       "      <td>Data Scientist</td>\n",
       "      <td>Applied Materials</td>\n",
       "      <td>0-3 Yrs</td>\n",
       "      <td>Bangalore/Bengaluru</td>\n",
       "    </tr>\n",
       "  </tbody>\n",
       "</table>\n",
       "</div>"
      ],
      "text/plain": [
       "                                                title  \\\n",
       "0                               Senior Data Scientist   \n",
       "1                   Senior Associate - Data Scientist   \n",
       "2                                      Data Scientist   \n",
       "3                                Staff Data Scientist   \n",
       "4     Job Opening with Wipro For Data Scientist - SAS   \n",
       "5                                      Data Scientist   \n",
       "6         Senior Data Scientist -Python+ML(5-7 years)   \n",
       "7                               Senior Data Scientist   \n",
       "8                                      Data Scientist   \n",
       "9                         Senior Data Scientist (IN4)   \n",
       "10                              Senior Data Scientist   \n",
       "11                              Senior Data Scientist   \n",
       "12                              Senior Data Scientist   \n",
       "13                              Senior Data Scientist   \n",
       "14                      Staff Engineer Data Scientist   \n",
       "15  Senior AI Scientist - SAP Procurement Data Sci...   \n",
       "16                                     Data Scientist   \n",
       "17                                 Jr. Data Scientist   \n",
       "18                        Consultant - Data Scientist   \n",
       "19                                     Data Scientist   \n",
       "\n",
       "                                           company experience_required  \\\n",
       "0                                          Walmart            5-10 Yrs   \n",
       "1                                           Affine             2-4 Yrs   \n",
       "2                                Applied Materials            7-10 Yrs   \n",
       "3                                          Walmart             4-8 Yrs   \n",
       "4                                            Wipro             3-7 Yrs   \n",
       "5                                             CRED             1-5 Yrs   \n",
       "6   Knowledge Foundry Business Solutions Pvt. Ltd.             5-7 Yrs   \n",
       "7                                          Course5             5-9 Yrs   \n",
       "8               Ashkom Media India Private Limited             3-6 Yrs   \n",
       "9                                          Walmart             5-9 Yrs   \n",
       "10                                         Walmart             5-9 Yrs   \n",
       "11                        Ericsson Global Services           10-15 Yrs   \n",
       "12                                      Truecaller             2-5 Yrs   \n",
       "13                                           Gojek            6-12 Yrs   \n",
       "14                   Infineon Technologies Pvt Ltd             1-3 Yrs   \n",
       "15                               SAP India Pvt.Ltd             4-9 Yrs   \n",
       "16                  Randstad India Private Limited             1-5 Yrs   \n",
       "17                                  TEOCO Software             1-5 Yrs   \n",
       "18                                          Affine             4-7 Yrs   \n",
       "19                               Applied Materials             0-3 Yrs   \n",
       "\n",
       "                                             location  \n",
       "0                                 Bangalore/Bengaluru  \n",
       "1                                              Remote  \n",
       "2                                 Bangalore/Bengaluru  \n",
       "3                                 Bangalore/Bengaluru  \n",
       "4   Kolkata, Hyderabad/Secunderabad, Pune, Chennai...  \n",
       "5                                 Bangalore/Bengaluru  \n",
       "6                                 Bangalore/Bengaluru  \n",
       "7             Bangalore/Bengaluru, Mumbai (All Areas)  \n",
       "8                          Noida, Bangalore/Bengaluru  \n",
       "9                                 Bangalore/Bengaluru  \n",
       "10                                Bangalore/Bengaluru  \n",
       "11                                Bangalore/Bengaluru  \n",
       "12                                Bangalore/Bengaluru  \n",
       "13                                Bangalore/Bengaluru  \n",
       "14                                Bangalore/Bengaluru  \n",
       "15                                Bangalore/Bengaluru  \n",
       "16                                Bangalore/Bengaluru  \n",
       "17                                Bangalore/Bengaluru  \n",
       "18                                             Remote  \n",
       "19                                Bangalore/Bengaluru  "
      ]
     },
     "execution_count": 54,
     "metadata": {},
     "output_type": "execute_result"
    }
   ],
   "source": [
    "jobs"
   ]
  },
  {
   "cell_type": "code",
   "execution_count": 62,
   "id": "7dd6b20b",
   "metadata": {},
   "outputs": [
    {
     "data": {
      "text/html": [
       "<div>\n",
       "<style scoped>\n",
       "    .dataframe tbody tr th:only-of-type {\n",
       "        vertical-align: middle;\n",
       "    }\n",
       "\n",
       "    .dataframe tbody tr th {\n",
       "        vertical-align: top;\n",
       "    }\n",
       "\n",
       "    .dataframe thead th {\n",
       "        text-align: right;\n",
       "    }\n",
       "</style>\n",
       "<table border=\"1\" class=\"dataframe\">\n",
       "  <thead>\n",
       "    <tr style=\"text-align: right;\">\n",
       "      <th></th>\n",
       "      <th>title</th>\n",
       "      <th>company</th>\n",
       "      <th>experience_required</th>\n",
       "      <th>location</th>\n",
       "    </tr>\n",
       "  </thead>\n",
       "  <tbody>\n",
       "    <tr>\n",
       "      <th>0</th>\n",
       "      <td>Senior Data Scientist</td>\n",
       "      <td>Walmart</td>\n",
       "      <td>5-10 Yrs</td>\n",
       "      <td>Bangalore/Bengaluru</td>\n",
       "    </tr>\n",
       "    <tr>\n",
       "      <th>1</th>\n",
       "      <td>Senior Associate - Data Scientist</td>\n",
       "      <td>Affine</td>\n",
       "      <td>2-4 Yrs</td>\n",
       "      <td>Remote</td>\n",
       "    </tr>\n",
       "    <tr>\n",
       "      <th>2</th>\n",
       "      <td>Data Scientist</td>\n",
       "      <td>Applied Materials</td>\n",
       "      <td>7-10 Yrs</td>\n",
       "      <td>Bangalore/Bengaluru</td>\n",
       "    </tr>\n",
       "    <tr>\n",
       "      <th>3</th>\n",
       "      <td>Staff Data Scientist</td>\n",
       "      <td>Walmart</td>\n",
       "      <td>4-8 Yrs</td>\n",
       "      <td>Bangalore/Bengaluru</td>\n",
       "    </tr>\n",
       "    <tr>\n",
       "      <th>4</th>\n",
       "      <td>Job Opening with Wipro For Data Scientist - SAS</td>\n",
       "      <td>Wipro</td>\n",
       "      <td>3-7 Yrs</td>\n",
       "      <td>Kolkata, Hyderabad/Secunderabad, Pune, Chennai...</td>\n",
       "    </tr>\n",
       "    <tr>\n",
       "      <th>5</th>\n",
       "      <td>Data Scientist</td>\n",
       "      <td>CRED</td>\n",
       "      <td>1-5 Yrs</td>\n",
       "      <td>Bangalore/Bengaluru</td>\n",
       "    </tr>\n",
       "    <tr>\n",
       "      <th>6</th>\n",
       "      <td>Senior Data Scientist -Python+ML(5-7 years)</td>\n",
       "      <td>Knowledge Foundry Business Solutions Pvt. Ltd.</td>\n",
       "      <td>5-7 Yrs</td>\n",
       "      <td>Bangalore/Bengaluru</td>\n",
       "    </tr>\n",
       "    <tr>\n",
       "      <th>7</th>\n",
       "      <td>Senior Data Scientist</td>\n",
       "      <td>Course5</td>\n",
       "      <td>5-9 Yrs</td>\n",
       "      <td>Bangalore/Bengaluru, Mumbai (All Areas)</td>\n",
       "    </tr>\n",
       "    <tr>\n",
       "      <th>8</th>\n",
       "      <td>Data Scientist</td>\n",
       "      <td>Ashkom Media India Private Limited</td>\n",
       "      <td>3-6 Yrs</td>\n",
       "      <td>Noida, Bangalore/Bengaluru</td>\n",
       "    </tr>\n",
       "    <tr>\n",
       "      <th>9</th>\n",
       "      <td>Senior Data Scientist (IN4)</td>\n",
       "      <td>Walmart</td>\n",
       "      <td>5-9 Yrs</td>\n",
       "      <td>Bangalore/Bengaluru</td>\n",
       "    </tr>\n",
       "  </tbody>\n",
       "</table>\n",
       "</div>"
      ],
      "text/plain": [
       "                                             title  \\\n",
       "0                            Senior Data Scientist   \n",
       "1                Senior Associate - Data Scientist   \n",
       "2                                   Data Scientist   \n",
       "3                             Staff Data Scientist   \n",
       "4  Job Opening with Wipro For Data Scientist - SAS   \n",
       "5                                   Data Scientist   \n",
       "6      Senior Data Scientist -Python+ML(5-7 years)   \n",
       "7                            Senior Data Scientist   \n",
       "8                                   Data Scientist   \n",
       "9                      Senior Data Scientist (IN4)   \n",
       "\n",
       "                                          company experience_required  \\\n",
       "0                                         Walmart            5-10 Yrs   \n",
       "1                                          Affine             2-4 Yrs   \n",
       "2                               Applied Materials            7-10 Yrs   \n",
       "3                                         Walmart             4-8 Yrs   \n",
       "4                                           Wipro             3-7 Yrs   \n",
       "5                                            CRED             1-5 Yrs   \n",
       "6  Knowledge Foundry Business Solutions Pvt. Ltd.             5-7 Yrs   \n",
       "7                                         Course5             5-9 Yrs   \n",
       "8              Ashkom Media India Private Limited             3-6 Yrs   \n",
       "9                                         Walmart             5-9 Yrs   \n",
       "\n",
       "                                            location  \n",
       "0                                Bangalore/Bengaluru  \n",
       "1                                             Remote  \n",
       "2                                Bangalore/Bengaluru  \n",
       "3                                Bangalore/Bengaluru  \n",
       "4  Kolkata, Hyderabad/Secunderabad, Pune, Chennai...  \n",
       "5                                Bangalore/Bengaluru  \n",
       "6                                Bangalore/Bengaluru  \n",
       "7            Bangalore/Bengaluru, Mumbai (All Areas)  \n",
       "8                         Noida, Bangalore/Bengaluru  \n",
       "9                                Bangalore/Bengaluru  "
      ]
     },
     "execution_count": 62,
     "metadata": {},
     "output_type": "execute_result"
    }
   ],
   "source": [
    "jobs.head(10)"
   ]
  },
  {
   "cell_type": "code",
   "execution_count": 63,
   "id": "4fdc428b",
   "metadata": {},
   "outputs": [],
   "source": [
    "driver.close()"
   ]
  },
  {
   "cell_type": "raw",
   "id": "43ad4c54",
   "metadata": {},
   "source": [
    "Q.3 In this question you have to scrape data using the filters available on the webpage as shown below:\n",
    "You have to use the location and salary filter.\n",
    "You have to scrape data for “Data Scientist” designation for first 10 job results.\n",
    "You have to scrape the job-title, job-location, company name, experience required.\n",
    "The location filter to be used is “Delhi/NCR”. The salary filter to be used is “3-6” lakhs\n",
    "The task will be done as shown in the below steps:\n",
    "1. first get the webpage https://www.naukri.com/\n",
    "2. Enter “Data Scientist” in “Skill, Designations, and Companies” field.\n",
    "3. Then click the search button.\n",
    "4. Then apply the location filter and salary filter by checking the respective boxes\n",
    "5. Then scrape the data for the first 10 jobs results you get.\n",
    "6. Finally create a dataframe of the scraped data.\n",
    "Note: All of the above steps have to be done in code. No step is to be done manually.\n"
   ]
  },
  {
   "cell_type": "code",
   "execution_count": 64,
   "id": "0d25e440",
   "metadata": {},
   "outputs": [],
   "source": [
    "#lets first connect to the web driver\n",
    "driver = webdriver.Chrome(r\"C:\\Users\\Toshiba\\chromedriver.exe\")"
   ]
  },
  {
   "cell_type": "code",
   "execution_count": 65,
   "id": "3da2f0f8",
   "metadata": {},
   "outputs": [],
   "source": [
    "\n",
    "driver = webdriver.Chrome(\"chromedriver.exe\")\n",
    "time.sleep(2)"
   ]
  },
  {
   "cell_type": "code",
   "execution_count": 66,
   "id": "7e0a68a4",
   "metadata": {},
   "outputs": [],
   "source": [
    "# opening up naukri.com website on automated chrome window\n",
    "driver.get('https://www.naukri.com/')"
   ]
  },
  {
   "cell_type": "code",
   "execution_count": 67,
   "id": "06eca125",
   "metadata": {},
   "outputs": [],
   "source": [
    "# finding element for job search bar\n",
    "search_field_designation=driver.find_element_by_class_name(\"suggestor-input \")\n",
    "search_field_designation.send_keys(\"Data Scientist\")"
   ]
  },
  {
   "cell_type": "code",
   "execution_count": 70,
   "id": "f9fd2f0a",
   "metadata": {},
   "outputs": [],
   "source": [
    "job_titles2=[]\n",
    "company_names2=[]\n",
    "locations_list2=[]\n",
    "experience_list2=[]"
   ]
  },
  {
   "cell_type": "code",
   "execution_count": null,
   "id": "7e07422f",
   "metadata": {},
   "outputs": [],
   "source": [
    "titles_tags2=driver.find_elements_by_xpath(\"//a[@class='title fw500 ellipsis']\")\n",
    "titles_tags2[0:10]"
   ]
  },
  {
   "cell_type": "code",
   "execution_count": 72,
   "id": "46a3947b",
   "metadata": {},
   "outputs": [
    {
     "data": {
      "text/plain": [
       "['Data Scientist',\n",
       " 'Associate Data Scientist',\n",
       " 'Associate Scientist - Data Engineering',\n",
       " 'Hiring For Senior Data Scientist-Noida',\n",
       " 'Hiring For Data Analyst and Data Scientist For Gurgaon Location',\n",
       " 'Opening For Data Scientist',\n",
       " 'Data Scientist/ Machine Learning, 2022 Passout Can also apply',\n",
       " 'Data Scientist (freelance)',\n",
       " 'Data Scientist',\n",
       " 'Data Scientist']"
      ]
     },
     "execution_count": 72,
     "metadata": {},
     "output_type": "execute_result"
    }
   ],
   "source": [
    "for i in titles_tags2:\n",
    "    title=i.text\n",
    "    job_titles2.append(title)\n",
    "job_titles2[0:10]"
   ]
  },
  {
   "cell_type": "code",
   "execution_count": null,
   "id": "d6e5731f",
   "metadata": {},
   "outputs": [],
   "source": [
    "companies_tags2=driver.find_elements_by_xpath(\"//a[@class='subTitle ellipsis fleft']\")\n",
    "companies_tags2[0:10]"
   ]
  },
  {
   "cell_type": "code",
   "execution_count": 74,
   "id": "5ad93699",
   "metadata": {},
   "outputs": [
    {
     "data": {
      "text/plain": [
       "['Ashkom Media India Private Limited',\n",
       " 'Optum',\n",
       " 'AXA Technology Services India Pvt. Ltd',\n",
       " 'Lumiq.ai',\n",
       " 'Shadow Placements',\n",
       " 'Care Health Insurance',\n",
       " 'Creative Hands HR Consultancy',\n",
       " '2Coms',\n",
       " 'BlackBuck',\n",
       " 'Boston Consulting Group']"
      ]
     },
     "execution_count": 74,
     "metadata": {},
     "output_type": "execute_result"
    }
   ],
   "source": [
    "for i in companies_tags2:\n",
    "    company_name=i.text\n",
    "    company_names2.append(company_name)\n",
    "company_names2[0:10]"
   ]
  },
  {
   "cell_type": "code",
   "execution_count": null,
   "id": "79a321b9",
   "metadata": {},
   "outputs": [],
   "source": [
    "experience_tags2=driver.find_elements_by_xpath(\"//li[@class='fleft grey-text br2 placeHolderLi experience']/span\")\n",
    "experience_tags2[0:10]"
   ]
  },
  {
   "cell_type": "code",
   "execution_count": 76,
   "id": "d200670f",
   "metadata": {},
   "outputs": [
    {
     "data": {
      "text/plain": [
       "['3-6 Yrs',\n",
       " '1-5 Yrs',\n",
       " '2-5 Yrs',\n",
       " '2-6 Yrs',\n",
       " '3-7 Yrs',\n",
       " '1-5 Yrs',\n",
       " '0-4 Yrs',\n",
       " '2-7 Yrs',\n",
       " '3-7 Yrs',\n",
       " '2-5 Yrs']"
      ]
     },
     "execution_count": 76,
     "metadata": {},
     "output_type": "execute_result"
    }
   ],
   "source": [
    "for i in experience_tags2:\n",
    "    experience=i.text\n",
    "    experience_list2.append(experience)\n",
    "experience_list2[0:10]"
   ]
  },
  {
   "cell_type": "code",
   "execution_count": null,
   "id": "3b9341b2",
   "metadata": {},
   "outputs": [],
   "source": [
    "location_tags2=driver.find_elements_by_xpath(\"//li[@class='fleft grey-text br2 placeHolderLi location']/span[1]\")\n",
    "location_tags2[0:10]"
   ]
  },
  {
   "cell_type": "code",
   "execution_count": 79,
   "id": "945ea09c",
   "metadata": {},
   "outputs": [
    {
     "data": {
      "text/plain": [
       "['Noida, Bangalore/Bengaluru',\n",
       " 'Gurgaon/Gurugram',\n",
       " 'Gurgaon/Gurugram',\n",
       " 'Noida, Greater Noida, Delhi / NCR',\n",
       " 'Noida, Gurgaon/Gurugram, Delhi / NCR',\n",
       " 'Gurgaon/Gurugram',\n",
       " 'Hyderabad/Secunderabad, Ahmedabad, Chennai, Bangalore/Bengaluru, Delhi / NCR, Mumbai (All Areas)',\n",
       " 'New Delhi, Delhi',\n",
       " 'Gurgaon, Bengaluru',\n",
       " 'New Delhi']"
      ]
     },
     "execution_count": 79,
     "metadata": {},
     "output_type": "execute_result"
    }
   ],
   "source": [
    "for i in location_tags2:\n",
    "    location=i.text\n",
    "    locations_list2.append(location)\n",
    "locations_list2[0:10]"
   ]
  },
  {
   "cell_type": "code",
   "execution_count": 80,
   "id": "aa0616e8",
   "metadata": {},
   "outputs": [
    {
     "name": "stdout",
     "output_type": "stream",
     "text": [
      "20 20 20 20\n"
     ]
    }
   ],
   "source": [
    "print(len(job_titles2),len(company_names2),len(experience_list2),len(locations_list2))"
   ]
  },
  {
   "cell_type": "code",
   "execution_count": 81,
   "id": "75a868f5",
   "metadata": {},
   "outputs": [],
   "source": [
    "jobs=pd.DataFrame({})\n",
    "jobs['title']=job_titles2\n",
    "jobs['company']=company_names2\n",
    "jobs['experience_required']=experience_list2\n",
    "jobs['location']=locations_list2"
   ]
  },
  {
   "cell_type": "code",
   "execution_count": 82,
   "id": "1fbfc255",
   "metadata": {},
   "outputs": [
    {
     "data": {
      "text/html": [
       "<div>\n",
       "<style scoped>\n",
       "    .dataframe tbody tr th:only-of-type {\n",
       "        vertical-align: middle;\n",
       "    }\n",
       "\n",
       "    .dataframe tbody tr th {\n",
       "        vertical-align: top;\n",
       "    }\n",
       "\n",
       "    .dataframe thead th {\n",
       "        text-align: right;\n",
       "    }\n",
       "</style>\n",
       "<table border=\"1\" class=\"dataframe\">\n",
       "  <thead>\n",
       "    <tr style=\"text-align: right;\">\n",
       "      <th></th>\n",
       "      <th>title</th>\n",
       "      <th>company</th>\n",
       "      <th>experience_required</th>\n",
       "      <th>location</th>\n",
       "    </tr>\n",
       "  </thead>\n",
       "  <tbody>\n",
       "    <tr>\n",
       "      <th>0</th>\n",
       "      <td>Data Scientist</td>\n",
       "      <td>Ashkom Media India Private Limited</td>\n",
       "      <td>3-6 Yrs</td>\n",
       "      <td>Noida, Bangalore/Bengaluru</td>\n",
       "    </tr>\n",
       "    <tr>\n",
       "      <th>1</th>\n",
       "      <td>Associate Data Scientist</td>\n",
       "      <td>Optum</td>\n",
       "      <td>1-5 Yrs</td>\n",
       "      <td>Gurgaon/Gurugram</td>\n",
       "    </tr>\n",
       "    <tr>\n",
       "      <th>2</th>\n",
       "      <td>Associate Scientist - Data Engineering</td>\n",
       "      <td>AXA Technology Services India Pvt. Ltd</td>\n",
       "      <td>2-5 Yrs</td>\n",
       "      <td>Gurgaon/Gurugram</td>\n",
       "    </tr>\n",
       "    <tr>\n",
       "      <th>3</th>\n",
       "      <td>Hiring For Senior Data Scientist-Noida</td>\n",
       "      <td>Lumiq.ai</td>\n",
       "      <td>2-6 Yrs</td>\n",
       "      <td>Noida, Greater Noida, Delhi / NCR</td>\n",
       "    </tr>\n",
       "    <tr>\n",
       "      <th>4</th>\n",
       "      <td>Hiring For Data Analyst and Data Scientist For...</td>\n",
       "      <td>Shadow Placements</td>\n",
       "      <td>3-7 Yrs</td>\n",
       "      <td>Noida, Gurgaon/Gurugram, Delhi / NCR</td>\n",
       "    </tr>\n",
       "    <tr>\n",
       "      <th>5</th>\n",
       "      <td>Opening For Data Scientist</td>\n",
       "      <td>Care Health Insurance</td>\n",
       "      <td>1-5 Yrs</td>\n",
       "      <td>Gurgaon/Gurugram</td>\n",
       "    </tr>\n",
       "    <tr>\n",
       "      <th>6</th>\n",
       "      <td>Data Scientist/ Machine Learning, 2022 Passout...</td>\n",
       "      <td>Creative Hands HR Consultancy</td>\n",
       "      <td>0-4 Yrs</td>\n",
       "      <td>Hyderabad/Secunderabad, Ahmedabad, Chennai, Ba...</td>\n",
       "    </tr>\n",
       "    <tr>\n",
       "      <th>7</th>\n",
       "      <td>Data Scientist (freelance)</td>\n",
       "      <td>2Coms</td>\n",
       "      <td>2-7 Yrs</td>\n",
       "      <td>New Delhi, Delhi</td>\n",
       "    </tr>\n",
       "    <tr>\n",
       "      <th>8</th>\n",
       "      <td>Data Scientist</td>\n",
       "      <td>BlackBuck</td>\n",
       "      <td>3-7 Yrs</td>\n",
       "      <td>Gurgaon, Bengaluru</td>\n",
       "    </tr>\n",
       "    <tr>\n",
       "      <th>9</th>\n",
       "      <td>Data Scientist</td>\n",
       "      <td>Boston Consulting Group</td>\n",
       "      <td>2-5 Yrs</td>\n",
       "      <td>New Delhi</td>\n",
       "    </tr>\n",
       "  </tbody>\n",
       "</table>\n",
       "</div>"
      ],
      "text/plain": [
       "                                               title  \\\n",
       "0                                     Data Scientist   \n",
       "1                           Associate Data Scientist   \n",
       "2             Associate Scientist - Data Engineering   \n",
       "3             Hiring For Senior Data Scientist-Noida   \n",
       "4  Hiring For Data Analyst and Data Scientist For...   \n",
       "5                         Opening For Data Scientist   \n",
       "6  Data Scientist/ Machine Learning, 2022 Passout...   \n",
       "7                         Data Scientist (freelance)   \n",
       "8                                     Data Scientist   \n",
       "9                                     Data Scientist   \n",
       "\n",
       "                                  company experience_required  \\\n",
       "0      Ashkom Media India Private Limited             3-6 Yrs   \n",
       "1                                   Optum             1-5 Yrs   \n",
       "2  AXA Technology Services India Pvt. Ltd             2-5 Yrs   \n",
       "3                                Lumiq.ai             2-6 Yrs   \n",
       "4                       Shadow Placements             3-7 Yrs   \n",
       "5                   Care Health Insurance             1-5 Yrs   \n",
       "6           Creative Hands HR Consultancy             0-4 Yrs   \n",
       "7                                   2Coms             2-7 Yrs   \n",
       "8                               BlackBuck             3-7 Yrs   \n",
       "9                 Boston Consulting Group             2-5 Yrs   \n",
       "\n",
       "                                            location  \n",
       "0                         Noida, Bangalore/Bengaluru  \n",
       "1                                   Gurgaon/Gurugram  \n",
       "2                                   Gurgaon/Gurugram  \n",
       "3                  Noida, Greater Noida, Delhi / NCR  \n",
       "4               Noida, Gurgaon/Gurugram, Delhi / NCR  \n",
       "5                                   Gurgaon/Gurugram  \n",
       "6  Hyderabad/Secunderabad, Ahmedabad, Chennai, Ba...  \n",
       "7                                   New Delhi, Delhi  \n",
       "8                                 Gurgaon, Bengaluru  \n",
       "9                                          New Delhi  "
      ]
     },
     "execution_count": 82,
     "metadata": {},
     "output_type": "execute_result"
    }
   ],
   "source": [
    "jobs.head(10)"
   ]
  },
  {
   "cell_type": "code",
   "execution_count": 83,
   "id": "26376075",
   "metadata": {},
   "outputs": [],
   "source": [
    "driver.close()"
   ]
  },
  {
   "cell_type": "raw",
   "id": "eaeb1f46",
   "metadata": {},
   "source": [
    "Q6: Scrape data for first 100 sneakers you find when you visit flipkart.com andsearch for “sneakers” in the\n",
    "search field.\n",
    "You have to scrape 4 attributes of each sneaker:\n",
    "1. Brand\n",
    "2. Product Description\n",
    "3. Price\n",
    "As shown in the below image, you have to scrape the tick marked attributes.\n"
   ]
  },
  {
   "cell_type": "code",
   "execution_count": null,
   "id": "4ba7875e",
   "metadata": {},
   "outputs": [],
   "source": [
    "! pip install selenium"
   ]
  },
  {
   "cell_type": "code",
   "execution_count": 64,
   "id": "a0f170f7",
   "metadata": {},
   "outputs": [],
   "source": [
    "import selenium\n",
    "import pandas as pd\n",
    "from selenium import webdriver\n",
    "import warnings\n",
    "warnings.filterwarnings(\"ignore\")\n",
    "import time"
   ]
  },
  {
   "cell_type": "code",
   "execution_count": 80,
   "id": "db4e5a28",
   "metadata": {},
   "outputs": [],
   "source": [
    "driver = webdriver.Chrome(r\"C:\\Users\\Toshiba\\chromedriver.exe\")"
   ]
  },
  {
   "cell_type": "code",
   "execution_count": 81,
   "id": "5842d08c",
   "metadata": {},
   "outputs": [],
   "source": [
    "driver = webdriver.Chrome(\"chromedriver.exe\")\n",
    "time.sleep(2)"
   ]
  },
  {
   "cell_type": "code",
   "execution_count": 82,
   "id": "f6e88a69",
   "metadata": {},
   "outputs": [],
   "source": [
    "driver.get('https://www.flipkart.com/')"
   ]
  },
  {
   "cell_type": "code",
   "execution_count": 83,
   "id": "5e216689",
   "metadata": {},
   "outputs": [],
   "source": [
    "search_field_sunglass=driver.find_element_by_class_name(\"_3704LK\")\n",
    "search_field_sunglass.send_keys(\"Sneakers\")"
   ]
  },
  {
   "cell_type": "code",
   "execution_count": 84,
   "id": "ee95a3e0",
   "metadata": {},
   "outputs": [],
   "source": [
    "brand_titles=[]\n",
    "price_list=[]\n",
    "discount_price_list=[]"
   ]
  },
  {
   "cell_type": "code",
   "execution_count": 85,
   "id": "59d87740",
   "metadata": {},
   "outputs": [
    {
     "data": {
      "text/plain": [
       "[<selenium.webdriver.remote.webelement.WebElement (session=\"baedefb0a542bac26419c33b7ce47858\", element=\"1f1ec3e4-06fe-4a8e-9f55-4d1e8b069618\")>,\n",
       " <selenium.webdriver.remote.webelement.WebElement (session=\"baedefb0a542bac26419c33b7ce47858\", element=\"f900d317-a546-4cff-a052-357f9508ded9\")>,\n",
       " <selenium.webdriver.remote.webelement.WebElement (session=\"baedefb0a542bac26419c33b7ce47858\", element=\"b22fbf03-be3a-4365-9fd3-ba8693ba95af\")>,\n",
       " <selenium.webdriver.remote.webelement.WebElement (session=\"baedefb0a542bac26419c33b7ce47858\", element=\"8c0e0dee-3a4f-4bcb-9a8c-59eb9472d6bc\")>]"
      ]
     },
     "execution_count": 85,
     "metadata": {},
     "output_type": "execute_result"
    }
   ],
   "source": [
    "brand_tags=driver.find_elements_by_xpath(\"//div[@class='_2WkVRV']\")\n",
    "brand_tags[0:4]"
   ]
  },
  {
   "cell_type": "code",
   "execution_count": 86,
   "id": "33656ce7",
   "metadata": {},
   "outputs": [
    {
     "data": {
      "text/plain": [
       "['luxury fashion', 'India hub', 'URBANBOX', 'corsac']"
      ]
     },
     "execution_count": 86,
     "metadata": {},
     "output_type": "execute_result"
    }
   ],
   "source": [
    "for i in brand_tags:\n",
    "    brand=i.text\n",
    "    brand_titles.append(brand)\n",
    "brand_titles[0:4]"
   ]
  },
  {
   "cell_type": "code",
   "execution_count": 87,
   "id": "7890ee51",
   "metadata": {},
   "outputs": [],
   "source": [
    "next_button=driver.find_element_by_xpath(\"/html/body/div[1]/div/div[3]/div[1]/div[2]/div[12]/div/div/nav/a[11]\")\n",
    "next_button.click()"
   ]
  },
  {
   "cell_type": "code",
   "execution_count": 88,
   "id": "e792d619",
   "metadata": {},
   "outputs": [
    {
     "data": {
      "text/plain": [
       "[<selenium.webdriver.remote.webelement.WebElement (session=\"baedefb0a542bac26419c33b7ce47858\", element=\"5f37797b-d392-4024-8018-e38e0b0385e1\")>,\n",
       " <selenium.webdriver.remote.webelement.WebElement (session=\"baedefb0a542bac26419c33b7ce47858\", element=\"5a2fb852-cf20-4091-8704-006e12811974\")>,\n",
       " <selenium.webdriver.remote.webelement.WebElement (session=\"baedefb0a542bac26419c33b7ce47858\", element=\"8f2f244e-37f0-46e6-a470-bc28cc2c121c\")>,\n",
       " <selenium.webdriver.remote.webelement.WebElement (session=\"baedefb0a542bac26419c33b7ce47858\", element=\"581c73c1-989b-4942-ade7-213494f3f3a2\")>]"
      ]
     },
     "execution_count": 88,
     "metadata": {},
     "output_type": "execute_result"
    }
   ],
   "source": [
    "brand_tags=driver.find_elements_by_xpath(\"//div[@class='_2WkVRV']\")\n",
    "brand_tags[0:4]"
   ]
  },
  {
   "cell_type": "code",
   "execution_count": null,
   "id": "c61cf5f4",
   "metadata": {},
   "outputs": [],
   "source": [
    "for i in brand_tags:\n",
    "    brand=i.text\n",
    "    brand_titles.append(brand)\n",
    "brand_titles[0:40]"
   ]
  },
  {
   "cell_type": "code",
   "execution_count": 91,
   "id": "42e7a5dc",
   "metadata": {},
   "outputs": [
    {
     "name": "stdout",
     "output_type": "stream",
     "text": [
      "120\n"
     ]
    }
   ],
   "source": [
    "print(len(brand_titles))"
   ]
  },
  {
   "cell_type": "code",
   "execution_count": 92,
   "id": "94645982",
   "metadata": {},
   "outputs": [
    {
     "data": {
      "text/plain": [
       "[<selenium.webdriver.remote.webelement.WebElement (session=\"baedefb0a542bac26419c33b7ce47858\", element=\"91e2abcd-cb3b-43cc-a1af-843beb94cfbe\")>,\n",
       " <selenium.webdriver.remote.webelement.WebElement (session=\"baedefb0a542bac26419c33b7ce47858\", element=\"64a14188-ae1d-47ef-a18b-0e7095bdf7e6\")>,\n",
       " <selenium.webdriver.remote.webelement.WebElement (session=\"baedefb0a542bac26419c33b7ce47858\", element=\"58fb0b07-d4b9-4e80-9430-f7e4b6440535\")>,\n",
       " <selenium.webdriver.remote.webelement.WebElement (session=\"baedefb0a542bac26419c33b7ce47858\", element=\"26f908fe-0474-4da1-9def-8292958a31c1\")>]"
      ]
     },
     "execution_count": 92,
     "metadata": {},
     "output_type": "execute_result"
    }
   ],
   "source": [
    "price_tags=driver.find_elements_by_xpath(\"//div[@class='_30jeq3']\")\n",
    "price_tags[0:4]"
   ]
  },
  {
   "cell_type": "code",
   "execution_count": 93,
   "id": "72a98b2c",
   "metadata": {},
   "outputs": [
    {
     "data": {
      "text/plain": [
       "['₹299', '₹679', '₹178', '₹499']"
      ]
     },
     "execution_count": 93,
     "metadata": {},
     "output_type": "execute_result"
    }
   ],
   "source": [
    "for i in price_tags:\n",
    "    price=i.text\n",
    "    price_list.append(price)\n",
    "price_list[0:4]"
   ]
  },
  {
   "cell_type": "code",
   "execution_count": 94,
   "id": "f09f914d",
   "metadata": {},
   "outputs": [],
   "source": [
    "next_button=driver.find_element_by_xpath(\"/html/body/div[1]/div/div[3]/div[1]/div[2]/div[12]/div/div/nav/a[11]\")\n",
    "next_button.click()"
   ]
  },
  {
   "cell_type": "code",
   "execution_count": 95,
   "id": "13fea1ab",
   "metadata": {},
   "outputs": [
    {
     "data": {
      "text/plain": [
       "[<selenium.webdriver.remote.webelement.WebElement (session=\"baedefb0a542bac26419c33b7ce47858\", element=\"3138b395-9de8-4b35-8caa-af6e1019ffb1\")>,\n",
       " <selenium.webdriver.remote.webelement.WebElement (session=\"baedefb0a542bac26419c33b7ce47858\", element=\"a704e584-7d0f-41db-ad32-419d9cc65897\")>,\n",
       " <selenium.webdriver.remote.webelement.WebElement (session=\"baedefb0a542bac26419c33b7ce47858\", element=\"cd2b2e02-9897-4b93-8bcc-10bac0dfde2f\")>,\n",
       " <selenium.webdriver.remote.webelement.WebElement (session=\"baedefb0a542bac26419c33b7ce47858\", element=\"cf31a0c8-f83a-4058-96c0-75e239cfa93a\")>]"
      ]
     },
     "execution_count": 95,
     "metadata": {},
     "output_type": "execute_result"
    }
   ],
   "source": [
    "price_tags=driver.find_elements_by_xpath(\"//div[@class='_30jeq3']\")\n",
    "price_tags[0:4]"
   ]
  },
  {
   "cell_type": "code",
   "execution_count": null,
   "id": "6a6134a6",
   "metadata": {},
   "outputs": [],
   "source": [
    "for i in price_tags:\n",
    "    price=i.text\n",
    "    price_list.append(price)\n",
    "price_list[0:40]"
   ]
  },
  {
   "cell_type": "code",
   "execution_count": 98,
   "id": "5dccb8d5",
   "metadata": {},
   "outputs": [
    {
     "name": "stdout",
     "output_type": "stream",
     "text": [
      "120\n"
     ]
    }
   ],
   "source": [
    "print(len(price_list))"
   ]
  },
  {
   "cell_type": "code",
   "execution_count": 99,
   "id": "554dde2c",
   "metadata": {},
   "outputs": [
    {
     "data": {
      "text/plain": [
       "[<selenium.webdriver.remote.webelement.WebElement (session=\"baedefb0a542bac26419c33b7ce47858\", element=\"74662999-efda-4e44-94e8-9bddcb424e04\")>,\n",
       " <selenium.webdriver.remote.webelement.WebElement (session=\"baedefb0a542bac26419c33b7ce47858\", element=\"4e8f60a8-23a8-456f-9ff5-efa2e425ba1e\")>,\n",
       " <selenium.webdriver.remote.webelement.WebElement (session=\"baedefb0a542bac26419c33b7ce47858\", element=\"0bf890b7-18c0-4573-9b5d-0ec9a5a4c5d1\")>,\n",
       " <selenium.webdriver.remote.webelement.WebElement (session=\"baedefb0a542bac26419c33b7ce47858\", element=\"9e0e4b80-65ac-42f9-834f-76c9eaba12ee\")>]"
      ]
     },
     "execution_count": 99,
     "metadata": {},
     "output_type": "execute_result"
    }
   ],
   "source": [
    "discount_price=driver.find_elements_by_xpath(\"//div[@class='_3Ay6Sb']\")\n",
    "discount_price[0:4]"
   ]
  },
  {
   "cell_type": "code",
   "execution_count": 100,
   "id": "3f82ac7b",
   "metadata": {},
   "outputs": [
    {
     "data": {
      "text/plain": [
       "['₹228', '₹228', '₹228', '₹228']"
      ]
     },
     "execution_count": 100,
     "metadata": {},
     "output_type": "execute_result"
    }
   ],
   "source": [
    "for i in discount_price:\n",
    "    discount=i.text\n",
    "    discount_price_list.append(price)\n",
    "discount_price_list[0:4]"
   ]
  },
  {
   "cell_type": "code",
   "execution_count": 101,
   "id": "6d82e890",
   "metadata": {},
   "outputs": [],
   "source": [
    "next_button=driver.find_element_by_xpath(\"/html/body/div[1]/div/div[3]/div[1]/div[2]/div[12]/div/div/nav/a[11]\")\n",
    "next_button.click()"
   ]
  },
  {
   "cell_type": "code",
   "execution_count": 102,
   "id": "0d39ace0",
   "metadata": {},
   "outputs": [
    {
     "data": {
      "text/plain": [
       "[<selenium.webdriver.remote.webelement.WebElement (session=\"baedefb0a542bac26419c33b7ce47858\", element=\"d016ee9d-3b23-48ab-9a67-c25c48e730da\")>,\n",
       " <selenium.webdriver.remote.webelement.WebElement (session=\"baedefb0a542bac26419c33b7ce47858\", element=\"96d9221a-7599-4fc8-a901-4c31024bdc70\")>,\n",
       " <selenium.webdriver.remote.webelement.WebElement (session=\"baedefb0a542bac26419c33b7ce47858\", element=\"b514de46-3429-4866-b570-b4998e1f78ec\")>,\n",
       " <selenium.webdriver.remote.webelement.WebElement (session=\"baedefb0a542bac26419c33b7ce47858\", element=\"3b9f717e-1bba-48dc-a65c-2747f6c015a9\")>]"
      ]
     },
     "execution_count": 102,
     "metadata": {},
     "output_type": "execute_result"
    }
   ],
   "source": [
    "discount_price=driver.find_elements_by_xpath(\"//div[@class='_3Ay6Sb']\")\n",
    "discount_price[0:4]"
   ]
  },
  {
   "cell_type": "code",
   "execution_count": null,
   "id": "022272b2",
   "metadata": {},
   "outputs": [],
   "source": [
    "for i in discount_price:\n",
    "    discount=i.text\n",
    "    discount_price_list.append(price)\n",
    "discount_price_list[0:40]"
   ]
  },
  {
   "cell_type": "code",
   "execution_count": 105,
   "id": "4ee9b40d",
   "metadata": {},
   "outputs": [
    {
     "name": "stdout",
     "output_type": "stream",
     "text": [
      "120\n"
     ]
    }
   ],
   "source": [
    "print(len(discount_price_list))"
   ]
  },
  {
   "cell_type": "code",
   "execution_count": 106,
   "id": "35126e4e",
   "metadata": {},
   "outputs": [
    {
     "data": {
      "text/html": [
       "<div>\n",
       "<style scoped>\n",
       "    .dataframe tbody tr th:only-of-type {\n",
       "        vertical-align: middle;\n",
       "    }\n",
       "\n",
       "    .dataframe tbody tr th {\n",
       "        vertical-align: top;\n",
       "    }\n",
       "\n",
       "    .dataframe thead th {\n",
       "        text-align: right;\n",
       "    }\n",
       "</style>\n",
       "<table border=\"1\" class=\"dataframe\">\n",
       "  <thead>\n",
       "    <tr style=\"text-align: right;\">\n",
       "      <th></th>\n",
       "      <th>brand</th>\n",
       "      <th>price</th>\n",
       "      <th>discount price</th>\n",
       "    </tr>\n",
       "  </thead>\n",
       "  <tbody>\n",
       "    <tr>\n",
       "      <th>0</th>\n",
       "      <td>luxury fashion</td>\n",
       "      <td>₹299</td>\n",
       "      <td>₹228</td>\n",
       "    </tr>\n",
       "    <tr>\n",
       "      <th>1</th>\n",
       "      <td>India hub</td>\n",
       "      <td>₹679</td>\n",
       "      <td>₹228</td>\n",
       "    </tr>\n",
       "    <tr>\n",
       "      <th>2</th>\n",
       "      <td>URBANBOX</td>\n",
       "      <td>₹178</td>\n",
       "      <td>₹228</td>\n",
       "    </tr>\n",
       "    <tr>\n",
       "      <th>3</th>\n",
       "      <td>corsac</td>\n",
       "      <td>₹499</td>\n",
       "      <td>₹228</td>\n",
       "    </tr>\n",
       "    <tr>\n",
       "      <th>4</th>\n",
       "      <td>BRUTON</td>\n",
       "      <td>₹295</td>\n",
       "      <td>₹228</td>\n",
       "    </tr>\n",
       "    <tr>\n",
       "      <th>...</th>\n",
       "      <td>...</td>\n",
       "      <td>...</td>\n",
       "      <td>...</td>\n",
       "    </tr>\n",
       "    <tr>\n",
       "      <th>95</th>\n",
       "      <td>KWIK FIT</td>\n",
       "      <td>₹449</td>\n",
       "      <td>₹228</td>\n",
       "    </tr>\n",
       "    <tr>\n",
       "      <th>96</th>\n",
       "      <td>Echor</td>\n",
       "      <td>₹539</td>\n",
       "      <td>₹228</td>\n",
       "    </tr>\n",
       "    <tr>\n",
       "      <th>97</th>\n",
       "      <td>Chevit</td>\n",
       "      <td>₹629</td>\n",
       "      <td>₹228</td>\n",
       "    </tr>\n",
       "    <tr>\n",
       "      <th>98</th>\n",
       "      <td>bluemaker</td>\n",
       "      <td>₹499</td>\n",
       "      <td>₹228</td>\n",
       "    </tr>\n",
       "    <tr>\n",
       "      <th>99</th>\n",
       "      <td>kardam&amp;sons</td>\n",
       "      <td>₹399</td>\n",
       "      <td>₹228</td>\n",
       "    </tr>\n",
       "  </tbody>\n",
       "</table>\n",
       "<p>100 rows × 3 columns</p>\n",
       "</div>"
      ],
      "text/plain": [
       "             brand price discount price\n",
       "0   luxury fashion  ₹299           ₹228\n",
       "1        India hub  ₹679           ₹228\n",
       "2         URBANBOX  ₹178           ₹228\n",
       "3           corsac  ₹499           ₹228\n",
       "4           BRUTON  ₹295           ₹228\n",
       "..             ...   ...            ...\n",
       "95        KWIK FIT  ₹449           ₹228\n",
       "96           Echor  ₹539           ₹228\n",
       "97          Chevit  ₹629           ₹228\n",
       "98       bluemaker  ₹499           ₹228\n",
       "99     kardam&sons  ₹399           ₹228\n",
       "\n",
       "[100 rows x 3 columns]"
      ]
     },
     "execution_count": 106,
     "metadata": {},
     "output_type": "execute_result"
    }
   ],
   "source": [
    "sneakers=pd.DataFrame({})                        \n",
    "sneakers['brand']=brand_titles\n",
    "sneakers['price']=price_list\n",
    "sneakers['discount price']=discount_price_list\n",
    "\n",
    "sneakers.head(100)"
   ]
  },
  {
   "cell_type": "code",
   "execution_count": 107,
   "id": "1a9a9d8d",
   "metadata": {},
   "outputs": [],
   "source": [
    "driver.close()"
   ]
  },
  {
   "cell_type": "raw",
   "id": "f13bf596",
   "metadata": {},
   "source": [
    "Q7: Go to the link - https://www.myntra.com/shoes\n",
    "Set Price filter to “Rs. 7149 to Rs. 14099 ” , Color filter to “Black”, as shown inthe below image.\n",
    "And then scrape First 100 shoes data you get. The data should include “Brand” of the shoes , Short Shoe\n",
    "description, price of the shoe as shown in the below image"
   ]
  },
  {
   "cell_type": "code",
   "execution_count": null,
   "id": "82d0fabd",
   "metadata": {},
   "outputs": [],
   "source": [
    "! pip install selenium"
   ]
  },
  {
   "cell_type": "code",
   "execution_count": 109,
   "id": "559e8d8a",
   "metadata": {},
   "outputs": [],
   "source": [
    "import selenium\n",
    "import pandas as pd\n",
    "from selenium import webdriver\n",
    "import warnings\n",
    "warnings.filterwarnings(\"ignore\")\n",
    "import time"
   ]
  },
  {
   "cell_type": "code",
   "execution_count": 110,
   "id": "f085ad2a",
   "metadata": {},
   "outputs": [],
   "source": [
    "driver = webdriver.Chrome(r\"C:\\Users\\Toshiba\\chromedriver.exe\")"
   ]
  },
  {
   "cell_type": "code",
   "execution_count": 111,
   "id": "b03dc489",
   "metadata": {},
   "outputs": [],
   "source": [
    "driver = webdriver.Chrome(\"chromedriver.exe\")\n",
    "time.sleep(2)"
   ]
  },
  {
   "cell_type": "code",
   "execution_count": 112,
   "id": "d5a42f6c",
   "metadata": {},
   "outputs": [],
   "source": [
    "driver.get('https://www.myntra.com/shoes')"
   ]
  },
  {
   "cell_type": "code",
   "execution_count": 113,
   "id": "17263e92",
   "metadata": {},
   "outputs": [],
   "source": [
    "shoes_titles=[]\n",
    "shoes_description=[]\n",
    "shoes_price_list=[]\n"
   ]
  },
  {
   "cell_type": "code",
   "execution_count": 114,
   "id": "0f60ee5c",
   "metadata": {},
   "outputs": [
    {
     "data": {
      "text/plain": [
       "[<selenium.webdriver.remote.webelement.WebElement (session=\"6257460e8afe5ca0714c19763aec83ea\", element=\"0abf0ff9-28b0-49bc-a18e-05bb0a2a864d\")>,\n",
       " <selenium.webdriver.remote.webelement.WebElement (session=\"6257460e8afe5ca0714c19763aec83ea\", element=\"c0ae8d86-c93a-4c46-9e65-61a0c0b5d78a\")>,\n",
       " <selenium.webdriver.remote.webelement.WebElement (session=\"6257460e8afe5ca0714c19763aec83ea\", element=\"9abad27c-e9b0-4b15-8688-078564fae852\")>,\n",
       " <selenium.webdriver.remote.webelement.WebElement (session=\"6257460e8afe5ca0714c19763aec83ea\", element=\"d1f9b6d9-e55f-4417-92b2-4dec92e9a0dc\")>]"
      ]
     },
     "execution_count": 114,
     "metadata": {},
     "output_type": "execute_result"
    }
   ],
   "source": [
    "shoes_brand_tags=driver.find_elements_by_xpath(\"//h3[@class='product-brand']\")\n",
    "shoes_brand_tags[0:4]"
   ]
  },
  {
   "cell_type": "code",
   "execution_count": 115,
   "id": "dcd135f7",
   "metadata": {},
   "outputs": [
    {
     "data": {
      "text/plain": [
       "['ALDO', 'ALDO', '', '']"
      ]
     },
     "execution_count": 115,
     "metadata": {},
     "output_type": "execute_result"
    }
   ],
   "source": [
    "for i in shoes_brand_tags:\n",
    "    shoes=i.text\n",
    "    shoes_titles.append(shoes)\n",
    "shoes_titles[0:4]"
   ]
  },
  {
   "cell_type": "code",
   "execution_count": 116,
   "id": "c5e71f57",
   "metadata": {},
   "outputs": [],
   "source": [
    "next_button=driver.find_element_by_xpath(\"/html/body/div[2]/div/div[1]/main/div[3]/div[2]/div/div[2]/section/div[2]/ul/li[12]\")\n",
    "next_button.click()"
   ]
  },
  {
   "cell_type": "code",
   "execution_count": 117,
   "id": "9962c8e0",
   "metadata": {},
   "outputs": [
    {
     "data": {
      "text/plain": [
       "[<selenium.webdriver.remote.webelement.WebElement (session=\"6257460e8afe5ca0714c19763aec83ea\", element=\"4f3b1bd1-259c-4559-9f53-92ba385481d7\")>,\n",
       " <selenium.webdriver.remote.webelement.WebElement (session=\"6257460e8afe5ca0714c19763aec83ea\", element=\"fb0a4313-39c0-4a60-bf06-c1c2b65e0e93\")>,\n",
       " <selenium.webdriver.remote.webelement.WebElement (session=\"6257460e8afe5ca0714c19763aec83ea\", element=\"3adb848b-77fc-46de-8934-504c9fa1ab96\")>,\n",
       " <selenium.webdriver.remote.webelement.WebElement (session=\"6257460e8afe5ca0714c19763aec83ea\", element=\"5f8a4136-3d03-447a-8786-0d9801adb251\")>]"
      ]
     },
     "execution_count": 117,
     "metadata": {},
     "output_type": "execute_result"
    }
   ],
   "source": [
    "shoes_brand_tags=driver.find_elements_by_xpath(\"//h3[@class='product-brand']\")\n",
    "shoes_brand_tags[0:4]"
   ]
  },
  {
   "cell_type": "code",
   "execution_count": 118,
   "id": "77aa7cdc",
   "metadata": {},
   "outputs": [
    {
     "data": {
      "text/plain": [
       "['ALDO', 'ALDO', '', '']"
      ]
     },
     "execution_count": 118,
     "metadata": {},
     "output_type": "execute_result"
    }
   ],
   "source": [
    "for i in shoes_brand_tags:\n",
    "    shoes=i.text\n",
    "    shoes_titles.append(shoes)\n",
    "shoes_titles[0:4]"
   ]
  },
  {
   "cell_type": "code",
   "execution_count": 119,
   "id": "d363e27f",
   "metadata": {},
   "outputs": [
    {
     "name": "stdout",
     "output_type": "stream",
     "text": [
      "115\n"
     ]
    }
   ],
   "source": [
    "print(len(shoes_titles))"
   ]
  },
  {
   "cell_type": "code",
   "execution_count": 120,
   "id": "e44b2a6e",
   "metadata": {},
   "outputs": [
    {
     "data": {
      "text/plain": [
       "[<selenium.webdriver.remote.webelement.WebElement (session=\"6257460e8afe5ca0714c19763aec83ea\", element=\"f5a44024-6eb7-41cb-a4ba-465409f44a4c\")>,\n",
       " <selenium.webdriver.remote.webelement.WebElement (session=\"6257460e8afe5ca0714c19763aec83ea\", element=\"1cc05bce-0a53-4178-a2c7-ce4515978150\")>,\n",
       " <selenium.webdriver.remote.webelement.WebElement (session=\"6257460e8afe5ca0714c19763aec83ea\", element=\"63fbf60c-d6d2-4195-ab5f-6160324de65e\")>,\n",
       " <selenium.webdriver.remote.webelement.WebElement (session=\"6257460e8afe5ca0714c19763aec83ea\", element=\"617ba32a-92c1-42d2-8045-9b9691045f66\")>]"
      ]
     },
     "execution_count": 120,
     "metadata": {},
     "output_type": "execute_result"
    }
   ],
   "source": [
    "shoes_des_tags=driver.find_elements_by_xpath(\"//h4[@class='product-product']\")\n",
    "shoes_des_tags[0:4]"
   ]
  },
  {
   "cell_type": "code",
   "execution_count": 121,
   "id": "299b755e",
   "metadata": {},
   "outputs": [
    {
     "data": {
      "text/plain": [
       "['Men Woven Design Sneakers', 'Men Leather Driving Shoes', '', '']"
      ]
     },
     "execution_count": 121,
     "metadata": {},
     "output_type": "execute_result"
    }
   ],
   "source": [
    "for i in shoes_des_tags:\n",
    "    shoes_des=i.text\n",
    "    shoes_description.append(shoes_des)\n",
    "shoes_description[0:4]"
   ]
  },
  {
   "cell_type": "code",
   "execution_count": 122,
   "id": "119f3b48",
   "metadata": {},
   "outputs": [],
   "source": [
    "next_button=driver.find_element_by_xpath(\"/html/body/div[2]/div/div[1]/main/div[3]/div[2]/div/div[2]/section/div[2]/ul/li[12]\")\n",
    "next_button.click()"
   ]
  },
  {
   "cell_type": "code",
   "execution_count": 123,
   "id": "48a79d3f",
   "metadata": {},
   "outputs": [
    {
     "data": {
      "text/plain": [
       "[<selenium.webdriver.remote.webelement.WebElement (session=\"6257460e8afe5ca0714c19763aec83ea\", element=\"ed372a6b-c342-4e20-bf02-1b676e25d7ea\")>,\n",
       " <selenium.webdriver.remote.webelement.WebElement (session=\"6257460e8afe5ca0714c19763aec83ea\", element=\"9416e340-4076-434b-9378-106e0949b797\")>,\n",
       " <selenium.webdriver.remote.webelement.WebElement (session=\"6257460e8afe5ca0714c19763aec83ea\", element=\"d7b61a11-9630-4dee-8502-fb4575301a33\")>,\n",
       " <selenium.webdriver.remote.webelement.WebElement (session=\"6257460e8afe5ca0714c19763aec83ea\", element=\"5f44cb1b-334e-4dda-a236-68cfce24e3d8\")>]"
      ]
     },
     "execution_count": 123,
     "metadata": {},
     "output_type": "execute_result"
    }
   ],
   "source": [
    "shoes_des_tags=driver.find_elements_by_xpath(\"//h4[@class='product-product']\")\n",
    "shoes_des_tags[0:4]"
   ]
  },
  {
   "cell_type": "code",
   "execution_count": 124,
   "id": "0161088d",
   "metadata": {},
   "outputs": [
    {
     "data": {
      "text/plain": [
       "['Men Woven Design Sneakers', 'Men Leather Driving Shoes', '', '']"
      ]
     },
     "execution_count": 124,
     "metadata": {},
     "output_type": "execute_result"
    }
   ],
   "source": [
    "for i in shoes_des_tags:\n",
    "    shoes_des=i.text\n",
    "    shoes_description.append(shoes_des)\n",
    "shoes_description[0:4]"
   ]
  },
  {
   "cell_type": "code",
   "execution_count": 125,
   "id": "c776bab9",
   "metadata": {},
   "outputs": [
    {
     "name": "stdout",
     "output_type": "stream",
     "text": [
      "115\n"
     ]
    }
   ],
   "source": [
    "print(len(shoes_description))"
   ]
  },
  {
   "cell_type": "code",
   "execution_count": 126,
   "id": "c9b320c8",
   "metadata": {},
   "outputs": [
    {
     "data": {
      "text/plain": [
       "[<selenium.webdriver.remote.webelement.WebElement (session=\"6257460e8afe5ca0714c19763aec83ea\", element=\"b417eb9a-cc75-4395-bc6e-9cf94fb1a5bd\")>,\n",
       " <selenium.webdriver.remote.webelement.WebElement (session=\"6257460e8afe5ca0714c19763aec83ea\", element=\"6e45066e-172a-4c54-9a10-250b51cf23d2\")>,\n",
       " <selenium.webdriver.remote.webelement.WebElement (session=\"6257460e8afe5ca0714c19763aec83ea\", element=\"ef44f31f-cffd-4e34-a0a7-ff91e17fd6f5\")>,\n",
       " <selenium.webdriver.remote.webelement.WebElement (session=\"6257460e8afe5ca0714c19763aec83ea\", element=\"1c9b60d1-0046-4165-863d-2c8decc0036a\")>]"
      ]
     },
     "execution_count": 126,
     "metadata": {},
     "output_type": "execute_result"
    }
   ],
   "source": [
    "price_tags=driver.find_elements_by_xpath(\"//span[@class='product-discountedPrice']\")\n",
    "price_tags[0:4]"
   ]
  },
  {
   "cell_type": "code",
   "execution_count": 131,
   "id": "b59ac3b8",
   "metadata": {},
   "outputs": [
    {
     "data": {
      "text/plain": [
       "['Rs. 7739', 'Rs. 7199', 'Rs. 8499', 'Rs. 8499']"
      ]
     },
     "execution_count": 131,
     "metadata": {},
     "output_type": "execute_result"
    }
   ],
   "source": [
    "for i in price_tags:\n",
    "    shoes_price=i.text\n",
    "    shoes_price_list.append(shoes_price)\n",
    "shoes_price_list[0:4]"
   ]
  },
  {
   "cell_type": "code",
   "execution_count": 132,
   "id": "8b711fd6",
   "metadata": {},
   "outputs": [],
   "source": [
    "next_button=driver.find_element_by_xpath(\"/html/body/div[2]/div/div[1]/main/div[3]/div[2]/div/div[2]/section/div[2]/ul/li[12]\")\n",
    "next_button.click()"
   ]
  },
  {
   "cell_type": "code",
   "execution_count": 133,
   "id": "b42ee05f",
   "metadata": {},
   "outputs": [
    {
     "data": {
      "text/plain": [
       "[<selenium.webdriver.remote.webelement.WebElement (session=\"6257460e8afe5ca0714c19763aec83ea\", element=\"e85b87af-81ed-4e5e-aa0a-c39f98ae3116\")>,\n",
       " <selenium.webdriver.remote.webelement.WebElement (session=\"6257460e8afe5ca0714c19763aec83ea\", element=\"7f089c7b-15f3-451b-9d23-e02a611a8a8b\")>,\n",
       " <selenium.webdriver.remote.webelement.WebElement (session=\"6257460e8afe5ca0714c19763aec83ea\", element=\"187c11a8-845f-4b03-9b22-9dceabbe585f\")>,\n",
       " <selenium.webdriver.remote.webelement.WebElement (session=\"6257460e8afe5ca0714c19763aec83ea\", element=\"7bd92042-023c-4e76-9c9f-0164178e4fd1\")>]"
      ]
     },
     "execution_count": 133,
     "metadata": {},
     "output_type": "execute_result"
    }
   ],
   "source": [
    "price_tags=driver.find_elements_by_xpath(\"//span[@class='product-discountedPrice']\")\n",
    "price_tags[0:4]"
   ]
  },
  {
   "cell_type": "code",
   "execution_count": 134,
   "id": "7beec287",
   "metadata": {},
   "outputs": [
    {
     "data": {
      "text/plain": [
       "['Rs. 7739', 'Rs. 7199', 'Rs. 8499', 'Rs. 8499']"
      ]
     },
     "execution_count": 134,
     "metadata": {},
     "output_type": "execute_result"
    }
   ],
   "source": [
    "for i in price_tags:\n",
    "    shoes_price=i.text\n",
    "    shoes_price_list.append(shoes_price)\n",
    "shoes_price_list[0:4]"
   ]
  },
  {
   "cell_type": "code",
   "execution_count": 135,
   "id": "80fbaecb",
   "metadata": {},
   "outputs": [
    {
     "name": "stdout",
     "output_type": "stream",
     "text": [
      "168\n"
     ]
    }
   ],
   "source": [
    "print(len(price_list))"
   ]
  },
  {
   "cell_type": "code",
   "execution_count": 137,
   "id": "01dc1fcb",
   "metadata": {},
   "outputs": [
    {
     "data": {
      "text/html": [
       "<div>\n",
       "<style scoped>\n",
       "    .dataframe tbody tr th:only-of-type {\n",
       "        vertical-align: middle;\n",
       "    }\n",
       "\n",
       "    .dataframe tbody tr th {\n",
       "        vertical-align: top;\n",
       "    }\n",
       "\n",
       "    .dataframe thead th {\n",
       "        text-align: right;\n",
       "    }\n",
       "</style>\n",
       "<table border=\"1\" class=\"dataframe\">\n",
       "  <thead>\n",
       "    <tr style=\"text-align: right;\">\n",
       "      <th></th>\n",
       "      <th>brand</th>\n",
       "      <th>product description</th>\n",
       "    </tr>\n",
       "  </thead>\n",
       "  <tbody>\n",
       "    <tr>\n",
       "      <th>0</th>\n",
       "      <td>ALDO</td>\n",
       "      <td>Men Woven Design Sneakers</td>\n",
       "    </tr>\n",
       "    <tr>\n",
       "      <th>1</th>\n",
       "      <td>ALDO</td>\n",
       "      <td>Men Leather Driving Shoes</td>\n",
       "    </tr>\n",
       "    <tr>\n",
       "      <th>2</th>\n",
       "      <td></td>\n",
       "      <td></td>\n",
       "    </tr>\n",
       "    <tr>\n",
       "      <th>3</th>\n",
       "      <td></td>\n",
       "      <td></td>\n",
       "    </tr>\n",
       "    <tr>\n",
       "      <th>4</th>\n",
       "      <td></td>\n",
       "      <td></td>\n",
       "    </tr>\n",
       "    <tr>\n",
       "      <th>...</th>\n",
       "      <td>...</td>\n",
       "      <td>...</td>\n",
       "    </tr>\n",
       "    <tr>\n",
       "      <th>95</th>\n",
       "      <td>Saint G</td>\n",
       "      <td>Women Leather Block Heels</td>\n",
       "    </tr>\n",
       "    <tr>\n",
       "      <th>96</th>\n",
       "      <td>Puma</td>\n",
       "      <td>Men Velocity Nitro 2 Running</td>\n",
       "    </tr>\n",
       "    <tr>\n",
       "      <th>97</th>\n",
       "      <td>Puma</td>\n",
       "      <td>Men Voyage Nitro Running Shoes</td>\n",
       "    </tr>\n",
       "    <tr>\n",
       "      <th>98</th>\n",
       "      <td>ALDO</td>\n",
       "      <td>Wedge Sandals</td>\n",
       "    </tr>\n",
       "    <tr>\n",
       "      <th>99</th>\n",
       "      <td>Heel &amp; Buckle London</td>\n",
       "      <td>Men Textured Leather Formal Loafers</td>\n",
       "    </tr>\n",
       "  </tbody>\n",
       "</table>\n",
       "<p>100 rows × 2 columns</p>\n",
       "</div>"
      ],
      "text/plain": [
       "                   brand                  product description\n",
       "0                   ALDO            Men Woven Design Sneakers\n",
       "1                   ALDO            Men Leather Driving Shoes\n",
       "2                                                            \n",
       "3                                                            \n",
       "4                                                            \n",
       "..                   ...                                  ...\n",
       "95               Saint G            Women Leather Block Heels\n",
       "96                  Puma         Men Velocity Nitro 2 Running\n",
       "97                  Puma       Men Voyage Nitro Running Shoes\n",
       "98                  ALDO                        Wedge Sandals\n",
       "99  Heel & Buckle London  Men Textured Leather Formal Loafers\n",
       "\n",
       "[100 rows x 2 columns]"
      ]
     },
     "execution_count": 137,
     "metadata": {},
     "output_type": "execute_result"
    }
   ],
   "source": [
    "shoes=pd.DataFrame({})                        \n",
    "shoes['brand']=shoes_titles\n",
    "shoes['product description']=shoes_description\n",
    "shoes.head(100)"
   ]
  },
  {
   "cell_type": "code",
   "execution_count": 138,
   "id": "e81d4fa1",
   "metadata": {},
   "outputs": [],
   "source": [
    "driver.close()"
   ]
  },
  {
   "cell_type": "raw",
   "id": "f4665072",
   "metadata": {},
   "source": [
    "Q8: Go to webpage https://www.amazon.in/\n",
    "Enter “Laptop” in the search field and then click the search icon.\n",
    "Then set CPU Type filter to “Intel Core i7” and “Intel Core i9” as shown in the below image:"
   ]
  },
  {
   "cell_type": "code",
   "execution_count": null,
   "id": "ac86a3d6",
   "metadata": {},
   "outputs": [],
   "source": [
    "! pip install selenium"
   ]
  },
  {
   "cell_type": "code",
   "execution_count": 140,
   "id": "5c89ed01",
   "metadata": {},
   "outputs": [],
   "source": [
    "import selenium\n",
    "import pandas as pd\n",
    "from selenium import webdriver\n",
    "import warnings\n",
    "warnings.filterwarnings(\"ignore\")\n",
    "import time"
   ]
  },
  {
   "cell_type": "code",
   "execution_count": 141,
   "id": "49174623",
   "metadata": {},
   "outputs": [],
   "source": [
    "driver = webdriver.Chrome(r\"C:\\Users\\Toshiba\\chromedriver.exe\")"
   ]
  },
  {
   "cell_type": "code",
   "execution_count": 142,
   "id": "b63bd09f",
   "metadata": {},
   "outputs": [],
   "source": [
    "driver = webdriver.Chrome(\"chromedriver.exe\")\n",
    "time.sleep(2)"
   ]
  },
  {
   "cell_type": "code",
   "execution_count": 143,
   "id": "9903e51d",
   "metadata": {},
   "outputs": [],
   "source": [
    "driver.get('https://www.amazon.in/')"
   ]
  },
  {
   "cell_type": "code",
   "execution_count": 170,
   "id": "df88c754",
   "metadata": {},
   "outputs": [],
   "source": [
    "titles=[]\n",
    "ratings=[]\n",
    "prices=[]\n"
   ]
  },
  {
   "cell_type": "code",
   "execution_count": 152,
   "id": "21a29013",
   "metadata": {},
   "outputs": [
    {
     "data": {
      "text/plain": [
       "[<selenium.webdriver.remote.webelement.WebElement (session=\"ca02faaef6556a5ef97cc8bef047005d\", element=\"185bf0f5-82e2-4aad-93c5-5349f8b532aa\")>,\n",
       " <selenium.webdriver.remote.webelement.WebElement (session=\"ca02faaef6556a5ef97cc8bef047005d\", element=\"1141c57b-663a-4323-a752-9e2251f657dd\")>,\n",
       " <selenium.webdriver.remote.webelement.WebElement (session=\"ca02faaef6556a5ef97cc8bef047005d\", element=\"38422777-33ec-4f4b-aac4-1efc6588b75b\")>,\n",
       " <selenium.webdriver.remote.webelement.WebElement (session=\"ca02faaef6556a5ef97cc8bef047005d\", element=\"31c1a013-33f5-4a00-971c-b9b835006c0f\")>]"
      ]
     },
     "execution_count": 152,
     "metadata": {},
     "output_type": "execute_result"
    }
   ],
   "source": [
    "title_tags=driver.find_elements_by_xpath(\"//h2[@class='a-size-mini a-spacing-none a-color-base s-line-clamp-2']\")\n",
    "title_tags[0:4]"
   ]
  },
  {
   "cell_type": "code",
   "execution_count": 153,
   "id": "0f607879",
   "metadata": {},
   "outputs": [
    {
     "data": {
      "text/plain": [
       "['MSI Modern 14, Intel i7-1195G7, 14\" FHD IPS-Level 60Hz Panel Laptop (8GB/512GB NVMe SSD/Windows 10 Home/Nvidia MX450 2GB Graphics/Carbon Grey/1.3Kg), B11SBU-688IN',\n",
       " 'Mi Notebook Horizon Edition 14 Intel Core i7-10510U 10th Gen Thin and Light Laptop(8GB/512GB SSD/Windows 10/Nvidia MX350 2GB Graphics/Grey/1.35Kg)(Without Webcam) XMA1904-AF',\n",
       " 'Samsung Galaxy Book2 Intel 12th Gen core i7 EvoTM  39.6cm (15.6\") FHD LED Thin & Light Laptop (16 GB/512 GB SSD/Windows 11/MS Office Home & Student 2021/Graphite/1.55Kg), NP750XED-KC2IN',\n",
       " 'Mi Notebook Ultra 3.2K Resolution Display Intel Core i7-11370H 11th Gen 15.6-inch(39.62 cm) Thin and Light Laptop (16GB/512GB SSD/Iris Xe Graphic/Win 10/MS Office 21/Backlit KB/FP Sensor/1.7Kg)']"
      ]
     },
     "execution_count": 153,
     "metadata": {},
     "output_type": "execute_result"
    }
   ],
   "source": [
    "for i in title_tags:\n",
    "    title=i.text\n",
    "    titles.append(title)\n",
    "titles[0:4]"
   ]
  },
  {
   "cell_type": "code",
   "execution_count": 154,
   "id": "fabf5135",
   "metadata": {},
   "outputs": [
    {
     "name": "stdout",
     "output_type": "stream",
     "text": [
      "30\n"
     ]
    }
   ],
   "source": [
    "print(len(titles))"
   ]
  },
  {
   "cell_type": "code",
   "execution_count": 155,
   "id": "f74b3d33",
   "metadata": {},
   "outputs": [
    {
     "data": {
      "text/plain": [
       "[<selenium.webdriver.remote.webelement.WebElement (session=\"ca02faaef6556a5ef97cc8bef047005d\", element=\"cbe2df37-1e7c-49bf-a71e-ba492908589b\")>,\n",
       " <selenium.webdriver.remote.webelement.WebElement (session=\"ca02faaef6556a5ef97cc8bef047005d\", element=\"ba2d505c-7c7d-4320-90c5-0b0d706d9cd8\")>,\n",
       " <selenium.webdriver.remote.webelement.WebElement (session=\"ca02faaef6556a5ef97cc8bef047005d\", element=\"bd0b0224-00d1-4117-bd2a-2a0e85f2e236\")>,\n",
       " <selenium.webdriver.remote.webelement.WebElement (session=\"ca02faaef6556a5ef97cc8bef047005d\", element=\"a6405031-22c9-47a7-962f-bba32ff69424\")>]"
      ]
     },
     "execution_count": 155,
     "metadata": {},
     "output_type": "execute_result"
    }
   ],
   "source": [
    "rating_tags=driver.find_elements_by_xpath(\"//i[@class='a-icon a-icon-star-small a-star-small-4 aok-align-bottom']\")\n",
    "rating_tags[0:4]"
   ]
  },
  {
   "cell_type": "code",
   "execution_count": 166,
   "id": "1c5d6fd9",
   "metadata": {},
   "outputs": [
    {
     "data": {
      "text/plain": [
       "['', '', '', '']"
      ]
     },
     "execution_count": 166,
     "metadata": {},
     "output_type": "execute_result"
    }
   ],
   "source": [
    "for i in rating_tags:\n",
    "    rating=i.text\n",
    "    ratings.append(rating)\n",
    "ratings[0:4]"
   ]
  },
  {
   "cell_type": "code",
   "execution_count": 167,
   "id": "4739a6a9",
   "metadata": {},
   "outputs": [
    {
     "name": "stdout",
     "output_type": "stream",
     "text": [
      "30\n"
     ]
    }
   ],
   "source": [
    "print(len(ratings))"
   ]
  },
  {
   "cell_type": "code",
   "execution_count": 168,
   "id": "2a1bb45c",
   "metadata": {},
   "outputs": [
    {
     "data": {
      "text/plain": [
       "[<selenium.webdriver.remote.webelement.WebElement (session=\"ca02faaef6556a5ef97cc8bef047005d\", element=\"d5685ddf-da5f-484e-8c1c-bcec2436840a\")>,\n",
       " <selenium.webdriver.remote.webelement.WebElement (session=\"ca02faaef6556a5ef97cc8bef047005d\", element=\"1a6c2826-aa1d-4359-91e3-1d3cf6011bde\")>,\n",
       " <selenium.webdriver.remote.webelement.WebElement (session=\"ca02faaef6556a5ef97cc8bef047005d\", element=\"0800ee90-7747-4b4d-8ffd-ae694efcc3a4\")>,\n",
       " <selenium.webdriver.remote.webelement.WebElement (session=\"ca02faaef6556a5ef97cc8bef047005d\", element=\"07157d5f-a58e-4b0a-ab65-3d2c61f78b77\")>]"
      ]
     },
     "execution_count": 168,
     "metadata": {},
     "output_type": "execute_result"
    }
   ],
   "source": [
    "price_tags=driver.find_elements_by_xpath(\"//span[@class='a-price-whole']\")\n",
    "price_tags[0:4]"
   ]
  },
  {
   "cell_type": "code",
   "execution_count": 171,
   "id": "d9c3157d",
   "metadata": {},
   "outputs": [
    {
     "data": {
      "text/plain": [
       "['76,490', '57,999', '79,990', '77,990']"
      ]
     },
     "execution_count": 171,
     "metadata": {},
     "output_type": "execute_result"
    }
   ],
   "source": [
    "for i in price_tags:\n",
    "    price=i.text\n",
    "    prices.append(price)\n",
    "prices[0:4]"
   ]
  },
  {
   "cell_type": "code",
   "execution_count": 172,
   "id": "595952ff",
   "metadata": {},
   "outputs": [
    {
     "name": "stdout",
     "output_type": "stream",
     "text": [
      "30\n"
     ]
    }
   ],
   "source": [
    "print(len(prices))"
   ]
  },
  {
   "cell_type": "code",
   "execution_count": 178,
   "id": "f647b806",
   "metadata": {},
   "outputs": [
    {
     "data": {
      "text/html": [
       "<div>\n",
       "<style scoped>\n",
       "    .dataframe tbody tr th:only-of-type {\n",
       "        vertical-align: middle;\n",
       "    }\n",
       "\n",
       "    .dataframe tbody tr th {\n",
       "        vertical-align: top;\n",
       "    }\n",
       "\n",
       "    .dataframe thead th {\n",
       "        text-align: right;\n",
       "    }\n",
       "</style>\n",
       "<table border=\"1\" class=\"dataframe\">\n",
       "  <thead>\n",
       "    <tr style=\"text-align: right;\">\n",
       "      <th></th>\n",
       "      <th>Title</th>\n",
       "      <th>Rating</th>\n",
       "      <th>price</th>\n",
       "    </tr>\n",
       "  </thead>\n",
       "  <tbody>\n",
       "    <tr>\n",
       "      <th>0</th>\n",
       "      <td>NaN</td>\n",
       "      <td>NaN</td>\n",
       "      <td>76,490</td>\n",
       "    </tr>\n",
       "    <tr>\n",
       "      <th>1</th>\n",
       "      <td>NaN</td>\n",
       "      <td>NaN</td>\n",
       "      <td>57,999</td>\n",
       "    </tr>\n",
       "    <tr>\n",
       "      <th>2</th>\n",
       "      <td>NaN</td>\n",
       "      <td>NaN</td>\n",
       "      <td>79,990</td>\n",
       "    </tr>\n",
       "    <tr>\n",
       "      <th>3</th>\n",
       "      <td>NaN</td>\n",
       "      <td>NaN</td>\n",
       "      <td>77,990</td>\n",
       "    </tr>\n",
       "    <tr>\n",
       "      <th>4</th>\n",
       "      <td>NaN</td>\n",
       "      <td>NaN</td>\n",
       "      <td>89,990</td>\n",
       "    </tr>\n",
       "    <tr>\n",
       "      <th>5</th>\n",
       "      <td>NaN</td>\n",
       "      <td>NaN</td>\n",
       "      <td>86,990</td>\n",
       "    </tr>\n",
       "    <tr>\n",
       "      <th>6</th>\n",
       "      <td>NaN</td>\n",
       "      <td>NaN</td>\n",
       "      <td>57,490</td>\n",
       "    </tr>\n",
       "    <tr>\n",
       "      <th>7</th>\n",
       "      <td>NaN</td>\n",
       "      <td>NaN</td>\n",
       "      <td>93,999</td>\n",
       "    </tr>\n",
       "    <tr>\n",
       "      <th>8</th>\n",
       "      <td>NaN</td>\n",
       "      <td>NaN</td>\n",
       "      <td>1,01,112</td>\n",
       "    </tr>\n",
       "    <tr>\n",
       "      <th>9</th>\n",
       "      <td>NaN</td>\n",
       "      <td>NaN</td>\n",
       "      <td>85,890</td>\n",
       "    </tr>\n",
       "  </tbody>\n",
       "</table>\n",
       "</div>"
      ],
      "text/plain": [
       "   Title  Rating     price\n",
       "0    NaN     NaN    76,490\n",
       "1    NaN     NaN    57,999\n",
       "2    NaN     NaN    79,990\n",
       "3    NaN     NaN    77,990\n",
       "4    NaN     NaN    89,990\n",
       "5    NaN     NaN    86,990\n",
       "6    NaN     NaN    57,490\n",
       "7    NaN     NaN    93,999\n",
       "8    NaN     NaN  1,01,112\n",
       "9    NaN     NaN    85,890"
      ]
     },
     "execution_count": 178,
     "metadata": {},
     "output_type": "execute_result"
    }
   ],
   "source": [
    "laptop=pd.DataFrame({})                        \n",
    "laptop['Title']=titles\n",
    "laptop['Rating']=ratings\n",
    "laptop['price']=prices\n",
    "laptop.head(10)"
   ]
  },
  {
   "cell_type": "code",
   "execution_count": null,
   "id": "d2b2d1e3",
   "metadata": {},
   "outputs": [],
   "source": [
    "import numpy as np\n",
    "df2 = laptop.replace(np.nan, '')\n",
    "print(df2)"
   ]
  },
  {
   "cell_type": "code",
   "execution_count": 185,
   "id": "b277c215",
   "metadata": {},
   "outputs": [],
   "source": [
    "driver.close()"
   ]
  },
  {
   "cell_type": "raw",
   "id": "016ef84a",
   "metadata": {},
   "source": [
    "Q9: Write a python program to scrape data for first 10 job results for Data Scientist Designation in Noida\n",
    "location. You have to scrape company name, No. of days ago when job was posted, Rating of the company.\n",
    "This task will be done in following steps:\n",
    "1. First get the webpage https://www.ambitionbox.com/\n",
    "2. Click on the Job option as shown in the image\n",
    "3. After reaching to the next webpage, In place of “Search by Designations, Companies, Skills” enter\n",
    "“Data Scientist” and click on search button.\n",
    "4. You will reach to the following web page click on location and in place of “Search location” enter\n",
    "“Noida” and select location “Noida”.\n",
    "5. Then scrape the data for the first 10 jobs results you get on the above shown page.\n",
    "6. Finally create a dataframe of the scraped data.\n",
    "Note: All the steps required during scraping should be done through code only and not manually.\n",
    "\n"
   ]
  },
  {
   "cell_type": "code",
   "execution_count": null,
   "id": "2b3f04be",
   "metadata": {},
   "outputs": [],
   "source": [
    "! pip install selenium"
   ]
  },
  {
   "cell_type": "code",
   "execution_count": 184,
   "id": "a2e9bb98",
   "metadata": {},
   "outputs": [],
   "source": [
    "import selenium\n",
    "import pandas as pd\n",
    "from selenium import webdriver\n",
    "import warnings\n",
    "warnings.filterwarnings(\"ignore\")\n",
    "import time"
   ]
  },
  {
   "cell_type": "code",
   "execution_count": 186,
   "id": "818038cc",
   "metadata": {},
   "outputs": [],
   "source": [
    "driver = webdriver.Chrome(r\"C:\\Users\\Toshiba\\chromedriver.exe\")"
   ]
  },
  {
   "cell_type": "code",
   "execution_count": 187,
   "id": "8ba7fd27",
   "metadata": {},
   "outputs": [],
   "source": [
    "driver = webdriver.Chrome(\"chromedriver.exe\")\n",
    "time.sleep(2)"
   ]
  },
  {
   "cell_type": "code",
   "execution_count": 188,
   "id": "60767025",
   "metadata": {},
   "outputs": [],
   "source": [
    "driver.get('https://www.ambitionbox.com/')"
   ]
  },
  {
   "cell_type": "code",
   "execution_count": 189,
   "id": "ace5dedc",
   "metadata": {},
   "outputs": [],
   "source": [
    "company_name=[]\n",
    "No_of_days_ago_when_job_was_posted=[]\n",
    "Rating_of_the_company=[]"
   ]
  },
  {
   "cell_type": "code",
   "execution_count": 190,
   "id": "49acd160",
   "metadata": {},
   "outputs": [
    {
     "data": {
      "text/plain": [
       "[<selenium.webdriver.remote.webelement.WebElement (session=\"fe57be5e4d23890dd5e9b5cf85fb1112\", element=\"cb7a2458-8d43-4f4a-a83e-14c350e86a14\")>,\n",
       " <selenium.webdriver.remote.webelement.WebElement (session=\"fe57be5e4d23890dd5e9b5cf85fb1112\", element=\"73498a7a-8984-4cdc-bbc9-b377bc8e8803\")>,\n",
       " <selenium.webdriver.remote.webelement.WebElement (session=\"fe57be5e4d23890dd5e9b5cf85fb1112\", element=\"97d7b46f-85b2-494c-b361-781298675bd2\")>,\n",
       " <selenium.webdriver.remote.webelement.WebElement (session=\"fe57be5e4d23890dd5e9b5cf85fb1112\", element=\"e5bf6756-ab03-486a-9f39-875e5d143b91\")>]"
      ]
     },
     "execution_count": 190,
     "metadata": {},
     "output_type": "execute_result"
    }
   ],
   "source": [
    "company_tags=driver.find_elements_by_xpath(\"//a[@class='title noclick']\")\n",
    "company_tags[0:4]"
   ]
  },
  {
   "cell_type": "code",
   "execution_count": 193,
   "id": "1fa5422f",
   "metadata": {},
   "outputs": [
    {
     "data": {
      "text/plain": [
       "['Machine Learning Engineer',\n",
       " 'Data Scientist- AI/ML- R&D',\n",
       " 'Data Scientist',\n",
       " 'Oracle HCM BI Technical Lead/Manager (People Analytics)']"
      ]
     },
     "execution_count": 193,
     "metadata": {},
     "output_type": "execute_result"
    }
   ],
   "source": [
    "for i in company_tags:\n",
    "    company=i.text\n",
    "    company_name.append(company)\n",
    "company_name[0:4]"
   ]
  },
  {
   "cell_type": "code",
   "execution_count": 194,
   "id": "ba04b80d",
   "metadata": {},
   "outputs": [
    {
     "name": "stdout",
     "output_type": "stream",
     "text": [
      "20\n"
     ]
    }
   ],
   "source": [
    "print(len(company_name))"
   ]
  },
  {
   "cell_type": "code",
   "execution_count": 195,
   "id": "cd9ba694",
   "metadata": {},
   "outputs": [
    {
     "data": {
      "text/plain": [
       "[<selenium.webdriver.remote.webelement.WebElement (session=\"fe57be5e4d23890dd5e9b5cf85fb1112\", element=\"43951ab8-c24c-43c6-808b-666e2e13802e\")>,\n",
       " <selenium.webdriver.remote.webelement.WebElement (session=\"fe57be5e4d23890dd5e9b5cf85fb1112\", element=\"896559f3-b522-4b3e-8968-3c123afdf27b\")>,\n",
       " <selenium.webdriver.remote.webelement.WebElement (session=\"fe57be5e4d23890dd5e9b5cf85fb1112\", element=\"f5dec5d4-7177-45d0-8d2b-7e6ffa8d27ca\")>,\n",
       " <selenium.webdriver.remote.webelement.WebElement (session=\"fe57be5e4d23890dd5e9b5cf85fb1112\", element=\"632cb5f5-49e2-4ea8-94e2-e3cbf4f06218\")>]"
      ]
     },
     "execution_count": 195,
     "metadata": {},
     "output_type": "execute_result"
    }
   ],
   "source": [
    "job_posting_tags=driver.find_elements_by_xpath(\"//span[@class='body-small-l']\")\n",
    "job_posting_tags[0:4]"
   ]
  },
  {
   "cell_type": "code",
   "execution_count": 196,
   "id": "255c03d3",
   "metadata": {},
   "outputs": [
    {
     "data": {
      "text/plain": [
       "['13d ago', 'via naukri.com', '6d ago', 'via naukri.com']"
      ]
     },
     "execution_count": 196,
     "metadata": {},
     "output_type": "execute_result"
    }
   ],
   "source": [
    "for i in job_posting_tags:\n",
    "    job_posting=i.text\n",
    "    No_of_days_ago_when_job_was_posted.append(job_posting)\n",
    "No_of_days_ago_when_job_was_posted[0:4]"
   ]
  },
  {
   "cell_type": "code",
   "execution_count": 197,
   "id": "20c5a8d9",
   "metadata": {},
   "outputs": [
    {
     "name": "stdout",
     "output_type": "stream",
     "text": [
      "20\n"
     ]
    }
   ],
   "source": [
    "print(len(No_of_days_ago_when_job_was_posted))"
   ]
  },
  {
   "cell_type": "code",
   "execution_count": 198,
   "id": "ba3cbc0a",
   "metadata": {},
   "outputs": [
    {
     "data": {
      "text/plain": [
       "[<selenium.webdriver.remote.webelement.WebElement (session=\"fe57be5e4d23890dd5e9b5cf85fb1112\", element=\"4d5df680-4c81-4b40-9c92-5475d0783231\")>,\n",
       " <selenium.webdriver.remote.webelement.WebElement (session=\"fe57be5e4d23890dd5e9b5cf85fb1112\", element=\"479c642e-3ff9-4f98-80c4-2e7282e1c1fb\")>,\n",
       " <selenium.webdriver.remote.webelement.WebElement (session=\"fe57be5e4d23890dd5e9b5cf85fb1112\", element=\"5563cd97-dc8d-499b-8b82-4f0aa26c600b\")>,\n",
       " <selenium.webdriver.remote.webelement.WebElement (session=\"fe57be5e4d23890dd5e9b5cf85fb1112\", element=\"a28094e4-c48e-4ef0-b0a8-fa8998db29e3\")>]"
      ]
     },
     "execution_count": 198,
     "metadata": {},
     "output_type": "execute_result"
    }
   ],
   "source": [
    "rating_tags=driver.find_elements_by_xpath(\"//span[@class='body-small']\")\n",
    "rating_tags[0:4]"
   ]
  },
  {
   "cell_type": "code",
   "execution_count": 204,
   "id": "7db00939",
   "metadata": {},
   "outputs": [
    {
     "data": {
      "text/plain": [
       "['4.0', '3.9', '4.0', '3.9']"
      ]
     },
     "execution_count": 204,
     "metadata": {},
     "output_type": "execute_result"
    }
   ],
   "source": [
    "for i in rating_tags:\n",
    "    rating=i.text\n",
    "    Rating_of_the_company.append(rating)\n",
    "Rating_of_the_company[0:4]"
   ]
  },
  {
   "cell_type": "code",
   "execution_count": 205,
   "id": "11acfeb7",
   "metadata": {},
   "outputs": [
    {
     "name": "stdout",
     "output_type": "stream",
     "text": [
      "20\n"
     ]
    }
   ],
   "source": [
    "print(len(Rating_of_the_company))"
   ]
  },
  {
   "cell_type": "code",
   "execution_count": 207,
   "id": "0d531cc0",
   "metadata": {},
   "outputs": [
    {
     "data": {
      "text/html": [
       "<div>\n",
       "<style scoped>\n",
       "    .dataframe tbody tr th:only-of-type {\n",
       "        vertical-align: middle;\n",
       "    }\n",
       "\n",
       "    .dataframe tbody tr th {\n",
       "        vertical-align: top;\n",
       "    }\n",
       "\n",
       "    .dataframe thead th {\n",
       "        text-align: right;\n",
       "    }\n",
       "</style>\n",
       "<table border=\"1\" class=\"dataframe\">\n",
       "  <thead>\n",
       "    <tr style=\"text-align: right;\">\n",
       "      <th></th>\n",
       "      <th>Company</th>\n",
       "      <th>Job posting</th>\n",
       "      <th>Rating</th>\n",
       "    </tr>\n",
       "  </thead>\n",
       "  <tbody>\n",
       "    <tr>\n",
       "      <th>0</th>\n",
       "      <td>Machine Learning Engineer</td>\n",
       "      <td>13d ago</td>\n",
       "      <td>4.0</td>\n",
       "    </tr>\n",
       "    <tr>\n",
       "      <th>1</th>\n",
       "      <td>Data Scientist- AI/ML- R&amp;D</td>\n",
       "      <td>via naukri.com</td>\n",
       "      <td>3.9</td>\n",
       "    </tr>\n",
       "    <tr>\n",
       "      <th>2</th>\n",
       "      <td>Data Scientist</td>\n",
       "      <td>6d ago</td>\n",
       "      <td>4.0</td>\n",
       "    </tr>\n",
       "    <tr>\n",
       "      <th>3</th>\n",
       "      <td>Oracle HCM BI Technical Lead/Manager (People A...</td>\n",
       "      <td>via naukri.com</td>\n",
       "      <td>3.9</td>\n",
       "    </tr>\n",
       "    <tr>\n",
       "      <th>4</th>\n",
       "      <td>Data Scientist with SAS</td>\n",
       "      <td>18d ago</td>\n",
       "      <td>3.7</td>\n",
       "    </tr>\n",
       "    <tr>\n",
       "      <th>5</th>\n",
       "      <td>Hiring For Data Scientist + Python/R+ Predicti...</td>\n",
       "      <td>via naukri.com</td>\n",
       "      <td>4.0</td>\n",
       "    </tr>\n",
       "    <tr>\n",
       "      <th>6</th>\n",
       "      <td>Data Scientist - Immediate Joiners</td>\n",
       "      <td>4d ago</td>\n",
       "      <td>3.8</td>\n",
       "    </tr>\n",
       "    <tr>\n",
       "      <th>7</th>\n",
       "      <td>Data Scientist - Machine Learning (5-14 yrs)</td>\n",
       "      <td>via naukri.com</td>\n",
       "      <td>4.1</td>\n",
       "    </tr>\n",
       "    <tr>\n",
       "      <th>8</th>\n",
       "      <td>Data Scientist</td>\n",
       "      <td>1mon ago</td>\n",
       "      <td>3.7</td>\n",
       "    </tr>\n",
       "    <tr>\n",
       "      <th>9</th>\n",
       "      <td>Data Scientist- Fresher Opening - Newgen Softw...</td>\n",
       "      <td>via naukri.com</td>\n",
       "      <td>3.5</td>\n",
       "    </tr>\n",
       "  </tbody>\n",
       "</table>\n",
       "</div>"
      ],
      "text/plain": [
       "                                             Company     Job posting Rating\n",
       "0                          Machine Learning Engineer         13d ago    4.0\n",
       "1                         Data Scientist- AI/ML- R&D  via naukri.com    3.9\n",
       "2                                     Data Scientist          6d ago    4.0\n",
       "3  Oracle HCM BI Technical Lead/Manager (People A...  via naukri.com    3.9\n",
       "4                            Data Scientist with SAS         18d ago    3.7\n",
       "5  Hiring For Data Scientist + Python/R+ Predicti...  via naukri.com    4.0\n",
       "6                 Data Scientist - Immediate Joiners          4d ago    3.8\n",
       "7       Data Scientist - Machine Learning (5-14 yrs)  via naukri.com    4.1\n",
       "8                                     Data Scientist        1mon ago    3.7\n",
       "9  Data Scientist- Fresher Opening - Newgen Softw...  via naukri.com    3.5"
      ]
     },
     "execution_count": 207,
     "metadata": {},
     "output_type": "execute_result"
    }
   ],
   "source": [
    "jobs=pd.DataFrame({})                        \n",
    "jobs['Company']=company_name\n",
    "jobs['Job posting']=No_of_days_ago_when_job_was_posted\n",
    "jobs['Rating']=Rating_of_the_company\n",
    "jobs.head(10)"
   ]
  },
  {
   "cell_type": "code",
   "execution_count": 208,
   "id": "db40c535",
   "metadata": {},
   "outputs": [],
   "source": [
    "driver.close()"
   ]
  },
  {
   "cell_type": "raw",
   "id": "8e31918f",
   "metadata": {},
   "source": [
    "Q10: Write a python program to scrape the salary data for Data Scientist designation.\n",
    "You have to scrape Company name, Number of salaries, Average salary, Minsalary, Max Salary.\n",
    "The above task will be, done as shown in the below steps:\n",
    "1. First get the webpage https://www.ambitionbox.com/\n",
    "2. Click on the salaries option as shown in the image\n",
    "3. After reaching to the following webpage, In place of “Search Job Profile” enters “Data Scientist” and\n",
    "then click on “Data Scientist”.\n",
    "You have to scrape the data ticked in the above image.\n",
    "4. Scrape the data for the first 10 companies. Scrape the company name, total salary record, average\n",
    "salary, minimum salary, maximum salary, experience required.\n",
    "5. Store the data in a dataframe.\n",
    "Note: All the steps required during scraping should be done through code only and not manually."
   ]
  },
  {
   "cell_type": "code",
   "execution_count": null,
   "id": "998fff34",
   "metadata": {},
   "outputs": [],
   "source": [
    "! pip install selenium"
   ]
  },
  {
   "cell_type": "code",
   "execution_count": 210,
   "id": "c380c909",
   "metadata": {},
   "outputs": [],
   "source": [
    "import selenium\n",
    "import pandas as pd\n",
    "from selenium import webdriver\n",
    "import warnings\n",
    "warnings.filterwarnings(\"ignore\")\n",
    "import time"
   ]
  },
  {
   "cell_type": "code",
   "execution_count": 212,
   "id": "a40a0b3e",
   "metadata": {},
   "outputs": [],
   "source": [
    "driver = webdriver.Chrome(r\"C:\\Users\\Toshiba\\chromedriver.exe\")"
   ]
  },
  {
   "cell_type": "code",
   "execution_count": 213,
   "id": "bec064c8",
   "metadata": {},
   "outputs": [],
   "source": [
    "driver = webdriver.Chrome(\"chromedriver.exe\")\n",
    "time.sleep(2)"
   ]
  },
  {
   "cell_type": "code",
   "execution_count": 214,
   "id": "f1f08772",
   "metadata": {},
   "outputs": [],
   "source": [
    "driver.get('https://www.ambitionbox.com/')"
   ]
  },
  {
   "cell_type": "code",
   "execution_count": 219,
   "id": "4d8363bb",
   "metadata": {},
   "outputs": [],
   "source": [
    "company_name=[]\n",
    "\n",
    "average_salary=[]\n",
    "minimum_salary=[]\n",
    "maximum_salary=[]\n",
    "experience_required=[]"
   ]
  },
  {
   "cell_type": "code",
   "execution_count": 216,
   "id": "003706f9",
   "metadata": {},
   "outputs": [
    {
     "data": {
      "text/plain": [
       "[<selenium.webdriver.remote.webelement.WebElement (session=\"d7082e2c020226a20abeb52bd0214299\", element=\"ce97283e-48aa-4477-b805-ab8f37df4461\")>,\n",
       " <selenium.webdriver.remote.webelement.WebElement (session=\"d7082e2c020226a20abeb52bd0214299\", element=\"2bd06678-ff97-4f81-8de8-1dc8bc287af8\")>,\n",
       " <selenium.webdriver.remote.webelement.WebElement (session=\"d7082e2c020226a20abeb52bd0214299\", element=\"69bd7101-005d-451c-87be-05f06f67ccd5\")>,\n",
       " <selenium.webdriver.remote.webelement.WebElement (session=\"d7082e2c020226a20abeb52bd0214299\", element=\"9999f3d6-256e-4561-8a23-fc13bcdc0e49\")>]"
      ]
     },
     "execution_count": 216,
     "metadata": {},
     "output_type": "execute_result"
    }
   ],
   "source": [
    "company_tags=driver.find_elements_by_xpath(\"//div[@class='name']\")\n",
    "company_tags[0:4]"
   ]
  },
  {
   "cell_type": "code",
   "execution_count": 241,
   "id": "9ed9ce4b",
   "metadata": {},
   "outputs": [
    {
     "data": {
      "text/plain": [
       "['Walmart\\nbased on 11 salaries',\n",
       " 'Ab Inbev\\nbased on 32 salaries',\n",
       " 'Reliance Jio\\nbased on 10 salaries',\n",
       " 'ZS\\nbased on 15 salaries']"
      ]
     },
     "execution_count": 241,
     "metadata": {},
     "output_type": "execute_result"
    }
   ],
   "source": [
    "for i in company_tags:\n",
    "    company=i.text\n",
    "    company_name.append(company)\n",
    "company_name[0:4]"
   ]
  },
  {
   "cell_type": "code",
   "execution_count": 242,
   "id": "afbc254e",
   "metadata": {},
   "outputs": [
    {
     "name": "stdout",
     "output_type": "stream",
     "text": [
      "40\n"
     ]
    }
   ],
   "source": [
    "print(len(company_name))"
   ]
  },
  {
   "cell_type": "code",
   "execution_count": 243,
   "id": "20c5db84",
   "metadata": {},
   "outputs": [
    {
     "data": {
      "text/plain": [
       "[<selenium.webdriver.remote.webelement.WebElement (session=\"d7082e2c020226a20abeb52bd0214299\", element=\"7cf71746-36e6-40a4-8933-b85cad7b1758\")>,\n",
       " <selenium.webdriver.remote.webelement.WebElement (session=\"d7082e2c020226a20abeb52bd0214299\", element=\"b9985d42-3bac-4a5e-a1cd-57af24e7026a\")>,\n",
       " <selenium.webdriver.remote.webelement.WebElement (session=\"d7082e2c020226a20abeb52bd0214299\", element=\"77d53708-cf89-41fa-9690-b347376f3d57\")>,\n",
       " <selenium.webdriver.remote.webelement.WebElement (session=\"d7082e2c020226a20abeb52bd0214299\", element=\"effb3c2e-297e-468e-a82a-0895cab4a656\")>]"
      ]
     },
     "execution_count": 243,
     "metadata": {},
     "output_type": "execute_result"
    }
   ],
   "source": [
    "average_salary_tags=driver.find_elements_by_xpath(\"//p[@class='averageCtc']\")\n",
    "average_salary_tags[0:4]"
   ]
  },
  {
   "cell_type": "code",
   "execution_count": 244,
   "id": "bf88d5ab",
   "metadata": {},
   "outputs": [
    {
     "data": {
      "text/plain": [
       "['₹ 29.7L', '₹ 20.5L', '₹ 18.9L', '₹ 15.9L']"
      ]
     },
     "execution_count": 244,
     "metadata": {},
     "output_type": "execute_result"
    }
   ],
   "source": [
    "for i in average_salary_tags:\n",
    "    average_s=i.text\n",
    "    average_salary.append(average_s)\n",
    "average_salary[0:4]"
   ]
  },
  {
   "cell_type": "code",
   "execution_count": 245,
   "id": "4cb7dc4b",
   "metadata": {},
   "outputs": [
    {
     "name": "stdout",
     "output_type": "stream",
     "text": [
      "40\n"
     ]
    }
   ],
   "source": [
    "print(len(average_salary))"
   ]
  },
  {
   "cell_type": "code",
   "execution_count": 225,
   "id": "c301394d",
   "metadata": {},
   "outputs": [
    {
     "data": {
      "text/plain": [
       "[<selenium.webdriver.remote.webelement.WebElement (session=\"d7082e2c020226a20abeb52bd0214299\", element=\"1df932f7-4b30-419b-89dc-ba22d8613c6b\")>,\n",
       " <selenium.webdriver.remote.webelement.WebElement (session=\"d7082e2c020226a20abeb52bd0214299\", element=\"b0d7baf1-9cc7-4f47-8a20-9dd760fe24d0\")>,\n",
       " <selenium.webdriver.remote.webelement.WebElement (session=\"d7082e2c020226a20abeb52bd0214299\", element=\"73eb9571-0771-407b-9483-f923fa3c35c1\")>,\n",
       " <selenium.webdriver.remote.webelement.WebElement (session=\"d7082e2c020226a20abeb52bd0214299\", element=\"9fdea6d8-679a-49f3-b58e-74dec4ed2d42\")>]"
      ]
     },
     "execution_count": 225,
     "metadata": {},
     "output_type": "execute_result"
    }
   ],
   "source": [
    "minimum_salary_tags=driver.find_elements_by_xpath(\"//div[@class='value body-medium']\")\n",
    "minimum_salary_tags[0:4]"
   ]
  },
  {
   "cell_type": "code",
   "execution_count": 227,
   "id": "91ca0e60",
   "metadata": {},
   "outputs": [
    {
     "data": {
      "text/plain": [
       "['₹ 25.0L', '₹ 35.0L', '₹ 15.0L', '₹ 25.5L']"
      ]
     },
     "execution_count": 227,
     "metadata": {},
     "output_type": "execute_result"
    }
   ],
   "source": [
    "for i in minimum_salary_tags:\n",
    "    minimum_s=i.text\n",
    "    minimum_salary.append(minimum_s)\n",
    "minimum_salary[0:4]"
   ]
  },
  {
   "cell_type": "code",
   "execution_count": 228,
   "id": "efc967af",
   "metadata": {},
   "outputs": [
    {
     "name": "stdout",
     "output_type": "stream",
     "text": [
      "40\n"
     ]
    }
   ],
   "source": [
    "print(len(minimum_salary))"
   ]
  },
  {
   "cell_type": "code",
   "execution_count": 249,
   "id": "1e8054e8",
   "metadata": {},
   "outputs": [
    {
     "data": {
      "text/plain": [
       "[<selenium.webdriver.remote.webelement.WebElement (session=\"d7082e2c020226a20abeb52bd0214299\", element=\"1df932f7-4b30-419b-89dc-ba22d8613c6b\")>,\n",
       " <selenium.webdriver.remote.webelement.WebElement (session=\"d7082e2c020226a20abeb52bd0214299\", element=\"b0d7baf1-9cc7-4f47-8a20-9dd760fe24d0\")>,\n",
       " <selenium.webdriver.remote.webelement.WebElement (session=\"d7082e2c020226a20abeb52bd0214299\", element=\"73eb9571-0771-407b-9483-f923fa3c35c1\")>,\n",
       " <selenium.webdriver.remote.webelement.WebElement (session=\"d7082e2c020226a20abeb52bd0214299\", element=\"9fdea6d8-679a-49f3-b58e-74dec4ed2d42\")>]"
      ]
     },
     "execution_count": 249,
     "metadata": {},
     "output_type": "execute_result"
    }
   ],
   "source": [
    "maximum_salary_tags=driver.find_elements_by_xpath(\"//div[@class='value body-medium']\")\n",
    "maximum_salary_tags[0:4]"
   ]
  },
  {
   "cell_type": "code",
   "execution_count": 250,
   "id": "ffd10f6c",
   "metadata": {},
   "outputs": [
    {
     "data": {
      "text/plain": [
       "['₹ 25.0L', '₹ 35.0L', '₹ 15.0L', '₹ 25.5L']"
      ]
     },
     "execution_count": 250,
     "metadata": {},
     "output_type": "execute_result"
    }
   ],
   "source": [
    "for i in maximum_salary_tags:\n",
    "    maximum_s=i.text\n",
    "    maximum_salary.append(maximum_s)\n",
    "maximum_salary[0:4]"
   ]
  },
  {
   "cell_type": "code",
   "execution_count": 251,
   "id": "74c3789e",
   "metadata": {},
   "outputs": [
    {
     "name": "stdout",
     "output_type": "stream",
     "text": [
      "40\n"
     ]
    }
   ],
   "source": [
    "print(len(maximum_salary))"
   ]
  },
  {
   "cell_type": "code",
   "execution_count": 252,
   "id": "3067a8df",
   "metadata": {},
   "outputs": [
    {
     "data": {
      "text/html": [
       "<div>\n",
       "<style scoped>\n",
       "    .dataframe tbody tr th:only-of-type {\n",
       "        vertical-align: middle;\n",
       "    }\n",
       "\n",
       "    .dataframe tbody tr th {\n",
       "        vertical-align: top;\n",
       "    }\n",
       "\n",
       "    .dataframe thead th {\n",
       "        text-align: right;\n",
       "    }\n",
       "</style>\n",
       "<table border=\"1\" class=\"dataframe\">\n",
       "  <thead>\n",
       "    <tr style=\"text-align: right;\">\n",
       "      <th></th>\n",
       "      <th>Company</th>\n",
       "      <th>Averagr pay</th>\n",
       "      <th>Minimum pay</th>\n",
       "      <th>maximum pay</th>\n",
       "    </tr>\n",
       "  </thead>\n",
       "  <tbody>\n",
       "    <tr>\n",
       "      <th>0</th>\n",
       "      <td>Walmart\\nbased on 11 salaries</td>\n",
       "      <td>₹ 29.7L</td>\n",
       "      <td>₹ 25.0L</td>\n",
       "      <td>₹ 25.0L</td>\n",
       "    </tr>\n",
       "    <tr>\n",
       "      <th>1</th>\n",
       "      <td>Ab Inbev\\nbased on 32 salaries</td>\n",
       "      <td>₹ 20.5L</td>\n",
       "      <td>₹ 35.0L</td>\n",
       "      <td>₹ 35.0L</td>\n",
       "    </tr>\n",
       "    <tr>\n",
       "      <th>2</th>\n",
       "      <td>Reliance Jio\\nbased on 10 salaries</td>\n",
       "      <td>₹ 18.9L</td>\n",
       "      <td>₹ 15.0L</td>\n",
       "      <td>₹ 15.0L</td>\n",
       "    </tr>\n",
       "    <tr>\n",
       "      <th>3</th>\n",
       "      <td>ZS\\nbased on 15 salaries</td>\n",
       "      <td>₹ 15.9L</td>\n",
       "      <td>₹ 25.5L</td>\n",
       "      <td>₹ 25.5L</td>\n",
       "    </tr>\n",
       "    <tr>\n",
       "      <th>4</th>\n",
       "      <td>Optum\\nbased on 27 salaries</td>\n",
       "      <td>₹ 15.2L</td>\n",
       "      <td>₹ 5.6L</td>\n",
       "      <td>₹ 5.6L</td>\n",
       "    </tr>\n",
       "    <tr>\n",
       "      <th>5</th>\n",
       "      <td>Fractal Analytics\\nbased on 81 salaries</td>\n",
       "      <td>₹ 15.2L</td>\n",
       "      <td>₹ 26.2L</td>\n",
       "      <td>₹ 26.2L</td>\n",
       "    </tr>\n",
       "    <tr>\n",
       "      <th>6</th>\n",
       "      <td>Tiger Analytics\\nbased on 46 salaries</td>\n",
       "      <td>₹ 14.8L</td>\n",
       "      <td>₹ 9.8L</td>\n",
       "      <td>₹ 9.8L</td>\n",
       "    </tr>\n",
       "    <tr>\n",
       "      <th>7</th>\n",
       "      <td>UnitedHealth\\nbased on 53 salaries</td>\n",
       "      <td>₹ 14.0L</td>\n",
       "      <td>₹ 20.0L</td>\n",
       "      <td>₹ 20.0L</td>\n",
       "    </tr>\n",
       "    <tr>\n",
       "      <th>8</th>\n",
       "      <td>Verizon\\nbased on 14 salaries</td>\n",
       "      <td>₹ 12.7L</td>\n",
       "      <td>₹ 11.0L</td>\n",
       "      <td>₹ 11.0L</td>\n",
       "    </tr>\n",
       "    <tr>\n",
       "      <th>9</th>\n",
       "      <td>Ganit Business Solutions\\nbased on 13 salaries</td>\n",
       "      <td>₹ 12.4L</td>\n",
       "      <td>₹ 22.0L</td>\n",
       "      <td>₹ 22.0L</td>\n",
       "    </tr>\n",
       "  </tbody>\n",
       "</table>\n",
       "</div>"
      ],
      "text/plain": [
       "                                          Company Averagr pay Minimum pay  \\\n",
       "0                   Walmart\\nbased on 11 salaries     ₹ 29.7L     ₹ 25.0L   \n",
       "1                  Ab Inbev\\nbased on 32 salaries     ₹ 20.5L     ₹ 35.0L   \n",
       "2              Reliance Jio\\nbased on 10 salaries     ₹ 18.9L     ₹ 15.0L   \n",
       "3                        ZS\\nbased on 15 salaries     ₹ 15.9L     ₹ 25.5L   \n",
       "4                     Optum\\nbased on 27 salaries     ₹ 15.2L      ₹ 5.6L   \n",
       "5         Fractal Analytics\\nbased on 81 salaries     ₹ 15.2L     ₹ 26.2L   \n",
       "6           Tiger Analytics\\nbased on 46 salaries     ₹ 14.8L      ₹ 9.8L   \n",
       "7              UnitedHealth\\nbased on 53 salaries     ₹ 14.0L     ₹ 20.0L   \n",
       "8                   Verizon\\nbased on 14 salaries     ₹ 12.7L     ₹ 11.0L   \n",
       "9  Ganit Business Solutions\\nbased on 13 salaries     ₹ 12.4L     ₹ 22.0L   \n",
       "\n",
       "  maximum pay  \n",
       "0     ₹ 25.0L  \n",
       "1     ₹ 35.0L  \n",
       "2     ₹ 15.0L  \n",
       "3     ₹ 25.5L  \n",
       "4      ₹ 5.6L  \n",
       "5     ₹ 26.2L  \n",
       "6      ₹ 9.8L  \n",
       "7     ₹ 20.0L  \n",
       "8     ₹ 11.0L  \n",
       "9     ₹ 22.0L  "
      ]
     },
     "execution_count": 252,
     "metadata": {},
     "output_type": "execute_result"
    }
   ],
   "source": [
    "ds=pd.DataFrame({})                        \n",
    "ds['Company']=company_name\n",
    "ds['Averagr pay']=average_salary\n",
    "ds['Minimum pay']=minimum_salary\n",
    "ds['maximum pay']=maximum_salary\n",
    "ds.head(10)"
   ]
  },
  {
   "cell_type": "raw",
   "id": "c3347a3f",
   "metadata": {},
   "source": [
    "Q5: Scrape 100 reviews data from flipkart.com for iphone11 phone. You have to go the link:\n",
    "https://www.flipkart.com/apple-iphone-11-black-64-gb-includes- earpods-power\u0002adapter/p/itm0f37c2240b217?pid=MOBFKCTSVZAXUHGR&lid=LSTMOBFKC\n",
    "TSVZAXUHGREPBFGI&marketplace.\n",
    "When you will open the above link you will reach to the below shown webpage .\n",
    "As shown in the above page you have to scrape the tick marked attributes.These are:\n",
    "1. Rating\n",
    "2. Review summary\n",
    "3. Full review\n",
    "4. You have to scrape this data for first 100 reviews.\n",
    "Note: All the steps required during scraping should be done through code only and not manually."
   ]
  },
  {
   "cell_type": "code",
   "execution_count": null,
   "id": "711cf758",
   "metadata": {},
   "outputs": [],
   "source": [
    "! pip install selenium\n",
    "\n",
    "import selenium\n",
    "import pandas as pd\n",
    "from selenium import webdriver\n",
    "import warnings\n",
    "warnings.filterwarnings(\"ignore\")\n",
    "import time\n",
    "\n",
    "driver = webdriver.Chrome(r\"C:\\Users\\Toshiba\\chromedriver.exe\")\n",
    "driver = webdriver.Chrome(\"chromedriver.exe\")\n",
    "time.sleep(2)\n",
    "driver.get('https://www.flipkart.com/')\n",
    "           "
   ]
  },
  {
   "cell_type": "code",
   "execution_count": 33,
   "id": "38ab0718",
   "metadata": {},
   "outputs": [
    {
     "name": "stdout",
     "output_type": "stream",
     "text": [
      "100 100 100\n"
     ]
    },
    {
     "data": {
      "text/html": [
       "<div>\n",
       "<style scoped>\n",
       "    .dataframe tbody tr th:only-of-type {\n",
       "        vertical-align: middle;\n",
       "    }\n",
       "\n",
       "    .dataframe tbody tr th {\n",
       "        vertical-align: top;\n",
       "    }\n",
       "\n",
       "    .dataframe thead th {\n",
       "        text-align: right;\n",
       "    }\n",
       "</style>\n",
       "<table border=\"1\" class=\"dataframe\">\n",
       "  <thead>\n",
       "    <tr style=\"text-align: right;\">\n",
       "      <th></th>\n",
       "      <th>Rating</th>\n",
       "      <th>Review</th>\n",
       "      <th>Full review</th>\n",
       "    </tr>\n",
       "  </thead>\n",
       "  <tbody>\n",
       "    <tr>\n",
       "      <th>0</th>\n",
       "      <td>5</td>\n",
       "      <td>Brilliant</td>\n",
       "      <td>The Best Phone for the Money\\n\\nThe iPhone 11 ...</td>\n",
       "    </tr>\n",
       "    <tr>\n",
       "      <th>1</th>\n",
       "      <td>5</td>\n",
       "      <td>Simply awesome</td>\n",
       "      <td>Really satisfied with the Product I received.....</td>\n",
       "    </tr>\n",
       "    <tr>\n",
       "      <th>2</th>\n",
       "      <td>5</td>\n",
       "      <td>Best in the market!</td>\n",
       "      <td>Great iPhone very snappy experience as apple k...</td>\n",
       "    </tr>\n",
       "    <tr>\n",
       "      <th>3</th>\n",
       "      <td>5</td>\n",
       "      <td>Perfect product!</td>\n",
       "      <td>Amazing phone with great cameras and better ba...</td>\n",
       "    </tr>\n",
       "    <tr>\n",
       "      <th>4</th>\n",
       "      <td>5</td>\n",
       "      <td>Fabulous!</td>\n",
       "      <td>This is my first iOS phone. I am very happy wi...</td>\n",
       "    </tr>\n",
       "    <tr>\n",
       "      <th>...</th>\n",
       "      <td>...</td>\n",
       "      <td>...</td>\n",
       "      <td>...</td>\n",
       "    </tr>\n",
       "    <tr>\n",
       "      <th>95</th>\n",
       "      <td>5</td>\n",
       "      <td>Worth every penny</td>\n",
       "      <td>Fast delivery by Flipkart.\\nAs a first time iP...</td>\n",
       "    </tr>\n",
       "    <tr>\n",
       "      <th>96</th>\n",
       "      <td>5</td>\n",
       "      <td>Great product</td>\n",
       "      <td>I was using Android from past 15 years and fou...</td>\n",
       "    </tr>\n",
       "    <tr>\n",
       "      <th>97</th>\n",
       "      <td>4</td>\n",
       "      <td>Good choice</td>\n",
       "      <td>Simply I love it !!\\nBest mixture of hardware ...</td>\n",
       "    </tr>\n",
       "    <tr>\n",
       "      <th>98</th>\n",
       "      <td>5</td>\n",
       "      <td>Worth every penny</td>\n",
       "      <td>The iPhone 11 - the successor to the iPhone XR...</td>\n",
       "    </tr>\n",
       "    <tr>\n",
       "      <th>99</th>\n",
       "      <td>5</td>\n",
       "      <td>Highly recommended</td>\n",
       "      <td>The phone has classy look in hand. Exquisite f...</td>\n",
       "    </tr>\n",
       "  </tbody>\n",
       "</table>\n",
       "<p>100 rows × 3 columns</p>\n",
       "</div>"
      ],
      "text/plain": [
       "   Rating               Review  \\\n",
       "0       5            Brilliant   \n",
       "1       5       Simply awesome   \n",
       "2       5  Best in the market!   \n",
       "3       5     Perfect product!   \n",
       "4       5            Fabulous!   \n",
       "..    ...                  ...   \n",
       "95      5    Worth every penny   \n",
       "96      5        Great product   \n",
       "97      4          Good choice   \n",
       "98      5    Worth every penny   \n",
       "99      5   Highly recommended   \n",
       "\n",
       "                                          Full review  \n",
       "0   The Best Phone for the Money\\n\\nThe iPhone 11 ...  \n",
       "1   Really satisfied with the Product I received.....  \n",
       "2   Great iPhone very snappy experience as apple k...  \n",
       "3   Amazing phone with great cameras and better ba...  \n",
       "4   This is my first iOS phone. I am very happy wi...  \n",
       "..                                                ...  \n",
       "95  Fast delivery by Flipkart.\\nAs a first time iP...  \n",
       "96  I was using Android from past 15 years and fou...  \n",
       "97  Simply I love it !!\\nBest mixture of hardware ...  \n",
       "98  The iPhone 11 - the successor to the iPhone XR...  \n",
       "99  The phone has classy look in hand. Exquisite f...  \n",
       "\n",
       "[100 rows x 3 columns]"
      ]
     },
     "execution_count": 33,
     "metadata": {},
     "output_type": "execute_result"
    }
   ],
   "source": [
    "rating_list=[]             \n",
    "for i in range(0,10):\n",
    "    rating_tags=driver.find_elements_by_xpath(\"//div[@class='_3LWZlK _1BLPMq']\")  \n",
    "    for i in rating_tags:   \n",
    "        rating=i.text        \n",
    "        rating_list.append(rating) \n",
    "    \n",
    "    \n",
    "review_list=[]             \n",
    "for i in range(0,10):\n",
    "    review_tags=driver.find_elements_by_xpath(\"//p[@class='_2-N8zT']\")  \n",
    "    for i in review_tags:   \n",
    "        review=i.text        \n",
    "        review_list.append(review) \n",
    "       \n",
    "    \n",
    "full_review_list=[]             \n",
    "for i in range(0,10):\n",
    "    full_review_tags=driver.find_elements_by_xpath(\"//div[@class='t-ZTKy']\")  \n",
    "    for i in full_review_tags:   \n",
    "        full_review=i.text        \n",
    "        full_review_list.append(full_review) \n",
    "        \n",
    "        \n",
    "    next_button=driver.find_element_by_xpath(\"/html/body/div[1]/div/div[3]/div/div/div[2]/div[13]/div/div/nav/a[11]\")\n",
    "    next_button.click()   \n",
    "    time.sleep(5)    \n",
    "    \n",
    "print(len(rating_list),len(review_list),len(full_review_list))\n",
    "\n",
    "iphone=pd.DataFrame({})\n",
    "iphone['Rating']=rating_list\n",
    "iphone['Review']=review_list\n",
    "iphone['Full review']=full_review_list\n",
    "\n",
    "iphone"
   ]
  },
  {
   "cell_type": "code",
   "execution_count": 34,
   "id": "4faba9b7",
   "metadata": {},
   "outputs": [],
   "source": [
    "driver.close()"
   ]
  },
  {
   "cell_type": "raw",
   "id": "e0ce3098",
   "metadata": {},
   "source": [
    "Q4: Scrape data of first 100 sunglasses listings on flipkart.com. You have to scrape four attributes:\n",
    "1. Brand\n",
    "2. Product Description\n",
    "3. Price\n",
    "The attributes which you have to scrape is ticked marked in the below image.\n",
    "To scrape the data you have to go through following steps:\n",
    "1. Go to Flipkart webpage by url : https://www.flipkart.com/\n",
    "2. Enter “sunglasses” in the search field where “search for products, brands andmore” is written and\n",
    "click the search icon\n",
    "3. After that you will reach to the page having a lot of sunglasses. From this pageyou can scrap the\n",
    "required data as usual.\n",
    "4. After scraping data from the first page, go to the “Next” Button at the bottom ofthe page , then\n",
    "click on it.\n",
    "5. Now scrape data from this page as usual\n",
    "6. Repeat this until you get data for 100 sunglasses.\n",
    "Note: That all of the above steps have to be done by coding only and not manually."
   ]
  },
  {
   "cell_type": "code",
   "execution_count": null,
   "id": "3e0e43d7",
   "metadata": {},
   "outputs": [],
   "source": [
    "! pip install selenium\n",
    "\n",
    "import selenium\n",
    "import pandas as pd\n",
    "from selenium import webdriver\n",
    "import warnings\n",
    "warnings.filterwarnings(\"ignore\")\n",
    "import time\n",
    "\n",
    "driver = webdriver.Chrome(r\"C:\\Users\\Toshiba\\chromedriver.exe\")\n",
    "driver = webdriver.Chrome(\"chromedriver.exe\")\n",
    "time.sleep(2)\n",
    "driver.get('https://www.flipkart.com/')"
   ]
  },
  {
   "cell_type": "code",
   "execution_count": 36,
   "id": "7236c73c",
   "metadata": {},
   "outputs": [],
   "source": [
    "search_field_sunglass=driver.find_element_by_class_name(\"_3704LK\")\n",
    "search_field_sunglass.send_keys(\"Sunglasses\")"
   ]
  },
  {
   "cell_type": "code",
   "execution_count": 37,
   "id": "89c33932",
   "metadata": {},
   "outputs": [
    {
     "name": "stdout",
     "output_type": "stream",
     "text": [
      "120 120 120 120\n"
     ]
    },
    {
     "data": {
      "text/html": [
       "<div>\n",
       "<style scoped>\n",
       "    .dataframe tbody tr th:only-of-type {\n",
       "        vertical-align: middle;\n",
       "    }\n",
       "\n",
       "    .dataframe tbody tr th {\n",
       "        vertical-align: top;\n",
       "    }\n",
       "\n",
       "    .dataframe thead th {\n",
       "        text-align: right;\n",
       "    }\n",
       "</style>\n",
       "<table border=\"1\" class=\"dataframe\">\n",
       "  <thead>\n",
       "    <tr style=\"text-align: right;\">\n",
       "      <th></th>\n",
       "      <th>Brand</th>\n",
       "      <th>Product Description</th>\n",
       "      <th>Price</th>\n",
       "      <th>Discount Price</th>\n",
       "    </tr>\n",
       "  </thead>\n",
       "  <tbody>\n",
       "    <tr>\n",
       "      <th>0</th>\n",
       "      <td>VINCENT CHASE</td>\n",
       "      <td>UV Protection Rectangular Sunglasses (50)</td>\n",
       "      <td>₹649</td>\n",
       "      <td>67% off</td>\n",
       "    </tr>\n",
       "    <tr>\n",
       "      <th>1</th>\n",
       "      <td>VINCENT CHASE</td>\n",
       "      <td>UV Protection Cat-eye Sunglasses (54)</td>\n",
       "      <td>₹649</td>\n",
       "      <td>67% off</td>\n",
       "    </tr>\n",
       "    <tr>\n",
       "      <th>2</th>\n",
       "      <td>Fastrack</td>\n",
       "      <td>UV Protection Wayfarer Sunglasses (Free Size)</td>\n",
       "      <td>₹719</td>\n",
       "      <td>20% off</td>\n",
       "    </tr>\n",
       "    <tr>\n",
       "      <th>3</th>\n",
       "      <td>SUNBEE</td>\n",
       "      <td>UV Protection, Polarized Wayfarer Sunglasses (...</td>\n",
       "      <td>₹283</td>\n",
       "      <td>78% off</td>\n",
       "    </tr>\n",
       "    <tr>\n",
       "      <th>4</th>\n",
       "      <td>Fastrack</td>\n",
       "      <td>UV Protection Rectangular Sunglasses (Free Size)</td>\n",
       "      <td>₹639</td>\n",
       "      <td>20% off</td>\n",
       "    </tr>\n",
       "    <tr>\n",
       "      <th>...</th>\n",
       "      <td>...</td>\n",
       "      <td>...</td>\n",
       "      <td>...</td>\n",
       "      <td>...</td>\n",
       "    </tr>\n",
       "    <tr>\n",
       "      <th>115</th>\n",
       "      <td>NuVew</td>\n",
       "      <td>UV Protection Retro Square, Wayfarer Sunglasse...</td>\n",
       "      <td>₹275</td>\n",
       "      <td>69% off</td>\n",
       "    </tr>\n",
       "    <tr>\n",
       "      <th>116</th>\n",
       "      <td>HIPPON</td>\n",
       "      <td>UV Protection Wayfarer Sunglasses (55)</td>\n",
       "      <td>₹181</td>\n",
       "      <td>61% off</td>\n",
       "    </tr>\n",
       "    <tr>\n",
       "      <th>117</th>\n",
       "      <td>SRPM</td>\n",
       "      <td>UV Protection Wayfarer Sunglasses (53)</td>\n",
       "      <td>₹246</td>\n",
       "      <td>88% off</td>\n",
       "    </tr>\n",
       "    <tr>\n",
       "      <th>118</th>\n",
       "      <td>Mi</td>\n",
       "      <td>Polarized Wayfarer Sunglasses (Free Size)</td>\n",
       "      <td>₹849</td>\n",
       "      <td>82% off</td>\n",
       "    </tr>\n",
       "    <tr>\n",
       "      <th>119</th>\n",
       "      <td>AISLIN</td>\n",
       "      <td>UV Protection, Gradient Cat-eye Sunglasses (58)</td>\n",
       "      <td>₹498</td>\n",
       "      <td>76% off</td>\n",
       "    </tr>\n",
       "  </tbody>\n",
       "</table>\n",
       "<p>120 rows × 4 columns</p>\n",
       "</div>"
      ],
      "text/plain": [
       "             Brand                                Product Description Price  \\\n",
       "0    VINCENT CHASE          UV Protection Rectangular Sunglasses (50)  ₹649   \n",
       "1    VINCENT CHASE              UV Protection Cat-eye Sunglasses (54)  ₹649   \n",
       "2         Fastrack      UV Protection Wayfarer Sunglasses (Free Size)  ₹719   \n",
       "3           SUNBEE  UV Protection, Polarized Wayfarer Sunglasses (...  ₹283   \n",
       "4         Fastrack   UV Protection Rectangular Sunglasses (Free Size)  ₹639   \n",
       "..             ...                                                ...   ...   \n",
       "115          NuVew  UV Protection Retro Square, Wayfarer Sunglasse...  ₹275   \n",
       "116         HIPPON             UV Protection Wayfarer Sunglasses (55)  ₹181   \n",
       "117           SRPM             UV Protection Wayfarer Sunglasses (53)  ₹246   \n",
       "118             Mi          Polarized Wayfarer Sunglasses (Free Size)  ₹849   \n",
       "119         AISLIN    UV Protection, Gradient Cat-eye Sunglasses (58)  ₹498   \n",
       "\n",
       "    Discount Price  \n",
       "0          67% off  \n",
       "1          67% off  \n",
       "2          20% off  \n",
       "3          78% off  \n",
       "4          20% off  \n",
       "..             ...  \n",
       "115        69% off  \n",
       "116        61% off  \n",
       "117        88% off  \n",
       "118        82% off  \n",
       "119        76% off  \n",
       "\n",
       "[120 rows x 4 columns]"
      ]
     },
     "execution_count": 37,
     "metadata": {},
     "output_type": "execute_result"
    }
   ],
   "source": [
    "brand_titles=[]            \n",
    "for i in range(0,3):\n",
    "    brand_tags=driver.find_elements_by_xpath(\"//div[@class='_2WkVRV']\")  \n",
    "    for i in brand_tags:   \n",
    "        brand=i.text        \n",
    "        brand_titles.append(brand) \n",
    "    \n",
    "    \n",
    "product_description=[]           \n",
    "for i in range(0,3):\n",
    "    product_tags=driver.find_elements_by_xpath(\"//a[@class='IRpwTa']\")  \n",
    "    for i in product_tags:   \n",
    "        product=i.text        \n",
    "        product_description.append(product) \n",
    "       \n",
    "    \n",
    "price_list=[]            \n",
    "for i in range(0,3):\n",
    "    price_tags=driver.find_elements_by_xpath(\"//div[@class='_30jeq3']\")  \n",
    "    for i in price_tags:   \n",
    "        price=i.text        \n",
    "        price_list.append(price) \n",
    "        \n",
    "discount_price_list=[]           \n",
    "for i in range(0,3):\n",
    "    dp_tags=driver.find_elements_by_xpath(\"//div[@class='_3Ay6Sb']\")  \n",
    "    for i in dp_tags:   \n",
    "        discount=i.text        \n",
    "        discount_price_list.append(discount) \n",
    "        \n",
    "        \n",
    "    next_button=driver.find_element_by_xpath(\"/html/body/div[1]/div/div[3]/div[1]/div[2]/div[12]/div/div/nav/a[11]\")\n",
    "    next_button.click()   \n",
    "    time.sleep(5)    \n",
    "    \n",
    "print(len(brand_titles),len(product_description),len(price_list),len(discount_price_list))\n",
    "\n",
    "sunglasses=pd.DataFrame({})\n",
    "sunglasses['Brand']=brand_titles\n",
    "sunglasses['Product Description']=product_description\n",
    "sunglasses['Price']=price_list\n",
    "sunglasses['Discount Price']=discount_price_list\n",
    "\n",
    "sunglasses"
   ]
  },
  {
   "cell_type": "code",
   "execution_count": 38,
   "id": "cfd279b6",
   "metadata": {},
   "outputs": [
    {
     "data": {
      "text/html": [
       "<div>\n",
       "<style scoped>\n",
       "    .dataframe tbody tr th:only-of-type {\n",
       "        vertical-align: middle;\n",
       "    }\n",
       "\n",
       "    .dataframe tbody tr th {\n",
       "        vertical-align: top;\n",
       "    }\n",
       "\n",
       "    .dataframe thead th {\n",
       "        text-align: right;\n",
       "    }\n",
       "</style>\n",
       "<table border=\"1\" class=\"dataframe\">\n",
       "  <thead>\n",
       "    <tr style=\"text-align: right;\">\n",
       "      <th></th>\n",
       "      <th>Brand</th>\n",
       "      <th>Product Description</th>\n",
       "      <th>Price</th>\n",
       "      <th>Discount Price</th>\n",
       "    </tr>\n",
       "  </thead>\n",
       "  <tbody>\n",
       "    <tr>\n",
       "      <th>0</th>\n",
       "      <td>VINCENT CHASE</td>\n",
       "      <td>UV Protection Rectangular Sunglasses (50)</td>\n",
       "      <td>₹649</td>\n",
       "      <td>67% off</td>\n",
       "    </tr>\n",
       "    <tr>\n",
       "      <th>1</th>\n",
       "      <td>VINCENT CHASE</td>\n",
       "      <td>UV Protection Cat-eye Sunglasses (54)</td>\n",
       "      <td>₹649</td>\n",
       "      <td>67% off</td>\n",
       "    </tr>\n",
       "    <tr>\n",
       "      <th>2</th>\n",
       "      <td>Fastrack</td>\n",
       "      <td>UV Protection Wayfarer Sunglasses (Free Size)</td>\n",
       "      <td>₹719</td>\n",
       "      <td>20% off</td>\n",
       "    </tr>\n",
       "    <tr>\n",
       "      <th>3</th>\n",
       "      <td>SUNBEE</td>\n",
       "      <td>UV Protection, Polarized Wayfarer Sunglasses (...</td>\n",
       "      <td>₹283</td>\n",
       "      <td>78% off</td>\n",
       "    </tr>\n",
       "    <tr>\n",
       "      <th>4</th>\n",
       "      <td>Fastrack</td>\n",
       "      <td>UV Protection Rectangular Sunglasses (Free Size)</td>\n",
       "      <td>₹639</td>\n",
       "      <td>20% off</td>\n",
       "    </tr>\n",
       "    <tr>\n",
       "      <th>...</th>\n",
       "      <td>...</td>\n",
       "      <td>...</td>\n",
       "      <td>...</td>\n",
       "      <td>...</td>\n",
       "    </tr>\n",
       "    <tr>\n",
       "      <th>95</th>\n",
       "      <td>VINCENT CHASE</td>\n",
       "      <td>UV Protection Wayfarer Sunglasses (62)</td>\n",
       "      <td>₹649</td>\n",
       "      <td>72% off</td>\n",
       "    </tr>\n",
       "    <tr>\n",
       "      <th>96</th>\n",
       "      <td>SRPM</td>\n",
       "      <td>UV Protection Wayfarer Sunglasses (50)</td>\n",
       "      <td>₹249</td>\n",
       "      <td>20% off</td>\n",
       "    </tr>\n",
       "    <tr>\n",
       "      <th>97</th>\n",
       "      <td>PIRASO</td>\n",
       "      <td>UV Protection Rectangular Sunglasses (52)</td>\n",
       "      <td>₹280</td>\n",
       "      <td>78% off</td>\n",
       "    </tr>\n",
       "    <tr>\n",
       "      <th>98</th>\n",
       "      <td>Fastrack</td>\n",
       "      <td>UV Protection Shield Sunglasses (Free Size)</td>\n",
       "      <td>₹809</td>\n",
       "      <td>68% off</td>\n",
       "    </tr>\n",
       "    <tr>\n",
       "      <th>99</th>\n",
       "      <td>VINCENT CHASE</td>\n",
       "      <td>UV Protection Round Sunglasses (47)</td>\n",
       "      <td>₹649</td>\n",
       "      <td>62% off</td>\n",
       "    </tr>\n",
       "  </tbody>\n",
       "</table>\n",
       "<p>100 rows × 4 columns</p>\n",
       "</div>"
      ],
      "text/plain": [
       "            Brand                                Product Description Price  \\\n",
       "0   VINCENT CHASE          UV Protection Rectangular Sunglasses (50)  ₹649   \n",
       "1   VINCENT CHASE              UV Protection Cat-eye Sunglasses (54)  ₹649   \n",
       "2        Fastrack      UV Protection Wayfarer Sunglasses (Free Size)  ₹719   \n",
       "3          SUNBEE  UV Protection, Polarized Wayfarer Sunglasses (...  ₹283   \n",
       "4        Fastrack   UV Protection Rectangular Sunglasses (Free Size)  ₹639   \n",
       "..            ...                                                ...   ...   \n",
       "95  VINCENT CHASE             UV Protection Wayfarer Sunglasses (62)  ₹649   \n",
       "96           SRPM             UV Protection Wayfarer Sunglasses (50)  ₹249   \n",
       "97         PIRASO          UV Protection Rectangular Sunglasses (52)  ₹280   \n",
       "98       Fastrack        UV Protection Shield Sunglasses (Free Size)  ₹809   \n",
       "99  VINCENT CHASE                UV Protection Round Sunglasses (47)  ₹649   \n",
       "\n",
       "   Discount Price  \n",
       "0         67% off  \n",
       "1         67% off  \n",
       "2         20% off  \n",
       "3         78% off  \n",
       "4         20% off  \n",
       "..            ...  \n",
       "95        72% off  \n",
       "96        20% off  \n",
       "97        78% off  \n",
       "98        68% off  \n",
       "99        62% off  \n",
       "\n",
       "[100 rows x 4 columns]"
      ]
     },
     "execution_count": 38,
     "metadata": {},
     "output_type": "execute_result"
    }
   ],
   "source": [
    "sunglasses.head(100)"
   ]
  },
  {
   "cell_type": "code",
   "execution_count": 42,
   "id": "24f63c38",
   "metadata": {},
   "outputs": [],
   "source": [
    "driver.close()"
   ]
  },
  {
   "cell_type": "code",
   "execution_count": null,
   "id": "1225511d",
   "metadata": {},
   "outputs": [],
   "source": []
  }
 ],
 "metadata": {
  "kernelspec": {
   "display_name": "Python 3 (ipykernel)",
   "language": "python",
   "name": "python3"
  },
  "language_info": {
   "codemirror_mode": {
    "name": "ipython",
    "version": 3
   },
   "file_extension": ".py",
   "mimetype": "text/x-python",
   "name": "python",
   "nbconvert_exporter": "python",
   "pygments_lexer": "ipython3",
   "version": "3.9.7"
  }
 },
 "nbformat": 4,
 "nbformat_minor": 5
}
